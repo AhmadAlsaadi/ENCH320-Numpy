{
  "nbformat": 4,
  "nbformat_minor": 0,
  "metadata": {
    "colab": {
      "provenance": [],
      "toc_visible": true
    },
    "kernelspec": {
      "name": "python3",
      "display_name": "Python 3"
    },
    "language_info": {
      "name": "python"
    }
  },
  "cells": [
    {
      "cell_type": "markdown",
      "source": [
        "# Introduction to SymPy\n",
        "SymPy is a powerful Python library for symbolic mathematics. It is an open source library that provides tools for algebraic manipulation, calculus, equation solving, and more, enabling users to perform complex mathematical computations symbolically rather than numerically. With a user-friendly interface and extensive functionality, SymPy is widely used in academia and industry for tasks ranging from simple algebra to advanced mathematical modeling. Its open-source nature allows for easy integration into various Python projects, making it an essential tool for researchers, educators, and engineers alike."
      ],
      "metadata": {
        "id": "zImhIM0wxLK1"
      }
    },
    {
      "cell_type": "markdown",
      "source": [
        "## Installing SymPy\n",
        "To install SymPy in your python environment, you have to run the following pip command:"
      ],
      "metadata": {
        "id": "4eUD98bNyHut"
      }
    },
    {
      "cell_type": "code",
      "source": [
        "pip install sympy"
      ],
      "metadata": {
        "colab": {
          "base_uri": "https://localhost:8080/"
        },
        "id": "wyDOFN_dzUv5",
        "outputId": "92976921-c834-44b4-9d1c-31088cacb03a"
      },
      "execution_count": null,
      "outputs": [
        {
          "output_type": "stream",
          "name": "stdout",
          "text": [
            "Requirement already satisfied: sympy in /usr/local/lib/python3.10/dist-packages (1.13.2)\n",
            "Requirement already satisfied: mpmath<1.4,>=1.1.0 in /usr/local/lib/python3.10/dist-packages (from sympy) (1.3.0)\n"
          ]
        }
      ]
    },
    {
      "cell_type": "markdown",
      "source": [
        "If you already have sympy installed in your python environment, A message will show up in the output says \"Requirement already satisfied\""
      ],
      "metadata": {
        "id": "TDBmZF7YzdAt"
      }
    },
    {
      "cell_type": "markdown",
      "source": [
        "## importing SymPy\n",
        "Before you can use sympy in your calculations you have to import it as follows:"
      ],
      "metadata": {
        "id": "qhNivhAF0EqB"
      }
    },
    {
      "cell_type": "code",
      "source": [
        "import sympy as sp"
      ],
      "metadata": {
        "id": "FaotfyWBJHfB"
      },
      "execution_count": null,
      "outputs": []
    },
    {
      "cell_type": "markdown",
      "source": [
        "## Defining symbolic variables in SymPy\n",
        "In SymPy, your first step in doing mathematical calculation begins by defining symbolic variables using `Symbol()` or `symbols()` functions. These symbolic variables represent the mathematical unknowns in the calculation. For example, we can define $x$ to be a symbolic variable as follows:\n"
      ],
      "metadata": {
        "id": "40sH__fONkdd"
      }
    },
    {
      "cell_type": "code",
      "execution_count": null,
      "metadata": {
        "id": "pQ0zPY02Naoi",
        "colab": {
          "base_uri": "https://localhost:8080/"
        },
        "outputId": "5f8d59f1-3669-42a9-ea83-e83d528c6b83"
      },
      "outputs": [
        {
          "output_type": "execute_result",
          "data": {
            "text/plain": [
              "sympy.core.symbol.Symbol"
            ]
          },
          "metadata": {},
          "execution_count": 3
        }
      ],
      "source": [
        "import sympy as sp\n",
        "x = sp.Symbol('x')\n",
        "x"
      ]
    },
    {
      "cell_type": "markdown",
      "source": [
        "**Task 1**\n",
        "\n",
        "Create a symbolic varible for `y` and a symbolic variable for `z` using the function `Symbol()` remember `Symbol()` starts with capital `S`"
      ],
      "metadata": {
        "id": "jOYNgGffQ8_5"
      }
    },
    {
      "cell_type": "code",
      "source": [
        "## write your code below\n"
      ],
      "metadata": {
        "id": "pmG0Yk4oRJSb"
      },
      "execution_count": null,
      "outputs": []
    },
    {
      "cell_type": "markdown",
      "source": [
        "<details>\n",
        "   <summary>Click to reveal answer</summary>\n",
        "\n",
        "```python\n",
        "import sympy as sp\n",
        "y = sp.Symbol('y')\n",
        "z = sp.Symbol('z')\n",
        "```\n",
        "</details>"
      ],
      "metadata": {
        "id": "GacYA3TZRPkl"
      }
    },
    {
      "cell_type": "markdown",
      "source": [
        "You can also define more than one symbolic variable all at once using the function `symbols()` as it is shown in the example below:"
      ],
      "metadata": {
        "id": "vUrXOVYdMYTU"
      }
    },
    {
      "cell_type": "code",
      "source": [
        "import sympy as sp\n",
        "x, y, z = sp.symbols('x y z')"
      ],
      "metadata": {
        "id": "k-a6IvoCs6Dk"
      },
      "execution_count": null,
      "outputs": []
    },
    {
      "cell_type": "markdown",
      "source": [
        "Remeber `symbols()` starts with small `s`."
      ],
      "metadata": {
        "id": "YDrTEGP5NhUQ"
      }
    },
    {
      "cell_type": "markdown",
      "source": [
        "**Task 2**\n",
        "\n",
        "define `a`,`b`,and `c` as symbolic variables in one shot?"
      ],
      "metadata": {
        "id": "UGRDkEAtNsdx"
      }
    },
    {
      "cell_type": "code",
      "source": [
        "## write your code below\n"
      ],
      "metadata": {
        "id": "tMfnk19nNqSd"
      },
      "execution_count": null,
      "outputs": []
    },
    {
      "cell_type": "markdown",
      "source": [
        "<details>\n",
        "   <summary>Click to reveal answer</summary>\n",
        "\n",
        "```python\n",
        "import sympy as sp\n",
        "a,b,c = sp.symbols('a b c')\n",
        "```\n",
        "</details>"
      ],
      "metadata": {
        "id": "g15Yg0TTOYM0"
      }
    },
    {
      "cell_type": "markdown",
      "source": [
        "## Writing mathematical expression in SymPy\n",
        "Having learnt how to define symbolic variables, you are now ready to write different mathematical expressions with these symbolic variables as it shown in the following example:"
      ],
      "metadata": {
        "id": "kPK2PAapOtzt"
      }
    },
    {
      "cell_type": "code",
      "source": [
        "import sympy as sp\n",
        "x, y, z = sp.symbols('x y z')\n",
        "expr = x**2 + 2*x*y + z**2\n",
        "expr"
      ],
      "metadata": {
        "colab": {
          "base_uri": "https://localhost:8080/",
          "height": 38
        },
        "id": "xd7-fUNcOjHF",
        "outputId": "2d3ecf01-b2a3-4d87-c887-01979ab13268"
      },
      "execution_count": null,
      "outputs": [
        {
          "output_type": "execute_result",
          "data": {
            "text/plain": [
              "x**2 + 2*x*y + z**2"
            ],
            "text/latex": "$\\displaystyle x^{2} + 2 x y + z^{2}$"
          },
          "metadata": {},
          "execution_count": 5
        }
      ]
    },
    {
      "cell_type": "markdown",
      "source": [
        "**Task 3**\n",
        "\n",
        "It is your turn now to write the quadratic formula $\\frac{-b+\\sqrt{(b^2-4ac)}}{2a}$ or $\\frac{-b-\\sqrt{(b^2-4ac)}}{2a}$ in sympy\n",
        "\n",
        "***Hint***: use `sp.sqrt()` to write the expression under the square-root."
      ],
      "metadata": {
        "id": "YD94n774Qvdm"
      }
    },
    {
      "cell_type": "code",
      "source": [
        "## write your code below\n"
      ],
      "metadata": {
        "id": "VaeFmzD6RvNv"
      },
      "execution_count": null,
      "outputs": []
    },
    {
      "cell_type": "markdown",
      "source": [
        "<details>\n",
        "   <summary>Click to reveal answer</summary>\n",
        "\n",
        "```python\n",
        "import sympy as sp\n",
        "a,b,c = sp.symbols('a b c')\n",
        "expr=(-b+sp.sqrt(b**2-4*a*c))/(2*a)\n",
        "expr\n",
        "```\n",
        "</details>"
      ],
      "metadata": {
        "id": "fMlNWP_KR5jd"
      }
    },
    {
      "cell_type": "markdown",
      "source": [
        "## Evaluating an expression in SymPy\n",
        "To evalute an expression written in sympy all you need is to use `subs()` function (**short for** *substitution*) after the expression that you want to evaluate and provide the value for each symbolic variable in the expression as it is shown in the example below:"
      ],
      "metadata": {
        "id": "VV_eQMMAT2oi"
      }
    },
    {
      "cell_type": "code",
      "source": [
        "import sympy as sp\n",
        "x, y, z = sp.symbols('x y z')\n",
        "expr = x**2 + 2*x*y + z**2\n",
        "expr.subs([(x, 1), (y, 2), (z, 3)])"
      ],
      "metadata": {
        "id": "yo6j4yDsU7b-"
      },
      "execution_count": null,
      "outputs": []
    },
    {
      "cell_type": "markdown",
      "source": [
        "Please note that `subs()` function takes list of tuples to specify the value for each symbolic variable."
      ],
      "metadata": {
        "id": "i1O7qF5WFd9R"
      }
    },
    {
      "cell_type": "markdown",
      "source": [
        "**Task 4**\n",
        "\n",
        "Using what you have learnt so far, can you solve the following equation\n",
        "$x^2+3x+2 = 0$\n",
        "using the quadratic formula that you wrote in **task 3**   \n",
        "**Hints**\n",
        "- create symbolic variables for the coefficients in the quadratic equation (a,b,c)\n",
        "- create expression for the quadratic formula as you did in **task 3**\n",
        "- substitute the values of the coefficients in the formula from the given equation."
      ],
      "metadata": {
        "id": "zlajbkBlVb55"
      }
    },
    {
      "cell_type": "code",
      "source": [
        "## write your code below\n"
      ],
      "metadata": {
        "id": "rkzjJDoKWRcF"
      },
      "execution_count": null,
      "outputs": []
    },
    {
      "cell_type": "markdown",
      "source": [
        "<details>\n",
        "   <summary>Click to reveal answer</summary>\n",
        "\n",
        "```python\n",
        "import sympy as sp\n",
        "a,b,c = sp.symbols('a b c')\n",
        "expr1=(-b+sp.sqrt(b**2-4*a*c))/(2*a)\n",
        "expr2=(-b-sp.sqrt(b**2-4*a*c))/(2*a)\n",
        "print(\"x1 =\",expr1.subs([(a,1),(b,3),(c,2)]))\n",
        "print(\"x2 =\",expr2.subs([(a,1),(b,3),(c,2)]))\n",
        "```\n",
        "</details>"
      ],
      "metadata": {
        "id": "ixNxNXaCXrEl"
      }
    },
    {
      "cell_type": "markdown",
      "source": [
        "## Writing equations in SymPY\n",
        "To create an equation in SymPy, you have to use `Eq()` function. The `Eq()` function takes two arguments: the left-hand side of the equation and the right-hand side of the equation as it is shown in the following example:"
      ],
      "metadata": {
        "id": "mze3c6jYF7x0"
      }
    },
    {
      "cell_type": "code",
      "source": [
        "import sympy as sp\n",
        "x= sp.Symbol('x')\n",
        "equation = sp.Eq(x+5,2)\n",
        "equation"
      ],
      "metadata": {
        "colab": {
          "base_uri": "https://localhost:8080/",
          "height": 38
        },
        "id": "EOicy6cRX8xJ",
        "outputId": "b560b22d-8b19-4562-d1bd-250b3a6cff56"
      },
      "execution_count": null,
      "outputs": [
        {
          "output_type": "execute_result",
          "data": {
            "text/plain": [
              "Eq(x + 5, 2)"
            ],
            "text/latex": "$\\displaystyle x + 5 = 2$"
          },
          "metadata": {},
          "execution_count": 5
        }
      ]
    },
    {
      "cell_type": "markdown",
      "source": [
        "**Task 5**\n",
        "\n",
        "It is your turn now to write the equation for the one that you solved in **Task 4** in sympy using `sp.Eq()`"
      ],
      "metadata": {
        "id": "LkHxqukWIOJw"
      }
    },
    {
      "cell_type": "code",
      "source": [
        "## write your code below\n"
      ],
      "metadata": {
        "id": "0LEbCb81HiGj"
      },
      "execution_count": null,
      "outputs": []
    },
    {
      "cell_type": "markdown",
      "source": [
        "<details>\n",
        "   <summary>Click to reveal answer</summary>\n",
        "\n",
        "```python\n",
        "import sympy as sp\n",
        "x= sp.Symbol('x')\n",
        "equation = sp.Eq(x**2+3*x+2,0)\n",
        "equation\n",
        "```\n",
        "</details>"
      ],
      "metadata": {
        "id": "84gygQltIrJH"
      }
    },
    {
      "cell_type": "markdown",
      "source": [
        "## Solving Equations with Sympy\n",
        "Having learnt how to write an equation in Sympy, now you can solve it using the `solve()` function. The `solve()` function takes two arguments: the equation and the symbolic variable to solve for as it is shown in the example below:"
      ],
      "metadata": {
        "id": "1O4JnEABJOEl"
      }
    },
    {
      "cell_type": "code",
      "source": [
        "import sympy as sp\n",
        "x= sp.Symbol('x')\n",
        "equation = sp.Eq(x+5,2)\n",
        "sp.solve(equation,x)"
      ],
      "metadata": {
        "colab": {
          "base_uri": "https://localhost:8080/"
        },
        "id": "kw_N0hISJIxg",
        "outputId": "b5fd54a0-f049-479e-f9e5-69acdec0adcf"
      },
      "execution_count": null,
      "outputs": [
        {
          "output_type": "execute_result",
          "data": {
            "text/plain": [
              "[-3]"
            ]
          },
          "metadata": {},
          "execution_count": 6
        }
      ]
    },
    {
      "cell_type": "markdown",
      "source": [
        "**Task 6**\n",
        "\n",
        "It is your turn now to solve the equation that you wrote in **task 5** using the `solve()` function"
      ],
      "metadata": {
        "id": "QUH-CvnKKmcM"
      }
    },
    {
      "cell_type": "code",
      "source": [
        "## write your code below\n"
      ],
      "metadata": {
        "id": "NmTncSWHJJcR"
      },
      "execution_count": null,
      "outputs": []
    },
    {
      "cell_type": "markdown",
      "source": [
        "<details>\n",
        "   <summary>Click to reveal answer</summary>\n",
        "\n",
        "```python\n",
        "import sympy as sp\n",
        "x= sp.Symbol('x')\n",
        "equation = sp.Eq(x**2+3*x+2,0)\n",
        "sp.solve(equation,x)\n",
        "```\n",
        "</details>"
      ],
      "metadata": {
        "id": "PB3IKjMULD4h"
      }
    },
    {
      "cell_type": "markdown",
      "source": [
        "**Task 7**\n",
        "\n",
        "check whether the answers given by the `solve()` function gives the correct solutions to the equation using the `subs()` function that you learnt previously."
      ],
      "metadata": {
        "id": "obOfVYqFLgKk"
      }
    },
    {
      "cell_type": "code",
      "source": [
        "## write your code below\n"
      ],
      "metadata": {
        "id": "5MUBG7zxLQcb"
      },
      "execution_count": null,
      "outputs": []
    },
    {
      "cell_type": "markdown",
      "source": [
        "<details>\n",
        "   <summary>Click to reveal answer</summary>\n",
        "\n",
        "```python\n",
        "import sympy as sp\n",
        "x= sp.Symbol('x')\n",
        "expr = x**2+3*x+2\n",
        "print(expr.subs([(x,-1)]))\n",
        "print(expr.subs([(x,-2)]))\n",
        "```\n",
        "</details>"
      ],
      "metadata": {
        "id": "Myc1Adl1MGAP"
      }
    },
    {
      "cell_type": "markdown",
      "source": [
        "## Solving Systems of Equations in SymPy\n",
        "You can also solve systems of equations. All you have to do is to pass a list of equations and a list of variables to the `solve()` function as it is shown in the following example:"
      ],
      "metadata": {
        "id": "Dfok-tH4N4hr"
      }
    },
    {
      "cell_type": "code",
      "source": [
        "import sympy as sp\n",
        "x, y = sp.symbols('x y')\n",
        "equation1 = sp.Eq(x + y, 2)\n",
        "equation2 = sp.Eq(x - y, 0)\n",
        "sp.solve((equation1, equation2), (x, y))"
      ],
      "metadata": {
        "colab": {
          "base_uri": "https://localhost:8080/"
        },
        "id": "722xmbmdNDQS",
        "outputId": "e15f9f43-1e81-41a8-bdcb-a5f889d14c5a"
      },
      "execution_count": null,
      "outputs": [
        {
          "output_type": "execute_result",
          "data": {
            "text/plain": [
              "{x: 1, y: 1}"
            ]
          },
          "metadata": {},
          "execution_count": 16
        }
      ]
    },
    {
      "cell_type": "markdown",
      "source": [
        "**Task 8**\n",
        "\n",
        "It is your taks know to solve the following system of equations?\n",
        "$$x+y+z=6$$\n",
        "$$2x-y+z=3$$\n",
        "$$x+2y-3z=-4$$"
      ],
      "metadata": {
        "id": "vj6PvR3yOhZG"
      }
    },
    {
      "cell_type": "code",
      "source": [
        "## write your code below\n"
      ],
      "metadata": {
        "id": "OeWIBGWtNZEU"
      },
      "execution_count": null,
      "outputs": []
    },
    {
      "cell_type": "markdown",
      "source": [
        "<details>\n",
        "   <summary>Click to reveal answer</summary>\n",
        "\n",
        "```python\n",
        "import sympy as sp\n",
        "\n",
        "# Define symbols for variables\n",
        "x, y, z = sp.symbols('x y z')\n",
        "\n",
        "# Define equations\n",
        "eq1 = sp.Eq(x + y + z, 6)\n",
        "eq2 = sp.Eq(2*x - y + z, 3)\n",
        "eq3 = sp.Eq(x + 2*y - 3*z, -4)\n",
        "\n",
        "# Solve the system of equations\n",
        "sp.solve((eq1, eq2, eq3), (x, y, z))\n",
        "```\n",
        "</details>"
      ],
      "metadata": {
        "id": "46M3ogj3NeLG"
      }
    },
    {
      "cell_type": "markdown",
      "source": [
        "**Task 9**\n",
        "\n",
        "check whether the answers given by the `solve()` function gives the correct solution to the system of equations using the `subs()` function that you learnt previously."
      ],
      "metadata": {
        "id": "tDUxBY5xOD6q"
      }
    },
    {
      "cell_type": "code",
      "source": [
        "## write your code below\n"
      ],
      "metadata": {
        "id": "oWgE8PzZRX5L"
      },
      "execution_count": null,
      "outputs": []
    },
    {
      "cell_type": "markdown",
      "source": [
        "## Differentiation in Sympy\n",
        "Differentiation is a fundamental concept in calculus, representing the instantaneous rate of change of a function. Differentiation is widely used in various fields:\n",
        "\n",
        "- **Physics**: Calculating velocity and acceleration from position functions.\n",
        "- **Optimization**: Finding critical points (where the derivative is zero) to determine maxima and minima of functions.\n",
        "- **Machine Learning**: Gradient descent algorithms rely on differentiation to optimize model parameters.\n",
        "\n",
        "SymPy provides powerful tools to perform symbolic differentiation, allowing you to find derivatives of expressions without numerical approximations.   \n",
        "The core function for differentiation in SymPy is `sp.Derivative()` and `sp.diff()`functions . To find the derivative of an expression with respect to a symbolic variable, simply pass the expression and the symbolic variable that you want do the differentiation with respect to as parameters to `sp.Derivative() or `sp.diff() functions as shown in the examples below:"
      ],
      "metadata": {
        "id": "AdwCPtxiOQ-3"
      }
    },
    {
      "cell_type": "code",
      "source": [
        "import sympy as sp\n",
        "x = sp.Symbol('x')\n",
        "expr = x**2 + 2*x + 1\n",
        "sp.Derivative(expr, x)"
      ],
      "metadata": {
        "colab": {
          "base_uri": "https://localhost:8080/",
          "height": 52
        },
        "id": "H5eAGVQ0J2_x",
        "outputId": "9e8b1ff0-7185-4896-be92-71f7dd278953"
      },
      "execution_count": null,
      "outputs": [
        {
          "output_type": "execute_result",
          "data": {
            "text/plain": [
              "Derivative(x**2 + 2*x + 1, x)"
            ],
            "text/latex": "$\\displaystyle \\frac{d}{d x} \\left(x^{2} + 2 x + 1\\right)$"
          },
          "metadata": {},
          "execution_count": 5
        }
      ]
    },
    {
      "cell_type": "code",
      "source": [
        "import sympy as sp\n",
        "x = sp.Symbol('x')\n",
        "expr = x**2 + 2*x + 1\n",
        "sp.diff(expr, x)"
      ],
      "metadata": {
        "colab": {
          "base_uri": "https://localhost:8080/",
          "height": 38
        },
        "id": "PwJ9lnDvPSRl",
        "outputId": "d7a4fc72-e2e9-43ac-94cd-b939d3d5afff"
      },
      "execution_count": null,
      "outputs": [
        {
          "output_type": "execute_result",
          "data": {
            "text/plain": [
              "2*x + 2"
            ],
            "text/latex": "$\\displaystyle 2 x + 2$"
          },
          "metadata": {},
          "execution_count": 2
        }
      ]
    },
    {
      "cell_type": "markdown",
      "source": [
        "The `sp.Derivative()` create a derivative object without evaluating the derivative of the expression given. In order to evaluate the derivative of the expression you can use `doit()` function on the created object as it is shown in the example below:\n",
        "\n",
        "---\n",
        "\n"
      ],
      "metadata": {
        "id": "VaF50CdaTBTC"
      }
    },
    {
      "cell_type": "code",
      "source": [
        "import sympy as sp\n",
        "x = sp.Symbol('x')\n",
        "expr = x**2 + 2*x + 1\n",
        "derv_obj=sp.Derivative(expr, x)\n",
        "derv_obj.doit()"
      ],
      "metadata": {
        "colab": {
          "base_uri": "https://localhost:8080/",
          "height": 39
        },
        "id": "uZnAQALETpCW",
        "outputId": "920b3927-9588-4344-ba4c-af87477d20fd"
      },
      "execution_count": null,
      "outputs": [
        {
          "output_type": "execute_result",
          "data": {
            "text/plain": [
              "2*x + 2"
            ],
            "text/latex": "$\\displaystyle 2 x + 2$"
          },
          "metadata": {},
          "execution_count": 7
        }
      ]
    },
    {
      "cell_type": "markdown",
      "source": [
        "`sp.diff()` evaluate the derivative of the given expression by default as it was shown in the second example."
      ],
      "metadata": {
        "id": "BgqXlWv-V2ZJ"
      }
    },
    {
      "cell_type": "markdown",
      "source": [
        "**Task 10**   \n",
        "It is your turn now to find the derivative of the following expression using both methods:   \n",
        "$$3x^4 - 2x^2 + 5x - 1$$"
      ],
      "metadata": {
        "id": "4GuTPz13QVNi"
      }
    },
    {
      "cell_type": "code",
      "source": [
        "## write your code below for the first method\n"
      ],
      "metadata": {
        "id": "ijM89pq0WU8y"
      },
      "execution_count": null,
      "outputs": []
    },
    {
      "cell_type": "markdown",
      "source": [
        "<details>\n",
        "<summary>Click to reveal answer</summary>\n",
        "\n",
        "```python\n",
        "import sympy as sp\n",
        "x = sp.Symbol('x')\n",
        "expr = 3*x**4 - 2*x**2 + 5*x - 1\n",
        "derv_obj=sp.Derivative(expr, x)\n",
        "derv_obj.doit()\n",
        "```\n",
        "</details>"
      ],
      "metadata": {
        "id": "l4w8CeAGWYE7"
      }
    },
    {
      "cell_type": "code",
      "source": [
        "## write your code below for the second method\n"
      ],
      "metadata": {
        "id": "XLuWpsYmRH3g"
      },
      "execution_count": null,
      "outputs": []
    },
    {
      "cell_type": "markdown",
      "source": [
        "<details>\n",
        "   <summary>Click to reveal answer</summary>\n",
        "\n",
        "```python\n",
        "import sympy as sp\n",
        "\n",
        "# Define the symbolic variable\n",
        "x = sp.Symbol('x')\n",
        "\n",
        "# Define the expression to differentiate\n",
        "expression = 3*x**4 - 2*x**2 + 5*x - 1\n",
        "\n",
        "# Calculate the derivative\n",
        "sp.diff(expression, x)\n",
        "```\n",
        "</details>"
      ],
      "metadata": {
        "id": "5OWaOU0BRLpJ"
      }
    },
    {
      "cell_type": "markdown",
      "source": [
        "To calculate higher-order derivatives (second derivative, third derivative, etc.), pass the variable multiple times or specify the order as a third argument as it is shwon in the two examples below:"
      ],
      "metadata": {
        "id": "6pENrK5gR5Ei"
      }
    },
    {
      "cell_type": "code",
      "source": [
        "import sympy as sp\n",
        "x = sp.Symbol('x')\n",
        "expr = 7*x**3 - 3*x**2 + 3*x - 7\n",
        "sp.Derivative(expr, x,x,x).doit()"
      ],
      "metadata": {
        "colab": {
          "base_uri": "https://localhost:8080/",
          "height": 37
        },
        "id": "974FxFajXVJy",
        "outputId": "dab9d3fc-7ad5-4cd0-b0e5-4c7ad42a1f6c"
      },
      "execution_count": null,
      "outputs": [
        {
          "output_type": "execute_result",
          "data": {
            "text/plain": [
              "42"
            ],
            "text/latex": "$\\displaystyle 42$"
          },
          "metadata": {},
          "execution_count": 12
        }
      ]
    },
    {
      "cell_type": "code",
      "source": [
        "import sympy as sp\n",
        "x = sp.Symbol('x')\n",
        "expr = 7*x**3 - 3*x**2 + 3*x - 7\n",
        "sp.diff(expr, x,x,x)"
      ],
      "metadata": {
        "colab": {
          "base_uri": "https://localhost:8080/",
          "height": 37
        },
        "id": "9wWJC6p4SJ-D",
        "outputId": "f6942ae3-89c3-4a13-d846-414a4d1ce405"
      },
      "execution_count": null,
      "outputs": [
        {
          "output_type": "execute_result",
          "data": {
            "text/plain": [
              "42"
            ],
            "text/latex": "$\\displaystyle 42$"
          },
          "metadata": {},
          "execution_count": 10
        }
      ]
    },
    {
      "cell_type": "code",
      "source": [
        "import sympy as sp\n",
        "x = sp.Symbol('x')\n",
        "expr = 7*x**3 - 3*x**2 + 3*x - 7\n",
        "sp.Derivative(expr, x,3).doit()"
      ],
      "metadata": {
        "colab": {
          "base_uri": "https://localhost:8080/",
          "height": 37
        },
        "id": "Z-hCPfcIXe5m",
        "outputId": "8ecdfdc0-6e28-419f-f6a8-98cb214b307c"
      },
      "execution_count": null,
      "outputs": [
        {
          "output_type": "execute_result",
          "data": {
            "text/plain": [
              "42"
            ],
            "text/latex": "$\\displaystyle 42$"
          },
          "metadata": {},
          "execution_count": 13
        }
      ]
    },
    {
      "cell_type": "code",
      "source": [
        "import sympy as sp\n",
        "x = sp.Symbol('x')\n",
        "expr = 7*x**3 - 3*x**2 + 3*x - 7\n",
        "sp.diff(expr, x,3)"
      ],
      "metadata": {
        "colab": {
          "base_uri": "https://localhost:8080/",
          "height": 37
        },
        "id": "L6obEsMDTgPU",
        "outputId": "20206a4a-749f-4a21-a4a0-9d49a0e796e0"
      },
      "execution_count": null,
      "outputs": [
        {
          "output_type": "execute_result",
          "data": {
            "text/plain": [
              "42"
            ],
            "text/latex": "$\\displaystyle 42$"
          },
          "metadata": {},
          "execution_count": 11
        }
      ]
    },
    {
      "cell_type": "markdown",
      "source": [
        "**Task 11**   \n",
        "It is your turn now to find the fourth derivative of the following function using your preferred method:   \n",
        "$$5x^6 - 3x^4 + 2x^2 - 7$$"
      ],
      "metadata": {
        "id": "Pn9xrIe5TsJD"
      }
    },
    {
      "cell_type": "markdown",
      "source": [
        "<details>\n",
        "   <summary>Click to reveal answer</summary>\n",
        "\n",
        "```python\n",
        "import sympy as sp\n",
        "\n",
        "# Define the symbolic variable\n",
        "x = sp.Symbol('x')\n",
        "\n",
        "# Define the polynomial expression\n",
        "expression = 5*x**6 - 3*x**4 + 2*x**2 - 7\n",
        "\n",
        "# Calculate the fourth derivative\n",
        "sp.diff(expression, x, 4)\n",
        "```\n",
        "</details>"
      ],
      "metadata": {
        "id": "d9zxuFHzUYQ5"
      }
    },
    {
      "cell_type": "markdown",
      "source": [
        "If your expression involves multiple variables, you can differentiate with respect to each symbolic variable separately as it shown in the example below:"
      ],
      "metadata": {
        "id": "kwiYbcXMVN51"
      }
    },
    {
      "cell_type": "code",
      "source": [
        "import sympy as sp\n",
        "# importing display() function from IPython for pretty printing\n",
        "from IPython.display import display\n",
        "x,y = sp.symbols('x y')\n",
        "expr = y*x**2 + x*y**3\n",
        "dx = sp.Derivative(expr, x).doit()  # Derivative with respect to x\n",
        "dy = sp.Derivative(expr, y).doit()  # Derivative with respect to y\n",
        "display(dx)\n",
        "display(dy)"
      ],
      "metadata": {
        "colab": {
          "base_uri": "https://localhost:8080/",
          "height": 61
        },
        "id": "BQa3a51HYeZH",
        "outputId": "aa962880-81b8-4add-d75d-a77530eceb1e"
      },
      "execution_count": null,
      "outputs": [
        {
          "output_type": "display_data",
          "data": {
            "text/plain": [
              "2*x*y + y**3"
            ],
            "text/latex": "$\\displaystyle 2 x y + y^{3}$"
          },
          "metadata": {}
        },
        {
          "output_type": "display_data",
          "data": {
            "text/plain": [
              "x**2 + 3*x*y**2"
            ],
            "text/latex": "$\\displaystyle x^{2} + 3 x y^{2}$"
          },
          "metadata": {}
        }
      ]
    },
    {
      "cell_type": "code",
      "source": [
        "import sympy as sp\n",
        "# importing display() function from IPython for pretty printing\n",
        "from IPython.display import display\n",
        "x,y = sp.symbols('x y')\n",
        "expr = y*x**2 + x*y**3\n",
        "dx = sp.diff(expr, x)  # Derivative with respect to x\n",
        "dy = sp.diff(expr, y)  # Derivative with respect to y\n",
        "display(dx)\n",
        "display(dy)"
      ],
      "metadata": {
        "colab": {
          "base_uri": "https://localhost:8080/",
          "height": 60
        },
        "id": "hlpfgkgxV1f-",
        "outputId": "1c23ad93-2e11-43c7-9ebb-30a10cd70a11"
      },
      "execution_count": null,
      "outputs": [
        {
          "output_type": "display_data",
          "data": {
            "text/plain": [
              "         3\n",
              "2⋅x⋅y + y "
            ],
            "text/latex": "$\\displaystyle 2 x y + y^{3}$"
          },
          "metadata": {}
        },
        {
          "output_type": "display_data",
          "data": {
            "text/plain": [
              " 2        2\n",
              "x  + 3⋅x⋅y "
            ],
            "text/latex": "$\\displaystyle x^{2} + 3 x y^{2}$"
          },
          "metadata": {}
        }
      ]
    },
    {
      "cell_type": "markdown",
      "source": [
        "**Task 12**   \n",
        "It is your turn to find the second derivative of the following function with respect to $x,y,z$:\n",
        "$$f(x,y,z)=x^3y^2z + 2xyz^3 - x^2z^2$$"
      ],
      "metadata": {
        "id": "ozgKr6tgkhk5"
      }
    },
    {
      "cell_type": "markdown",
      "source": [
        "<details>\n",
        "   <summary>Click to reveal answer</summary>\n",
        "\n",
        "```python\n",
        "import sympy as sp\n",
        "from IPython.display import display\n",
        "# Define symbolic variables\n",
        "x, y, z = sp.symbols('x y z')\n",
        "\n",
        "# Define the expression\n",
        "expr = x**3*y**2*z + 2*x*y*z**3 - x**2*z**2\n",
        "\n",
        "# Calculate second derivatives\n",
        "d2_dx2 = sp.diff(expr, x, 2)\n",
        "d2_dy2 = sp.diff(expr, y, 2)\n",
        "d2_dz2 = sp.diff(expr, z, 2)\n",
        "\n",
        "# Display the results\n",
        "display(d2_dx2)\n",
        "display(d2_dy2)\n",
        "display(d2_dz2)\n",
        "```\n",
        "</details>"
      ],
      "metadata": {
        "id": "S9wQD7XTmEVb"
      }
    },
    {
      "cell_type": "markdown",
      "source": [
        "In SymPy you can define an unknown function in two ways:   \n",
        "1. Using the `symbols()` function with the parameter cls set to `sp.Function` as it is shown in the example below:\n"
      ],
      "metadata": {
        "id": "fBoZYcaQvAej"
      }
    },
    {
      "cell_type": "code",
      "source": [
        "import sympy as sp\n",
        "x = sp.Symbol('x')\n",
        "f = sp.symbols('f', cls=sp.Function)(x)\n",
        "f"
      ],
      "metadata": {
        "colab": {
          "base_uri": "https://localhost:8080/",
          "height": 39
        },
        "id": "6gyvizTWuawJ",
        "outputId": "2d5c7fe0-98d2-44f8-9e15-6cce07e01cc1"
      },
      "execution_count": null,
      "outputs": [
        {
          "output_type": "execute_result",
          "data": {
            "text/plain": [
              "f(x)"
            ],
            "text/latex": "$\\displaystyle f{\\left(x \\right)}$"
          },
          "metadata": {},
          "execution_count": 9
        }
      ]
    },
    {
      "cell_type": "markdown",
      "source": [
        "Here we defined the unknown function $f$ with respect to the symbolic variable x."
      ],
      "metadata": {
        "id": "A98nSDUiuV8h"
      }
    },
    {
      "cell_type": "markdown",
      "source": [
        "2. You can also define the unknown function through the class `Function()` as it is shown in the example below:"
      ],
      "metadata": {
        "id": "alNIn0_MvOj0"
      }
    },
    {
      "cell_type": "code",
      "source": [
        "import sympy as sp\n",
        "x = sp.Symbol('x')\n",
        "f = sp.Function('f')(x)\n",
        "f"
      ],
      "metadata": {
        "colab": {
          "base_uri": "https://localhost:8080/",
          "height": 39
        },
        "id": "-9zOiDBtxOjy",
        "outputId": "5ac4a146-d9de-4e4f-e2c8-aa1babd90fa0"
      },
      "execution_count": null,
      "outputs": [
        {
          "output_type": "execute_result",
          "data": {
            "text/plain": [
              "f(x)"
            ],
            "text/latex": "$\\displaystyle f{\\left(x \\right)}$"
          },
          "metadata": {},
          "execution_count": 10
        }
      ]
    },
    {
      "cell_type": "markdown",
      "source": [
        "**Task 13**  \n",
        "It is your turn now to create an unknow function `y` with respect to `t` using both methods mentioned above?"
      ],
      "metadata": {
        "id": "8ZLEcCCwwaC_"
      }
    },
    {
      "cell_type": "code",
      "source": [
        "#write your code below for method 1"
      ],
      "metadata": {
        "id": "SKUEFP3gwED-"
      },
      "execution_count": null,
      "outputs": []
    },
    {
      "cell_type": "markdown",
      "source": [
        "<details>\n",
        "<summary>Click to reveal answer</summary>\n",
        "\n",
        "```python\n",
        "import sympy as sp\n",
        "t = sp.Symbol('t')\n",
        "y = sp.symbols('y', cls=sp.Function)(t)\n",
        "y\n",
        "```\n",
        "</details>"
      ],
      "metadata": {
        "id": "P-7X7iPuwKof"
      }
    },
    {
      "cell_type": "code",
      "source": [
        "#write your code below for method 2"
      ],
      "metadata": {
        "id": "MhwvOuf4wLLw"
      },
      "execution_count": null,
      "outputs": []
    },
    {
      "cell_type": "markdown",
      "source": [
        "<details>\n",
        "<summary>Click to reveal answer</summary>\n",
        "\n",
        "```python\n",
        "import sympy as sp\n",
        "t = sp.Symbol('t')\n",
        "y = sp.Function('y')(t)\n",
        "y\n",
        "```\n",
        "</details>"
      ],
      "metadata": {
        "id": "ldf5c5TXwuZH"
      }
    },
    {
      "cell_type": "markdown",
      "source": [
        ":After you have learnt how to write an unknown function let us bring you back to how to write the derivatives of these unknown functions using the `sp.Derivative()` and `sp.diff()` functions as it is shown in the example below:   \n"
      ],
      "metadata": {
        "id": "HOehhIW5xVgk"
      }
    },
    {
      "cell_type": "code",
      "source": [
        "import sympy as sp\n",
        "x = sp.Symbol('x')\n",
        "f = sp.Function('f')(x)\n",
        "sp.Derivative(f,x)"
      ],
      "metadata": {
        "colab": {
          "base_uri": "https://localhost:8080/",
          "height": 52
        },
        "id": "U0tjbT8XbQqi",
        "outputId": "f444138d-c031-4ae4-ca75-4bc76d626a12"
      },
      "execution_count": null,
      "outputs": [
        {
          "output_type": "execute_result",
          "data": {
            "text/plain": [
              "Derivative(f(x), x)"
            ],
            "text/latex": "$\\displaystyle \\frac{d}{d x} f{\\left(x \\right)}$"
          },
          "metadata": {},
          "execution_count": 17
        }
      ]
    },
    {
      "cell_type": "code",
      "source": [
        "import sympy as sp\n",
        "x = sp.Symbol('x')\n",
        "f = sp.Function('f')(x)\n",
        "sp.diff(f,x)"
      ],
      "metadata": {
        "colab": {
          "base_uri": "https://localhost:8080/",
          "height": 52
        },
        "id": "5aL1IHlU0T1e",
        "outputId": "334d4d9e-2a36-4a68-b321-f27a5d6bc8f7"
      },
      "execution_count": null,
      "outputs": [
        {
          "output_type": "execute_result",
          "data": {
            "text/plain": [
              "Derivative(f(x), x)"
            ],
            "text/latex": "$\\displaystyle \\frac{d}{d x} f{\\left(x \\right)}$"
          },
          "metadata": {},
          "execution_count": 18
        }
      ]
    },
    {
      "cell_type": "markdown",
      "source": [
        "Observe that both functions give the same result since the derivative is conducted on unknown function and not an expression as before."
      ],
      "metadata": {
        "id": "Ke5FDmJ7bkTT"
      }
    },
    {
      "cell_type": "markdown",
      "source": [
        "**Task 14**   \n",
        "1. Find the second derivative of the unknow function above using `sp.Derivative()` method?"
      ],
      "metadata": {
        "id": "tCWn4LONcI1G"
      }
    },
    {
      "cell_type": "code",
      "source": [
        "##write your code below\n"
      ],
      "metadata": {
        "id": "v1SbXh80chT0"
      },
      "execution_count": null,
      "outputs": []
    },
    {
      "cell_type": "markdown",
      "source": [
        "<details>\n",
        "<summary>Click to reveal answer</summary>\n",
        "\n",
        "```python\n",
        "import sympy as sp\n",
        "x = sp.Symbol('x')\n",
        "f = sp.Function('f')(x)\n",
        "sp.Derivative(f,x,x)\n",
        "```\n",
        "</details>"
      ],
      "metadata": {
        "id": "mgWFIw75c6pr"
      }
    },
    {
      "cell_type": "markdown",
      "source": [
        "2. write the fourth derivative of the unknown function f using the `sp.diff()` method?"
      ],
      "metadata": {
        "id": "xyCuL29sck64"
      }
    },
    {
      "cell_type": "code",
      "source": [
        "## write your code below\n"
      ],
      "metadata": {
        "id": "8lu3zqhHc014"
      },
      "execution_count": null,
      "outputs": []
    },
    {
      "cell_type": "markdown",
      "source": [
        "<details>\n",
        "<summary>Click to reveal answer</summary>\n",
        "\n",
        "```python\n",
        "import sympy as sp\n",
        "x = sp.Symbol('x')\n",
        "f = sp.Function('f')(x)\n",
        "sp.diff(f,x,4)\n",
        "```\n",
        "</details>"
      ],
      "metadata": {
        "id": "ScU2opzKclzB"
      }
    },
    {
      "cell_type": "markdown",
      "source": [
        "## Integration in SymPy\n",
        "Integration is a fundamental operation in calculus, used to find areas under curves, volumes of solids, and solve various mathematical problems.   \n",
        "Integration has numerous applications in various fields:\n",
        "\n",
        "- **Physics**: Calculating work done by a force, center of mass, and moment of inertia.   \n",
        "- **Probability and Statistics**: Determining probabilities and expected values.   \n",
        "- **Engineering**: Finding areas, volumes, and solving differential equations.    \n",
        "\n",
        "SymPy offers powerful tools for symbolic integration, allowing you to find indefinite and definite integrals of expressions without relying on numerical methods."
      ],
      "metadata": {
        "id": "T73s1ZzKnJ7Q"
      }
    },
    {
      "cell_type": "markdown",
      "source": [
        "The core function for integration in SymPy is `sp.integrate()`. To find the indefinite integral of an expression with respect to a symbolic variable, simply pass the expression and the symbolic variable as arguments to the `integrate()` function as it is shown below:"
      ],
      "metadata": {
        "id": "gl6J_0bgDEp5"
      }
    },
    {
      "cell_type": "code",
      "source": [
        "import sympy as sp\n",
        "x = sp.Symbol('x')\n",
        "expr = x**2 + 2*x\n",
        "sp.integrate(expr,x)"
      ],
      "metadata": {
        "colab": {
          "base_uri": "https://localhost:8080/",
          "height": 54
        },
        "id": "-mS8fhnAo1BN",
        "outputId": "375accd7-8a18-4172-d867-768d2fc87fcc"
      },
      "execution_count": null,
      "outputs": [
        {
          "output_type": "execute_result",
          "data": {
            "text/plain": [
              "x**3/3 + x**2"
            ],
            "text/latex": "$\\displaystyle \\frac{x^{3}}{3} + x^{2}$"
          },
          "metadata": {},
          "execution_count": 2
        }
      ]
    },
    {
      "cell_type": "markdown",
      "source": [
        "**Note** that SymPy does not add the constant of integration (+C) explicitly."
      ],
      "metadata": {
        "id": "FjU_zPk8EsBz"
      }
    },
    {
      "cell_type": "markdown",
      "source": [
        "**Task 15**   \n",
        "It is your turn to integrate the following function:   $$f(x)=x^2-3x+2$$"
      ],
      "metadata": {
        "id": "MGBEvNY8PKC1"
      }
    },
    {
      "cell_type": "code",
      "source": [
        "## write your code below\n"
      ],
      "metadata": {
        "id": "dI_D3c_XPndk"
      },
      "execution_count": null,
      "outputs": []
    },
    {
      "cell_type": "markdown",
      "source": [
        "<details>\n",
        "   <summary>Click to reveal answer</summary>\n",
        "\n",
        "```python\n",
        "import sympy as sp\n",
        "x = sp.Symbol('x')\n",
        "expr = x**2 - 3*x+2\n",
        "sp.integrate(expr,x)\n",
        "```\n",
        "</details>"
      ],
      "metadata": {
        "id": "P-PrDuw-PrdB"
      }
    },
    {
      "cell_type": "markdown",
      "source": [
        "To calculate a definite integral, provide the integration limits as a tuple (symbolic variable, lower_limit, upper_limit) as it is shown below:"
      ],
      "metadata": {
        "id": "YAnG6Z9AE5Xa"
      }
    },
    {
      "cell_type": "code",
      "source": [
        "import sympy as sp\n",
        "x = sp.Symbol('x')\n",
        "expr = x**2 + 2*x\n",
        "sp.integrate(expr,(x,0,1))"
      ],
      "metadata": {
        "colab": {
          "base_uri": "https://localhost:8080/",
          "height": 51
        },
        "id": "EaKbaHeREUas",
        "outputId": "298886f1-1f0c-430a-864b-e6c21f10bfa8"
      },
      "execution_count": null,
      "outputs": [
        {
          "output_type": "execute_result",
          "data": {
            "text/plain": [
              "4/3"
            ],
            "text/latex": "$\\displaystyle \\frac{4}{3}$"
          },
          "metadata": {},
          "execution_count": 3
        }
      ]
    },
    {
      "cell_type": "markdown",
      "source": [
        "**Task 16**   \n",
        "It is your turn now to integrate the function in **task 15** on the interval [2,4]"
      ],
      "metadata": {
        "id": "a9Jbt_GyQJeV"
      }
    },
    {
      "cell_type": "code",
      "source": [
        "## write your code below\n"
      ],
      "metadata": {
        "id": "QqK_cGP3Ql3I"
      },
      "execution_count": null,
      "outputs": []
    },
    {
      "cell_type": "markdown",
      "source": [
        "<details>\n",
        "   <summary>Click to reveal answer</summary>\n",
        "\n",
        "```python\n",
        "import sympy as sp\n",
        "x = sp.Symbol('x')\n",
        "expr = x**2 - 3*x+2\n",
        "sp.integrate(expr,(x,2,4))\n",
        "```\n",
        "</details>"
      ],
      "metadata": {
        "id": "nFAfyxvGQgYo"
      }
    },
    {
      "cell_type": "markdown",
      "source": [
        "For expressions with multiple variables, specify the symbolic variable you want to integrate with respect to as it is shown below:"
      ],
      "metadata": {
        "id": "4TIHFwEsFaHt"
      }
    },
    {
      "cell_type": "code",
      "source": [
        "import sympy as sp\n",
        "x,y = sp.symbols('x y')\n",
        "expr = x**2*y + x*y**3\n",
        "sp.integrate(expr,y)"
      ],
      "metadata": {
        "colab": {
          "base_uri": "https://localhost:8080/",
          "height": 54
        },
        "id": "EYO1Ln3eFgZ8",
        "outputId": "6d656d46-b872-488c-f10b-ae43559e89fa"
      },
      "execution_count": null,
      "outputs": [
        {
          "output_type": "execute_result",
          "data": {
            "text/plain": [
              "x**2*y**2/2 + x*y**4/4"
            ],
            "text/latex": "$\\displaystyle \\frac{x^{2} y^{2}}{2} + \\frac{x y^{4}}{4}$"
          },
          "metadata": {},
          "execution_count": 5
        }
      ]
    },
    {
      "cell_type": "markdown",
      "source": [
        "**Task 17**  \n",
        "It is your turn to find the integral to the following function with respect to z:   \n",
        "$$f(x,y,z)=xz^2-5xy^2z^3-3z$$"
      ],
      "metadata": {
        "id": "6ilK7FoPSCCS"
      }
    },
    {
      "cell_type": "code",
      "source": [
        "## write your code below\n"
      ],
      "metadata": {
        "id": "kmFVfULBGJ01"
      },
      "execution_count": null,
      "outputs": []
    },
    {
      "cell_type": "markdown",
      "source": [
        "<details>\n",
        "   <summary>Click to reveal answer</summary>\n",
        "\n",
        "```python\n",
        "import sympy as sp\n",
        "x,y,z = sp.symbols('x y z')\n",
        "expr = x*z**2 + 5*x*y**2*z**3-3*z\n",
        "sp.integrate(expr,z)\n",
        "```\n",
        "</details>"
      ],
      "metadata": {
        "id": "XDm7K1qWSnQL"
      }
    },
    {
      "cell_type": "markdown",
      "source": [
        "SymPy can handle various types of integrals, including those involving trigonometric functions, exponentials, and special functions as it is shown in the following examples:"
      ],
      "metadata": {
        "id": "z6EP3ghZGZYA"
      }
    },
    {
      "cell_type": "code",
      "source": [
        "import sympy as sp\n",
        "x = sp.Symbol('x')\n",
        "expr = sp.sin(x)\n",
        "sp.integrate(expr,x)"
      ],
      "metadata": {
        "colab": {
          "base_uri": "https://localhost:8080/",
          "height": 38
        },
        "id": "0SsyxOFXGjG1",
        "outputId": "371e089f-4636-48b4-ab10-c71fbbc45e85"
      },
      "execution_count": null,
      "outputs": [
        {
          "output_type": "execute_result",
          "data": {
            "text/plain": [
              "-cos(x)"
            ],
            "text/latex": "$\\displaystyle - \\cos{\\left(x \\right)}$"
          },
          "metadata": {},
          "execution_count": 6
        }
      ]
    },
    {
      "cell_type": "code",
      "source": [
        "import sympy as sp\n",
        "x = sp.Symbol('x')\n",
        "expr = sp.exp(2*x)\n",
        "sp.integrate(expr,x)"
      ],
      "metadata": {
        "colab": {
          "base_uri": "https://localhost:8080/",
          "height": 54
        },
        "id": "QNZGexmYG0LS",
        "outputId": "0ceeb898-04ab-4fb9-ff83-8dc228a523da"
      },
      "execution_count": null,
      "outputs": [
        {
          "output_type": "execute_result",
          "data": {
            "text/plain": [
              "exp(2*x)/2"
            ],
            "text/latex": "$\\displaystyle \\frac{e^{2 x}}{2}$"
          },
          "metadata": {},
          "execution_count": 7
        }
      ]
    },
    {
      "cell_type": "markdown",
      "source": [
        "**Task 18**   \n",
        "It is your turn to integrate the following function:   \n",
        "$$f(x)=sec^2(x)$$"
      ],
      "metadata": {
        "id": "wzD8UH0iTqAh"
      }
    },
    {
      "cell_type": "code",
      "source": [
        "## write your code below\n"
      ],
      "metadata": {
        "id": "zt_kX28pUdmX"
      },
      "execution_count": null,
      "outputs": []
    },
    {
      "cell_type": "markdown",
      "source": [
        "<details>\n",
        "   <summary>Click to reveal answer</summary>\n",
        "\n",
        "```python\n",
        "import sympy as sp\n",
        "x = sp.Symbol('x')\n",
        "expr = sp.sec(x)**2\n",
        "sp.integrate(expr,x)\n",
        "```\n",
        "</details>"
      ],
      "metadata": {
        "id": "Apc-tQGjVaNe"
      }
    },
    {
      "cell_type": "markdown",
      "source": [
        "## Plotting In SymPy   \n",
        "While SymPy primarily focuses on symbolic mathematics, it also offers basic plotting capabilities for visualizing expressions and functions. SymPy's plotting capabilities are not as extensive as dedicated plotting libraries like Matplotlib. For more advanced customization and features, consider using Matplotlib   \n",
        "The `sp.plot()` function is the primary tool for plotting in SymPy. It takes one or more expressions and a range for the independent symbolic variable as it is shown in the example below:"
      ],
      "metadata": {
        "id": "G1lckDfPXRC4"
      }
    },
    {
      "cell_type": "code",
      "source": [
        "import sympy as sp\n",
        "x = sp.Symbol('x')\n",
        "expr = x**2\n",
        "sp.plot(expr,(x,-5,5))"
      ],
      "metadata": {
        "colab": {
          "base_uri": "https://localhost:8080/",
          "height": 501
        },
        "id": "8QXzBKX_Xvmc",
        "outputId": "99153105-a909-49a1-be45-199713566516"
      },
      "execution_count": null,
      "outputs": [
        {
          "output_type": "display_data",
          "data": {
            "text/plain": [
              "<Figure size 640x480 with 1 Axes>"
            ],
            "image/png": "[encoded data removed]"
          },
          "metadata": {}
        },
        {
          "output_type": "execute_result",
          "data": {
            "text/plain": [
              "<sympy.plotting.backends.matplotlibbackend.matplotlib.MatplotlibBackend at 0x7f7937c57f40>"
            ]
          },
          "metadata": {},
          "execution_count": 33
        }
      ]
    },
    {
      "cell_type": "markdown",
      "source": [
        "**Task 19**   \n",
        "It is your turn now to plot the following function on the interval $[-\\pi,\\pi]$:\n",
        "$$f(x)=sin(x)$$"
      ],
      "metadata": {
        "id": "nQAHc0UFce3S"
      }
    },
    {
      "cell_type": "code",
      "source": [
        "## write your code below\n"
      ],
      "metadata": {
        "id": "vMInnshWdHHM"
      },
      "execution_count": null,
      "outputs": []
    },
    {
      "cell_type": "markdown",
      "source": [
        "<details>\n",
        "   <summary>Click to reveal answer</summary>\n",
        "\n",
        "```python\n",
        "import sympy as sp\n",
        "x = sp.Symbol('x')\n",
        "expr = sp.sin(x)\n",
        "sp.plot(expr,(x,-sp.pi,sp.pi))     \n",
        "```\n",
        "</details>"
      ],
      "metadata": {
        "id": "dH-YACPJdMYV"
      }
    },
    {
      "cell_type": "markdown",
      "source": [
        "You can plot multiple expressions on the same graph by passing them as separate arguments as it is shown in the following example:"
      ],
      "metadata": {
        "id": "JbADW8fvYLvi"
      }
    },
    {
      "cell_type": "code",
      "source": [
        "import sympy as sp\n",
        "x = sp.Symbol('x')\n",
        "expr1 = x**2\n",
        "expr2 = x**3/4\n",
        "sp.plot(expr1,expr2,(x,-5,5))"
      ],
      "metadata": {
        "colab": {
          "base_uri": "https://localhost:8080/",
          "height": 504
        },
        "id": "TMdRUvW5YWPn",
        "outputId": "733a350f-a6a7-495a-943f-00756b9e8189"
      },
      "execution_count": null,
      "outputs": [
        {
          "output_type": "display_data",
          "data": {
            "text/plain": [
              "<Figure size 640x480 with 1 Axes>"
            ],
            "image/png": "[encoded data removed]"
          },
          "metadata": {}
        },
        {
          "output_type": "execute_result",
          "data": {
            "text/plain": [
              "<sympy.plotting.backends.matplotlibbackend.matplotlib.MatplotlibBackend at 0x7f7937921180>"
            ]
          },
          "metadata": {},
          "execution_count": 39
        }
      ]
    },
    {
      "cell_type": "markdown",
      "source": [
        "**Task 20**   \n",
        "It is your turn now to plot the following two functions on [-2,2]:\n",
        "$$f(x)=e^x$$\n",
        "$$f(x)=4cos(x)$$"
      ],
      "metadata": {
        "id": "Sp2t67q7codA"
      }
    },
    {
      "cell_type": "code",
      "source": [
        "## write your code below\n"
      ],
      "metadata": {
        "id": "7tmALGu8dDPO"
      },
      "execution_count": null,
      "outputs": []
    },
    {
      "cell_type": "markdown",
      "source": [
        "<details>\n",
        "   <summary>Click to reveal answer</summary>\n",
        "\n",
        "```python\n",
        "import sympy as sp\n",
        "x = sp.Symbol('x')\n",
        "expr1 = sp.exp(x)\n",
        "expr2 =4*sp.cos(x)\n",
        "sp.plot(expr1,expr2,(x,-2,2))\n",
        "```\n",
        "</details>"
      ],
      "metadata": {
        "id": "SQNsDi1edZnl"
      }
    },
    {
      "cell_type": "markdown",
      "source": [
        "SymPy can also plot implicit equations using `sp.plot_implicit()` as it is shown in the example below:\n",
        "\n"
      ],
      "metadata": {
        "id": "F8niCKUFZ2D7"
      }
    },
    {
      "cell_type": "code",
      "source": [
        "import sympy as sp\n",
        "x, y = sp.symbols('x y')\n",
        "eq = sp.Eq(x**2 + y**2, 4)  # Equation of a circle\n",
        "sp.plot_implicit(eq)"
      ],
      "metadata": {
        "colab": {
          "base_uri": "https://localhost:8080/",
          "height": 503
        },
        "id": "WtJEVr2cZpL8",
        "outputId": "4a27a34d-fb5c-4adf-a5e0-332f8dfa9748"
      },
      "execution_count": null,
      "outputs": [
        {
          "output_type": "display_data",
          "data": {
            "text/plain": [
              "<Figure size 640x480 with 1 Axes>"
            ],
            "image/png": "[encoded data removed]"
          },
          "metadata": {}
        },
        {
          "output_type": "execute_result",
          "data": {
            "text/plain": [
              "<sympy.plotting.backends.matplotlibbackend.matplotlib.MatplotlibBackend at 0x7f7935576950>"
            ]
          },
          "metadata": {},
          "execution_count": 41
        }
      ]
    },
    {
      "cell_type": "markdown",
      "source": [
        "**Task 21**   \n",
        "It is your turn now to plot the following implicit equation on the interval [-5,5]:\n",
        "$$f(x,y)=x^2y+3xy-5y^2+1=0$$"
      ],
      "metadata": {
        "id": "jUjOqEoycwJ-"
      }
    },
    {
      "cell_type": "code",
      "source": [
        "## write your code below\n"
      ],
      "metadata": {
        "id": "ab3B02vBc-7p"
      },
      "execution_count": null,
      "outputs": []
    },
    {
      "cell_type": "markdown",
      "source": [
        "<details>\n",
        "   <summary>Click to reveal answer</summary>\n",
        "\n",
        "```python\n",
        "import sympy as sp\n",
        "x, y = sp.symbols('x y')\n",
        "eq = sp.Eq(x**2*y+3*x*y-5*y**2+1,0)\n",
        "sp.plot_implicit(eq,(x,-5,5),(y,-5,5))  \n",
        "```\n",
        "</details>"
      ],
      "metadata": {
        "id": "Rg0l1G7Qdb1s"
      }
    },
    {
      "cell_type": "markdown",
      "source": [
        "For three-dimensional plots, use `sp.plotting.plot3d()` as it is shown in the example below:"
      ],
      "metadata": {
        "id": "or4xCLuLaAN7"
      }
    },
    {
      "cell_type": "code",
      "source": [
        "import sympy as sp\n",
        "x, y = sp.symbols('x y')\n",
        "expr = x**2 + y**2\n",
        "sp.plotting.plot3d(expr, (x, -2, 2), (y, -2, 2))"
      ],
      "metadata": {
        "colab": {
          "base_uri": "https://localhost:8080/",
          "height": 510
        },
        "id": "dhQEz2vBajsU",
        "outputId": "37f9f626-43a4-4f44-97b6-b42a01fc9d3a"
      },
      "execution_count": null,
      "outputs": [
        {
          "output_type": "display_data",
          "data": {
            "text/plain": [
              "<Figure size 640x480 with 1 Axes>"
            ],
            "image/png": "[encoded data removed]"
          },
          "metadata": {}
        },
        {
          "output_type": "execute_result",
          "data": {
            "text/plain": [
              "<sympy.plotting.backends.matplotlibbackend.matplotlib.MatplotlibBackend at 0x7b47b72487f0>"
            ]
          },
          "metadata": {},
          "execution_count": 1
        }
      ]
    },
    {
      "cell_type": "markdown",
      "source": [
        "**Task 22**   \n",
        "It is your turn now to make 3D plot of the following function:\n",
        "$$x^3-y^3$$"
      ],
      "metadata": {
        "id": "1iDXZKWAc3Fb"
      }
    },
    {
      "cell_type": "code",
      "source": [
        "#write your code below\n"
      ],
      "metadata": {
        "id": "TifqAN13c6KA"
      },
      "execution_count": null,
      "outputs": []
    },
    {
      "cell_type": "markdown",
      "source": [
        "<details>\n",
        "   <summary>Click to reveal answer</summary>\n",
        "\n",
        "```python\n",
        "import sympy as sp\n",
        "x, y = sp.symbols('x y')\n",
        "expr = x**3 - y**3\n",
        "sp.plotting.plot3d(expr, (x, -2, 2), (y, -2, 2))\n",
        "```\n",
        "</details>"
      ],
      "metadata": {
        "id": "pLDQGnHodfwj"
      }
    },
    {
      "cell_type": "markdown",
      "source": [
        "## Limits in SymPy\n",
        "Limits are a fundamental concept in calculus that describe the behavior of a function as its input approaches a particular value. They help us understand how functions behave near specific points, including those that lead to indeterminate forms, or as they approach infinity.\n",
        "\n",
        "In essence, a limit captures the idea of approaching a value without necessarily reaching it. For example, when we say the limit of a function\n",
        "𝑓(𝑥) as 𝑥 approaches a number 𝑎 is 𝐿, we mean that as 𝑥 gets closer to 𝑎, 𝑓(𝑥) gets closer to 𝐿.\n",
        "\n",
        "Limits are crucial for defining derivatives and integrals, which are the cornerstones of calculus. They enable us to analyze continuity, calculate instantaneous rates of change, and solve problems involving infinity. Understanding limits is essential for anyone studying mathematics, physics, engineering, or related fields."
      ],
      "metadata": {
        "id": "Cardgw5qBCnc"
      }
    },
    {
      "cell_type": "markdown",
      "source": [
        "To evaluate limits in SymPy you can use the function `limit()`. For example if you want to find the limit of the function $f(x)=\\frac{x^2-1}{x-1}$ as $x$ approaches 1 you can write:"
      ],
      "metadata": {
        "id": "MQgpiXn323Mh"
      }
    },
    {
      "cell_type": "code",
      "source": [
        "import sympy as sp\n",
        "x = sp.Symbol('x')\n",
        "expr = (x**2-1)/(x-1)\n",
        "sp.limit(expr,x,1)"
      ],
      "metadata": {
        "id": "qV5VGcAxdgn5",
        "colab": {
          "base_uri": "https://localhost:8080/",
          "height": 37
        },
        "outputId": "aef591f4-3450-4ade-cde3-333532e82d68"
      },
      "execution_count": null,
      "outputs": [
        {
          "output_type": "execute_result",
          "data": {
            "text/plain": [
              "2"
            ],
            "text/latex": "$\\displaystyle 2$"
          },
          "metadata": {},
          "execution_count": 1
        }
      ]
    },
    {
      "cell_type": "markdown",
      "source": [
        "If you tried to find the limit of the about function without the help of SymPy, you might though using the direct subtitution 𝑥=1 which gives a result of $\\frac{0}{0}$ which is indeterminate. However, SymPy can resolve the limit by factoring:\n",
        "$$\\frac{(x-1)(x+1)}{(x-1)}⟹ x+1 \\hspace{0.5cm}as\\hspace{0.5cm} x \\rightarrow 1 ⟹2$$"
      ],
      "metadata": {
        "id": "zAptFVkw4YC7"
      }
    },
    {
      "cell_type": "markdown",
      "source": [
        "**Task 23**   \n",
        "It is your turn now to find the limit of $f(x)=\\frac{(x^2-a^2)}{(x-a)}$ as $x ⟶a$\n"
      ],
      "metadata": {
        "id": "lH8MhYJLBK8G"
      }
    },
    {
      "cell_type": "code",
      "source": [
        "## write your code below\n"
      ],
      "metadata": {
        "id": "os8Kpg57aNJz",
        "colab": {
          "base_uri": "https://localhost:8080/",
          "height": 39
        },
        "outputId": "8b610ca4-308f-4e57-9a92-50f9b1b4d75e"
      },
      "execution_count": null,
      "outputs": [
        {
          "output_type": "execute_result",
          "data": {
            "text/plain": [
              "2*a"
            ],
            "text/latex": "$\\displaystyle 2 a$"
          },
          "metadata": {},
          "execution_count": 2
        }
      ]
    },
    {
      "cell_type": "markdown",
      "source": [
        "<details>\n",
        "<summary>Click to reveal answer</summary>\n",
        "\n",
        "```python\n",
        "import sympy as sp\n",
        "x = sp.Symbol('x')\n",
        "a = sp.Symbol('a')\n",
        "expr = (x**2-a**2)/(x-a)\n",
        "sp.limit(expr,x,a)\n",
        "```\n",
        "</details>"
      ],
      "metadata": {
        "id": "Ouhl-ACyCCuq"
      }
    },
    {
      "cell_type": "markdown",
      "source": [
        "To calculate the limit of a function as it is approach a value from one side you need to supply the `limit()` function in SymPy with an additional parameter called `dir` as it is shown in the example below where the limit of the previous function is evaluated as x approaches 1 from the right right side:"
      ],
      "metadata": {
        "id": "nSR-QAQiCuUg"
      }
    },
    {
      "cell_type": "code",
      "source": [
        "import sympy as sp\n",
        "x = sp.Symbol('x')\n",
        "expr = (x**2-1)/(x-1)\n",
        "sp.limit(expr,x,1,dir=\"+\")"
      ],
      "metadata": {
        "colab": {
          "base_uri": "https://localhost:8080/",
          "height": 37
        },
        "id": "tOXJ-P46Drc1",
        "outputId": "2a665d64-6000-494e-f217-f44df8fcd950"
      },
      "execution_count": null,
      "outputs": [
        {
          "output_type": "execute_result",
          "data": {
            "text/plain": [
              "2"
            ],
            "text/latex": "$\\displaystyle 2$"
          },
          "metadata": {},
          "execution_count": 3
        }
      ]
    },
    {
      "cell_type": "markdown",
      "source": [
        "To evaluate the limit from the left side you replace the positive sign with negative sign as it is shown below:"
      ],
      "metadata": {
        "id": "zRdrdPC7D4gK"
      }
    },
    {
      "cell_type": "code",
      "source": [
        "import sympy as sp\n",
        "x = sp.Symbol('x')\n",
        "expr = (x**2-1)/(x-1)\n",
        "sp.limit(expr,x,1,dir=\"-\")"
      ],
      "metadata": {
        "colab": {
          "base_uri": "https://localhost:8080/",
          "height": 37
        },
        "id": "RxAZCK3eEE5v",
        "outputId": "7fb6d86d-34eb-4529-c639-69b54e5c7e63"
      },
      "execution_count": null,
      "outputs": [
        {
          "output_type": "execute_result",
          "data": {
            "text/plain": [
              "2"
            ],
            "text/latex": "$\\displaystyle 2$"
          },
          "metadata": {},
          "execution_count": 4
        }
      ]
    },
    {
      "cell_type": "markdown",
      "source": [
        "From your previous math study to the limits we say the limit exist at a point if it appraches the same value from both sides. Mathematically it is written as:\n",
        "$$\\lim_{x\\rightarrow a^-}f(x)=\\lim_{x\\rightarrow a^+}f(x)=L$$"
      ],
      "metadata": {
        "id": "OARTwYlDELhz"
      }
    },
    {
      "cell_type": "markdown",
      "source": [
        "**Task 24**   \n",
        "It is your turn now to use SymPy to prove that limit of $f(x)=tan(x)$ dose not exist as x approaches $\\frac{\\pi}{2}$ by checking the limit from both sides at this value?"
      ],
      "metadata": {
        "id": "1B2J0zFKGb4o"
      }
    },
    {
      "cell_type": "code",
      "source": [],
      "metadata": {
        "id": "0lWHLI43HOhB"
      },
      "execution_count": null,
      "outputs": []
    },
    {
      "cell_type": "markdown",
      "source": [
        "<details>\n",
        "<summary>Click to reveal answer</summary>\n",
        "\n",
        "```python\n",
        "from operator import le\n",
        "import sympy as sp\n",
        "x = sp.Symbol('x')\n",
        "expr = sp.tan(x)\n",
        "right_side=sp.limit(expr,x,sp.pi/2,dir=\"+\")\n",
        "left_side=sp.limit(expr,x,sp.pi/2,dir=\"-\")\n",
        "display(\"right side limit:\",right_side)\n",
        "display(\"left side limit:\",left_side)\n",
        "```\n",
        "</details>"
      ],
      "metadata": {
        "id": "E32-yGKJHPQM"
      }
    },
    {
      "cell_type": "markdown",
      "source": [
        "SymPy evaluate the limit of a function at infinity in a similar way. The only missing information that you need to evaluate a limit of a function at infinity is to know how to represent infinity in SymPy. SymPy uses `sp.oo` (two o letters not two zeros) to refer to the positive infinity and -sp.oo to refer to the negative infinity as it is shown in the example below:"
      ],
      "metadata": {
        "id": "yNQd_O-aIZsw"
      }
    },
    {
      "cell_type": "code",
      "source": [
        "import sympy as sp\n",
        "sp.oo"
      ],
      "metadata": {
        "colab": {
          "base_uri": "https://localhost:8080/",
          "height": 37
        },
        "id": "-S282q-pJo69",
        "outputId": "da1588ac-ad11-4aa1-de66-a8780594e272"
      },
      "execution_count": null,
      "outputs": [
        {
          "output_type": "execute_result",
          "data": {
            "text/plain": [
              "oo"
            ],
            "text/latex": "$\\displaystyle \\infty$"
          },
          "metadata": {},
          "execution_count": 10
        }
      ]
    },
    {
      "cell_type": "code",
      "source": [
        "import sympy as sp\n",
        "-sp.oo"
      ],
      "metadata": {
        "colab": {
          "base_uri": "https://localhost:8080/",
          "height": 37
        },
        "id": "bSxGEVWdJwGs",
        "outputId": "464ce905-2662-4638-ca11-ebc3f018b2ae"
      },
      "execution_count": null,
      "outputs": [
        {
          "output_type": "execute_result",
          "data": {
            "text/plain": [
              "-oo"
            ],
            "text/latex": "$\\displaystyle -\\infty$"
          },
          "metadata": {},
          "execution_count": 11
        }
      ]
    },
    {
      "cell_type": "markdown",
      "source": [
        "**Task 25**   \n",
        "Evaluate the function $f(x)=\\frac{3x^2+2}{x^2+1} \\hspace{0.3cm} as \\hspace{0.3cm} x ⟶ ∞$"
      ],
      "metadata": {
        "id": "FWGm7PX2KQSp"
      }
    },
    {
      "cell_type": "code",
      "source": [
        "## write your code below\n"
      ],
      "metadata": {
        "id": "86oC1-acLmyK"
      },
      "execution_count": null,
      "outputs": []
    },
    {
      "cell_type": "markdown",
      "source": [
        "<details>\n",
        "<summary>Click to reveal answer</summary>\n",
        "\n",
        "```python\n",
        "import sympy as sp\n",
        "x = sp.Symbol('x')\n",
        "expr = (3*x**2+2)/(x**2+1)\n",
        "sp.limit(expr,x,sp.oo)\n",
        "```\n",
        "</details>"
      ],
      "metadata": {
        "id": "zXJE1B21Lnj1"
      }
    },
    {
      "cell_type": "markdown",
      "source": [
        "## Piecewise Functions in SymPy\n",
        "In SymPy, you can easily create and manipulate piecewise functions using `sp.Piecewise() class. Piecewise functions are useful for defining functions that have different expressions based on different conditions."
      ],
      "metadata": {
        "id": "YW0V5w0sehfI"
      }
    },
    {
      "cell_type": "markdown",
      "source": [
        "The basic syntax for creating a piecewise function is:"
      ],
      "metadata": {
        "id": "y9ZT-jIafAfr"
      }
    },
    {
      "cell_type": "code",
      "source": [
        "import sympy as sp\n",
        "# Define symbols\n",
        "x = symbols('x')\n",
        "\n",
        "# Define a piecewise function\n",
        "f = sp.Piecewise((expr1, condition1), (expr2, condition2)"
      ],
      "metadata": {
        "id": "BTTp5ak3fBoe"
      },
      "execution_count": null,
      "outputs": []
    },
    {
      "cell_type": "markdown",
      "source": [
        "Here, expr1, expr2, etc., are the expressions that define the function, and condition1, condition2, etc., are the conditions under which each expression applies."
      ],
      "metadata": {
        "id": "Lh2eU9RifEqX"
      }
    },
    {
      "cell_type": "markdown",
      "source": [
        "Let's create a simple piecewise function that behaves differently based on the value of $x$:"
      ],
      "metadata": {
        "id": "sC4iaqGQfMvi"
      }
    },
    {
      "cell_type": "code",
      "source": [
        "from sympy import Piecewise, symbols\n",
        "\n",
        "# Define symbol\n",
        "x = symbols('x')\n",
        "\n",
        "# Define a piecewise function\n",
        "f = sp.Piecewise((x**2, x < 0), (x + 1, x >= 0))\n",
        "f"
      ],
      "metadata": {
        "colab": {
          "base_uri": "https://localhost:8080/",
          "height": 68
        },
        "id": "1TjZiWEQfVr-",
        "outputId": "40792285-41c0-4009-e6e6-f380d297d801"
      },
      "execution_count": null,
      "outputs": [
        {
          "output_type": "execute_result",
          "data": {
            "text/plain": [
              "Piecewise((x**2, x < 0), (x + 1, True))"
            ],
            "text/latex": "$\\displaystyle \\begin{cases} x^{2} & \\text{for}\\: x < 0 \\\\x + 1 & \\text{otherwise} \\end{cases}$"
          },
          "metadata": {},
          "execution_count": 1
        }
      ]
    },
    {
      "cell_type": "markdown",
      "source": [
        "You can plot the piecewise function above as you learned before as follows:"
      ],
      "metadata": {
        "id": "TZsLde81fqMh"
      }
    },
    {
      "cell_type": "code",
      "source": [
        "import sympy as sp\n",
        "x = sp.Symbol('x')\n",
        "f = sp.Piecewise((x**2, x < 0), (x + 1, x >= 0))\n",
        "sp.plot(f,(x,-5,5))"
      ],
      "metadata": {
        "colab": {
          "base_uri": "https://localhost:8080/",
          "height": 502
        },
        "id": "hlsh523Vf38j",
        "outputId": "c9a2c4a1-d58a-4557-8963-5faa1afcb4df"
      },
      "execution_count": null,
      "outputs": [
        {
          "output_type": "display_data",
          "data": {
            "text/plain": [
              "<Figure size 640x480 with 1 Axes>"
            ],
            "image/png": "[encoded data removed]"
          },
          "metadata": {}
        },
        {
          "output_type": "execute_result",
          "data": {
            "text/plain": [
              "<sympy.plotting.backends.matplotlibbackend.matplotlib.MatplotlibBackend at 0x79d778488fd0>"
            ]
          },
          "metadata": {},
          "execution_count": 2
        }
      ]
    },
    {
      "cell_type": "markdown",
      "source": [
        "**Task 26**   \n",
        "It is your turn now to learn about Heavyside function and plot it as we did in the previous example."
      ],
      "metadata": {
        "id": "NjCCzJWkgAHd"
      }
    },
    {
      "cell_type": "code",
      "source": [
        "## write your code below\n"
      ],
      "metadata": {
        "id": "psiXa3fxgT1V"
      },
      "execution_count": null,
      "outputs": []
    },
    {
      "cell_type": "markdown",
      "source": [
        "<details>\n",
        "<summary>Click to reveal answer</summary>\n",
        "\n",
        "```python\n",
        "import sympy as sp\n",
        "x = sp.Symbol('x')\n",
        "f = sp.Piecewise((0, x < 0), (1, x >= 0))\n",
        "sp.plot(f,(x,-5,5))\n",
        "```\n",
        "</details>"
      ],
      "metadata": {
        "id": "o53OqFEugnoN"
      }
    },
    {
      "cell_type": "markdown",
      "source": [
        "## Laplace Transform In SymPy\n",
        "The Laplace transform is a powerful integral transform used in mathematics and engineering to convert a function of time (often denoted as\n",
        "$f(t)$) into a function of a complex variable (usually denoted as\n",
        "$s$). It is particularly useful for analyzing linear time-invariant systems, solving differential equations, and handling initial value problems."
      ],
      "metadata": {
        "id": "nVKDIvVuO-U0"
      }
    },
    {
      "cell_type": "markdown",
      "source": [
        "### Definition\n",
        "The Laplace transform of a function\n",
        "$f(t)$ is defined as:\n",
        "$$\\mathscr{L}\\{f(t)\\}=F(s)= \\int_0^∞e^{-st}f(t)dt$$\n",
        "Where:\n",
        "\n",
        "$t$ is the time variable.   \n",
        "$s$ is a complex frequency variable,\n",
        "$s = σ + j \\omega$ (with $\\sigma$ and $\\omega$ being real numbers).   \n",
        "The integral runs from 0 to $∞$, making it suitable for analyzing systems that start at $t=0$."
      ],
      "metadata": {
        "id": "Kghfrdna0C66"
      }
    },
    {
      "cell_type": "markdown",
      "source": [
        "###Applications\n",
        "\n",
        "- Solving Differential Equations: The Laplace transform simplifies the process of solving linear ordinary differential equations by transforming them into algebraic equations.\n",
        "- Control Systems: It helps in the analysis and design of control systems in engineering.\n",
        "- Signal Processing: Used to analyze linear systems and signals, particularly in the context of filters and system response."
      ],
      "metadata": {
        "id": "dvDv8oGPz4tG"
      }
    },
    {
      "cell_type": "markdown",
      "source": [
        "### Properties\n",
        "Some important properties of the Laplace transform include:\n",
        "\n",
        "- Linearity:\n",
        "$$\\mathscr{L}\\{af(t)+b g(t)\\} = 𝑎𝐹(𝑠) + 𝑏𝐺(𝑠)$$\n",
        "\n",
        "- Time Shifting:\n",
        "$$\\mathscr{L}\\{f(t-a).θ(t-a)\\}=e^{-as}F(s)$$\n",
        "\n",
        "- Differentiation:\n",
        "$$ \\mathscr{L}\\{f'(t)\\}=sF(s)-f(0)$$"
      ],
      "metadata": {
        "id": "NVDuS4Q2zxxz"
      }
    },
    {
      "cell_type": "markdown",
      "source": [
        "In SymPy, you can compute the Laplace transform using the `sp.laplace_transform()` function as it is shown in the example below for the function:\n",
        "$$f(t)=e^{at}$$"
      ],
      "metadata": {
        "id": "C11mSsGl4qHe"
      }
    },
    {
      "cell_type": "code",
      "source": [
        "import sympy as sp\n",
        "# Define the symbols\n",
        "t, s, a = sp.symbols('t s a')\n",
        "f = sp.exp(a*t)\n",
        "sp.laplace_transform(f, t, s)[0]\n"
      ],
      "metadata": {
        "colab": {
          "base_uri": "https://localhost:8080/",
          "height": 52
        },
        "id": "Nfk8JN5U5DW2",
        "outputId": "e41d9fa5-7d6b-4755-a523-299d66697d78"
      },
      "execution_count": null,
      "outputs": [
        {
          "output_type": "execute_result",
          "data": {
            "text/plain": [
              "1/(-a + s)"
            ],
            "text/latex": "$\\displaystyle \\frac{1}{- a + s}$"
          },
          "metadata": {},
          "execution_count": 14
        }
      ]
    },
    {
      "cell_type": "markdown",
      "source": [
        "The output of `sp.laplace_trasform()` is a tuple of three values:\n",
        "$$(F, a, cond)$$\n",
        "- The first value is the transform of the function represented as $F(s)$. This is why we used the index [0] at the end of the last line in the code above to show the transform function.\n",
        "- The second value represents the region of convergence (ROC) for the Laplace transform. You do not need to know much about it at this stage.\n",
        "- The last value in the output tuple is the condition that specifies the assumptions under which the Laplace transform is valid. you do not need to know much about it at this stage as well."
      ],
      "metadata": {
        "id": "qr8dV88CYxsP"
      }
    },
    {
      "cell_type": "markdown",
      "source": [
        "**Task 27**   \n",
        "It is your turn now to find Laplace tranform of the following function:\n",
        "$$f(t)=t^2$$"
      ],
      "metadata": {
        "id": "eTW4kjsy-P1B"
      }
    },
    {
      "cell_type": "code",
      "source": [
        "## write your code below\n"
      ],
      "metadata": {
        "id": "AjH3NuPz-kzl"
      },
      "execution_count": null,
      "outputs": []
    },
    {
      "cell_type": "markdown",
      "source": [
        "<details>\n",
        "<summary>Click to reveal answer</summary>\n",
        "\n",
        "```python\n",
        "import sympy as sp\n",
        "# Define the symbols\n",
        "t, s, a = sp.symbols('t s a')\n",
        "f = t**2\n",
        "sp.laplace_transform(f, t, s)[0]\n",
        "```\n",
        "</details>"
      ],
      "metadata": {
        "id": "ausvF0vD-n2f"
      }
    },
    {
      "cell_type": "markdown",
      "source": [
        "**Task 28**   \n",
        "Find Laplace transform of $f(t)=sin(t)$"
      ],
      "metadata": {
        "id": "DhYnTbAx-_tO"
      }
    },
    {
      "cell_type": "code",
      "source": [
        "## write your code below\n",
        "\n"
      ],
      "metadata": {
        "id": "EJPSyLwd_SOP"
      },
      "execution_count": null,
      "outputs": []
    },
    {
      "cell_type": "markdown",
      "source": [
        "<details>\n",
        "<summary>Click to reveal answer</summary>\n",
        "\n",
        "```python\n",
        "import sympy as sp\n",
        "# Define the symbols\n",
        "t, s = sp.symbols('t s')\n",
        "f = sp.sin(t)\n",
        "sp.laplace_transform(f, t, s)[0]\n",
        "```\n",
        "</details>"
      ],
      "metadata": {
        "id": "BCsWqX5e_WzK"
      }
    },
    {
      "cell_type": "markdown",
      "source": [
        "**Task 29**   \n",
        "Find Laplace transform of $f(t)=a$"
      ],
      "metadata": {
        "id": "smlxnwwyBiuz"
      }
    },
    {
      "cell_type": "code",
      "source": [
        "## write your code below\n"
      ],
      "metadata": {
        "id": "Q-hbnIu9Bx0D"
      },
      "execution_count": null,
      "outputs": []
    },
    {
      "cell_type": "markdown",
      "source": [
        "<details>\n",
        "<summary>Click to reveal answer</summary>\n",
        "\n",
        "```python\n",
        "import sympy as sp\n",
        "# Define the symbols\n",
        "t, s, a = sp.symbols('t s a')\n",
        "f = a\n",
        "sp.laplace_transform(f, t, s)[0]\n",
        "```\n",
        "</details>"
      ],
      "metadata": {
        "id": "M4eNrB1iB9yI"
      }
    },
    {
      "cell_type": "markdown",
      "source": [
        "In similar manner you can find the inverse Laplace transform using the function `sp.inverse_laplace_transform()` as it is shown in the example below:"
      ],
      "metadata": {
        "id": "aCq8fRemCG9N"
      }
    },
    {
      "cell_type": "code",
      "source": [
        "import sympy as sp\n",
        "s, t, a = sp.symbols('s t a')\n",
        "F = 1/(s-a)\n",
        "sp.inverse_laplace_transform(F, s, t)\n"
      ],
      "metadata": {
        "colab": {
          "base_uri": "https://localhost:8080/",
          "height": 38
        },
        "id": "e-bYGpCXCZCy",
        "outputId": "7f517161-7170-40ef-ca2c-9e3e89224b50"
      },
      "execution_count": null,
      "outputs": [
        {
          "output_type": "execute_result",
          "data": {
            "text/plain": [
              "exp(a*t)*Heaviside(t)"
            ],
            "text/latex": "$\\displaystyle e^{a t} \\theta\\left(t\\right)$"
          },
          "metadata": {},
          "execution_count": 29
        }
      ]
    },
    {
      "cell_type": "markdown",
      "source": [
        "$\\theta(t)$ in the answer above represent the Heavy side function that we talk about previously which means that the inverse laplace transform is only valid for positive value in $t$."
      ],
      "metadata": {
        "id": "h05EUZwbC_ki"
      }
    },
    {
      "cell_type": "markdown",
      "source": [
        "**Task 30**   \n",
        "Find the inverse Laplace transform for the answers produced in task 28 and 29?"
      ],
      "metadata": {
        "id": "GGKFlz7hDq3Z"
      }
    },
    {
      "cell_type": "code",
      "source": [
        "## write your code below\n"
      ],
      "metadata": {
        "id": "Vwqn0BEZEFIv"
      },
      "execution_count": null,
      "outputs": []
    },
    {
      "cell_type": "markdown",
      "source": [
        "<details>\n",
        "<summary>Click to reveal answer</summary>\n",
        "\n",
        "```python\n",
        "import sympy as sp\n",
        "# Define the symbols\n",
        "t, s, a = sp.symbols('t s a')\n",
        "f1 = 1/(s**2+1)\n",
        "f2 = a/s\n",
        "display(sp.inverse_laplace_transform(f1,s,t))\n",
        "display(sp.inverse_laplace_transform(f2, s, t))\n",
        "```\n",
        "</details>"
      ],
      "metadata": {
        "id": "8KwyV8dFEz4j"
      }
    },
    {
      "cell_type": "markdown",
      "source": [
        "## Solving Differential Equation in SymPy"
      ],
      "metadata": {
        "id": "4PvmFMtiiKiT"
      }
    },
    {
      "cell_type": "markdown",
      "source": [
        "Differential equations are mathematical equations that relate a function to its derivatives. They play a crucial role in various fields such as physics, engineering, biology, and economics, as they describe systems that change over time or space.\n",
        "\n",
        "### Key Concepts\n",
        "1. **Definition**: A differential equation involves an unknown function and its derivatives. It can be classified based on the order of the highest derivative present.  \n",
        "For example, a differential equation of the first order can be written as:\n",
        "$$\\frac{dy}{dx}+y=e^x$$  \n",
        "In the above differential equation:   \n",
        "- $y$ is the unknown function.\n",
        "- $\\frac{dy}{dx}$ is the first derivative of $y$ with respect to x.   \n",
        "A second-order differential equation involves the second derivative of the unknown function such the following example:\n",
        "$$\\frac{d^2y}{dx^2}-3\\frac{dy}{dx}+2y=0$$\n",
        "In the above example:   \n",
        "- $y$ is the unknow function\n",
        "- $\\frac{dy}{dx}$ is the first derivative of $y$.\n",
        "- $\\frac{d^2y}{dx^2}$ is the second derivative of $y$.   \n",
        "\n",
        "2.**Types of Differential Equations**:   \n",
        "- Ordinary Differential Equations (ODEs): Involves functions of a single variable and their derivatives such as $\\frac{dy}{dx}=y$   \n",
        "- Partial Differential Equations (PDEs): Involves functions of multiple variables and their partial derivatives such as $\\frac{\\partial u}{\\partial t}=k\\frac{\\partial^2 u}{\\partial x^2}$\n",
        "\n",
        "3. **Solutions**: A solution to a differential equation is a function that satisfies the equation. Solutions can be explicit (given in a formula) or implicit (defined by a relationship).\n",
        "4. **Applications**: Differential equations model a wide range of phenomena, such as:\n",
        "    - Motion of objects (Newton's laws)\n",
        "    - Heat conduction (Fourier's law)"
      ],
      "metadata": {
        "id": "YGXPKQ5FdUT6"
      }
    },
    {
      "cell_type": "markdown",
      "source": [
        "\n",
        "Before you learn how to solve differential equation in sympy, you have to learn how to represent them in the first place. Let us take the first order differential equation as an example:   \n",
        "$$\\frac{df}{dx}-f(x)= e^{x}$$"
      ],
      "metadata": {
        "id": "PcpdtSu21UNZ"
      }
    },
    {
      "cell_type": "markdown",
      "source": [
        "To write the first order ODE above you need to do the following:   \n",
        "1. Define the unknown function $f$ as function of x\n",
        "2. Use `sp.Eq()` to write the two side of the ODE\n",
        "3. use `sp.Derivative()` or `sp.diff()` to write the unknown function $f$ in its first order derivative form.\n",
        "\n",
        "see the code below"
      ],
      "metadata": {
        "id": "gz-w68S7ychC"
      }
    },
    {
      "cell_type": "code",
      "source": [
        "import sympy as sp\n",
        "x = sp.Symbol('x')\n",
        "y = sp.symbols('f', cls=sp.Function)(x)\n",
        "ode = sp.Eq(sp.diff(f,x)-f, sp.exp(x))\n",
        "ode\n"
      ],
      "metadata": {
        "colab": {
          "base_uri": "https://localhost:8080/",
          "height": 68
        },
        "id": "YA4Ybonmw95Q",
        "outputId": "95a74804-1e1c-4cb0-a823-b723b01d3d67"
      },
      "execution_count": null,
      "outputs": [
        {
          "output_type": "execute_result",
          "data": {
            "text/plain": [
              "Eq(-Piecewise((0, x < 0), (1, True)), exp(x))"
            ],
            "text/latex": "$\\displaystyle - \\begin{cases} 0 & \\text{for}\\: x < 0 \\\\1 & \\text{otherwise} \\end{cases} = e^{x}$"
          },
          "metadata": {},
          "execution_count": 8
        }
      ]
    },
    {
      "cell_type": "markdown",
      "source": [
        "**Task 31**   \n",
        "It is your turn now to write the following differntial equation:   \n",
        "$$\\frac{dy}{dt}+t^2=5$$"
      ],
      "metadata": {
        "id": "3yGn1esozCjt"
      }
    },
    {
      "cell_type": "code",
      "source": [
        "## write your code below\n"
      ],
      "metadata": {
        "id": "bIHi9mzqyQRl"
      },
      "execution_count": null,
      "outputs": []
    },
    {
      "cell_type": "markdown",
      "source": [
        "<details>\n",
        "<summary>Click to reveal answer</summary>\n",
        "\n",
        "```python\n",
        "import sympy as sp\n",
        "t = sp.Symbol('t')\n",
        "y = sp.symbols('y', cls=sp.Function)(t)\n",
        "ode = sp.Eq(sp.diff(y,t)+t**2, 5)\n",
        "ode\n",
        "```\n",
        "</details>"
      ],
      "metadata": {
        "id": "Q-EazLqWhO7v"
      }
    },
    {
      "cell_type": "markdown",
      "source": [
        "To find the general solution to a differential equation in sympy, you need to use the function `sp.dsolve()` as it is shown in the example below"
      ],
      "metadata": {
        "id": "Xf3WOLpo22rr"
      }
    },
    {
      "cell_type": "code",
      "source": [
        "import sympy as sp\n",
        "x = sp.Symbol('x')\n",
        "f = sp.Function('f')(x)\n",
        "ode = sp.Eq(sp.diff(f,x)-f, sp.exp(x))\n",
        "sp.dsolve(ode)"
      ],
      "metadata": {
        "colab": {
          "base_uri": "https://localhost:8080/",
          "height": 39
        },
        "id": "l85PGwEZ3Mr4",
        "outputId": "1dcdfc83-b04c-48cf-9f9d-1c0097ad228b"
      },
      "execution_count": null,
      "outputs": [
        {
          "output_type": "execute_result",
          "data": {
            "text/plain": [
              "Eq(f(x), (C1 + x)*exp(x))"
            ],
            "text/latex": "$\\displaystyle f{\\left(x \\right)} = \\left(C_{1} + x\\right) e^{x}$"
          },
          "metadata": {},
          "execution_count": 10
        }
      ]
    },
    {
      "cell_type": "markdown",
      "source": [
        "$C_1$ in the result above represent the integration factor of the solution since we did not specify the initial condition of the first order ODE."
      ],
      "metadata": {
        "id": "CySX4eBlioeX"
      }
    },
    {
      "cell_type": "markdown",
      "source": [
        "**Task 32**   \n",
        "It is your turn to solve the ODE equation that you wrote in **task 31**"
      ],
      "metadata": {
        "id": "KJqCROiWdQIn"
      }
    },
    {
      "cell_type": "code",
      "source": [
        "## write your solution below\n"
      ],
      "metadata": {
        "id": "VZiJoDToia4N"
      },
      "execution_count": null,
      "outputs": []
    },
    {
      "cell_type": "markdown",
      "source": [
        "<details>\n",
        "<summary>Click to reveal answer</summary>\n",
        "\n",
        "```python\n",
        "import sympy as sp\n",
        "t = sp.Symbol('t')\n",
        "y = sp.symbols('y', cls=sp.Function)(t)\n",
        "ode = sp.Eq(sp.diff(y,t)+t**2, 5)\n",
        "sp.dsolve(ode)\n",
        "```\n",
        "</details>"
      ],
      "metadata": {
        "id": "gn9iHDlRjIYI"
      }
    },
    {
      "cell_type": "markdown",
      "source": [
        "If you have the initial condtion of the ODE:\n",
        "$$\\frac{df}{dx}-f(x)= e^{x}$$\n",
        "$$ f(0)=3$$\n",
        "\n",
        "SymPy will help you find the particular solution to the ODE as follows:"
      ],
      "metadata": {
        "id": "896SKGzLjs5D"
      }
    },
    {
      "cell_type": "code",
      "source": [
        "import sympy as sp\n",
        "x = sp.Symbol('x')\n",
        "f = sp.Function('f')(x)\n",
        "ode = sp.Eq(sp.diff(f,x)-f, sp.exp(x))\n",
        "sp.dsolve(ode,ics={f.subs(x,0):3})"
      ],
      "metadata": {
        "colab": {
          "base_uri": "https://localhost:8080/",
          "height": 39
        },
        "id": "Mmbb0ldekh2Q",
        "outputId": "64c1636c-0192-4534-dca8-fa31e71eaabe"
      },
      "execution_count": null,
      "outputs": [
        {
          "output_type": "execute_result",
          "data": {
            "text/plain": [
              "Eq(f(x), (x + 3)*exp(x))"
            ],
            "text/latex": "$\\displaystyle f{\\left(x \\right)} = \\left(x + 3\\right) e^{x}$"
          },
          "metadata": {},
          "execution_count": 12
        }
      ]
    },
    {
      "cell_type": "markdown",
      "source": [
        "**Task 33**   \n",
        "It is your turn to solve the differential equation in **task 31** at the condtion $y(3)=0$"
      ],
      "metadata": {
        "id": "f1CiYpv2qXcv"
      }
    },
    {
      "cell_type": "code",
      "source": [
        "  ## write your code below\n"
      ],
      "metadata": {
        "id": "puPwY7Hcqrya"
      },
      "execution_count": null,
      "outputs": []
    },
    {
      "cell_type": "markdown",
      "source": [
        "<details>\n",
        "<summary>Click to reveal answer</summary>\n",
        "\n",
        "```python\n",
        "import sympy as sp\n",
        "t = sp.Symbol('t')\n",
        "y = sp.symbols('y', cls=sp.Function)(t)\n",
        "ode = sp.Eq(sp.diff(y,t)+t**2, 5)\n",
        "sp.dsolve(ode,ics={y.subs(t,3):0})\n",
        "```\n",
        "</details>"
      ],
      "metadata": {
        "id": "tFc65px2rKk0"
      }
    },
    {
      "cell_type": "markdown",
      "source": [
        "**Challenge I**   \n",
        "Consider a well-mixed tank that has a volume of V=100L (liters) and initially contains water at a temperature of $T_0=20°C$. Water enters the tank at a mass flow rate of 10 kg/min with a temperature of $T_{in}=50°C$. The mixed water leaves the tank at the same mass flowrate.   \n",
        "we want to model the temperature of the water in the tank over time.  \n",
        "\n",
        "**Governing equation**:\n",
        "$$\\frac{dT}{dt}=\\frac{m}{\\rho V}(T_{in}-T(t))$$\n",
        "\n",
        "Where:   \n",
        "\n",
        "1. $T(t)$ is the temperature of the mixed water in the tank at time t.\n",
        "2. $m$ is the mass flowrate in kg/min\n",
        "3. $V$ is the volume of the tank\n",
        "\n",
        "**Inital conditions**:   \n",
        "at time t=0 the initial temperature of the water in the tank is:\n",
        "$$T(0)=T_0=20°C$$\n",
        "\n",
        "1. Use SymPy to solve the ordinary differential equation for the temperature of the water in the tank over time.\n",
        "2. Plot the temperature profile over time for the temperature inside the tank."
      ],
      "metadata": {
        "id": "Evx13jlQsF6R"
      }
    },
    {
      "cell_type": "code",
      "source": [
        "## write you code below"
      ],
      "metadata": {
        "id": "mEz_g8nExTsT"
      },
      "execution_count": null,
      "outputs": []
    },
    {
      "cell_type": "markdown",
      "source": [
        "<details>\n",
        "<summary>Click to reveal answer</summary>\n",
        "\n",
        "```python\n",
        "import sympy as sp\n",
        "\n",
        "# Define symbols\n",
        "t = sp.symbols('t')\n",
        "T = sp.Function('T')(t)\n",
        "m = 5  # mass flow rate in kg/min\n",
        "V = 100   # Volume of the tank in L\n",
        "rho = 1  # Density of water in kg/L\n",
        "T_in = 50  # Inflow temperature in degrees Celsius\n",
        "\n",
        "# Define the ODE for temperature dynamics\n",
        "ode = sp.Eq(T.diff(t), m / (rho*V) * (T_in - T))\n",
        "\n",
        "# Solve the ODE\n",
        "gen_sol=sp.dsolve(ode, T)\n",
        "display(\"General solution:\",gen_sol)\n",
        "\n",
        "# Define initial condition\n",
        "T0 = 20  # Initial temperature\n",
        "\n",
        "# Apply initial conditions\n",
        "model=sp.dsolve(ode, ics={T.subs(t, 0): T0})\n",
        "display(\"Tank temperature model:\",model)\n",
        "\n",
        "# ploting temperature profile\n",
        "sp.plot(model.rhs,(t,0,100))\n",
        "```\n",
        "</details>"
      ],
      "metadata": {
        "id": "MOtYrsl2MXJS"
      }
    }
  ]
}