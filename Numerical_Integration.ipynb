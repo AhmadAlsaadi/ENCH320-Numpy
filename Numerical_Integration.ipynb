{
 "cells": [
  {
   "cell_type": "markdown",
   "metadata": {
    "id": "I4vuSgQ782lc"
   },
   "source": [
    "# Numericval Integration"
   ]
  },
  {
   "cell_type": "markdown",
   "metadata": {
    "id": "Lp7VVkTU88iZ"
   },
   "source": [
    "Numerical integration is a crucial technique in applied mathematics and computational science used to approximate the value of definite integrals. it refers to the methods for calculating the approximate value of integrals when they cannot be solved analytically. It  is widely used in various fields such as physics, engineering, statistics, and finance, where evaluating integrals is essential for modeling and analysis. It is particularly useful in cases where:\n",
    "\n",
    "- The function is complex or does not have a closed-form expression.\n",
    "- The function has singularities.   \n",
    "\n",
    "The definite integral of a function $f(x)$ from `a` to `b` is given by:  \n",
    "$$\\int^b_a f(x)dx$$\n",
    "This represents the area under the curve $f(x)$ from $x=a$ to $x=b$.   \n"
   ]
  },
  {
   "cell_type": "markdown",
   "metadata": {},
   "source": [
    "<div>\n",
    "<center>\n",
    "<img src=\"https://drive.google.com/uc?id=1WuuqUOcs1sFggMX3tV9qwkjiZ_g2iStk\" width=70%>\n",
    "</div>"
   ]
  },
  {
   "cell_type": "markdown",
   "metadata": {
    "id": "DsmDipcx_aSV"
   },
   "source": [
    "\n",
    "The goal of numerical integration is to find an approximate value `I` for the integral, often expressed as:\n",
    "$$I≈\\int^b_a f(x)dx$$\n",
    "There are several methods to approximate the area under the curve which include:   \n",
    "- Rectangle Method (curve approximation with constant function)\n",
    "- Trapezoidal Rule (curve approximation with linear function).   \n",
    "- Simpson's Rule (curve approximation with 2nd order polynomial function).    \n"
   ]
  },
  {
   "cell_type": "markdown",
   "metadata": {
    "id": "wdB9ZpTGCDdd"
   },
   "source": [
    "## Rectangle Method"
   ]
  },
  {
   "cell_type": "markdown",
   "metadata": {
    "id": "OB-3TNl8CO8G"
   },
   "source": [
    "The simplest method involves approximating the area under the curve using rectangles which includes the following steps:   \n",
    "**Step one**: Divide the interval $[a,b]$ into $n$ equal subintervals of width $\\Delta x=\\frac{b-a}{n}$ which represent the widths of each rectangle you want to calculate its area.\n",
    "\n"
   ]
  },
  {
   "cell_type": "markdown",
   "metadata": {
    "id": "3zl-26YIIkel"
   },
   "source": [
    "An interval is defined by two endpoints, say\n",
    "𝑎 and 𝑏. For example, if 𝑎 = 0 and 𝑏 = 10, the interval is [0,10]. Decide how many equal parts (sub-intervals) you want to divide the interval into. Let’s call this number 𝑛. For example, if 𝑛 = 5, you will divide the interval into 5 equal parts. The width of each sub-interval, denoted as Δ𝑥, can be calculated using the formula:\n",
    "$$\\Delta x =\\frac{b-a}{n}$$\n",
    "For our example with\n",
    "𝑎 = 0 and 𝑏 =10:\n",
    "$$\\Delta x = \\frac{10-0}{5}=2$$\n",
    "\n"
   ]
  },
  {
   "cell_type": "markdown",
   "metadata": {
    "id": "FxtupMOnYqo1"
   },
   "source": [
    "<div>\n",
    "<center>\n",
    "<img src=\"https://drive.google.com/uc?id=10vwbKSEnsMgqYeen7BCbpxm1yZmjeoN3\" width=50%>\n",
    "</div>\n"
   ]
  },
  {
   "cell_type": "markdown",
   "metadata": {
    "id": "GA-TuhMcFbED"
   },
   "source": [
    "**Task 1**     \n",
    "A. Write a function named `dx` that takes two endpoints 𝑎, 𝑏, and the number of sub-intervals 𝑛 as inputs, and returns the width of each sub-interval Δ𝑥?   \n",
    "B. Test your function on dividing [10,30] into 10 sub-interval?"
   ]
  },
  {
   "cell_type": "code",
   "execution_count": 1,
   "metadata": {
    "id": "NOlC0V5pLG6B"
   },
   "outputs": [],
   "source": [
    "## write your code below for part A\n"
   ]
  },
  {
   "cell_type": "markdown",
   "metadata": {
    "id": "z30per9RNk62"
   },
   "source": [
    "<details>\n",
    "<summary>Click to reveal answer</summary>\n",
    "\n",
    "```python\n",
    "def dx(a,b,n):\n",
    "    return (b-a)/n\n",
    "```\n",
    "</details>"
   ]
  },
  {
   "cell_type": "code",
   "execution_count": null,
   "metadata": {
    "id": "g-4dDBbzOuAg"
   },
   "outputs": [],
   "source": [
    "## write your code below for Part B"
   ]
  },
  {
   "cell_type": "markdown",
   "metadata": {
    "id": "XJCTv1w8OyoQ"
   },
   "source": [
    "<details>\n",
    "<summary>Click to reveal answer</summary>\n",
    "\n",
    "```python\n",
    "dx(0,10,5)\n",
    "```\n",
    "</details>"
   ]
  },
  {
   "cell_type": "markdown",
   "metadata": {
    "id": "2iwbsR59IiMP"
   },
   "source": [
    "\n",
    "**Step two**: Choose a sample point in each subinterval (left, middle, right).\n"
   ]
  },
  {
   "cell_type": "markdown",
   "metadata": {
    "id": "C_SC0d1lPQva"
   },
   "source": [
    "The endpoints of the sub-intervals can be found by starting at\n",
    "𝑎 and adding Δ𝑥 repeatedly:   \n",
    "- First sub-interval: [ 0 , 2]\n",
    "- Second sub-interval: [ 2 , 4]\n",
    "- Third sub-interval: [4 , 6]\n",
    "- Fourth sub-interval: [6 , 8]\n",
    "- Fifth sub-interval: [8 , 10]"
   ]
  },
  {
   "cell_type": "markdown",
   "metadata": {
    "id": "i4Dodv9aQMmr"
   },
   "source": [
    "**Task 2**   \n",
    "A. Write a function named sub_interval that generates sub-intervals given 𝑎 , 𝑏, and 𝑛?   \n",
    "B. Test your function on the interval [10,30] with 10 intervals?"
   ]
  },
  {
   "cell_type": "code",
   "execution_count": null,
   "metadata": {
    "id": "kMde88qAQrD6"
   },
   "outputs": [],
   "source": [
    "## write your code below for part A\n"
   ]
  },
  {
   "cell_type": "markdown",
   "metadata": {
    "id": "xh8X8g-HRLVa"
   },
   "source": [
    "<details>\n",
    "<summary>Click to reveal answer</summary>\n",
    "\n",
    "```python\n",
    "def sub_interval(a,b,n):\n",
    "    width=(b-a)/n\n",
    "    sub_interval=[]\n",
    "    for i in range(n):\n",
    "        sub_interval.append([a+i*width,a+(i+1)*width])\n",
    "    return sub_interval\n",
    "```\n",
    "</details>"
   ]
  },
  {
   "cell_type": "code",
   "execution_count": null,
   "metadata": {
    "id": "Tz4RaVhiRnEm"
   },
   "outputs": [],
   "source": [
    "## write your code below for part B\n"
   ]
  },
  {
   "cell_type": "markdown",
   "metadata": {
    "id": "1EF32PvmRsjQ"
   },
   "source": [
    "<details>\n",
    "<summary>Click to reveal answer</summary>\n",
    "\n",
    "```python\n",
    "sub_interval(10,30,10)\n",
    "```\n",
    "</details>"
   ]
  },
  {
   "cell_type": "markdown",
   "metadata": {
    "id": "KSt2SppVPO7a"
   },
   "source": [
    "\n",
    "\n",
    "**Step three**: Calculate the height of each rectangle by calculating f(x) at a point in each interval.\n",
    "\n"
   ]
  },
  {
   "cell_type": "markdown",
   "metadata": {
    "id": "XP_7w83jTd08"
   },
   "source": [
    "Each rectangle has a width equal to a subinterval of the domain and a height equal to the function value at a specific point within that subinterval (could be taken as the left endpoint of the interval, the middle point or the right endpoint)."
   ]
  },
  {
   "cell_type": "markdown",
   "metadata": {
    "id": "fjeotmVWQ9xz"
   },
   "source": [
    "<div style=\"display:flex\">\n",
    "<img src='https://drive.google.com/uc?id=1oxkGcset-XbwpCIMQd5R7n49hH91wqKv' width=33%>\n",
    "<img src='https://drive.google.com/uc?id=1-7X7CMGuC4Qr114MToAQXFpCjKpSRVKY' width=33%>\n",
    "<img src='https://drive.google.com/uc?id=1jaV__upWIgImR6_UlkNA_qXHkshMicGH' width=33%>\n",
    "</div>"
   ]
  },
  {
   "cell_type": "markdown",
   "metadata": {
    "id": "U5zdNQnwVBds"
   },
   "source": [
    "**task 3**   \n",
    "A. write a python function named height that evaluate and return the value of a function f at one of three points within an interval [a,b] (at a or at b or at middle point of [a,b]). Use an optional parameter `point` that specify which point should the function be evaluate at.   \n",
    "B. Test your function on $f(x)=x^2+2$ within the interval [0,3[?"
   ]
  },
  {
   "cell_type": "code",
   "execution_count": null,
   "metadata": {
    "id": "c0_vz3UcXHKb"
   },
   "outputs": [],
   "source": [
    "## write your code below for part A\n"
   ]
  },
  {
   "cell_type": "markdown",
   "metadata": {
    "id": "zdF9aUCHXM3l"
   },
   "source": [
    "<details>\n",
    "<summary>Click to reveal answer</summary>\n",
    "\n",
    "```python\n",
    "def height(f,a,b,point=\"m\"):\n",
    "    if point==\"l\":\n",
    "        return f(a)\n",
    "    elif point==\"r\":\n",
    "        return f(b)\n",
    "    else:\n",
    "        return f((a+b)/2)\n",
    "```\n",
    "</details>"
   ]
  },
  {
   "cell_type": "code",
   "execution_count": null,
   "metadata": {
    "id": "6zmEMnp7XNti"
   },
   "outputs": [],
   "source": [
    "## write your code below for part B.\n"
   ]
  },
  {
   "cell_type": "markdown",
   "metadata": {
    "id": "1aJyq7T-X44z"
   },
   "source": [
    "<details>\n",
    "<summary>Click to reveal answer</summary>\n",
    "\n",
    "```python\n",
    "height(lambda x:x**2+2,0,3)\n",
    "height(lambda x:x**2+2,0,3,point=\"l\")\n",
    "height(lambda x:x**2+2,0,3,point=\"r\")\n",
    "```\n",
    "</details>"
   ]
  },
  {
   "cell_type": "markdown",
   "metadata": {
    "id": "CagD_-S8TcsS"
   },
   "source": [
    "\n",
    "**Step four**: Calculate the area of each rectangle and sum them up to find the approximate area under the curve from `a` to `b`.   \n",
    "\n",
    "Since the width is the same for all rectangles which equal the width of the sub-nterval and the height is constant within its sub-interval when approximate the area under the curve as:\n",
    "$$\\sum^n_{i=1}\\Delta x.RH_i=\\Delta x(RH_1+RH_2+RH_3+\\cdots+RH_n)$$\n",
    "\n",
    "where,   \n",
    "RH is the hight of the rectangle in each sub-interval."
   ]
  },
  {
   "cell_type": "markdown",
   "metadata": {
    "id": "_Q_Y5fVXhJ49"
   },
   "source": [
    "**Task 4**   \n",
    "A. Write a python function named rect_method which implement the numerical integration with rectangle method?   \n",
    "B. Use SymPy to calculate integral of $f(x)=x^2+2$ on the interval [0,5]?   \n",
    "C. Use your function that you created in part A to calculate the integral of the same function in part B?   \n",
    "D. Vary the point parameter in your function and find which point option would give better result?   \n",
    "E. Vary the number of sub-interval and see how this variation would affect the accuracy of the result?"
   ]
  },
  {
   "cell_type": "code",
   "execution_count": null,
   "metadata": {
    "id": "VNBW6hsui3Zu"
   },
   "outputs": [],
   "source": [
    "## write your code below for part A"
   ]
  },
  {
   "cell_type": "code",
   "execution_count": null,
   "metadata": {
    "id": "ja-26o6ui9kn"
   },
   "outputs": [],
   "source": [
    "## write your code below for part B"
   ]
  },
  {
   "cell_type": "code",
   "execution_count": null,
   "metadata": {
    "id": "krABxOMmjBc7"
   },
   "outputs": [],
   "source": [
    "## write your code below for part C"
   ]
  },
  {
   "cell_type": "code",
   "execution_count": null,
   "metadata": {
    "id": "Sl3Ygss8jIK6"
   },
   "outputs": [],
   "source": [
    "## write your code below for part D"
   ]
  },
  {
   "cell_type": "code",
   "execution_count": null,
   "metadata": {
    "id": "pCoBgVcejOS8"
   },
   "outputs": [],
   "source": [
    "## write your code below for part E"
   ]
  },
  {
   "cell_type": "markdown",
   "metadata": {
    "id": "JcE1Y7XN0Wqt"
   },
   "source": [
    "**Task 5**   \n",
    "Write a function that use Numpy to do the same task that you did in task 4?"
   ]
  },
  {
   "cell_type": "code",
   "execution_count": null,
   "metadata": {
    "id": "_FCHXAhq2oju"
   },
   "outputs": [],
   "source": [
    "## write your code below\n"
   ]
  },
  {
   "cell_type": "markdown",
   "metadata": {
    "id": "XUc_7_49m4Dp"
   },
   "source": [
    "<details>\n",
    "<summary>Click to reveal answer</summary>\n",
    "\n",
    "```python\n",
    "import numpy as np\n",
    "def rect_np(f,a,b,n,point=\"m\"):\n",
    "    x,dx=np.linspace(a,b,n+1,retstep=True)\n",
    "    if point==\"l\":\n",
    "        return dx*np.sum(f(x[:-1]))\n",
    "    elif point==\"r\":\n",
    "        return dx*np.sum(f(x[1:]))\n",
    "    return dx*np.sum(f((x[:-1]+x[1:])/2))\n",
    "rect_np(lambda x: x**2+2,0,5,1000,\"m\")\n",
    "```\n",
    "</details>"
   ]
  },
  {
   "cell_type": "markdown",
   "metadata": {
    "id": "ZCiNE_tocslB"
   },
   "source": [
    "## Trapezoidal Rule"
   ]
  },
  {
   "cell_type": "markdown",
   "metadata": {
    "id": "ZRuxW7a3czYM"
   },
   "source": [
    "The trapezoidal rule approximates the area under a curve by dividing it into trapezoids rather than rectangles.For a function\n",
    "𝑓(𝑥) defined on the interval [𝑎,𝑏], the trapezoidal rule can be expressed as:\n",
    "$$I≈∫_a^bf(x)dx=\\frac{b-a}{2}(f(a)-f(b))$$"
   ]
  },
  {
   "cell_type": "markdown",
   "metadata": {
    "id": "eCzoBO0v2SAG"
   },
   "source": [
    "<div>\n",
    "<center>\n",
    "<img src=\"https://drive.google.com/uc?id=1m7CKGOpX7SKs7mIvRCR0A7-kgGq-HeO7\" width=40%>\n",
    "</div>\n",
    "<br>\n",
    "This formula represents the area of a single trapezoid formed by the endpoints 𝑎 and 𝑏 of the interval."
   ]
  },
  {
   "cell_type": "markdown",
   "metadata": {
    "id": "gpNE0yVE2IBH"
   },
   "source": [
    "The area 𝐴 of a trapezoid can be calculated using the formula:\n",
    "$$A=\\frac{1}{2}(b_1+b_2)\\cdot h$$\n",
    "where $b_1$ and $b_2$ are the lengths of the two parallel sides (bases) and h is the height. For the trapezoid formed by $f(a)$ and $f(b)$:\n",
    "- **Bases**: $b_1=f(a)$  and $b_2=f(a)$\n",
    "- **Height**: $h = b-a$   \n",
    "\n",
    "Thus, the area of the trapezoid is:\n",
    "$$A=\\frac{1}{2}(f(a)+f(b))\\cdot (b-a)$$"
   ]
  },
  {
   "cell_type": "markdown",
   "metadata": {
    "id": "dRhmWdxh6ZU3"
   },
   "source": [
    "For each subinterval $[x_i,x_{i+1}]$ where $x_i=a+i\\Delta x$ (for $i=0,1,2,\\cdots,n$) the trapezoidal rule can be applied:\n",
    "$$I≈\\sum_{i=0}^{n-1}\\frac{1}{2}(f(x_i)+f(x_{i+1}))\\Delta x$$\n",
    "\n",
    "The final approximation for the integral over\n",
    "[𝑎,𝑏] becomes:\n",
    "$$I≈\\frac{\\Delta x}{2}\\Bigg( f(a)+2\\sum_{i=1}^{n-1}f(x_i)+f(b)\\Bigg)$$"
   ]
  },
  {
   "cell_type": "markdown",
   "metadata": {
    "id": "CPvTie3iBjcp"
   },
   "source": [
    "<div>\n",
    "<center>\n",
    "<img src=\"https://drive.google.com/uc?id=1applngS145pkXT4qNOc2FkgEEjbCKRP2\" width=50%>\n",
    "</div>"
   ]
  },
  {
   "cell_type": "markdown",
   "metadata": {
    "id": "63YdovUi9xv4"
   },
   "source": [
    "**Task 6**   \n",
    "A. Write python function named trapezoid that implement numerical integration with trapezoidal rule?   \n",
    "B. Use your function that you created in part A to calculate the integral of $f(x)=x^2+2$ on the interval [0,5]?     \n",
    "C. Vary the number of sub-interval and see how this variation would affect the accuracy of the result?   \n",
    "D. Compare your function result with the function that you created in task 5?"
   ]
  },
  {
   "cell_type": "code",
   "execution_count": 1,
   "metadata": {
    "id": "PxB2BlgSS9_S"
   },
   "outputs": [],
   "source": [
    "## write your code below for part A\n"
   ]
  },
  {
   "cell_type": "markdown",
   "metadata": {
    "id": "7I5qayu3TQY6"
   },
   "source": [
    "<details>\n",
    "<summary>Click to reveal answer</summary>\n",
    "\n",
    "```python\n",
    "def trapezoid(f,a,b,n):\n",
    "    w=(b-a)/n\n",
    "    total_h = f(a)/2 + f(b)/2\n",
    "    for i in range(1,n):\n",
    "        total_h += f(a+w*i)\n",
    "    return total_h*w\n",
    "```\n",
    "</details>"
   ]
  },
  {
   "cell_type": "code",
   "execution_count": 3,
   "metadata": {
    "id": "nqEMPl8jTLuQ"
   },
   "outputs": [],
   "source": [
    "## write your code below for part B\n"
   ]
  },
  {
   "cell_type": "markdown",
   "metadata": {
    "id": "UgCV24cATbpW"
   },
   "source": [
    "<details>\n",
    "<summary>Click to reveal answer</summary>\n",
    "\n",
    "```python\n",
    "trapezoid(lambda x:x**2+2,0,5,100)\n",
    "```\n",
    "</details>"
   ]
  },
  {
   "cell_type": "code",
   "execution_count": null,
   "metadata": {
    "id": "bEL7eC-jTL8B"
   },
   "outputs": [],
   "source": [
    "## write your code below for part C"
   ]
  },
  {
   "cell_type": "code",
   "execution_count": null,
   "metadata": {
    "id": "otN9xLE0TMGl"
   },
   "outputs": [],
   "source": [
    "## write your code below for part D"
   ]
  },
  {
   "cell_type": "markdown",
   "metadata": {
    "id": "RlDbC-WYUwUb"
   },
   "source": [
    "**Task 7**   \n",
    "A. write python function named np_trapezoid that use Numpy array to do the numerical integration with trapezoidal rule?   \n",
    "B. Test your function on the function of task 6 part B?"
   ]
  },
  {
   "cell_type": "code",
   "execution_count": 22,
   "metadata": {
    "id": "_VOvWGQyVcGx"
   },
   "outputs": [],
   "source": [
    "## write your code below for part A\n"
   ]
  },
  {
   "cell_type": "markdown",
   "metadata": {
    "id": "RijiUlY-Vk4Y"
   },
   "source": [
    "<details>\n",
    "<summary>Click to reveal answer</summary>\n",
    "\n",
    "```python\n",
    "import numpy as np\n",
    "def np_trapezoid(f,a,b,n):\n",
    "    x,dx=np.linspace(a,b,n+1,retstep=True)\n",
    "    return dx*np.sum(np.concatenate([f(x[1:-1]),f(x[[0,-1]])/2]))\n",
    "```\n",
    "</details>"
   ]
  },
  {
   "cell_type": "code",
   "execution_count": 27,
   "metadata": {
    "id": "1k2HESUOVigr"
   },
   "outputs": [],
   "source": [
    "## write your code below for part B\n"
   ]
  },
  {
   "cell_type": "markdown",
   "metadata": {
    "id": "beGRjPhTVluc"
   },
   "source": [
    "<details>\n",
    "<summary>Click to reveal answer</summary>\n",
    "\n",
    "```python\n",
    "np_trapezoid(lambda x:x**2+2,0,5,100)\n",
    "```\n",
    "</details>\n"
   ]
  },
  {
   "cell_type": "markdown",
   "metadata": {
    "id": "BjgiN8Jwak43"
   },
   "source": [
    "## Simpson's Rule 1/3"
   ]
  },
  {
   "cell_type": "markdown",
   "metadata": {
    "id": "_XnvW22Sa2IG"
   },
   "source": [
    "Simpson's Rule approximates the integral of a function by fitting parabolas to segments of the function. The $\\frac{1}{3}$ version specifically applies when the interval is divided into an even number of subintervals. For a function $f(x)$ defined on the interval [a,b], Simpson's Rule can be expressed as:\n",
    "$$I≈\\int^b_a f(x)dx≈\\frac{w}{3}\\Bigg(f(a)+4f(\\frac{a+b}{2})+f(b)\\Bigg)$$\n",
    "\n",
    "To approximate the area under the curve by a single parabola passing through the points $(a,f(a)),(b,f(b)),(\\frac{a+b}{2},f(\\frac{a+b}{2}))$ we will divide [a,b] into two subinterval, $w=\\frac{b-a}{n}$ where n=2, thus:\n",
    "$$I≈\\int^b_a f(x)dx≈\\frac{b-a}{6}\\Bigg(f(a)+4f(\\frac{a+b}{2})+f(b)\\Bigg)$$"
   ]
  },
  {
   "cell_type": "markdown",
   "metadata": {
    "id": "JVqMl2uo9Wgg"
   },
   "source": [
    "<div>\n",
    "<center>\n",
    "<img src=\"https://drive.google.com/uc?id=1C47Kb3aA_2qfm69S2coRCQM87ZpH156F\" width=40%>\n",
    "</div>"
   ]
  },
  {
   "cell_type": "markdown",
   "metadata": {
    "id": "giNIYkg1brpg"
   },
   "source": [
    "To improve accuracy, divide the interval [a,b] into n subintervals, where n is an even number. The width of each subinterval is:\n",
    "$$w=\\frac{b-a}{n}$$\n",
    "- $x_0=a$   \n",
    "- $x_0=a+w$   \n",
    "- $x_0=a+2w$   \n",
    "- $\\cdots$   \n",
    "- $x_n=b$   "
   ]
  },
  {
   "cell_type": "markdown",
   "metadata": {
    "id": "nla5jTrlLTEg"
   },
   "source": [
    "<div>\n",
    "<center>\n",
    "<img src=\"https://drive.google.com/uc?id=15h0m1OvRO8uaHhAyJrgg-m6y_1pI4ghs\" width=50%>\n",
    "</div>"
   ]
  },
  {
   "cell_type": "markdown",
   "metadata": {
    "id": "g76hnqzcH4p8"
   },
   "source": [
    "Applying Simpson's rule for each pair of subintervals (three poin) will give:\n",
    "$$I≈\\frac{w}{3}\\Bigg( f(x_0)+4f(x_1)+2f(x_2)+4f(f(x_3)+2f(x_4)+\\cdots+f(x_n)\\Bigg)$$"
   ]
  },
  {
   "cell_type": "markdown",
   "metadata": {
    "id": "s7gnMsSbMMMY"
   },
   "source": [
    "The final approximation for the integral over [a,b] becomes:\n",
    "$$I≈\\frac{w}{3}\\Bigg(f(a) + 4\\sum_{i=1,odd}^{n-1}f(x_i)+ 2\\sum_{i=2,even}^{n-2}f(x_i)+f(b)\\Bigg)$$"
   ]
  },
  {
   "cell_type": "markdown",
   "metadata": {
    "id": "1YytrmHwNRC0"
   },
   "source": [
    "**Task 8**   \n",
    "A. Write python function named simpson3 that implement numerical integration with Simpson's 1/3 rule?   \n",
    "B. Use your function that you created in part A to calculate the integral of $f(x)=x^2+2$ on the interval [0,5]?     \n",
    "C. Vary the number of sub-interval and see how this variation would affect the accuracy of the result?   \n",
    "D. Compare your function result with the functions that you created in task 5 and 6?"
   ]
  },
  {
   "cell_type": "code",
   "execution_count": 29,
   "metadata": {
    "id": "zy40s1EfN2Uw"
   },
   "outputs": [],
   "source": [
    "## write your code below for part A\n"
   ]
  },
  {
   "cell_type": "markdown",
   "metadata": {
    "id": "N7P-8NIzOiTS"
   },
   "source": [
    "<details>\n",
    "<summary>Click to reveal answer</summary>\n",
    "\n",
    "```python\n",
    "def simpson3(f,a,b,n):\n",
    "    w=(b-a)/n\n",
    "    total_h = f(a) + f(b)\n",
    "    for i in range(1,n,2): total_h += 4 * f(a+w*i)\n",
    "    for j in range(2,n-1,2):total_h += 2 * f(a+w*j)\n",
    "    return w*total_h/3\n",
    "```\n",
    "</details>"
   ]
  },
  {
   "cell_type": "code",
   "execution_count": null,
   "metadata": {
    "id": "5MO-aOwDN8zq"
   },
   "outputs": [],
   "source": [
    "## write your code below for part B"
   ]
  },
  {
   "cell_type": "markdown",
   "metadata": {
    "id": "qI4hWrJuOWqV"
   },
   "source": [
    "<details>\n",
    "<summary>Click to reveal answer</summary>\n",
    "\n",
    "```python\n",
    "simpson3(lambda x:x**2+2,0,5,100)\n",
    "```\n",
    "</details>"
   ]
  },
  {
   "cell_type": "code",
   "execution_count": null,
   "metadata": {
    "id": "bzaxuaWqN84-"
   },
   "outputs": [],
   "source": [
    "## write your code below for part C"
   ]
  },
  {
   "cell_type": "code",
   "execution_count": null,
   "metadata": {
    "id": "GafwO4ybN8-y"
   },
   "outputs": [],
   "source": [
    "## write your code below for part D"
   ]
  },
  {
   "cell_type": "markdown",
   "metadata": {
    "id": "G1UiWyiDOwBk"
   },
   "source": [
    "**Task 9**   \n",
    "A. write python function named np_simpson3 that use Numpy array to do the numerical integration with simpson 1/3 rule?   \n",
    "B. Test your function on the function of task 8 part B?"
   ]
  },
  {
   "cell_type": "code",
   "execution_count": 33,
   "metadata": {
    "id": "fAvvzSNcPGaq"
   },
   "outputs": [],
   "source": [
    "## write your code below for part A\n"
   ]
  },
  {
   "cell_type": "markdown",
   "metadata": {
    "id": "RLXBCvE2RWq6"
   },
   "source": [
    "<details>\n",
    "<summary>Click to reveal answer</summary>\n",
    "\n",
    "```python\n",
    "import numpy as np\n",
    "def np_simpson3(f,a,b,n):\n",
    "    x,dx=np.linspace(a,b,n+1,retstep=True)\n",
    "    return dx/3*np.sum(np.concatenate([4*f(x[1:-1:2]),2*f(x[2:-2:2]),f(x[[0,-1]])]))\n",
    "np_simpson(lambda x: x**2+2,0,5,100)  \n",
    "```\n",
    "</details>"
   ]
  },
  {
   "cell_type": "code",
   "execution_count": 32,
   "metadata": {
    "id": "94GH2I9cPM9V"
   },
   "outputs": [],
   "source": [
    "## write your code below for part b\n"
   ]
  },
  {
   "cell_type": "markdown",
   "metadata": {
    "id": "JpHSkfmWRPVL"
   },
   "source": [
    "<details>\n",
    "<summary>Click to reveal answer</summary>\n",
    "\n",
    "```python\n",
    "np_simpson3(lambda x:x**2+2,0,5,100)\n",
    "```\n",
    "</details>"
   ]
  },
  {
   "cell_type": "markdown",
   "metadata": {
    "id": "GvZFX7BhTOuJ"
   },
   "source": [
    "**Task 10**   \n",
    "Use the `trapezoid()` function in Scipy library to approximate the integral of $f(x)=x^2+2$ on the interval [0,5]?"
   ]
  },
  {
   "cell_type": "code",
   "execution_count": 45,
   "metadata": {
    "id": "vjrN38EUTv2S"
   },
   "outputs": [],
   "source": [
    "## write your code below\n"
   ]
  },
  {
   "cell_type": "markdown",
   "metadata": {
    "id": "GeIDAX16WK2V"
   },
   "source": [
    "<details>\n",
    "<summary>Click to reveal answer</summary>\n",
    "\n",
    "```python\n",
    "import numpy as np\n",
    "from scipy.integrate import trapezoid\n",
    "x=np.linspace(0,5,100)\n",
    "y=x**2+2    \n",
    "trapezoid(y,x)\n",
    "```\n",
    "</details>"
   ]
  },
  {
   "cell_type": "markdown",
   "metadata": {
    "id": "wMoPZPWqWVUY"
   },
   "source": [
    "**Task 11**   \n",
    "Use the `simpson()` function in Scipy library to approximate the integral of $f(x)=x^2+2$ on the interval [0,5]?"
   ]
  },
  {
   "cell_type": "code",
   "execution_count": 50,
   "metadata": {
    "id": "v_ij7spWWlhj"
   },
   "outputs": [],
   "source": [
    "## write your code below\n"
   ]
  },
  {
   "cell_type": "markdown",
   "metadata": {
    "id": "clCroFTGXNpA"
   },
   "source": [
    "<details>\n",
    "<summary>Click to reveal answer</summary>\n",
    "\n",
    "```python\n",
    "import numpy as np\n",
    "from scipy.integrate import simpson\n",
    "x=np.linspace(0,5,100)\n",
    "y=x**2+2    \n",
    "simpson(y=y,x=x)\n",
    "```\n",
    "</details>"
   ]
  },
  {
   "cell_type": "markdown",
   "metadata": {},
   "source": [
    "# Numerical Differentiation"
   ]
  },
  {
   "cell_type": "markdown",
   "metadata": {},
   "source": [
    "Numerical differentiation is a technique used to estimate the derivative of a function using discrete data points rather than an analytical expression. This method is particularly useful when the function is complex, not explicitly known, or when only sampled data is available."
   ]
  },
  {
   "cell_type": "markdown",
   "metadata": {},
   "source": [
    "## What is Differentiation?"
   ]
  },
  {
   "cell_type": "markdown",
   "metadata": {},
   "source": [
    "Differentiation is the process of finding the derivative of a function, which represents the rate of change of the function with respect to its variable. For a function $f(x)$, the derivative $f'(x)$ is defined as:\n",
    "$$f'(x)=\\lim_{h→0}\\frac{f(x+h)-f(x)}{h}$$"
   ]
  },
  {
   "cell_type": "markdown",
   "metadata": {},
   "source": [
    "## Basic Concepts"
   ]
  },
  {
   "cell_type": "markdown",
   "metadata": {},
   "source": [
    "The derivative at a point gives the slope of the tangent line to the function at that point. It can be interpreted both geometrically and physically (as the instantaneous rate of change)."
   ]
  },
  {
   "cell_type": "markdown",
   "metadata": {},
   "source": [
    "<div>\n",
    "<center>\n",
    "<img src=\"https://drive.google.com/uc?id=15r_J7avu3H3Lry49pjzyHfiLJCs93JeT\" width=25%>\n",
    "</div>"
   ]
  },
  {
   "cell_type": "markdown",
   "metadata": {},
   "source": [
    "Numerical differentiation uses finite differences around a point rather than trying to find the limit near that point to approximate the derivative there. For a small values of $h$:   \n",
    "- **Forward Difference**:\n",
    "<div>\n",
    "<center>\n",
    "<img src=\"https://drive.google.com/uc?id=1S14NcovP-4_H1MTs9KMacBl75mGJBhHT\" width=50%>\n",
    "</div>\n",
    "$$f'(x)≈\\frac{f(x+h) -f(x)}{h}$$\n",
    "\n",
    "- **Backword Difference**:\n",
    "<div>\n",
    "<center>\n",
    "<img src=\"https://drive.google.com/uc?id=1Nyt6HJPARCsfIxwjuE2Jx8cLCON1MIM7\" width=50%>\n",
    "</div>\n",
    "\n",
    "$$f'(x)≈\\frac{f(x) -f(x-h)}{h}$$\n",
    "\n",
    "- **Centeral Difference**:\n",
    "<div>\n",
    "<center>\n",
    "<img src=\"https://drive.google.com/uc?id=1Aw-fHWnbXTBbbW1hbkLO83oqwghi_XzC\" width=50%>\n",
    "</div>\n",
    "$$f'(x)≈\\frac{f(x+h) -f(x-h)}{2h}$$"
   ]
  },
  {
   "cell_type": "markdown",
   "metadata": {},
   "source": [
    "**Task 1**   \n",
    "A. Write python function named fdiff that implement the forword differece which takes two parameters:   \n",
    "- f: function that we need to approximate its derivative\n",
    "- p: point that we want to find the derivative at.\n",
    "- h: step size.  \n",
    "\n",
    "B. Test your function for finding the derivative of $f(x)=x^2+2$ at $x=1$?   \n",
    "C. Compare your result with analytical solution to $f(x)=x^2+2$ at $x=1$?   \n",
    "D. Test the effect of the step size $h$ on your function accuracy?\n"
   ]
  },
  {
   "cell_type": "code",
   "execution_count": null,
   "metadata": {},
   "outputs": [],
   "source": [
    "## write your code below for part A"
   ]
  },
  {
   "cell_type": "code",
   "execution_count": null,
   "metadata": {},
   "outputs": [],
   "source": [
    "## write your code below for part B"
   ]
  },
  {
   "cell_type": "code",
   "execution_count": null,
   "metadata": {},
   "outputs": [],
   "source": [
    "## write your code below for part C"
   ]
  },
  {
   "cell_type": "code",
   "execution_count": null,
   "metadata": {},
   "outputs": [],
   "source": [
    "## write your code below for part D"
   ]
  },
  {
   "cell_type": "markdown",
   "metadata": {},
   "source": [
    "**Task 2**   \n",
    "Repeat task 1 for the backword differnce formula?"
   ]
  },
  {
   "cell_type": "code",
   "execution_count": null,
   "metadata": {},
   "outputs": [],
   "source": [
    "## write your code below for part A"
   ]
  },
  {
   "cell_type": "code",
   "execution_count": null,
   "metadata": {},
   "outputs": [],
   "source": [
    "## write your code below for part B"
   ]
  },
  {
   "cell_type": "code",
   "execution_count": null,
   "metadata": {},
   "outputs": [],
   "source": [
    "## write your code below for part C"
   ]
  },
  {
   "cell_type": "code",
   "execution_count": null,
   "metadata": {},
   "outputs": [],
   "source": [
    "## write your code below for part D"
   ]
  },
  {
   "cell_type": "markdown",
   "metadata": {},
   "source": [
    "**Task 3**   \n",
    "Repeat task 1 for the central differnce formula?  "
   ]
  },
  {
   "cell_type": "code",
   "execution_count": null,
   "metadata": {},
   "outputs": [],
   "source": [
    "## write your code below for part A"
   ]
  },
  {
   "cell_type": "code",
   "execution_count": null,
   "metadata": {},
   "outputs": [],
   "source": [
    "## write your code below for part B"
   ]
  },
  {
   "cell_type": "code",
   "execution_count": null,
   "metadata": {},
   "outputs": [],
   "source": [
    "## write your code below for part C"
   ]
  },
  {
   "cell_type": "code",
   "execution_count": null,
   "metadata": {},
   "outputs": [],
   "source": [
    "## write your code below for part D"
   ]
  },
  {
   "cell_type": "markdown",
   "metadata": {},
   "source": [
    "**Task 4**   \n",
    "A. Use your function `cdiff` to approximate the derivative of $f(x)=sin(x)$ at 100 points in the interval [0,$2\\pi$]? **Hint**: use numpy array for `p` parameter.      \n",
    "B. Prove that your approximate derivate obtained in part A lay on the curve $f(x)=cosx$ by Ploting your result in part A and $f(x)=cosx$ on single plot."
   ]
  },
  {
   "cell_type": "code",
   "execution_count": null,
   "metadata": {},
   "outputs": [],
   "source": [
    "## write your code below for part A\n"
   ]
  },
  {
   "cell_type": "markdown",
   "metadata": {},
   "source": [
    "<details>\n",
    "<summary>Click to reveal answer</summary>\n",
    "\n",
    "```python\n",
    "import numpy as np\n",
    "x=np.linspace(0,2*np.pi,100)\n",
    "cdiff(np.sin,x,0.01)\n",
    "```\n",
    "</details>"
   ]
  },
  {
   "cell_type": "code",
   "execution_count": null,
   "metadata": {},
   "outputs": [],
   "source": [
    "## write your code below for part B\n"
   ]
  },
  {
   "cell_type": "markdown",
   "metadata": {},
   "source": [
    "<details>\n",
    "<summary>Click to reveal answer</summary>\n",
    "\n",
    "```python\n",
    "import numpy as np\n",
    "import matplotlib.pyplot as plt\n",
    "x=np.linspace(0,2*np.pi,50)\n",
    "plt.plot(x,np.cos(x),color=\"r\")\n",
    "plt.scatter(x,cdiff(np.sin,x,0.01))\n",
    "```\n",
    "</details>"
   ]
  }
 ],
 "metadata": {
  "colab": {
   "provenance": []
  },
  "kernelspec": {
   "display_name": "Python 3 (ipykernel)",
   "language": "python",
   "name": "python3"
  },
  "language_info": {
   "codemirror_mode": {
    "name": "ipython",
    "version": 3
   },
   "file_extension": ".py",
   "mimetype": "text/x-python",
   "name": "python",
   "nbconvert_exporter": "python",
   "pygments_lexer": "ipython3",
   "version": "3.10.3"
  }
 },
 "nbformat": 4,
 "nbformat_minor": 4
}
