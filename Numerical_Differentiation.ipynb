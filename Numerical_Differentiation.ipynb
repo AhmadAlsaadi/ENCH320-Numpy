{
 "cells": [
  {
   "cell_type": "markdown",
   "metadata": {
    "id": "_mKGAkkTnR8T"
   },
   "source": [
    "# Numerical Differentiation"
   ]
  },
  {
   "cell_type": "markdown",
   "metadata": {
    "id": "WWrdBmExukIr"
   },
   "source": [
    "Numerical differentiation is a technique used to estimate the derivative of a function using discrete data points rather than an analytical expression. This method is particularly useful when the function is complex, not explicitly known, or when only sampled data is available."
   ]
  },
  {
   "cell_type": "markdown",
   "metadata": {
    "id": "Ib8DCmPUvHtC"
   },
   "source": [
    "## What is Differentiation?"
   ]
  },
  {
   "cell_type": "markdown",
   "metadata": {
    "id": "evS9uAarvUw3"
   },
   "source": [
    "Differentiation is the process of finding the derivative of a function, which represents the rate of change of the function with respect to its variable. For a function $f(x)$, the derivative $f'(x)$ is defined as:\n",
    "$$f'(x)=\\lim_{h→0}\\frac{f(x+h)-f(x)}{h}$$"
   ]
  },
  {
   "cell_type": "markdown",
   "metadata": {
    "id": "51Op5sKoymnk"
   },
   "source": [
    "## Basic Concepts"
   ]
  },
  {
   "cell_type": "markdown",
   "metadata": {
    "id": "XbkzmWF7yqD6"
   },
   "source": [
    "The derivative at a point gives the slope of the tangent line to the function at that point. It can be interpreted both geometrically and physically (as the instantaneous rate of change)."
   ]
  },
  {
   "cell_type": "markdown",
   "metadata": {
    "id": "AyyQP_2cyzfG"
   },
   "source": [
    "<div>\n",
    "<center>\n",
    "<img src=\"https://drive.google.com/uc?id=15r_J7avu3H3Lry49pjzyHfiLJCs93JeT\" width=25%>\n",
    "</div>"
   ]
  },
  {
   "cell_type": "markdown",
   "metadata": {
    "id": "WxDcrzZy0kR6"
   },
   "source": [
    "Numerical differentiation uses finite differences around a point rather than trying to find the limit near that point to approximate the derivative there. For a small values of $h$:   \n",
    "- **Forward Difference**:\n",
    "<div>\n",
    "<center>\n",
    "<img src=\"https://drive.google.com/uc?id=1S14NcovP-4_H1MTs9KMacBl75mGJBhHT\" width=50%>\n",
    "</div>\n",
    "$$f'(x)≈\\frac{f(x+h) -f(x)}{h}$$\n",
    "\n",
    "- **Backword Difference**:\n",
    "<div>\n",
    "<center>\n",
    "<img src=\"https://drive.google.com/uc?id=1Nyt6HJPARCsfIxwjuE2Jx8cLCON1MIM7\" width=50%>\n",
    "</div>\n",
    "\n",
    "$$f'(x)≈\\frac{f(x) -f(x-h)}{h}$$\n",
    "\n",
    "- **Centeral Difference**:\n",
    "<div>\n",
    "<center>\n",
    "<img src=\"https://drive.google.com/uc?id=1Aw-fHWnbXTBbbW1hbkLO83oqwghi_XzC\" width=50%>\n",
    "</div>\n",
    "$$f'(x)≈\\frac{f(x+h) -f(x-h)}{2h}$$"
   ]
  },
  {
   "cell_type": "markdown",
   "metadata": {
    "id": "p3DXPtx4561K"
   },
   "source": [
    "**Task 1**   \n",
    "A. Write python function named fdiff that implement the forword differece which takes two parameters:   \n",
    "- f: function that we need to approximate its derivative\n",
    "- p: point that we want to find the derivative at.\n",
    "- h: step size.  \n",
    "\n",
    "B. Test your function for finding the derivative of $f(x)=x^2+2$ at $x=1$?   \n",
    "C. Compare your result with analytical solution to $f(x)=x^2+2$ at $x=1$?   \n",
    "D. Test the effect of the step size $h$ on your function accuracy?\n"
   ]
  },
  {
   "cell_type": "code",
   "execution_count": null,
   "metadata": {
    "id": "0S7jdAuhnQyL"
   },
   "outputs": [],
   "source": [
    "## write your code below for part A"
   ]
  },
  {
   "cell_type": "code",
   "execution_count": null,
   "metadata": {
    "id": "LuYNYqVN8m4O"
   },
   "outputs": [],
   "source": [
    "## write your code below for part B"
   ]
  },
  {
   "cell_type": "code",
   "execution_count": null,
   "metadata": {
    "id": "U8kpBfxI8m8a"
   },
   "outputs": [],
   "source": [
    "## write your code below for part C"
   ]
  },
  {
   "cell_type": "code",
   "execution_count": null,
   "metadata": {
    "id": "OusRGhJ69fNL"
   },
   "outputs": [],
   "source": [
    "## write your code below for part D"
   ]
  },
  {
   "cell_type": "markdown",
   "metadata": {
    "id": "QfNrp9za8uZi"
   },
   "source": [
    "**Task 2**   \n",
    "Repeat task 1 for the backword differnce formula?"
   ]
  },
  {
   "cell_type": "code",
   "execution_count": null,
   "metadata": {
    "id": "mO_rNIuU9dvk"
   },
   "outputs": [],
   "source": [
    "## write your code below for part A"
   ]
  },
  {
   "cell_type": "code",
   "execution_count": null,
   "metadata": {
    "id": "mslF_zBB9l_S"
   },
   "outputs": [],
   "source": [
    "## write your code below for part B"
   ]
  },
  {
   "cell_type": "code",
   "execution_count": null,
   "metadata": {
    "id": "sRk6_DMn9mEy"
   },
   "outputs": [],
   "source": [
    "## write your code below for part C"
   ]
  },
  {
   "cell_type": "code",
   "execution_count": null,
   "metadata": {
    "id": "dB4HGtM29mJj"
   },
   "outputs": [],
   "source": [
    "## write your code below for part D"
   ]
  },
  {
   "cell_type": "markdown",
   "metadata": {
    "id": "hiI_4u7e9rVs"
   },
   "source": [
    "**Task 3**   \n",
    "Repeat task 1 for the central differnce formula?  "
   ]
  },
  {
   "cell_type": "code",
   "execution_count": null,
   "metadata": {
    "id": "_wdInN769pfH"
   },
   "outputs": [],
   "source": [
    "## write your code below for part A"
   ]
  },
  {
   "cell_type": "code",
   "execution_count": null,
   "metadata": {
    "id": "ICMrerDi4bbK"
   },
   "outputs": [],
   "source": [
    "## write your code below for part B"
   ]
  },
  {
   "cell_type": "code",
   "execution_count": null,
   "metadata": {
    "id": "wRkm6nln4bhL"
   },
   "outputs": [],
   "source": [
    "## write your code below for part C"
   ]
  },
  {
   "cell_type": "code",
   "execution_count": null,
   "metadata": {
    "id": "mZf5HMED4bmU"
   },
   "outputs": [],
   "source": [
    "## write your code below for part D"
   ]
  },
  {
   "cell_type": "markdown",
   "metadata": {
    "id": "zM0HTF-I4gXp"
   },
   "source": [
    "**Task 4**   \n",
    "A. Use your function `cdiff` to approximate the derivative of $f(x)=sin(x)$ at 100 points in the interval [0,$2\\pi$]? **Hint**: use numpy array for `p` parameter.      \n",
    "B. Prove that your approximate derivate obtained in part A lay on the curve $f(x)=cosx$ by Ploting your result in part A and $f(x)=cosx$ on single plot."
   ]
  },
  {
   "cell_type": "code",
   "execution_count": null,
   "metadata": {
    "id": "ls-yE3_x6iYp"
   },
   "outputs": [],
   "source": [
    "## write your code below for part A\n"
   ]
  },
  {
   "cell_type": "markdown",
   "metadata": {
    "id": "ZKzbHDOz866Q"
   },
   "source": [
    "<details>\n",
    "<summary>Click to reveal answer</summary>\n",
    "\n",
    "```python\n",
    "import numpy as np\n",
    "x=np.linspace(0,2*np.pi,100)\n",
    "cdiff(np.sin,x,0.01)\n",
    "```\n",
    "</details>"
   ]
  },
  {
   "cell_type": "code",
   "execution_count": null,
   "metadata": {
    "id": "Hl5qrJJV6tE0"
   },
   "outputs": [],
   "source": [
    "## write your code below for part B\n"
   ]
  },
  {
   "cell_type": "markdown",
   "metadata": {
    "id": "mA_GneF1-TuW"
   },
   "source": [
    "<details>\n",
    "<summary>Click to reveal answer</summary>\n",
    "\n",
    "```python\n",
    "import numpy as np\n",
    "import matplotlib.pyplot as plt\n",
    "x=np.linspace(0,2*np.pi,50)\n",
    "plt.plot(x,np.cos(x),color=\"r\")\n",
    "plt.scatter(x,cdiff(np.sin,x,0.01))\n",
    "```\n",
    "</details>"
   ]
  }
 ],
 "metadata": {
  "colab": {
   "provenance": []
  },
  "kernelspec": {
   "display_name": "Python 3",
   "name": "python3"
  },
  "language_info": {
   "name": "python"
  }
 },
 "nbformat": 4,
 "nbformat_minor": 0
}
