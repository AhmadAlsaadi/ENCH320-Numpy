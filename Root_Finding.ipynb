{
 "cells": [
  {
   "cell_type": "markdown",
   "metadata": {
    "id": "QNfuNI2QaIAT"
   },
   "source": [
    "# Introduction to Root Finding Part 1"
   ]
  },
  {
   "cell_type": "markdown",
   "metadata": {
    "id": "6OorlOQLaOBs"
   },
   "source": [
    "## Python Review\n"
   ]
  },
  {
   "cell_type": "markdown",
   "metadata": {
    "id": "lZPBIQq89MEj"
   },
   "source": [
    "### Representing Mathematical Function in Python"
   ]
  },
  {
   "cell_type": "markdown",
   "metadata": {
    "id": "aRHQpNWLFsip"
   },
   "source": [
    "There are several ways in python to represent mathematical functions and in this section will give you brief overview on some of them."
   ]
  },
  {
   "cell_type": "markdown",
   "metadata": {
    "id": "ua5yfLjV94qS"
   },
   "source": [
    "#### Using math module\n"
   ]
  },
  {
   "cell_type": "markdown",
   "metadata": {
    "id": "UXn7TkXKGQEB"
   },
   "source": [
    "Python has a a built-in library called `math`. This module or library once imported, provides a variety of mathematical functions and constants. It is designed to perform mathematical operations in a more efficient and precise manner, extending the capabilities of basic arithmetic operations provided by Python. The math module includes a wide range of functions that cover various mathematical operations:\n",
    "\n",
    "- Basic Operations:\n",
    " - **math.sqrt(x)**: Returns the square root of 𝑥.\n",
    " - **math.pow(x, y)**: Returns 𝑥 raised to the power of 𝑦.\n",
    " - **math.exp(x)**: Returns 𝑒 𝑥 (where 𝑒 is Euler's number).\n",
    "- Trigonometric Functions:   \n",
    " - **math.sin(x)**, **math.cos(x)**, **math.tan(x)**: Calculate the sine, cosine, and tangent of 𝑥 (in radians).\n",
    " - **math.degrees(x)**: Converts radians to degrees.\n",
    " - **math.radians(x)**: Converts degrees to radians.\n",
    "- Logarithmic Functions:\n",
    "    - **math.log(x)**: Returns the natural logarithm of 𝑥.\n",
    "    - **math.log10(x)**: Returns the base-10 logarithm of 𝑥.\n",
    "    - **math.log2(x)**: Returns the base-2 logarithm of 𝑥."
   ]
  },
  {
   "cell_type": "markdown",
   "metadata": {
    "id": "vwrSQEL0Grkx"
   },
   "source": [
    "**Task 1**   \n",
    "Use math module to calculate the cosine of 45 degree?"
   ]
  },
  {
   "cell_type": "code",
   "execution_count": null,
   "metadata": {
    "id": "jmgz_sgwHDpf"
   },
   "outputs": [],
   "source": [
    "## write your code below\n"
   ]
  },
  {
   "cell_type": "markdown",
   "metadata": {
    "id": "7T8D-8W1HIIk"
   },
   "source": [
    "<details>\n",
    "<summary>Click to reveal answer</summary>\n",
    "\n",
    "```python\n",
    "import math\n",
    "math.cos(math.radians(45))\n",
    "```\n",
    "</details>"
   ]
  },
  {
   "cell_type": "markdown",
   "metadata": {
    "id": "Qs47yszPGPG0"
   },
   "source": [
    "#### Using Python Function Definition\n"
   ]
  },
  {
   "cell_type": "markdown",
   "metadata": {
    "id": "pLbstgGXH9kr"
   },
   "source": [
    "Even though `math` module provides so many functions, it still lacks many common functions that you may frequently use such as polynomial functions (i.e, $f(x) = (x+2)(x-3)$). However, Python still have you covered through the use of python function definition as it is shown in the code below:"
   ]
  },
  {
   "cell_type": "code",
   "execution_count": null,
   "metadata": {
    "id": "K6ij1-oW_oea"
   },
   "outputs": [],
   "source": [
    "def f(x):\n",
    "  return (x+2)*(x-3)"
   ]
  },
  {
   "cell_type": "markdown",
   "metadata": {
    "id": "AUKdmmky_s_3"
   },
   "source": [
    "The above function can be used to represent any custome mathematic you may have. It will also allow you to evaluate the mathematical function at any value you wish. For example, to evaluate the function at  $x=5$, you just need to call the function with 5 as an argument:"
   ]
  },
  {
   "cell_type": "code",
   "execution_count": null,
   "metadata": {
    "colab": {
     "base_uri": "https://localhost:8080/"
    },
    "id": "gMtlhdJkLnUY",
    "outputId": "e94db4ea-cbe6-4b16-f2d8-1fb84191dd11"
   },
   "outputs": [
    {
     "data": {
      "text/plain": [
       "14"
      ]
     },
     "execution_count": 18,
     "metadata": {},
     "output_type": "execute_result"
    }
   ],
   "source": [
    "def f(x):\n",
    "  return (x+2)*(x-3)\n",
    "f(5)"
   ]
  },
  {
   "cell_type": "markdown",
   "metadata": {
    "id": "IiEbLb0qLvyt"
   },
   "source": [
    "**Task 2**   \n",
    "Use python function definition to write $f(x)=x^2-4$ and evalute it at $x=-3$"
   ]
  },
  {
   "cell_type": "code",
   "execution_count": null,
   "metadata": {
    "id": "5yYM_rdeMXnu"
   },
   "outputs": [],
   "source": [
    "## write your code below\n"
   ]
  },
  {
   "cell_type": "markdown",
   "metadata": {
    "id": "QJBo5tH5MbRH"
   },
   "source": [
    "<details>\n",
    "<summary>Click to reveal answer</summary>\n",
    "\n",
    "```python\n",
    "def f(x):\n",
    "  return x**2-4\n",
    "f(-3)\n",
    "```\n",
    "</details>"
   ]
  },
  {
   "cell_type": "markdown",
   "metadata": {
    "id": "fpmBUibWUa4j"
   },
   "source": [
    "#### Using Python Lambda function"
   ]
  },
  {
   "cell_type": "markdown",
   "metadata": {
    "id": "FVoGRk5nN9Yt"
   },
   "source": [
    "A lambda function is a concise way to define a function in Python. It can take any number of arguments but can only have one expression. The result of the expression is returned automatically without the need to use the keyword `return`. Its basic syntax as follows:"
   ]
  },
  {
   "cell_type": "code",
   "execution_count": null,
   "metadata": {
    "id": "mO7axlrDOrVw"
   },
   "outputs": [],
   "source": [
    "lambda arguments: expression"
   ]
  },
  {
   "cell_type": "markdown",
   "metadata": {
    "id": "imC-7eNvOuIm"
   },
   "source": [
    "- **lambda**: The keyword used to create a lambda function.   \n",
    "- **arguments**: A comma-separated list of arguments (like in a regular function).   \n",
    "- **expression**: A single expression that is evaluated and returned."
   ]
  },
  {
   "cell_type": "markdown",
   "metadata": {
    "id": "EuFMhJAlPCnS"
   },
   "source": [
    "Here’s an example that shows how to use `lambda` function to represent and evaluate the previous polynomial $f(x) = (x+2)(x-3)$:"
   ]
  },
  {
   "cell_type": "code",
   "execution_count": null,
   "metadata": {
    "colab": {
     "base_uri": "https://localhost:8080/"
    },
    "id": "gp70JbZwP8fe",
    "outputId": "14ceae6a-3601-4238-e71b-42a46fafc8c8"
   },
   "outputs": [
    {
     "data": {
      "text/plain": [
       "14"
      ]
     },
     "execution_count": 19,
     "metadata": {},
     "output_type": "execute_result"
    }
   ],
   "source": [
    "f = lambda x: (x+2)*(x-3)\n",
    "f(5)"
   ]
  },
  {
   "cell_type": "markdown",
   "metadata": {
    "id": "xYSvCuPtQPna"
   },
   "source": [
    "**Task 3**   \n",
    "Use lambda function to represent the function given in task 2 and evaluate it at $x = -3$?"
   ]
  },
  {
   "cell_type": "code",
   "execution_count": null,
   "metadata": {
    "id": "6br-TtB1Qjos"
   },
   "outputs": [],
   "source": [
    "## write your code below\n"
   ]
  },
  {
   "cell_type": "markdown",
   "metadata": {
    "id": "4oloLi8cQnAg"
   },
   "source": [
    "<details>\n",
    "<summary>Click to reveal answer</summary>\n",
    "\n",
    "```python\n",
    "f = lambda x: x**2-4\n",
    "f(-3)\n",
    "```\n",
    "</details>"
   ]
  },
  {
   "cell_type": "markdown",
   "metadata": {
    "id": "O1xmuzBGRrl5"
   },
   "source": [
    "#### Using lambdify() function from SymPy Library"
   ]
  },
  {
   "cell_type": "markdown",
   "metadata": {
    "id": "12X1KONAR1-B"
   },
   "source": [
    "`lambdify()` is a function in SymPy that takes a symbolic expression and transforms it into a function that can be evaluated numerically. This is particularly useful when you have complex symbolic expressions that you want to evaluate for specific numerical inputs. Assuming that you already have basic knowledge about SymPy, the previous polynomial $f(x) = (x+2)(x-3)$ can be reprsented in SymPy `lambdify()` function as follows:"
   ]
  },
  {
   "cell_type": "code",
   "execution_count": null,
   "metadata": {
    "colab": {
     "base_uri": "https://localhost:8080/"
    },
    "id": "rrO_NbyCS8NA",
    "outputId": "768cc396-5276-40dd-e62d-41eeaa3bc936"
   },
   "outputs": [
    {
     "data": {
      "text/plain": [
       "14"
      ]
     },
     "execution_count": 20,
     "metadata": {},
     "output_type": "execute_result"
    }
   ],
   "source": [
    "import sympy as sp\n",
    "x = sp.symbols('x')\n",
    "expr = (x+2)*(x-3)\n",
    "f = sp.lambdify(x, expr)\n",
    "f(5)"
   ]
  },
  {
   "cell_type": "markdown",
   "metadata": {
    "id": "34BUJjLVTQFX"
   },
   "source": [
    "**Task 4**   \n",
    "Use SymPy lambdify() function to reprsent and evalute the function given in task 2?"
   ]
  },
  {
   "cell_type": "code",
   "execution_count": null,
   "metadata": {
    "id": "fkK_kvaQToK9"
   },
   "outputs": [],
   "source": [
    "## write your code below\n"
   ]
  },
  {
   "cell_type": "markdown",
   "metadata": {
    "id": "IxwV-EQWTpBC"
   },
   "source": [
    "<details>\n",
    "<summary>Click to reveal answer</summary>\n",
    "\n",
    "```python\n",
    "import sympy as sp\n",
    "x = sp.symbols('x')\n",
    "expr = x**2-4\n",
    "f = sp.lambdify(x, expr)\n",
    "f(-3)\n",
    "```\n",
    "</details>"
   ]
  },
  {
   "cell_type": "markdown",
   "metadata": {
    "id": "kmwaJY72UxQt"
   },
   "source": [
    "### Evaluating Mathematical Functions in Python at Multiple Points"
   ]
  },
  {
   "cell_type": "markdown",
   "metadata": {
    "id": "rnGfCOA4dzy8"
   },
   "source": [
    "After we showed you how to create mathematical functions and how to evaluate them at single point. It is time to show you how to evaluate these functions at multiple points. Evaluating functions at multiple points can be acheived in several ways. the most common ways are:   \n",
    "- Using Python For Loop.   \n",
    "- Using Numpy Library."
   ]
  },
  {
   "cell_type": "markdown",
   "metadata": {
    "id": "NSvJ5DOXVNrG"
   },
   "source": [
    "#### Using For Loop"
   ]
  },
  {
   "cell_type": "markdown",
   "metadata": {
    "id": "jf3SS9LXesu0"
   },
   "source": [
    "You can evaluate a function at multiple points by using a for loop. For example, If we try to evaluate the previous polynomial function for the integer values of $ -5 \\le  x  \\le 5$ we can use the `range()` function and the for-loop in python as follows:"
   ]
  },
  {
   "cell_type": "code",
   "execution_count": null,
   "metadata": {
    "colab": {
     "base_uri": "https://localhost:8080/"
    },
    "id": "LRcelhH6gWVm",
    "outputId": "bcd8838a-cbdd-46ce-928d-7428292382af"
   },
   "outputs": [
    {
     "name": "stdout",
     "output_type": "stream",
     "text": [
      "56\n",
      "42\n",
      "30\n",
      "20\n",
      "12\n",
      "6\n",
      "2\n",
      "0\n",
      "0\n",
      "2\n",
      "6\n"
     ]
    }
   ],
   "source": [
    "f= lambda x: (x+2)*(x-3)\n",
    "for x in range(-5,6):\n",
    "  print(f(x))"
   ]
  },
  {
   "cell_type": "markdown",
   "metadata": {
    "id": "hDbeTzduhJZG"
   },
   "source": [
    "You could also append the result to empty list as it is shown in the example below:"
   ]
  },
  {
   "cell_type": "code",
   "execution_count": null,
   "metadata": {
    "colab": {
     "base_uri": "https://localhost:8080/"
    },
    "id": "a8Fmn7eqhVy9",
    "outputId": "fbf26daa-11fd-42ca-d304-68623a28a7a1"
   },
   "outputs": [
    {
     "name": "stdout",
     "output_type": "stream",
     "text": [
      "[56, 42, 30, 20, 12, 6, 2, 0, 0, 2, 6]\n"
     ]
    }
   ],
   "source": [
    "f = lambda x: (x+2)*(x-3)\n",
    "y = []\n",
    "for x in range(-5,6):\n",
    "  y.append(f(x))\n",
    "print(y)"
   ]
  },
  {
   "cell_type": "markdown",
   "metadata": {
    "id": "i-J8Nry4WWYz"
   },
   "source": [
    "**Note:** python `range()`only generates  sequense of integer numbers."
   ]
  },
  {
   "cell_type": "markdown",
   "metadata": {
    "id": "2u_eN7YOhoWn"
   },
   "source": [
    "**Task 5**   \n",
    "Use the function `range()` and python for-loop to evaluate the function in task 2 at the integer values of $-3 \\le x \\le 3$ and print the result as a python list?"
   ]
  },
  {
   "cell_type": "code",
   "execution_count": null,
   "metadata": {
    "id": "DAqiuqI4iPJ6"
   },
   "outputs": [],
   "source": [
    "## write your code below\n"
   ]
  },
  {
   "cell_type": "markdown",
   "metadata": {
    "id": "2UnFCVcDibIu"
   },
   "source": [
    "<details>\n",
    "<summary>Click to reveal answer</summary>\n",
    "\n",
    "```python\n",
    "f = lambda x: x**2-4\n",
    "y = []\n",
    "for x in range(-3,4):\n",
    "  y.append(f(x))\n",
    "print(y)\n",
    "```\n",
    "</details>"
   ]
  },
  {
   "cell_type": "markdown",
   "metadata": {
    "id": "qdhAUVPsVUrM"
   },
   "source": [
    "#### Using Numpy Library"
   ]
  },
  {
   "cell_type": "markdown",
   "metadata": {
    "id": "_iYlDoEsimfB"
   },
   "source": [
    "For more efficient computations, especially with larger datasets, you can use the NumPy library.With NumPy, you can evaluate the function for an array of values all at once without the need of using python for-loop. The result of the evaluation will be also a numpy array as it is shown in the example below:"
   ]
  },
  {
   "cell_type": "code",
   "execution_count": null,
   "metadata": {
    "colab": {
     "base_uri": "https://localhost:8080/"
    },
    "id": "9AueISpkjUGU",
    "outputId": "0b30ed31-77d1-45d6-a3f5-514bd4fefe04"
   },
   "outputs": [
    {
     "name": "stdout",
     "output_type": "stream",
     "text": [
      "[24 14  6  0 -4 -6 -6 -4  0  6 14]\n"
     ]
    }
   ],
   "source": [
    "import numpy as np\n",
    "f = lambda x: (x+2)*(x-3)\n",
    "x = np.array([-5,-4,-3,-2,-1,0,1,2,3,4,5])\n",
    "y = f(x)\n",
    "print(y)"
   ]
  },
  {
   "cell_type": "markdown",
   "metadata": {
    "id": "Bo3gz0-GW0hz"
   },
   "source": [
    "**Note:** Unlike `range()` in python, Numpy `arange()` can generate both integer and decimal numbers."
   ]
  },
  {
   "cell_type": "markdown",
   "metadata": {
    "id": "dMnMfFjOIX7W"
   },
   "source": [
    "**Task 6**   \n",
    "Use your previous knowledge about numpy to do the same thing in the example above using:   \n",
    "A. `np.arange()` with step size of `0.2`  \n",
    "\n",
    "B. `np.linspace()` with 20 points between `-5` and `5`      \n"
   ]
  },
  {
   "cell_type": "code",
   "execution_count": null,
   "metadata": {
    "id": "kEnS8fgbJnTo"
   },
   "outputs": [],
   "source": [
    "## write your code for Part A below\n"
   ]
  },
  {
   "cell_type": "markdown",
   "metadata": {
    "id": "KY23nHa4NFTo"
   },
   "source": [
    "<details>\n",
    "<summary>Click to reveal answer</summary>\n",
    "\n",
    "```python\n",
    "import numpy as np\n",
    "f = lambda x: (x+2)*(x-3)\n",
    "x = np.arange(-5,5.2,0.2)\n",
    "print(f(x))\n",
    "```\n",
    "</details>"
   ]
  },
  {
   "cell_type": "code",
   "execution_count": null,
   "metadata": {
    "id": "TV0d0RNwNLN2"
   },
   "outputs": [],
   "source": [
    "## write your code for Part B\n"
   ]
  },
  {
   "cell_type": "markdown",
   "metadata": {
    "id": "26KIO0XfOAsj"
   },
   "source": [
    "<details>\n",
    "<summary>Click to reveal answer</summary>\n",
    "\n",
    "```python\n",
    "import numpy as np\n",
    "f = lambda x: (x+2)*(x-3)\n",
    "x = np.linspace(-5,5,20)\n",
    "print(f(x))\n",
    "```\n",
    "</details>"
   ]
  },
  {
   "cell_type": "markdown",
   "metadata": {
    "id": "qBFaRj_EOPiP"
   },
   "source": [
    "###Plotting Mathematical Functions in Python"
   ]
  },
  {
   "cell_type": "markdown",
   "metadata": {
    "id": "tMcXPi0mOZpL"
   },
   "source": [
    "Having learned how to evaluate mathematical functions at multiple points, you are ready to plot these points on a graph using your previous knowlege of matplotlib library through the use of `plot()` as it is shown in the example below:"
   ]
  },
  {
   "cell_type": "code",
   "execution_count": null,
   "metadata": {
    "colab": {
     "base_uri": "https://localhost:8080/",
     "height": 472
    },
    "id": "9ObhRBNxPsUL",
    "outputId": "5a50e06c-3ea2-4eee-cdc2-4a2a58fe8980"
   },
   "outputs": [
    {
     "data": {
      "image/png": "[encoded data removed]",
      "text/plain": [
       "<Figure size 640x480 with 1 Axes>"
      ]
     },
     "metadata": {},
     "output_type": "display_data"
    }
   ],
   "source": [
    "import numpy as np\n",
    "import matplotlib.pyplot as plt\n",
    "f = lambda x: (x+2)*(x-3)\n",
    "x = np.linspace(-5,5,20)\n",
    "plt.plot(x,f(x))\n",
    "plt.title('Polynomial Function')\n",
    "plt.xlabel('x')\n",
    "plt.ylabel('y')\n",
    "plt.show()"
   ]
  },
  {
   "cell_type": "markdown",
   "metadata": {
    "id": "SWg8ZuNrQFAN"
   },
   "source": [
    "To show the x-axis and y-axis at the origin you can use the following functions:   \n",
    "- `plt.axhline()`   \n",
    "- `plt.axvline()`   \n",
    "\n",
    "The example below shows how to use these two functions:"
   ]
  },
  {
   "cell_type": "code",
   "execution_count": null,
   "metadata": {
    "colab": {
     "base_uri": "https://localhost:8080/",
     "height": 472
    },
    "id": "dCVLJnn5RMKf",
    "outputId": "4240e732-9be2-4d2a-8601-857d16e34237"
   },
   "outputs": [
    {
     "data": {
      "image/png": "[encoded data removed]",
      "text/plain": [
       "<Figure size 640x480 with 1 Axes>"
      ]
     },
     "metadata": {},
     "output_type": "display_data"
    }
   ],
   "source": [
    "import numpy as np\n",
    "import matplotlib.pyplot as plt\n",
    "f = lambda x: (x+2)*(x-3)\n",
    "x = np.linspace(-5,5,20)\n",
    "plt.plot(x,f(x))\n",
    "plt.title('Polynomial Function')\n",
    "plt.xlabel('x')\n",
    "plt.ylabel('y')\n",
    "plt.axhline(0, color='black', linewidth=1.5)\n",
    "plt.axvline(0, color='black', linewidth=1.5)\n",
    "plt.show()"
   ]
  },
  {
   "cell_type": "markdown",
   "metadata": {
    "id": "UyBpwH0AUeSA"
   },
   "source": [
    "**Task 7**   \n",
    "It is your turn now to plot $f(x) = x^2-4$ for the values of $-5\\le x\\le5$ with a plot similar to the one shown in the previous example?"
   ]
  },
  {
   "cell_type": "code",
   "execution_count": null,
   "metadata": {
    "id": "qhgmZMdqVfgH"
   },
   "outputs": [],
   "source": [
    "## write your code below\n"
   ]
  },
  {
   "cell_type": "markdown",
   "metadata": {
    "id": "0DYYVYyTV2Ik"
   },
   "source": [
    "<details>\n",
    "<summary>Click to reveal answer</summary>\n",
    "\n",
    "```python\n",
    "import numpy as np\n",
    "import matplotlib.pyplot as plt\n",
    "f = lambda x: x**2-4\n",
    "x = np.linspace(-5,5,20)\n",
    "plt.plot(x,f(x))\n",
    "plt.title('Polynomial Function')\n",
    "plt.xlabel('x')\n",
    "plt.ylabel('y')\n",
    "plt.axhline(0, color='black', linewidth=1.5)\n",
    "plt.axvline(0, color='black', linewidth=1.5)\n",
    "plt.show()\n",
    "```\n",
    "</details>"
   ]
  },
  {
   "cell_type": "markdown",
   "metadata": {
    "id": "SRHdTDQQfZvb"
   },
   "source": [
    "###Tolerance in Numerical Computing"
   ]
  },
  {
   "cell_type": "markdown",
   "metadata": {
    "id": "p9Kxzm7JfqGt"
   },
   "source": [
    "In numerical computations, tolerance refers to the maximum allowable error between a calculated value and the true value. It helps determine whether a result is sufficiently accurate or further refinement is needed. Since true value sometimes is not known in periori as in most applied applications, tolerance can be used as a stopping criteria. In other words, it used to indicate that the successive calculation in an iterative process is not introducing futher appreciable difference in in the calculated value and the calculation should be stopped. In such use, the tolenance can be defined as the maximum change in value below which the value is accepted as converged-value."
   ]
  },
  {
   "cell_type": "markdown",
   "metadata": {
    "id": "MhxlevT5hKxT"
   },
   "source": [
    "- **Absolute Tolerance**: The maximum acceptable absolute error. For example, if the tolerance is set to 0.01, any result within ±0.01 of the true value or successive calculation in iterative claculation is acceptable.\n",
    "- **Relative Tolerance**: The maximum acceptable relative error, expressed as a fraction of the true value. For example, if the relative tolerance is set to 0.01 (or 1%), the result must be within 1% of the true value or the differnce between two successive calculation in iterative claculation."
   ]
  },
  {
   "cell_type": "markdown",
   "metadata": {
    "id": "42aedUlpgOUT"
   },
   "source": [
    "####Why Tolerance Matters\n"
   ]
  },
  {
   "cell_type": "markdown",
   "metadata": {
    "id": "0pk78uIhgSzq"
   },
   "source": [
    "- **Error Control**: Tolerance helps control the accuracy of results based on specific needs.\n",
    "- **Performance Optimization**: Setting appropriate tolerance can prevent unnecessary calculations.\n",
    "- **Stopping Criteria**: It can indicate when to stop an iterative process in numerical methods."
   ]
  },
  {
   "cell_type": "markdown",
   "metadata": {
    "id": "0QJvfJWoRq_5"
   },
   "source": [
    "Let us take finding an approximate value to $\\sqrt n$ as an example to how tolerance can be use to stop an iterative calculation from doing further refinement in the calculation. We will use the following formula to approximate $\\sqrt n$:\n",
    "$$ x_{1} = \\frac{1}{2}(x_0+\\frac{n}{x_0})$$"
   ]
  },
  {
   "cell_type": "markdown",
   "metadata": {
    "id": "xdWMt7seS3Yo"
   },
   "source": [
    "We will use this formula to approximate the value of $\\sqrt2$ starting with $x_0$ = 1 as our initial guess and then the second guess $x_1$ will be obtained from the formula. Let us also set our tolerance value to be $0.001$ which will stop our iterative calculation once $|x_i^2-2|<0.001 $."
   ]
  },
  {
   "cell_type": "code",
   "execution_count": null,
   "metadata": {
    "colab": {
     "base_uri": "https://localhost:8080/"
    },
    "id": "2P6nN-taSwxn",
    "outputId": "b9a23e14-85e5-4d32-9b72-8a21c0b2e8b6"
   },
   "outputs": [
    {
     "name": "stdout",
     "output_type": "stream",
     "text": [
      "1.4142156862745097\n"
     ]
    }
   ],
   "source": [
    "x0 = 1\n",
    "tol = 0.001\n",
    "while abs(x0**2-2) > tol:\n",
    "    x1 = 0.5*(x0+2/x0)\n",
    "    x0 = x1\n",
    "print(x1)"
   ]
  },
  {
   "cell_type": "markdown",
   "metadata": {
    "id": "uXNAYPXldfIg"
   },
   "source": [
    "**Task 8**   \n",
    "A. write a function named sqr that calculate the square root of any given number. The function should take 3 arguments:       \n",
    "- **n**: the value for which we should calculate its square root.   \n",
    "- **guess** : the initial guessing value.   \n",
    "- **tol**: the stopping tolerance value.\n",
    "\n",
    "B. Test your function for the values: 3, 4, 5, 7, 9?"
   ]
  },
  {
   "cell_type": "code",
   "execution_count": null,
   "metadata": {
    "id": "eB6ER-EMd8HT"
   },
   "outputs": [],
   "source": [
    "## write your code below\n"
   ]
  },
  {
   "cell_type": "markdown",
   "metadata": {
    "id": "VqW2Fv0b0zGo"
   },
   "source": [
    "<details>\n",
    "<summary>Click to reveal answer</summary>\n",
    "\n",
    "```python\n",
    "def sqr(n, guess, tol):\n",
    "  while abs(guess**2-n) > tol:\n",
    "    guess = 0.5*(guess+n/guess)\n",
    "  return guess\n",
    "\n",
    "print(sqr(3,1,0.00001))\n",
    "print(sqr(4,1,0.00001))\n",
    "print(sqr(5,1,0.00001))\n",
    "print(sqr(7,1,0.00001))\n",
    "print(sqr(9,1,0.00001))\n",
    "```\n",
    "</details>"
   ]
  },
  {
   "cell_type": "markdown",
   "metadata": {
    "id": "sMLdehIYeS6V"
   },
   "source": [
    "**Task 9**   \n",
    "A. Try to modify the function in task 8 to include a avariable named iter that count how many times the loop has run before it acheived the required result?    \n",
    "B.Try to use different intial guesses and different tolerence values to see their effects on the number of iteration used in the calculation?"
   ]
  },
  {
   "cell_type": "code",
   "execution_count": null,
   "metadata": {
    "id": "XAgMBE5afPLk"
   },
   "outputs": [],
   "source": [
    "#write your code below\n"
   ]
  },
  {
   "cell_type": "markdown",
   "metadata": {
    "id": "iJuBS_C0fvvN"
   },
   "source": [
    "<details>\n",
    "<summary>Click to reveal answer</summary>\n",
    "\n",
    "```python\n",
    "def sqr(n, guess, tol):\n",
    "  iter = 0\n",
    "  while abs(guess**2-n) > tol:\n",
    "    iter+=1\n",
    "    guess = 0.5*(guess+n/guess)\n",
    "  return guess, iter\n",
    "\n",
    "print(sqr(3,1,0.001))\n",
    "print(sqr(3,10,0.001))\n",
    "print(sqr(3,100,0.001))\n",
    "print(sqr(3,1,0.0001))\n",
    "print(sqr(3,1,0.0000001))\n",
    "print(sqr(3,1,0.0000000001))\n",
    "```\n",
    "</details>"
   ]
  },
  {
   "cell_type": "markdown",
   "metadata": {
    "id": "3DNaghgZ3OdZ"
   },
   "source": [
    "**Challenge 1**   \n",
    "A. write new function named sqr_conv similar to the one in task 8 except that you should make the check of the tolerance is applied on the sucessive iterations not on the true value as you did in task 8?   \n",
    "B. Test your new function on the same value that you did in taks 8?"
   ]
  },
  {
   "cell_type": "code",
   "execution_count": null,
   "metadata": {
    "id": "o_FImsl03wTg"
   },
   "outputs": [],
   "source": [
    "## write your code below\n"
   ]
  },
  {
   "cell_type": "markdown",
   "metadata": {
    "id": "ea2KEree5SRv"
   },
   "source": [
    "<details>\n",
    "<summary>Click to reveal answer</summary>\n",
    "\n",
    "```python\n",
    "def sqr_conv(n, guess, tol):\n",
    "  while True:\n",
    "    guess2 = 0.5*(guess+n/guess)\n",
    "    if abs(guess2-guess) < tol:\n",
    "      break\n",
    "    guess = guess2\n",
    "  return guess\n",
    "\n",
    "print(sqr_conv(3,1,0.00001))\n",
    "print(sqr_conv(4,1,0.00001))\n",
    "print(sqr_conv(5,1,0.00001))\n",
    "print(sqr_conv(7,1,0.00001))\n",
    "print(sqr_conv(9,1,0.00001))\n",
    "```\n",
    "</details>"
   ]
  },
  {
   "cell_type": "markdown",
   "metadata": {
    "id": "xtXjrzW25ZDZ"
   },
   "source": [
    "**Task 10**   \n",
    "Modify the function in challenge 1 to include the number of iterations as you did in task 9?"
   ]
  },
  {
   "cell_type": "code",
   "execution_count": null,
   "metadata": {
    "id": "LeMVJcMw5oR9"
   },
   "outputs": [],
   "source": [
    "## write your code below\n"
   ]
  },
  {
   "cell_type": "markdown",
   "metadata": {
    "id": "nNzH8-T362CS"
   },
   "source": [
    "<details>\n",
    "<summary>Click to reveal answer</summary>\n",
    "\n",
    "```python\n",
    "def sqr_conv(n, guess, tol):\n",
    "  iter=0\n",
    "  while True:\n",
    "    iter+=1\n",
    "    guess2 = 0.5*(guess+n/guess)\n",
    "    if abs(guess2-guess) < tol:\n",
    "      break\n",
    "    guess = guess2\n",
    "  return guess, iter\n",
    "print(sqr_conv(4,1,0.00001))\n",
    "print(sqr_conv(4,10,0.00001))\n",
    "print(sqr_conv(4,100,0.00001))\n",
    "print(sqr_conv(4,1000,0.00001))\n",
    "```\n",
    "</details>"
   ]
  },
  {
   "cell_type": "markdown",
   "metadata": {
    "id": "voQmw87j8ud9"
   },
   "source": [
    "\n",
    "## What is Root Finding?"
   ]
  },
  {
   "cell_type": "markdown",
   "metadata": {
    "id": "eUgqJMcaD3tC"
   },
   "source": [
    "Root finding is a fundamental problem in numerical analysis, where the goal is to determine the values of a variable that make a given function equal to zero. These values, known as \"roots,\" are crucial in various fields such as engineering, physics, and economics, as they can represent equilibrium points, optimal solutions, or critical thresholds.In chemical engineering, this concept is critical for solving equations that model chemical processes, reaction kinetics, thermodynamics, and more. These roots often represent critical points in a system, such as equilibrium concentrations, temperatures, or pressures."
   ]
  },
  {
   "cell_type": "markdown",
   "metadata": {
    "id": "-fvIkPZVfYoE"
   },
   "source": [
    "## Types of Root finding Methods\n",
    "\n"
   ]
  },
  {
   "cell_type": "markdown",
   "metadata": {
    "id": "bP6ARen9CyKC"
   },
   "source": [
    "Root finding methods can be categorized into two main groups:\n",
    "\n",
    "- Closed methods\n",
    "- Open methods\n",
    "\n",
    "Each category has distinct characteristics and is suitable for different types of functions and scenarios."
   ]
  },
  {
   "cell_type": "markdown",
   "metadata": {
    "id": "tKBFZkFO-HNH"
   },
   "source": [
    "\n",
    "### Closed Methods\n",
    "\n"
   ]
  },
  {
   "cell_type": "markdown",
   "metadata": {
    "id": "72Ku4cbpDB0s"
   },
   "source": [
    "Closed methods, also known as bracketed methods, require an initial interval\n",
    "[𝑎,𝑏] that guarantee the existence of at least one root within this interval, based on the Intermediate Value Theorem."
   ]
  },
  {
   "cell_type": "markdown",
   "metadata": {
    "id": "m7HijY0R-V50"
   },
   "source": [
    "\n",
    "####Understanding the Intermediate Value Theorem (IVT)\n"
   ]
  },
  {
   "cell_type": "markdown",
   "metadata": {
    "id": "pVAmRD38DamL"
   },
   "source": [
    "The Intermediate Value Theorem is a fundamental concept in calculus that states:\n",
    "\n",
    "    If 𝑓 is continuous on the closed interval [𝑎,𝑏] and 𝑓(𝑎) and 𝑓(𝑏) have opposite signs,   \n",
    "    then there exists at least one 𝑐 in the interval (𝑎,𝑏) such that 𝑓(𝑐) = 0.\n"
   ]
  },
  {
   "cell_type": "markdown",
   "metadata": {
    "id": "20fuuik37pXu"
   },
   "source": [
    "![IVT.png](data:image/png;base64,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)"
   ]
  },
  {
   "cell_type": "markdown",
   "metadata": {
    "id": "_IX98TMz-btm"
   },
   "source": [
    "#####Implications of IVT\n",
    "\n",
    "**Continuity**: The function must be continuous on the interval. This means there are no breaks, jumps, or asymptotes in the function between 𝑎 and 𝑏.   \n",
    "**Opposite Signs**: The values of the function at the endpoints of the interval must have opposite signs:\n",
    "- If 𝑓(𝑎) < 0 and 𝑓(𝑏) > 0, there is at least one root 𝑐 such that 𝑎 < 𝑐 < 𝑏.\n",
    "- If 𝑓(𝑎) > 0 and 𝑓(𝑏) < 0, there is also at least one root in the interval.\n",
    "\n"
   ]
  },
  {
   "cell_type": "markdown",
   "metadata": {
    "id": "FfwMgIFN-pAK"
   },
   "source": [
    "**Task 11**:   \n",
    "A. Plot the function $(f) = x^2 - 4$ and decide how many roots dose the function have.\n"
   ]
  },
  {
   "cell_type": "code",
   "execution_count": null,
   "metadata": {
    "id": "npvDj_Rb1Zyo"
   },
   "outputs": [],
   "source": [
    "## write your code below\n"
   ]
  },
  {
   "cell_type": "markdown",
   "metadata": {
    "id": "lzj6d4dt1X6y"
   },
   "source": [
    "B. Write an interval that encloses each root in part A.\n"
   ]
  },
  {
   "cell_type": "code",
   "execution_count": null,
   "metadata": {
    "id": "MGYY48Es1nzR"
   },
   "outputs": [],
   "source": [
    "## write your interval below\n"
   ]
  },
  {
   "cell_type": "markdown",
   "metadata": {
    "id": "5_ToRMSB1itt"
   },
   "source": [
    "C. For each interval in B multiply the value of the function at beginning of the interval with value of the function at the end of the interval and observe the sign of the multiplication result.\n"
   ]
  },
  {
   "cell_type": "code",
   "execution_count": null,
   "metadata": {
    "id": "_Ox0Gbsd1yzf"
   },
   "outputs": [],
   "source": [
    "# write your code below\n"
   ]
  },
  {
   "cell_type": "markdown",
   "metadata": {
    "id": "8jrPj-q71x_1"
   },
   "source": [
    "D. write an interval that does not enclose a root of the function.\n"
   ]
  },
  {
   "cell_type": "code",
   "execution_count": null,
   "metadata": {
    "id": "QJqtdWG32Avc"
   },
   "outputs": [],
   "source": [
    "# write you interval below\n"
   ]
  },
  {
   "cell_type": "markdown",
   "metadata": {
    "id": "nNIsWlzA1_rp"
   },
   "source": [
    "\n",
    "E. Repeat part C for the interval in part D and observe the sign of the multiplication result.\n"
   ]
  },
  {
   "cell_type": "code",
   "execution_count": null,
   "metadata": {
    "id": "0WYBpEER2OEe"
   },
   "outputs": [],
   "source": [
    "## write your code below\n"
   ]
  },
  {
   "cell_type": "markdown",
   "metadata": {
    "id": "sTFzDm342UtJ"
   },
   "source": [
    "**Task 12**   \n",
    "A. Write a python function named has_root that returns True or False for whether a given function has a root or not on a given interval. The function should have 3 arguments:\n",
    "- **f**: The function that you are supposed to check for its roots.\n",
    "-**start**: interval start point\n",
    "- **end**: interval end point.\n",
    "\n",
    "B. check your your function on $f(x)=x^2-4$ using the following intervals:   \n",
    "- $[-1,1]$\n",
    "- $[1,3]$"
   ]
  },
  {
   "cell_type": "code",
   "execution_count": null,
   "metadata": {
    "id": "4zbKq9qj6tcw"
   },
   "outputs": [],
   "source": [
    "## write your code below\n"
   ]
  },
  {
   "cell_type": "markdown",
   "metadata": {
    "id": "in073UM5DdU2"
   },
   "source": [
    "<details>\n",
    "<summary>Click to reveal answer</summary>\n",
    "\n",
    "```python\n",
    "def has_root(f, start, end):\n",
    "  if f(start) * f(end) > 0:\n",
    "    return False\n",
    "  else:\n",
    "    return True\n",
    "\n",
    "print(has_root(lambda x: x**2 - 4, -1, 1))\n",
    "print(has_root(lambda x: x**2 - 4, 1, 3))\n",
    "```\n",
    "</details>"
   ]
  },
  {
   "cell_type": "markdown",
   "metadata": {
    "id": "kpTNS_RH6x9O"
   },
   "source": [
    "**Task 13**   \n",
    "Test your function in task 12 on the interval [0,2] and varify your result through plotting the following functions:   \n",
    "A. $f(x) = (x+4)(x-1)(x-7)$   \n",
    "B. $f(x) = sin(10x) + cos(3x)$"
   ]
  },
  {
   "cell_type": "code",
   "execution_count": null,
   "metadata": {
    "id": "WMG8jozT9Q8b"
   },
   "outputs": [],
   "source": [
    "## write your code below for Part A\n"
   ]
  },
  {
   "cell_type": "markdown",
   "metadata": {
    "id": "jX6CQg3ZEAzg"
   },
   "source": [
    "<details>\n",
    "<summary>Click to reveal answer</summary>\n",
    "\n",
    "```python\n",
    "import matplotlib.pyplot as plt\n",
    "import numpy as np\n",
    "x = np.linspace(0, 2, 100)\n",
    "y = (x+4)*(x-1)*(x-7)\n",
    "plt.xlabel('x')\n",
    "plt.ylabel('y')\n",
    "plt.axhline(0, color='black', linewidth=1.5)\n",
    "plt.axvline(0, color='black', linewidth=1.5)\n",
    "plt.plot(x, y)\n",
    "plt.show()\n",
    "has_root(lambda x: (x+4)*(x-1)*(x-7), 0, 2)\n",
    "```\n",
    "</details>"
   ]
  },
  {
   "cell_type": "code",
   "execution_count": null,
   "metadata": {
    "id": "TuC7pgvyE1zJ"
   },
   "outputs": [],
   "source": [
    "## write your code below for part B\n"
   ]
  },
  {
   "cell_type": "markdown",
   "metadata": {
    "id": "XfhZsts1lML7"
   },
   "source": [
    "<details>\n",
    "<summary>Click to reveal answer</summary>\n",
    "\n",
    "```python\n",
    "import matplotlib.pyplot as plt\n",
    "import numpy as np\n",
    "x = np.linspace(0, 2, 100)\n",
    "y = np.sin(10*x) + np.cos(3*x)\n",
    "plt.xlabel('x')\n",
    "plt.ylabel('y')\n",
    "plt.axhline(0, color='black', linewidth=1.5)\n",
    "plt.axvline(0, color='black', linewidth=1.5)\n",
    "plt.plot(x, y)\n",
    "plt.show()\n",
    "has_root(lambda x: np.sin(10*x) + np.cos(3*x), 0, 2)\n",
    "```\n",
    "</details>"
   ]
  },
  {
   "cell_type": "markdown",
   "metadata": {
    "id": "_E2ro9h-Fi1q"
   },
   "source": [
    "**Challenge 2**   \n",
    "A. Develop a root search function named root_search that better search for the availability of roots for a given function by dividing the given interval into smaller interval and checking for the availability of roots in these small intervals?   \n",
    "B. Check your function on the function in task 13B"
   ]
  },
  {
   "cell_type": "code",
   "execution_count": null,
   "metadata": {
    "id": "oDXnykLoGwEs"
   },
   "outputs": [],
   "source": [
    "## write your code below\n"
   ]
  },
  {
   "cell_type": "markdown",
   "metadata": {
    "id": "RH4fakMuGveO"
   },
   "source": [
    "<details>\n",
    "<summary>Click to reveal answer</summary>\n",
    "\n",
    "```python\n",
    "import numpy as np\n",
    "def root_search(f, start, end):\n",
    "    size=0.1\n",
    "    x = np.arange(start, end+size, size)\n",
    "    y = f(x)\n",
    "    \n",
    "    return y[:-1]*y[1:] < 0\n",
    "    \n",
    "print(root_search(lambda x: np.sin(10*x) + np.cos(3*x), 0, 2))\n",
    "```\n",
    "</details>"
   ]
  },
  {
   "cell_type": "markdown",
   "metadata": {
    "id": "LBlDe8pMJTB_"
   },
   "source": [
    "**Challenge 3**   \n",
    "A. modify the root_search function to return the sub-interval that has root in a function.   \n",
    "B. check your modified function the same function in challenge 2?"
   ]
  },
  {
   "cell_type": "code",
   "execution_count": null,
   "metadata": {
    "id": "TiYG6xhxKEJ0"
   },
   "outputs": [],
   "source": [
    "## write your code below\n"
   ]
  },
  {
   "cell_type": "markdown",
   "metadata": {
    "id": "vPPX68PmVP3W"
   },
   "source": [
    "<details>\n",
    "<summary>Click to reveal answer</summary>\n",
    "\n",
    "```python\n",
    "def mroot_search(f, start, end):\n",
    "    size=0.1\n",
    "    x = np.arange(start, end+size, size)\n",
    "    y = f(x)\n",
    "    mask = y[:-1]*y[1:] < 0\n",
    "    return np.column_stack((x[:-1][mask],x[1:][mask]))\n",
    "    \n",
    "print(mroot_search(lambda x: np.sin(10*x) + np.cos(3*x), 0, 2))\n",
    "```\n",
    "</details>"
   ]
  },
  {
   "cell_type": "markdown",
   "metadata": {
    "id": "LWZxloaQ9oT2"
   },
   "source": [
    "\n",
    "####Bisection Method\n"
   ]
  },
  {
   "cell_type": "markdown",
   "metadata": {
    "id": "6o5gJRv106Xs"
   },
   "source": [
    "##### Understanding Bisection Method"
   ]
  },
  {
   "cell_type": "markdown",
   "metadata": {
    "id": "AWykxtZ4Bk6s"
   },
   "source": [
    "After you have learned how to specify an interval that encloses a root in a function, it is the time to learn how to find an approximate root for a function with an error smaller than certain tolerance value. we will learn in this section a well known technique referred to as Bisection Method.   \n",
    "Bisection method Divides an interval that encloses a root in half and selects the subinterval where the function changes sign. Let us utilize the graph below to illustrate this method."
   ]
  },
  {
   "cell_type": "markdown",
   "metadata": {
    "id": "v8qUVTTOAhvo"
   },
   "source": [
    "<center>\n",
    "\n",
    "![bisection.JPG](data:image/jpeg;base64,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)"
   ]
  },
  {
   "cell_type": "markdown",
   "metadata": {
    "id": "J6wqRYh4qC0r"
   },
   "source": [
    "In the graph above, the root is enclosed within an interval [a,b] and the root which we are looking for is locate at x=c. To narrow the interval and get closer to the root, bisection method as the name suggests divides the interval [a,b] into half by calculating a mid point between a and b:\n",
    "\n",
    "$$m=\\frac{a+b}{2}$$\n",
    "The calculated m is expected to be one of three cases:   \n",
    " - $m < c$   \n",
    " - $m>c$\n",
    " - $m=c$   \n"
   ]
  },
  {
   "cell_type": "markdown",
   "metadata": {
    "id": "ENA57Hg_A-n4"
   },
   "source": [
    "if $m = c$:\n",
    "<center>\n",
    "\n",
    "![mequalc.jpg](data:image/jpeg;base64,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)\n",
    "</center>"
   ]
  },
  {
   "cell_type": "markdown",
   "metadata": {
    "id": "7v4KTeKfA9Yn"
   },
   "source": [
    "Then,\n",
    "<br>\n",
    "<br>\n",
    "$$f(a).f(m) =0$$\n",
    "$$f(m).f(b)=0$$\n",
    "since,\n",
    "<br>\n",
    "$$f(m)=f(c)=0$$\n",
    "\n"
   ]
  },
  {
   "cell_type": "markdown",
   "metadata": {
    "id": "lNWAsufSC8Wa"
   },
   "source": [
    "If $m < c$:\n",
    "<center>\n",
    "\n",
    "![mlessthanc.jpg](data:image/jpeg;base64,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)"
   ]
  },
  {
   "cell_type": "markdown",
   "metadata": {
    "id": "yzQeyPq0DLwJ"
   },
   "source": [
    "\n",
    "then the narrower interval that encloses c is $[m,b]$ since\n",
    "<br>\n",
    "$$f(m).f(b) < 0 $$\n",
    "\n",
    "\n"
   ]
  },
  {
   "cell_type": "markdown",
   "metadata": {
    "id": "9coyfT9sDZ0w"
   },
   "source": [
    "if $ m > c$:\n",
    "<center>\n",
    "\n",
    "\n",
    "![mgreatc.jpg](data:image/jpeg;base64,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)\n",
    "\n"
   ]
  },
  {
   "cell_type": "markdown",
   "metadata": {
    "id": "lMdg_-6QDowk"
   },
   "source": [
    "\n",
    "then the narrower interval that encloses c is [a,m] since\n",
    "$$f(a).f(m) < 0$$\n"
   ]
  },
  {
   "cell_type": "markdown",
   "metadata": {
    "id": "vQaWGt-oIpbm"
   },
   "source": [
    "The bisection method repeat this procedure with the narrower interval until the $m=c$ within certain tolerance."
   ]
  },
  {
   "cell_type": "markdown",
   "metadata": {
    "id": "_D_ofg3HkrqT"
   },
   "source": [
    "**Task 14**   \n",
    "Write python function named bisection that implement the bisection method. Your function should check first if the given function has a root in the given interval or dose not. The function should return the root if it exists otherwise it should print a message that says \"there is no root within the given interal\". The function should take 3 arguments:\n",
    "- **f**: the function that your going to find its root.   \n",
    "- **interval**: python list reprsent the start and end of interval.   \n",
    "- **tol**: The tolerance the should stop the iterative calculations.   \n"
   ]
  },
  {
   "cell_type": "code",
   "execution_count": null,
   "metadata": {
    "id": "gRbcEG-AoCsz"
   },
   "outputs": [],
   "source": [
    "## write your code below\n"
   ]
  },
  {
   "cell_type": "markdown",
   "metadata": {
    "id": "wyJrcvMUsoRU"
   },
   "source": [
    "<details>\n",
    "<summary>Click to reveal answer</summary>\n",
    "\n",
    "```python\n",
    "def bisection(f, interval, tol):\n",
    "    a, b = interval[0], interval[1]\n",
    "    if abs(f(a)) < tol:\n",
    "        return a\n",
    "    if abs(f(b)) < tol:\n",
    "        return b\n",
    "    if f(a) * f(b) > 0:\n",
    "        print(\"there is no root within the given interal\")\n",
    "        return\n",
    "    m = (a + b) / 2\n",
    "    while abs(f(m)) > tol:\n",
    "        \n",
    "        if f(a) * f(m) < 0:\n",
    "            b = m\n",
    "        else:\n",
    "            a = m\n",
    "        m = (a + b) / 2\n",
    "\n",
    "    return m\n",
    "```\n",
    "</details>"
   ]
  },
  {
   "cell_type": "markdown",
   "metadata": {
    "id": "TF9Ldn6Qssom"
   },
   "source": [
    "**Task 15**   \n",
    "Test your `bisection()` function in task 14 on the following functions and intervals:   \n",
    "A. $f(x) = x^2-4$ on the interval [0,2].   \n",
    "B. $f(x) = x^2-4$ on the interval [1,3].   \n",
    "C. $f(x) = x^2-4$ on the interval [0,5]."
   ]
  },
  {
   "cell_type": "code",
   "execution_count": null,
   "metadata": {
    "id": "ZpDROd8fuCBj"
   },
   "outputs": [],
   "source": [
    "## write your code below\n"
   ]
  },
  {
   "cell_type": "markdown",
   "metadata": {
    "id": "JGmA180tuxyt"
   },
   "source": [
    "<details>\n",
    "<summary>Click to reveal answer</summary>\n",
    "\n",
    "```python\n",
    "print(bisection(lambda x: x**2-4, [0,2], 0.001))\n",
    "print(bisection(lambda x: x**2-4, [1,3], 0.001))\n",
    "print(bisection(lambda x: x**2-4, [0,5], 0.001))\n",
    "```\n",
    "</details>"
   ]
  },
  {
   "cell_type": "markdown",
   "metadata": {
    "id": "8WKo3zNfu84j"
   },
   "source": [
    "**Task 16**   \n",
    "Modify your `bisection()` in task 14 to return the number iteration used in finding the root of a function?"
   ]
  },
  {
   "cell_type": "code",
   "execution_count": null,
   "metadata": {
    "id": "iIOvRPRVvWU-"
   },
   "outputs": [],
   "source": [
    "## write your code below\n"
   ]
  },
  {
   "cell_type": "markdown",
   "metadata": {
    "id": "a2AlHEhSwl2c"
   },
   "source": [
    "<details>\n",
    "<summary>Click to reveal answer</summary>\n",
    "\n",
    "```python\n",
    "def bisection(f, interval, tol):\n",
    "    iter=0\n",
    "    a, b = interval[0], interval[1]\n",
    "    if abs(f(a)) < tol:\n",
    "        return a, iter\n",
    "    if abs(f(b)) < tol:\n",
    "        return b, iter\n",
    "    if f(a) * f(b) > 0:\n",
    "        print(\"there is no root within the given interal\")\n",
    "        return\n",
    "    m = (a + b) / 2\n",
    "    while abs(f(m)) > tol:\n",
    "        iter+=1\n",
    "        if f(a) * f(m) < 0:\n",
    "            b = m\n",
    "        else:\n",
    "            a = m\n",
    "        m = (a + b) / 2\n",
    "\n",
    "    return m, iter\n",
    "```\n",
    "</details>"
   ]
  },
  {
   "cell_type": "markdown",
   "metadata": {
    "id": "tvfgpO2AxCon"
   },
   "source": [
    "**Task 17**   \n",
    "Test your modified function on the function and interval of task 14C and observe how changing the tolerance affects the number of iteration."
   ]
  },
  {
   "cell_type": "code",
   "execution_count": null,
   "metadata": {
    "id": "kHxP59IsynQf"
   },
   "outputs": [],
   "source": [
    "## write your code below\n"
   ]
  },
  {
   "cell_type": "markdown",
   "metadata": {
    "id": "qYfxpi7K0iYi"
   },
   "source": [
    "##### Bisection method in Scipy library"
   ]
  },
  {
   "cell_type": "markdown",
   "metadata": {
    "id": "2VSA8gtb1Jn6"
   },
   "source": [
    "SciPy is a versatile library that plays a crucial role in the scientific Python ecosystem. Its wide range of functionalities, combined with the ease of use of Python, makes it an essential tool for anyone involved in scientific computing and data analysis. Whether you're conducting research, analyzing data, or developing algorithms, SciPy provides the tools you need to succeed.\n",
    "SciPy is an open-source Python library built on top of NumPy to extends its capabilities by providing additional functionality for various mathematical, scientific, and engineering tasks.   \n",
    "Installing SciPy is similar to Numpy. It is acheived through the use of the package manager `pip` as it is shown in the example below:"
   ]
  },
  {
   "cell_type": "code",
   "execution_count": null,
   "metadata": {
    "colab": {
     "base_uri": "https://localhost:8080/"
    },
    "id": "i-5WntgL3Vfx",
    "outputId": "e54b4dc5-64a9-49ac-9c45-7c006d74e4f9"
   },
   "outputs": [
    {
     "name": "stdout",
     "output_type": "stream",
     "text": [
      "Requirement already satisfied: scipy in /usr/local/lib/python3.10/dist-packages (1.13.1)\n",
      "Requirement already satisfied: numpy<2.3,>=1.22.4 in /usr/local/lib/python3.10/dist-packages (from scipy) (1.26.4)\n"
     ]
    }
   ],
   "source": [
    "!pip install scipy"
   ]
  },
  {
   "cell_type": "markdown",
   "metadata": {
    "id": "021VQUiV3Z2i"
   },
   "source": [
    "google colab already has SciPy library installed. This is why the previous code shows the message \"Requirement already satisfied\"."
   ]
  },
  {
   "cell_type": "markdown",
   "metadata": {
    "id": "drXg8YwU32Md"
   },
   "source": [
    "SciPy provides a convenient function for root-finding called `bisect()`. This function can be found in the `scipy.optimize` module as shown in the example below:"
   ]
  },
  {
   "cell_type": "code",
   "execution_count": null,
   "metadata": {
    "colab": {
     "base_uri": "https://localhost:8080/"
    },
    "id": "ErbuEy1i3_AX",
    "outputId": "bf3cf544-48aa-46fd-aedf-e78a01c9461f"
   },
   "outputs": [
    {
     "data": {
      "text/plain": [
       "1.9999999999993179"
      ]
     },
     "execution_count": 25,
     "metadata": {},
     "output_type": "execute_result"
    }
   ],
   "source": [
    "import scipy.optimize as optimize\n",
    "optimize.bisect(lambda x: x**2-4, 0, 5)"
   ]
  },
  {
   "cell_type": "markdown",
   "metadata": {
    "id": "JO_lTsbN4PZZ"
   },
   "source": [
    "**Task 18**   \n",
    "A. Execute the code in the cell below to learn more about `optimize.bisect()`"
   ]
  },
  {
   "cell_type": "code",
   "execution_count": null,
   "metadata": {
    "id": "tdEXbi9qKZ1T"
   },
   "outputs": [],
   "source": [
    "import scipy.optimize as optimize\n",
    "optimize.bisect??"
   ]
  },
  {
   "cell_type": "markdown",
   "metadata": {
    "id": "0q72J1vcLZyr"
   },
   "source": [
    "B. How is your modified `bisection()` function is different from the `optimize.bisec()` function in SciPy."
   ]
  },
  {
   "cell_type": "code",
   "execution_count": null,
   "metadata": {
    "id": "w2J60yPAO-LT"
   },
   "outputs": [],
   "source": [
    "## write your answer below"
   ]
  },
  {
   "cell_type": "markdown",
   "metadata": {
    "id": "HXsXiq73BBhn"
   },
   "source": [
    "\n",
    "####False Position Method (Regula Falsi)\n"
   ]
  },
  {
   "cell_type": "markdown",
   "metadata": {
    "id": "D4tj-jLw2LCe"
   },
   "source": [
    "Even though bisection method is simple and robust, it sufers from being slow to converge.Therefore, False Position Method (Regula Falsi) trys to resolve this issue by using a linear interpolation to narrow the interval rather than dividing it into half as it is being applied in bisection methods. This modification makes the False Position often converges faster than the bisection method, especially if the function is approximately linear.\n",
    "\n"
   ]
  },
  {
   "cell_type": "markdown",
   "metadata": {
    "id": "RydeLY8pAtdN"
   },
   "source": [
    "The False Position Method involves the following steps:\n",
    "\n",
    "- **Choose an Interval**: Start with an interval [𝑎,𝑏] such that 𝑓(𝑎)⋅𝑓(𝑏)<0.   \n",
    "- **Calculate the False Position**: Compute the root approximation r using linear interpolation:\n",
    "$$r_i = \\frac{bf(b)- af(a)}{f(b)-f(a)}$$\n",
    "\n",
    "- Evaluate the Function: Check the sign of 𝑓(r):   \n",
    "    - If 𝑓(r) = 0 , then r is the root.   \n",
    "    - If 𝑓(𝑎)⋅𝑓(r) < 0 , then the root lies in [𝑎,r]. Set 𝑏 = r.   \n",
    "    - If 𝑓(𝑏)⋅𝑓(r) < 0 , then the root lies in [r,𝑏]. Set 𝑎 = r.   \n",
    "- **Repeat**: Continue this process until the desired accuracy is achieved."
   ]
  },
  {
   "cell_type": "markdown",
   "metadata": {
    "id": "taOyasCaJqj_"
   },
   "source": [
    "<center>\n",
    "\n",
    "![FP.JPG](data:image/jpeg;base64,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)"
   ]
  },
  {
   "cell_type": "markdown",
   "metadata": {
    "id": "3r669exIKK9y"
   },
   "source": [
    "**Task 19**   \n",
    "Develop a python function named fposition that implement false position method. The function should take similar arguments as those of bisection function developed earlier and should also return the root of the function and number of calculation used in the calculation?"
   ]
  },
  {
   "cell_type": "code",
   "execution_count": null,
   "metadata": {
    "id": "bGJ6XHi3LCsn"
   },
   "outputs": [],
   "source": [
    "## write your code below\n"
   ]
  },
  {
   "cell_type": "markdown",
   "metadata": {
    "id": "idgu_HlvOTZ4"
   },
   "source": [
    "<details>\n",
    "<summary>Click to reveal answer</summary>\n",
    "\n",
    "```python\n",
    "def fposition(f, interval, tol=1e-6):\n",
    "    iter = 0\n",
    "    a,b = interval[0], interval[1]\n",
    "    if abs(f(a)) < tol:\n",
    "        return a, iter\n",
    "    if abs(f(b)) < tol:\n",
    "        return b, iter\n",
    "    if f(a) * f(b) >= 0:\n",
    "        raise ValueError(\"f(a) and f(b) must have different signs\")\n",
    "    \n",
    "    r = a - f(a) * (b - a) / (f(b) - f(a))\n",
    "    while abs(f(r)) > tol:\n",
    "        iter += 1\n",
    "        if f(a) * f(r) < 0:\n",
    "            b = r\n",
    "        else:\n",
    "            a = r\n",
    "        r = a - f(a) * (b - a) / (f(b) - f(a))\n",
    "    return r, iter\n",
    "```\n",
    "</details>"
   ]
  },
  {
   "cell_type": "markdown",
   "metadata": {
    "id": "10yBnXr_OYGH"
   },
   "source": [
    "**Task 20**   \n",
    "Test your `fpostion()` function developed in task 19 for the function and interval given in task 15?"
   ]
  },
  {
   "cell_type": "code",
   "execution_count": null,
   "metadata": {
    "id": "Rd9S4NOVP3E9"
   },
   "outputs": [],
   "source": [
    "## your code below\n"
   ]
  },
  {
   "cell_type": "markdown",
   "metadata": {
    "id": "UOzP96fMP6XV"
   },
   "source": [
    "<details>\n",
    "<summary>Click to reveal answer</summary>\n",
    "\n",
    "```python\n",
    "print(fposition(lambda x: x**2-4, [0, 2],0.0001))\n",
    "print(fposition(lambda x: x**2-4, [1, 3],0.0001))\n",
    "print(fposition(lambda x: x**2-4, [0, 5],0.0001))\n",
    "```\n",
    "</details>"
   ]
  },
  {
   "cell_type": "markdown",
   "metadata": {
    "id": "wX4XwCOAPRPV"
   },
   "source": [
    "**Task 21**   \n",
    "compare the performace of `fposition` with `bisction()` on a function and interval of your own choice using different tolerance values."
   ]
  },
  {
   "cell_type": "code",
   "execution_count": null,
   "metadata": {
    "id": "Ubp4XmryPvkX"
   },
   "outputs": [],
   "source": [
    "## write your answer below\n"
   ]
  },
  {
   "cell_type": "markdown",
   "metadata": {
    "id": "t0DMS9C5Qteb"
   },
   "source": [
    "#####Comparing False Position Method vs. Bisection Method\n"
   ]
  },
  {
   "cell_type": "markdown",
   "metadata": {
    "id": "KSxh2xzYRBdl"
   },
   "source": [
    "\n",
    "**Similarities**   \n",
    "\n",
    "- Both methods require an interval [𝑎,𝑏] such that 𝑓(𝑎)⋅𝑓(𝑏)<0.   \n",
    "- Both methods iteratively narrow down the interval to find the root.\n",
    "- Both methods are guaranteed to converge to a root if the required conditions are met.\n",
    "\n",
    "<br>\n",
    "\n",
    "**Differences**   \n",
    "<br>\n",
    "\n",
    "Feature |False Position Method|\tBisection Method    \n",
    ":----|:----|:-----      \n",
    "  Root Approximation|\tUses linear interpolation to find 𝑐  | Always uses the midpoint to find 𝑐\n",
    "Convergence Speed|\tGenerally faster, especially for well-behaved functions|\tSlower; halves the interval each time\n",
    "Interval Update| Updates one endpoint based on the sign of 𝑓(𝑐)| Always updates one endpoint to the midpoint\n",
    "Handling of Functions|\tCan struggle if the function is flat near the root|\tMore robust in such cases"
   ]
  },
  {
   "cell_type": "markdown",
   "metadata": {},
   "source": [
    "## Open Methods"
   ]
  },
  {
   "cell_type": "markdown",
   "metadata": {},
   "source": [
    "Open methods do not require an initial interval and typically start from a single initial guess. They can converge more rapidly than closed methods but may fail if the initial guess is not close to the actual root."
   ]
  },
  {
   "cell_type": "markdown",
   "metadata": {},
   "source": [
    "### Common Open Methods\n"
   ]
  },
  {
   "cell_type": "markdown",
   "metadata": {},
   "source": [
    "There are several methods that are based on initial guess such as:   \n",
    "- Newton-Raphson Method   \n",
    "- Secant Method   \n",
    "- Fix Point Iteration"
   ]
  },
  {
   "cell_type": "markdown",
   "metadata": {},
   "source": [
    "#### Newton-Raphson Method"
   ]
  },
  {
   "cell_type": "markdown",
   "metadata": {},
   "source": [
    "The Newton-Raphson method is an iterative numerical technique used to find approximate roots of a real-valued function. It is based on the idea of using the tangent line at a given point to approximate the function's behavior near that point.\n"
   ]
  },
  {
   "cell_type": "markdown",
   "metadata": {},
   "source": [
    "The iterative formula for the Newton-Raphson Method is given by:\n",
    "$$x_{n+1} = x_n - \\frac{f(x_n)}{f'(x_n)}$$\n",
    "\n",
    "Where:   \n",
    "**$x_n$**: The current approximation of the root.   \n",
    "**$f(x_n)$**: The value of the function at $x_n$.    \n",
    "**$f'(x_n)$**: The value of the derivative at $x_n$.   "
   ]
  },
  {
   "cell_type": "markdown",
   "metadata": {},
   "source": [
    "<center>\n",
    "\n",
    "![Newton-Raphson-Method.png](data:image/png;base64,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)"
   ]
  },
  {
   "cell_type": "markdown",
   "metadata": {},
   "source": [
    "The Newton-Raphson method is known for its quadratic convergence when the initial guess is close to the root. This means that the number of correct digits approximately doubles with each iteration. However, if the guess is far from the root, the convergence can be slow or even linear, which is significantly less efficient."
   ]
  },
  {
   "cell_type": "markdown",
   "metadata": {},
   "source": [
    "**Task 1**   \n",
    "Create a python function name newton_raphson that implemt Newton-Raphson method for finding a root of a function. The function should have the following arguments:   \n",
    "\n",
    "- **f** : function : The function for which to find the root.   \n",
    "- **df** : The derivative of the function.   \n",
    "- **x0** : The initial guess.   \n",
    "- **tol** : The tolerance for convergence.   \n",
    "- **max_iter** : The maximum number of iterations.   \n",
    "\n",
    "The function should return:   \n",
    "- **xn** : The approximate root.   \n",
    "- **iter_count** : The number of iterations performed."
   ]
  },
  {
   "cell_type": "code",
   "execution_count": null,
   "metadata": {},
   "outputs": [],
   "source": [
    "## write your code below\n"
   ]
  },
  {
   "cell_type": "markdown",
   "metadata": {},
   "source": [
    "<details>\n",
    "<summary>Click to reveal answer</summary>\n",
    "\n",
    "```python\n",
    "def newton_raphson(f, df, x0, tol=1e-6, max_iter=100):\n",
    "    xn = x0\n",
    "    for n in range(0, max_iter):\n",
    "        fxn = f(xn)\n",
    "        if abs(fxn) < tol:\n",
    "            return xn, n\n",
    "        else:\n",
    "            dfxn = df(xn)\n",
    "            if abs(dfxn) < tol:\n",
    "                print('Zero derivative. No solution found.')\n",
    "                return\n",
    "            else:\n",
    "                xn = xn - fxn/dfxn\n",
    "    print('Exceeded maximum iterations. No solution found.')\n",
    "\n",
    "```\n",
    "</details>"
   ]
  },
  {
   "cell_type": "markdown",
   "metadata": {},
   "source": [
    "**Task 2**   \n",
    "Test your function that you created in task 1 for $f(x)=x^2-4$ for differnt intial guesses, $x_0 =  [-5,-1,0,1,5]$?"
   ]
  },
  {
   "cell_type": "code",
   "execution_count": null,
   "metadata": {},
   "outputs": [],
   "source": [
    "## write your code below\n"
   ]
  },
  {
   "cell_type": "markdown",
   "metadata": {},
   "source": [
    "\n",
    "<details>\n",
    "<summary>Click to reveal answer</summary>\n",
    "\n",
    "```python\n",
    "print(newton_raphson(lambda x: x**2-4, lambda x: 2*x, -5))\n",
    "print(newton_raphson(lambda x: x**2-4, lambda x: 2*x, -1))\n",
    "print(newton_raphson(lambda x: x**2-4, lambda x: 2*x, 0))\n",
    "print(newton_raphson(lambda x: x**2-4, lambda x: 2*x, 1))\n",
    "print(newton_raphson(lambda x: x**2-4, lambda x: 2*x, 5))\n",
    "```\n",
    "</details>"
   ]
  },
  {
   "cell_type": "markdown",
   "metadata": {},
   "source": [
    "##### Failure of Newton-Raphson Method"
   ]
  },
  {
   "cell_type": "markdown",
   "metadata": {},
   "source": [
    "While Newton-Raphson's method is widely used due to its rapid convergence properties, the need of this method to the calculation of the function derivative is considered one of its big drawbacks. For example, if you try to find the roots of $f(x)=sin(cos(e^x))=0$, you have to find its derivative first which is very difficult to find and might be much more complecated than the function itself.   \n",
    "  \n"
   ]
  },
  {
   "cell_type": "markdown",
   "metadata": {},
   "source": [
    "**Task 3**   \n",
    "use what you have learned in sympy to find the derivative of $f(x)=sin(cos(e^x))$.\n"
   ]
  },
  {
   "cell_type": "code",
   "execution_count": null,
   "metadata": {},
   "outputs": [],
   "source": [
    "## write your code below\n"
   ]
  },
  {
   "cell_type": "markdown",
   "metadata": {},
   "source": [
    "<details>\n",
    "<summary>Click to reveal answer</summary>\n",
    "\n",
    "```python\n",
    "import sympy as sp\n",
    "x = sp.symbols('x')\n",
    "f=sp.sin(sp.cos(sp.exp(x)))\n",
    "f.diff(x)\n",
    "```\n",
    "</details>"
   ]
  },
  {
   "cell_type": "markdown",
   "metadata": {},
   "source": [
    "Additionally, there are specific scenarios where the method can fail or converge slowly. The method can fail or converge slowly under several conditions:"
   ]
  },
  {
   "cell_type": "markdown",
   "metadata": {},
   "source": [
    "**1. Zero Derivative**   \n",
    "If the derivative is zero at any iteration, the formula becomes undefined. This situation often occurs at local maxima or minima, where the tangent line is horizontal. see the graph below:"
   ]
  },
  {
   "cell_type": "markdown",
   "metadata": {},
   "source": [
    "<center>\n",
    "\n",
    "![image.png](data:image/png;base64,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)"
   ]
  },
  {
   "cell_type": "markdown",
   "metadata": {},
   "source": [
    "**Task 4**   \n",
    "Test your function on $f(x)=e^\\frac{1}{x^2}$ and inital guess of $x_0=0$?"
   ]
  },
  {
   "cell_type": "code",
   "execution_count": null,
   "metadata": {},
   "outputs": [],
   "source": [
    "## write your code below\n"
   ]
  },
  {
   "cell_type": "markdown",
   "metadata": {},
   "source": [
    "<details>\n",
    "<summary>Click to reveal answer</summary>\n",
    "\n",
    "```python\n",
    "import math\n",
    "newton_raphson(lambda x: math.cos(x), lambda x:-math.sin(x), 0)\n",
    "```\n",
    "</details>"
   ]
  },
  {
   "cell_type": "markdown",
   "metadata": {},
   "source": [
    "2. **Oscillation**: If the function has inflection points or local extrema near the initial guess, the method may oscillate between values without converging to a root."
   ]
  },
  {
   "cell_type": "markdown",
   "metadata": {},
   "source": [
    "<center>\n",
    "\n",
    "![osillation.JPG](data:image/jpeg;base64,/9j/4AAQSkZJRgABAQEAYABgAAD/4QL8RXhpZgAATU0AKgAAAAgABAE7AAIAAAAYAAABSodpAAQAAAABAAABYpydAAEAAAAaAAAC2uocAAcAAAEMAAAAPgAAAAAc6gAAAAEAAAAAAAAAAAAAAAAAAAAAAAAAAAAAAAAAAAAAAAAAAAAAAAAAAAAAAAAAAAAAAAAAAAAAAAAAAAAAAAAAAAAAAAAAAAAAAAAAAAAAAAAAAAAAAAAAAAAAAAAAAAAAAAAAAAAAAAAAAAAAAAAAAAAAAAAAAAAAAAAAAAAAAAAAAAAAAAAAAAAAAAAAAAAAAAAAAAAAAAAAAAAAAAAAAAAAAAAAAAAAAAAAAAAAAAAAAAAAAAAAAAAAAAAAAAAAAAAAAAAAAAAAAAAAAAAAAAAAAAAAAAAAAAAAAAAAAAAAAAAAAAAAAAAAAAAAAAAAAAAAAAAAAAAAAAAAAAAAAAAAAAAAAAAA2KfYrdmF2K8g2KfZhNi12KfYudiv2YoAAAWQAwACAAAAFAAAArCQBAACAAAAFAAAAsSSkQACAAAAAzg2AACSkgACAAAAAzg2AADqHAAHAAABDAAAAaQAAAAAHOoAAAABAAAAAAAAAAAAAAAAAAAAAAAAAAAAAAAAAAAAAAAAAAAAAAAAAAAAAAAAAAAAAAAAAAAAAAAAAAAAAAAAAAAAAAAAAAAAAAAAAAAAAAAAAAAAAAAAAAAAAAAAAAAAAAAAAAAAAAAAAAAAAAAAAAAAAAAAAAAAAAAAAAAAAAAAAAAAAAAAAAAAAAAAAAAAAAAAAAAAAAAAAAAAAAAAAAAAAAAAAAAAAAAAAAAAAAAAAAAAAAAAAAAAAAAAAAAAAAAAAAAAAAAAAAAAAAAAAAAAAAAAAAAAAAAAAAAAAAAAAAAAAAAAAAAAAAAAAAAAAAAAAAAAAAAAAAAAAAAAAAAAAAAAAAAAADIwMjQ6MTE6MDIgMTU6MDI6MDQAMjAyNDoxMTowMiAxNTowMjowNAAAACcGLQZFBi8GIAAnBkQGNQYnBjkGLwZKBgAA/+EEKmh0dHA6Ly9ucy5hZG9iZS5jb20veGFwLzEuMC8APD94cGFja2V0IGJlZ2luPSfvu78nIGlkPSdXNU0wTXBDZWhpSHpyZVN6TlRjemtjOWQnPz4NCjx4OnhtcG1ldGEgeG1sbnM6eD0iYWRvYmU6bnM6bWV0YS8iPjxyZGY6UkRGIHhtbG5zOnJkZj0iaHR0cDovL3d3dy53My5vcmcvMTk5OS8wMi8yMi1yZGYtc3ludGF4LW5zIyI+PHJkZjpEZXNjcmlwdGlvbiByZGY6YWJvdXQ9InV1aWQ6ZmFmNWJkZDUtYmEzZC0xMWRhLWFkMzEtZDMzZDc1MTgyZjFiIiB4bWxuczpkYz0iaHR0cDovL3B1cmwub3JnL2RjL2VsZW1lbnRzLzEuMS8iLz48cmRmOkRlc2NyaXB0aW9uIHJkZjphYm91dD0idXVpZDpmYWY1YmRkNS1iYTNkLTExZGEtYWQzMS1kMzNkNzUxODJmMWIiIHhtbG5zOnhtcD0iaHR0cDovL25zLmFkb2JlLmNvbS94YXAvMS4wLyI+PHhtcDpDcmVhdGVEYXRlPjIwMjQtMTEtMDJUMTU6MDI6MDQuODYxPC94bXA6Q3JlYXRlRGF0ZT48L3JkZjpEZXNjcmlwdGlvbj48cmRmOkRlc2NyaXB0aW9uIHJkZjphYm91dD0idXVpZDpmYWY1YmRkNS1iYTNkLTExZGEtYWQzMS1kMzNkNzUxODJmMWIiIHhtbG5zOmRjPSJodHRwOi8vcHVybC5vcmcvZGMvZWxlbWVudHMvMS4xLyI+PGRjOmNyZWF0b3I+PHJkZjpTZXEgeG1sbnM6cmRmPSJodHRwOi8vd3d3LnczLm9yZy8xOTk5LzAyLzIyLXJkZi1zeW50YXgtbnMjIj48cmRmOmxpPtin2K3ZhdivINin2YTYtdin2LnYr9mKPC9yZGY6bGk+PC9yZGY6U2VxPg0KCQkJPC9kYzpjcmVhdG9yPjwvcmRmOkRlc2NyaXB0aW9uPjwvcmRmOlJERj48L3g6eG1wbWV0YT4NCiAgICAgICAgICAgICAgICAgICAgICAgICAgICAgICAgICAgICAgICAgICAgICAgICAgICAgICAgICAgICAgICAgICAgICAgICAgICAgICAgICAgICAgICAgICAgICAgICAgICAKICAgICAgICAgICAgICAgICAgICAgICAgICAgICAgICAgICAgICAgICAgICAgICAgICAgICAgICAgICAgICAgICAgICAgICAgICAgICAgICAgICAgICAgICAgICAgICAgICAgIAogICAgICAgICAgICAgICAgICAgICAgICAgICAgICAgICAgICAgICAgICAgICAgICAgICAgICA8P3hwYWNrZXQgZW5kPSd3Jz8+/9sAQwAHBQUGBQQHBgUGCAcHCAoRCwoJCQoVDxAMERgVGhkYFRgXGx4nIRsdJR0XGCIuIiUoKSssKxogLzMvKjInKisq/9sAQwEHCAgKCQoUCwsUKhwYHCoqKioqKioqKioqKioqKioqKioqKioqKioqKioqKioqKioqKioqKioqKioqKioqKioq/8AAEQgBngIAAwEiAAIRAQMRAf/EAB8AAAEFAQEBAQEBAAAAAAAAAAABAgMEBQYHCAkKC//EALUQAAIBAwMCBAMFBQQEAAABfQECAwAEEQUSITFBBhNRYQcicRQygZGhCCNCscEVUtHwJDNicoIJChYXGBkaJSYnKCkqNDU2Nzg5OkNERUZHSElKU1RVVldYWVpjZGVmZ2hpanN0dXZ3eHl6g4SFhoeIiYqSk5SVlpeYmZqio6Slpqeoqaqys7S1tre4ubrCw8TFxsfIycrS09TV1tfY2drh4uPk5ebn6Onq8fLz9PX29/j5+v/EAB8BAAMBAQEBAQEBAQEAAAAAAAABAgMEBQYHCAkKC//EALURAAIBAgQEAwQHBQQEAAECdwABAgMRBAUhMQYSQVEHYXETIjKBCBRCkaGxwQkjM1LwFWJy0QoWJDThJfEXGBkaJicoKSo1Njc4OTpDREVGR0hJSlNUVVZXWFlaY2RlZmdoaWpzdHV2d3h5eoKDhIWGh4iJipKTlJWWl5iZmqKjpKWmp6ipqrKztLW2t7i5usLDxMXGx8jJytLT1NXW19jZ2uLj5OXm5+jp6vLz9PX29/j5+v/aAAwDAQACEQMRAD8A+kaKKKACiqOsatb6JpM9/dk+XEvCqMs7dlA7knimeH9W/t3w7Y6oYDbm6hEnlE5KZ7ZoA0aKKKACiiigAooooAKKKKACiiigAooooAKKKKACijpRQAUUUUAFFFFABRRRQAUUUUAFFFFABRRRQAUUUUAFFFFABRRRQAUUUUAFFFFABRRRQAUUUUAFFFFABRRRQAUUUUAFFFFABRRRQAUUUUAFFGaKACiiigAooooAKKKKAOb8T+HtT1i9tLrT9Thtls1dlt57QzK0hGA/DryBkDrjJp/gSw1HTfBdha6w6m4jjxtWLyzGP7pGTk+/6V0NFAHK2Oiafq+r65NqVv8AaJI7/wAtCzt8qiCI4GD0yT+daH/CH6D/ANA9f++3/wAaPD//ACEPEH/YT/8AaENbVAGL/wAIfoP/AED1/wC+3/xo/wCEP0H/AKB6/wDfb/41tUUAYv8Awh+g/wDQPX/vt/8AGj/hD9B/6B6/99v/AI1tUUAYv/CH6D/0D1/77f8AxqhF4L0seILuR7NTZtawLFH5r/LIHl3nGe4Mf5V1NRr/AMfL/wC4v8zQBk/8IfoP/QPX/vt/8aP+EP0H/oHr/wB9v/jW1RQBi/8ACH6D/wBA9f8Avt/8aP8AhD9B/wCgev8A32/+NbVFAGL/AMIfoP8A0D1/77f/ABo/4Q/Qf+gev/fb/wCNbVFAHI614Isrg2KaZH9k/wBIYzukrAsnkyYHXn59hx7U7SNA0W7jkgvNMSO9tztmTzH59GHPQ11En+sh/wB//wBlNZ+rWErSR6hpwAvYOg6eandD/SsZpxfPH5kvTUh/4Q/Qf+gev/fb/wCNH/CH6D/0D1/77f8AxrR0++i1GzS4h6NwynqjDqpHYg1ZrVNNXRRi/wDCH6D/ANA9f++3/wAaP+EP0H/oHr/32/8AjW1RTAxf+EP0H/oHr/32/wDjVDW/Bely+H9Rj06zWK8e1lWCTzXGyQodpznjBxXU1Hcf8e0v+4f5UAZP/CH6D/0D1/77f/Gj/hD9B/6B6/8Afb/41tUUAYv/AAh+g/8AQPX/AL7f/Gj/AIQ/Qf8AoHr/AN9v/jW1RQBi/wDCH6D/ANA9f++3/wAaP+EP0H/oHr/32/8AjW1RQBi/8IfoP/QPX/vt/wDGuQ+G3h/TNS8OXk1/bm4kTVbyJWklckIszBR16ADFek1xHwp/5FW//wCwzff+j2oA3f8AhD9B/wCgev8A32/+NH/CH6D/ANA9f++3/wAa2qKAMX/hD9B/6B6/99v/AI0f8IfoP/QPX/vt/wDGtqigDF/4Q/Qf+gev/fb/AONH/CH6D/0D1/77f/GtqigDlovBemDxBdSPZqbNrWFY4/Nf5ZA8u84z3BT8qv8A/CH6D/0D1/77f/GtYf8AHy/+4v8AM1JQBi/8IfoP/QPX/vt/8aP+EP0H/oHr/wB9v/jW1RQBi/8ACH6D/wBA9f8Avt/8aP8AhD9B/wCgev8A32/+NbVFAGL/AMIfoP8A0D1/77f/ABqhqHgvTHutNNrZqkaXRa4HmuN8flSDHXn5ip/CupqOX78X+/8A0NAGT/wh+g/9A9f++3/xo/4Q/Qf+gev/AH2/+NbVFAGL/wAIfoP/AED1/wC+3/xo/wCEP0H/AKB6/wDfb/41tUUAYv8Awh+g/wDQPX/vt/8AGj/hD9B/6B6/99v/AI1tUUAczq/gzSpNDvksbJYrpreQQv5jja+07TnPrirMfg7QxEgfT1LbRk+Y/X862p/+PeT/AHT/ACpw+6PpQBjf8IfoP/QPX/vt/wDGj/hD9B/6B6/99v8A41tUUAeWeNNIs4vF3hzRtHia2kup985jlbJjBGc89MBjXc/8IfoP/QPX/vt/8a5S3/4m3x3nkJzHpNntHs7DH8mNei114j3Y04eV/v1OLDXlOpPu7fdp/mYv/CH6D/0D1/77f/Gj/hD9B/6B6/8Afb/41tUVyHaYvhBmbwhpxdmY+VjLHJ6nvW1WJ4O/5E/Tv+uX9TW3QAUUUUAFFFFAGL4f/wCQh4g/7Cf/ALQhrarF8P8A/IQ8Qf8AYT/9oQ1tUAFFFFABRRRQAVGv/Hy/+4v8zUlRr/x8v/uL/M0ASUUUUAFFFFABRRRQBHJ/rIf9/wD9lNSVHJ/rIf8Af/8AZTUlAGJfo+j3zapbqWtZD/pkSjp/00HuO/tWzFIk0SyRMHRxlWB4IpWUMpVhkEYIPesKAnw9qAtZP+QbctiBz/yxc/wH2PasP4Ur9H+D/wCCTszeooorcoKjuP8Aj2l/3D/KpKjuP+PaX/cP8qAJKKKKACiiigAooooAK4j4U/8AIq3/AP2Gb7/0e1dvXEfCn/kVb/8A7DN9/wCj2oA7eiiigAooooAKKKKAIx/x8v8A7i/zNSVGP+Pl/wDcX+ZqSgAooooAKKKKACo5fvxf7/8AQ1JUcv34v9/+hoAkooooAKKKKACiiigBk/8Ax7yf7p/lTh90fSmz/wDHvJ/un+VOH3R9KAFoJABJ4A6misXxjqP9k+DtTu84ZLdlX/eYYH6mqhFzkorqTOShFyfQ5P4VKNQu/EGvNyb29YIT/cBJA/WvRq5T4Z6d/Z3w/wBOUrtedTO3HXccj9MV1ddGLkpV5W22+7Q5sHFxoRvu9fv1CiiiuU6zE8Hf8ifp3/XL+prbrE8Hf8ifp3/XL+prboAK8/mhudA8ZaMHu9Sdbq4dbq/uZy0FwWVikSxhiEIOMfKo4xk5r0AjIwelczb+CoYprQTanfXNnZTm4trSZlKRvzj5sbmxk4yTQBD44ttXvptIttKt7yaD7Q8t19kvTasVEbBVLgggFmBwM/dq74Nu4LnQ3jhS8iktriSC4ivbhp5I5FPK7yTuHII9jT7rw29wtnINYvory0Zyl0pQsyv1VlK7SOmMjjFW9E0WDQ7F7eCSSZpZWmmmlILyyMcljjigDI0a41JPEGuR29hDLanUhvna52sv7iHPybTn866TdL/zzX/vv/61ZPh//kIeIP8AsJ/+0Ia2qAI90v8AzzX/AL7/APrUbpf+ea/99/8A1qkooAj3S/8APNf++/8A61G6X/nmv/ff/wBapKKAI90v/PNf++//AK1Rq0v2l/3a/cX+P3PtVio1/wCPl/8AcX+ZoAN0v/PNf++//rUbpf8Anmv/AH3/APWqSigCPdL/AM81/wC+/wD61G6X/nmv/ff/ANapKKAI90v/ADzX/vv/AOtRul/55r/33/8AWqSigCvI0vmRfu1+/wD3/wDZPtUm6X/nmv8A33/9aiT/AFkP+/8A+ympKAI90v8AzzX/AL7/APrVDd2/261kt7iBWjkGCN//ANarVFJpNWYGLpl5dWtx/ZWoDdMg3Qys3+uT/Ed61t0v/PNf++//AK1VdU04ahbgI/lXEZ3wygco3+HrTdJ1I30Lx3CeVeQHZPFnofUex6isotwfI/kStNC5ul/55r/33/8AWqO4aX7NL+7X7h/j9vpVio7j/j2l/wBw/wAq2KDdL/zzX/vv/wCtRul/55r/AN9//WqSigCPdL/zzX/vv/61G6X/AJ5r/wB9/wD1qkooAj3S/wDPNf8Avv8A+tRul/55r/33/wDWqSigCPdL/wA81/77/wDrVxPwqaT/AIRa+wgP/E5vv4v+m7e1d1XEfCn/AJFW/wD+wzff+j2oA7PdL/zzX/vv/wCtRul/55r/AN9//WqSigCPdL/zzX/vv/61G6X/AJ5r/wB9/wD1qkooAj3S/wDPNf8Avv8A+tRul/55r/33/wDWqSigCuGl+0v+7X7i/wAfufapN0v/ADzX/vv/AOtQP+Pl/wDcX+ZqSgCPdL/zzX/vv/61G6X/AJ5r/wB9/wD1qkooAj3S/wDPNf8Avv8A+tRul/55r/33/wDWqSigCPdL/wA81/77/wDrVHK0u+L92v3/AO/7H2qxUcv34v8Af/oaADdL/wA81/77/wDrUbpf+ea/99//AFqkooAj3S/881/77/8ArUbpf+ea/wDff/1qkooAj3S/881/77/+tRul/wCea/8Aff8A9apKKAIJ2l+zyfu1+6f4/b6U4NLtH7ten9//AOtTp/8Aj3k/3T/KnD7o+lADN0v/ADzX/vv/AOtXA/Fq7nfw/Z6RCAs2pXSRKAc55/xxXoVed66f7a+M2j6evzRaZAbiQZ6MeRn8lP4114PSrzv7N393/BOPGu9HkX2ml9//AADurOBrKxgtYYlEcEaxqN3QAYHb2qbdL/zzX/vv/wCtUlFcjd9TrSsrIj3S/wDPNf8Avv8A+tVa+uNSijU2FhDcsT8yyXPl4H12nNXaKBmH4LLHwZphdQrGHkA5wcnvW5WJ4O/5E/Tv+uX9TW3QAUUUUAFFFFAGL4f/AOQh4g/7Cf8A7QhrarF8P/8AIQ8Qf9hP/wBoQ1tUAFFFFABRRRQAVGv/AB8v/uL/ADNSVGv/AB8v/uL/ADNAElFFFABRRRQAUUUUARyf6yH/AH//AGU1JUcn+sh/3/8A2U1JQAUUUUAFZOr2MyTLqmmr/pkIw0eeJ07qff0Na1FROKmrMTVyvYX0OoWaXFucq3UHqp7g+4qS4/49pf8AcP8AKse8RtDvm1GAE2czf6XEB9w9pB/WteV1ksndCGVoyQR3GKUJN+7Ldf1cE+jJaKKK0GFFFFABRRRQAVxHwp/5FW//AOwzff8Ao9q7euI+FP8AyKt//wBhm+/9HtQB29FFFABRRRQAUUUUARj/AI+X/wBxf5mpKjH/AB8v/uL/ADNSUAFFFFABRRRQAVHL9+L/AH/6GpKjl+/F/v8A9DQBJRRRQAUUUUAFFFFADJ/+PeT/AHT/ACpw+6PpTZ/+PeT/AHT/ACpw+6PpQAtedfD/AP4nPjXxN4gb5lacW8LHqFH/ANYLXYeKNRGk+FtRvScGK3YjnvjArF+F2nNp/gCzaQESXbNcvkYzuPH/AI6BXZT9zDzl3sv1ZxVffxMIdrv9F+bOvooorjO0KKKKAMTwd/yJ+nf9cv6mtusTwd/yJ+nf9cv6mtugAooooAzNY1610U26TpNPPdMVht7eMvJJgZJA9AOpqfStUtdZ06O9sXLQuSPmUqVIOCCD0IIIrP8AEmr2WmiCDUbmXTo7sOi6iu0LbsBnBdgQpPOM8HFUPhyHXwu8YDPbx3kwtrhlIa5j3kiU57sSTnv170AaPh//AJCHiD/sJ/8AtCGtquX0bSbe48Qa5eySXglTUgAsd7MkZxBD1jVgh/EV0nkL6yf9/G/xoAkoqPyF9ZP+/jf40eQvrJ/38b/GgCSio/IX1k/7+N/jR5C+sn/fxv8AGgCSo1/4+X/3F/maPIX1k/7+N/jUawL9pfmT7i/8tG9T70AWKKj8hfWT/v43+NHkL6yf9/G/xoAkoqPyF9ZP+/jf40eQvrJ/38b/ABoAkoqPyF9ZP+/jf41g+K/E+meE9P8APvZJHnkBENukjb5D+fA96uEJTkoxV2ROcacXKTskbN9dwWMK3F5MkMMbEs7tgD5TXD3nxSW8unsvB+k3GsXC8eYAVjHvnr/Ks+w8K6542uodR8bSzW1gz5h0xXIwME5bPT+f0r0PT9G0/SrVbfTbZbWFeiREqP511ONGhpL3pfgv8zjUq9fWHuR/F/LocQLb4n6v88l3p+kIw/1arkj9GP60p8LfENfnTxbAWH8JQ4/9Br0DyF9ZP+/jf40eQvrJ/wB/G/xpfW5dIxXyRX1OL3lJ/Nnnpu/idox3T21hrMQ67BtY/TGP5Vb074q6Y90LPX7O50W6PG24XK/nj+ldv5C+sn/fxv8AGqOqeHtK1q3MGqWaXKHp5hJK/Q54o9tSnpUh81p+GwvYVoa0qj9Ja/juXYpre+tQ8Mkc8Eg4ZSGVhWIrtoUz2EpzYTg/ZXP/ACzbH+rPt6flXJXfgvXvB0rXvgi8lubUtuk0yVzgj255P61q6P4s0bxjp8+nXqyWeoqpElncOQwYd1z1x+YrGvhW4+1ou6X9WaHDEXlyVFyy/B+j/pncUViaVPJHcPpepPIbqIZjlLsPPT+916+ta/kL6yf9/G/xrmhJTV0didySio/IX1k/7+N/jR5C+sn/AH8b/GrGSUVH5C+sn/fxv8aPIX1k/wC/jf40ASVxHwp/5FW//wCwzff+j2rs/IX1k/7+N/jXE/CqJT4Wvsl/+QzfdHI/5bt70Ad1RUfkL6yf9/G/xo8hfWT/AL+N/jQBJRUfkL6yf9/G/wAaPIX1k/7+N/jQBJRUfkL6yf8Afxv8aPIX1k/7+N/jQAD/AI+X/wBxf5mpKriBftL8yfcX/lo3qfepPIX1k/7+N/jQBJRUfkL6yf8Afxv8aPIX1k/7+N/jQBJRUfkL6yf9/G/xo8hfWT/v43+NAElRy/fi/wB/+ho8hfWT/v43+NRywLvi5k+//wA9G9D70AWKKj8hfWT/AL+N/jR5C+sn/fxv8aAJKKj8hfWT/v43+NHkL6yf9/G/xoAkoqPyF9ZP+/jf40eQvrJ/38b/ABoAWf8A495P90/ypw+6PpUM8C/Z5OZPun/lo3p9acIF2jmTp/z0b/GgDhfi3eO2h2GiwZ83VbtYzjrsUgn9StdxY2qWOn29rEMJDGqL9AMV57dR/wBv/Gy2tvmktdHtjI2WJCuffsckflXovkL6yf8Afxv8a7K/uUoU/m/n/wAA4sP79WpU87L5f8EkoqPyF9ZP+/jf40eQvrJ/38b/ABrjO0koqPyF9ZP+/jf41WvtJt9QjVJ5LxApyPs97NCfxKMCfxoAo+Dv+RP07/rl/U1t1h+C1EfgzTEXJCw4G5iT1PUnk1uUAFFFFABRRRQBi+H/APkIeIP+wn/7QhrarF8P/wDIQ8Qf9hP/ANoQ1tUAFFFFABRRRQAVGv8Ax8v/ALi/zNSVGv8Ax8v/ALi/zNAElFFFABRRVbUtQt9K02e+vZBHBboXdj6U0m3ZCbSV2ZXi7xVaeE9HN3cDzJ3Oy3gB5lb/AA9a57wh4SutQvx4q8Yfv9Rn+a3t2GVt07cevt2+tUvCmmXXjjxAfF3iBCLOFium2rdAAfvY/wA5NemV21JLDx9lD4nu/wBF+pwU4vEy9rP4V8K/V/oRyf6yH/f/APZTUlRyf6yH/f8A/ZTUlcJ6AUUUUAFFFFABXJeMfAtj4iha8hY2WpxAtHdRcEkDgNjqK62o7j/j2l/3D/KtKdSdOXNB2ZnUpwqx5Zq6PMrPxJfQXcegeNP9D1a3fdZan/BKfQn0P/68V6FpOpDULY+Yvl3MJ2Tx/wB1v8D1Bqt4k8Mad4o0xrTUosnrHKvDxN6g15pb6zq/gLX47HxATKijZbXnaeLP3GPt2PUdOnTSpTjWvWoq0vtR7+a9Oxwqc8LLlqu8Xs/0f+Z7HRUFjewajZRXVq4eKVdykVPXMmmro9IKKKKYBXEfCn/kVb//ALDN9/6Pau3riPhT/wAirf8A/YZvv/R7UAdvRRRQAUUUUAFFFFAEY/4+X/3F/makqMf8fL/7i/zNSUAFFFFABRRRQAVHL9+L/f8A6GpKjl+/F/v/ANDQBJRRRQAUUUUAFFFFADJ/+PeT/dP8qSWVYLZ5ZCAkaFmJ7ADNLP8A8e8n+6f5VzHxH1Q6V4Av3Q4kuEFsn1fg/pmtKcHUmoLqZ1aip03N9EYvwqhN9JrniKXJbUbsrGT12KT/AI/pXolYXgrSv7G8G6bZsMOsId+P4m5P863a0xM1OtJrb9FoZYWm6dGKe/X1erCiiiuc6QooooAxPB3/ACJ+nf8AXL+prbrE8Hf8ifp3/XL+prboAKKPpXBsmo6b4m0q1i1q61DVp5zJfxbv3CW5zk7P4McBe5oA7yiuT8cSao0ukWulx6k0Ulw73TaawWTYsbYXcxAALMvU9qv+EL2C90MmCa+laGZ4plv23TRyA8ox9v5UAP8AD/8AyEPEH/YT/wDaENbVcvo2qJB4g1y0NreOz6kD5sduzRjMEPVhwK6Tzh/ck/75NAElFR+cP7kn/fJo84f3JP8Avk0ASUVH5w/uSf8AfJo84f3JP++TQBJUa/8AHy/+4v8AM0ecP7kn/fJqNZh9pf5JPuL/AA+5oAsUVH5w/uSf98mjzh/ck/75NAEleZeJZ5fH3jSPwvYORpdg4k1CVT94j+H39Prn0rpPHfir/hHPDrvbBvt1yfJtV28lz3/CmeAvDv8AwjPh5VuUdr+6PnXT7STuP8Ofb+ea7aP7mm6z32j+r+X5nBX/AH9RUFtvL9F8/wAjp7a2hs7WK2to1jhiUIiKMAAVLUfnD+5J/wB8mjzh/ck/75NcW53rTRBJ/rIf9/8A9lNSVXkmHmRfJJ9/+7/smpPOH9yT/vk0ASUVH5w/uSf98mjzh/ck/wC+TQBJRUfnD+5J/wB8mjzh/ck/75NAElR3H/HtL/uH+VHnD+5J/wB8mo7iYfZpfkk+4f4fagCxWX4g8P2PiXSZLHUYwyNyj4+ZG9RWh5w/uSf98mjzh/ck/wC+TVRk4vmjuTKMZxcZK6Z5R4a1K/8Ah54kPh7xAzNYTNm3uP4SOgI/qK9aVldQyEMpGQQetYfifw/Y+KNJazvY5FcfNDMqfNE3Yj/Cud8G6/d6TfP4Y8SZW5hH+jzEHEq9sU6lm/aR67rs+/o/wfqclK+Hl7KXw9H+j/Q7+io/OH9yT/vk0ecP7kn/AHyag7SSuI+FP/Iq3/8A2Gb7/wBHtXZ+cP7kn/fJrifhVKB4Wvvlc/8AE5vui/8ATdqAO6oqPzh/ck/75NHnD+5J/wB8mgCSio/OH9yT/vk0ecP7kn/fJoAkoqPzh/ck/wC+TR5w/uSf98mgAH/Hy/8AuL/M1JVcTD7S/wAkn3F/hPqak84f3JP++TQBJRUfnD+5J/3yaPOH9yT/AL5NAElFR+cP7kn/AHyaPOH9yT/vk0ASVHL9+L/f/oaPOH9yT/vk1HLMN8XySff/ALp9DQBYoqPzh/ck/wC+TR5w/uSf98mgCSio/OH9yT/vk0ecP7kn/fJoAkoqPzh/ck/75NHnD+5J/wB8mgBZ/wDj3k/3T/KvO/iCP7e8XeHfDUZLK0v2i4A7IPX8Aa9AnmH2eT5JPun+E+lee+Cn/t/4ga74kZWeCJvslqQuRtHGR9cZ/GuzC+45Vf5V+L0RxYv31Gj/ADP8Fqz0kDAwKKj84f3JP++TR5w/uSf98muM7SSio/OH9yT/AL5NHnD+5J/3yaAJKKj84f3JP++TVa+1RLGNXa1vJtxxi3t2kI+oFAFHwd/yJ+nf9cv6mtusPwW2/wAGaY2CN0OcMMEcnrW5QAjAlSFODjg4ziuS0Hwfquh3byr4hW4E85muWksF8yck5wX3Z9h6DtXXUUAYV1oepzizmi12SO9tWfMpgBjlRv4XjBAOOMHOePerWg6Kuh2MsXnvcz3E73FxO4CmSRupwOAOAAPQVp0UAYvh/wD5CHiD/sJ/+0Ia2qxfD/8AyEPEH/YT/wDaENbVABRRRQAUUUUAFRr/AMfL/wC4v8zUlRr/AMfL/wC4v8zQBJRRXNePvEH/AAjnhK4uI2xczfuLcDqXb0+gyfwq6cHUmoR3ZFSpGnBzlsjltO/4rv4p3F7Nzpmg/JDGx+9Jk/Nj6gn8BXp1cx8PvD3/AAj3hK3imXF5cfv7lj1Lt2/AYFdPW+KmpT5Y/DHRf15nPhKco0+afxS1f9eSCiiiuU6yOT/WQ/7/AP7KakqOT/WQ/wC//wCympKACiiigAooooAKjuP+PaX/AHD/ACqSo7j/AI9pf9w/yoAkooooAK5/xd4Yj8RaerRHydQtjvtZxwVPofY10FFNOxE4KceWRyfgnxNNqsMunampGo2ZKSEchsHHUd66yuJ8X6Bc2l6PEvh9Sl5D81xGg/1yjvjucdfUV0Ph3XrbxDpSXVuQHHEseeUb/D0NK1nb+v6X9bmVKTT9nPdfiatcR8Kf+RVv/wDsM33/AKPau3riPhT/AMirf/8AYZvv/R7UHQdvRRRQAUUUUAFFFFAEY/4+X/3F/makqMf8fL/7i/zNSUAFFFFABRRRQAVHL9+L/f8A6GpKjl+/F/v/ANDQBJRRRQAUUUUAFFFFAGB431b+xfBmo3a/6zyjGmP7zcD+dV/h1pA0fwNp8ZA82eMXEpHcvz/LArA+KUz6nfaL4Ytzlrybzp1B6Rr6/r+VehxRrFCkaABUUKAOwArsn7mGjH+Z3+S0X6nFD95ipS6RVvm9X+g+iiiuM7QooooAKKKKAMTwd/yJ+nf9cv6mtusTwd/yJ+nf9cv6mtugAooooAKKq6hqdhpNr9p1S8gs4M48yeQIufTJ71LbXVve2yXFnPHcQSDKSROGVh6gjrQBleH/APkIeIP+wn/7QhrarF8P/wDIQ8Qf9hP/ANoQ1tUAFFFFABRRRQAVGv8Ax8v/ALi/zNSVGv8Ax8v/ALi/zNAElea6jjxn8W4NOPzafoSGWUdmkJHH54/I13WvarFoegXupTn5LaIvj1PQD8TgVy3wq0qW38OS6te/NeatKZ3Y9dvYfzP4120P3dOVbrsvV/8AAOHEfvasKPTd+i2+9nc0UUVxHcFFFFAEcn+sh/3/AP2U1JUcn+sh/wB//wBlNSUAFFFFABRRRQAVHcf8e0v+4f5VJUdx/wAe0v8AuH+VAElFFFABRRRQAda8/wBbsrjwTrv9u6THu02dwLu3XgKT/Idwex+tegVHcW8V3bSW9zGskUilXRhwQaDKpT51putiOwv7fU7GK7s3DwyrlT/T61yHwp/5FW//AOwzff8Ao9qo2c0vw98R/YbpmfRb5iYXY58s/wD1s8+owexq58PLi10jw1Ml5dRIbrWbsQ5P32aZiAPWpcop2ua0I1KsG+XVb/j/AJM7miiiqAKKKKACiiigCMf8fL/7i/zNSVGP+Pl/9xf5mpKACiiigAooooAKjl+/F/v/ANDUlRy/fi/3/wChoAkooooAKKKKACiiuf8AHOuf8I94Pvb1WxMV8qEertwP6n8KuEHOSit2RUmqcHOWyOV8P/8AFS/E7XdcPzW2nRfZLc9s4IOP/Hj+Nekj7o+lcp4B0M6F4FijlXFzcq1xOT1LMP6DArqx90fStsVNSqWjstF8jnwkHGknLd6v5i0UUVzHWFFFFABRRRQBieDv+RP07/rl/U1t1ieDv+RP07/rl/U1t0AFFFFAHPeKLzS9MmsL++tzd6hGzx6fbpy8kjDnaOnQcsegzT/B+kzaRojpdNF59zcSXMscBzHEztuKL7D/ABq5qvh3SNckhk1bT4bt4MiJpFyUz1x9an07S7LSLX7NptslvDuLbE6ZPegDC0ZdVPiDXDbS2a2f9pDekkTGQ/uIc4IYD9K6TE3rH+R/xrJ8P/8AIQ8Qf9hP/wBoQ1tUAR4m9Y/yP+NGJvWP8j/jUlFAEeJvWP8AI/40Ym9Y/wAj/jUlFAEeJvWP8j/jUaib7S/Mf3F7H1PvViomdY5pXchVWMEk9h81AHnnxJnn1nVtI8IW0gD3swlnKg/LGO5/In8K9At7drW2jgg8tY4kCIoU8ADA715/4BRvEnjHWvFk43ReYbWz3D7qD/62PzNekV2Yn3FGivs7+r3/AMjhwv7xyrv7T09Ft/mR4m9Y/wAj/jRib1j/ACP+NSUVxncR4m9Y/wAj/jRib1j/ACP+NSUUAV5BN5kXMf3/AEP90+9SYm9Y/wAj/jRJ/rIf9/8A9lNSUAR4m9Y/yP8AjRib1j/I/wCNSUUAR4m9Y/yP+NGJvWP8j/jUlFAEeJvWP8j/AI1HcCb7NLzH9w9j6fWrFR3H/HtL/uH+VABib1j/ACP+NGJvWP8AI/41JRQBHib1j/I/40Ym9Y/yP+NSUUAR4m9Y/wAj/jRib1j/ACP+NSUUAcF8RRqJ0yRJZrA2shVbeExO07y9gmD1z/8AXrhfA/8AaEGvxxRta29ym+OBL9WZYZNx3hMHGSc8/hXuMtpbz3EM80KSSwEmJ2XJQkYOPSvNNA0L/hK/BN5KNsV/bate/Z5F4+7O2Afrjr2PNcc8O5Vee/8AX9bHrxzJUcJyU4+/10Wq1uvy133W2/pUIuhBGJ3iMu0byqkAtjnHNPxN6x/kf8a5vwb4mfV4HsNSHl6nafLKrcFwON319f8A69dRXYeNGoqi5kR4m9Y/yP8AjRib1j/I/wCNSUUFEeJvWP8AI/40Ym9Y/wAj/jUlFAFcCb7S/Mf3F7H1PvUmJvWP8j/jQP8Aj5f/AHF/makoAjxN6x/kf8aMTesf5H/GpKKAI8Tesf5H/GjE3rH+R/xqSigCPE3rH+R/xqOUTb4uY/v+h9D71YqOX78X+/8A0NABib1j/I/40Ym9Y/yP+NSUUAR4m9Y/yP8AjRib1j/I/wCNSUUAR4m9Y/yP+NeceLDJ4r+I2leGkYNb2P8Apd1gHAIHAP6D/gVeiX95Fp2n3F5cNtit42kc+wGa4T4WWct6up+KL0H7Rqk52Z/hjB6D/PYV2Yf93GVbtovV/wCSOHFfvJQod9X6L/NndSrKts4BjACEAbT6fWngTbRzH09D/jTp/wDj3k/3T/KnD7o+lcZ3DMTesf5H/GjE3rH+R/xqSigCPE3rH+R/xoxN6x/kf8akqG5uobSPfcOEHb1J9B60pSUVeTshpNuyHYm/vR/kf8aydT1DUFkS30Y201zu/eI8bMAvuQwx+v0qf/TNT67rO1PYf6xx/wCyj9avW9rDaRCO3QIv6n6mubnqVfg0Xfr8l+r+40tGHxavsZfhEqfCWn+WCF8rgHtya2axPB3/ACJ+nf8AXL+prbrpSsrGQUUUUwCiiigDF8P/APIQ8Qf9hP8A9oQ1tVi+H/8AkIeIP+wn/wC0Ia2qACiiigAooooAK4/4k6z/AGN4P1B0bbNcRrBHjrliwP6ZrsK808ZL/wAJF8UND0BDugtQLq5HuCSB+Q/8erqwkVKqnLZav5HJjJuNFqO70XzOu8FaN/YPg3TrFl2yiIPN/vty31wTj8K3aAMDAorCcnOTk+p0QgoQUFsgoooqCwooooAjk/1kP+//AOympKjk/wBZD/v/APspqSgAooooAKKKKACo7j/j2l/3D/KpKjuP+PaX/cP8qAJKKKKACiiigAooooAK4j4U/wDIq3//AGGb7/0e1dvXEfCn/kVb/wD7DN9/6PagCTxj4fnjuE8RaFmPULU7pFQf61e/1OOD6itzw14htvEelrcwELMvyzw55jb/AAPY1r1wGvaZc+ENbHiHRULWkhxd2y+h/wA8eh+tF7bnLNOlLnjs9/8AM7+iqmmana6vpsV9YyCSGUZB9PUH0Iq3TatozpTTV0FFFFIZGP8Aj5f/AHF/makqMf8AHy/+4v8AM1JQAUUUUAFFFFABUcv34v8Af/oakqOX78X+/wD0NAElFFFABRRTJpo7eB5pmCRxqWZj2AoA4P4o6jPcW9j4X005vNWlCsAfuxg859v8DXaaXp8Ok6TbWFsMRW8axrx1wOv49a4LwNE/inxlqni+5U/Z0Y21iGHRR3H4fqTXpFdmI/dxjQXTV+r/AMtjhwv7yUq766L0X+e4yf8A495P90/ypw+6PpTZ/wDj3k/3T/KnD7o+lcZ3C0dOtVru/gs8CQlpG+7GgyzfQVV+yXOo/NfsYYT0t0PJH+0f6CsJ1knyQV5fl6vp+fkaKGl5aIfJqLzyNDpkYmYcNMf9Wh+vc+wp9tpqRy+fdMbm4P8Ay0fovso7VbjjSGMRxIERRgBRgCnUo0W3zVXd/gvRfqwc7K0dAoooroMzE8Hf8ifp3/XL+prbrE8Hf8ifp3/XL+prboAK52z8Ute+M5dFSwmihjgeQXMy7fMZWCkKO4569+1dFWHLp903ju31FYs2qWDwtJuHDl1IGM56A0AQ+LfEz+HV09LdLR5r2dowby58iKNVRmZi+D6Af8CrT0a7ub7S47m9W1V5MkfZJ/OjK9iGwM1j6qL66m0y+m8LpeiF5Vkt3eJp4c8K6FmCYOORkHBFS+C9JudJ0m6W7t1s/tV7Lcx2isGFujHhOOPfjjJNAFjw/wD8hDxB/wBhP/2hDW1XL6Noul3XiDXL+502zmvI9SAS4kgVpFxBDjDEZHWuk+zw/wDPKP8A75FAElFR/Z4f+eUf/fIo+zw/88o/++RQBJRUf2eH/nlH/wB8ij7PD/zyj/75FADpHWKNpHOFUFifQCvOPhoDrniXxD4nmGfOm8iA+iDk/oFH51tfErUYtG8D3jxIgnucW0OFGdzdcfhk/hVrwVoUWi+GLKzeJDILdHkJGfmYsT/OuyH7vDSl1k7fJav9Dhn+8xMY9Iq/zei/U6Wio/s8P/PKP/vkUfZ4f+eUf/fIrjO4koqP7PD/AM8o/wDvkUfZ4f8AnlH/AN8igCSio/s8P/PKP/vkUfZ4f+eUf/fIoAJP9ZD/AL//ALKakqvJbw+ZF+6T7/8AdH901J9nh/55R/8AfIoAkoqP7PD/AM8o/wDvkUfZ4f8AnlH/AN8igCSio/s8P/PKP/vkUfZ4f+eUf/fIoAkqO4/49pf9w/yo+zw/88o/++RUdxbw/Zpf3SfcP8I9KALFFR/Z4f8AnlH/AN8ij7PD/wA8o/8AvkUASUVH9nh/55R/98ij7PD/AM8o/wDvkUASUVH9nh/55R/98ij7PD/zyj/75FAElcR8Kf8AkVb/AP7DN9/6Pauz+zw/88o/++RXE/CqGJvC19ujQ/8AE5vuqj/nu1AHdUyWKOeFopkDo4wysMgik+zw/wDPKP8A75FH2eH/AJ5R/wDfIoA89uVuPhzrhuod8ugXkn75OSYCf4h9P1HvXoVvPFdW8c9vIskUihkdTkMD3qG80y0vrOW2uLeNo5VKsNorzXTr+T4deIP7H1pBJoty+be4K58kk/y/lVQXN7nXp5+X+X3dr8bf1eV38D/B/wCX5HqlFRJFbyIHSOJlYZBCggil+zw/88o/++RUnYA/4+X/ANxf5mpKri3h+0v+6j+4v8I9TUn2eH/nlH/3yKAJKKj+zw/88o/++RR9nh/55R/98igCSio/s8P/ADyj/wC+RR9nh/55R/8AfIoAkqOX78X+/wD0NH2eH/nlH/3yKjlt4d8X7qP7/wDdHoaALFFR/Z4f+eUf/fIo+zw/88o/++RQBJXA/E3WJ3gtPC+lHN/qzhX29Y4s8k/X+QNdhql1Y6Rpdxf3qxxwW6F2JUflXDfDzSpdb1K98Y6xAoe7YpZRsOI4xxkD9Pz9a7MNFQvXltHbzfT/ADOLFSc2qEd5b+S6/wCR3GiaTb6FolrptouIreMKPc9yfcnJq/Uf2eH/AJ5R/wDfIqnc3VtDJ5EFutxcnpEijj3J6AfWuGrVUffmzthT0UYrYuXLKlrKzkKAhySfaqAvLi/G3TV2RdDcyDj/AICO9RnSvPR59RCMwUlYUGEXj9TWktvCFH7mPp/dFc9qlXf3Y/i/8vz9DX3Yeb/D/gkVpp8Nplhukmb70rnLN+NWqj+zw/8APKP/AL5FH2eH/nlH/wB8it4QjBcsVZGbk5O7JKKj+zw/88o/++RR9nh/55R/98irESUVH9nh/wCeUf8A3yKrX2i6Vqcax6lplndohyq3FusgU+oBFAFHwd/yJ+nf9cv6mtusPwWix+DNMSNQiLDhVUYAGTwK3KACiiigAooooAxfD/8AyEPEH/YT/wDaENbVYvh//kIeIP8AsJ/+0Ia2qACiiigAooooA848cbdf+Ifhzw6OUjc3U+PQDOPyU/nXoa/8fL/7i/zNee+Cz/bvxL8Ra7INyWp+x27ZyAAecf8AfP616Ev/AB8v/uL/ADNdmK93kpfyr8Xqziwnv89X+Z/gtESUUUVxnaFFFFABRRRQBHJ/rIf9/wD9lNSVHJ/rIf8Af/8AZTUlABRRRQAUUUUAFR3H/HtL/uH+VSVHcf8AHtL/ALh/lQBJRRRQAUUUUAFFFFABXEfCn/kVb/8A7DN9/wCj2rt64j4U/wDIq3//AGGb7/0e1AHb0UUUAFY3ijw5beJtGks7kAPjMUmOVatmik1dClFSVnseReEfF154N1Q+GvFO77Gr7Le5b/ll/sk/3f5V64rB1DIQysMgg8EVzPjHwtba7ZtM1ss0iJtdOhdfY9mHUGuP0DxNfeCJ7fTtbka80Cc7bTUMcxf7LemO47V1x/2nT/l4t/7y7rz7o86MpYR8k9YdH28n5eZ6mP8Aj5f/AHF/makqC3niuW863kWSJ41ZXU5BGTU9cp6QUUUUAFFFFABUcv34v9/+hqSo5fvxf7/9DQBJRRXDePvFk9q0fh3w6fN1q+wmE5MCn+I+hx+Q5rWlSlVnyxMq1WNGHPIyvEd1J8QPGEXhjTZD/ZVk/mahOvKsR/D/AE+v0r0VfsmlWEcY2QW8KhEX0A6AVzXhXSLfwvo66ZpCC7vT811cfw7++T7eldBb6aPNFxfP9puOxI+VPZR/XrWWIxSqNUsNrGPXpfq/N+S/AWGw7gnVr/FL+kiLfeal/qd1pan/AJaEfvHHsP4R71ctbOGzj2QJtzyT1LH1J71PRWEKKi+aWsu/+Xb+rnTKbastEMn/AOPeT/dP8qcPuj6U2f8A495P90/ypw+6PpW5AtFFFABRRRQAUUUUAYng7/kT9O/65f1NbdYng7/kT9O/65f1NbdABRRRQAUZz0rE8XWl3e+GruOz1CSw2xu0skKguyhT8qk/dycc88Z+tTeFmZ/CWlM5LMbSMkk5J+UUAReH/wDkIeIP+wn/AO0Ia2q5fRpNVHiDXFtrazez/tIb5JLhlkH7iHOFCEH/AL6FdJmb+5H/AN9H/CgCSio8zf3I/wDvo/4UZm/uR/8AfR/woAkrL8TamNG8L6jf7trQ27FD/t4wv6kVoZm/uR/99H/CvP8A4s3U9xpenaFAq+fqd2iAKSeAf5ZIrfD0/aVYxexz4mo6VGUlv+vQ0vhZpjad4EtXl/1t2zTsSck5PH6V1y/8fL/7i/zNQ2lu1lZQ2sEcYjhjWNBuPAAwO1OUzfaX+WP7i/xH1PtU1qntKkp92XRp+ypxh2RYoqPM39yP/vo/4UZm/uR/99H/AArI1JKKjzN/cj/76P8AhRmb+5H/AN9H/CgCSio8zf3I/wDvo/4UZm/uR/8AfR/woAJP9ZD/AL//ALKakqvIZvMi+WP7/wDeP90+1SZm/uR/99H/AAoAkoqPM39yP/vo/wCFGZv7kf8A30f8KAJKKjzN/cj/AO+j/hRmb+5H/wB9H/CgCSo7j/j2l/3D/KjM39yP/vo/4VHcGb7NL8sf3D/EfT6UAWKKjzN/cj/76P8AhRmb+5H/AN9H/CgCSio8zf3I/wDvo/4UZm/uR/8AfR/woAkoqPM39yP/AL6P+FGZv7kf/fR/woAkriPhT/yKt/8A9hm+/wDR7V2eZv7kf/fR/wAK4n4VGX/hFr7Cp/yGb7qx/wCe7e1AHdUVHmb+5H/30f8ACjM39yP/AL6P+FAElFR5m/uR/wDfR/wozN/cj/76P+FAElczrml2sPnG9t1uNIvCBdwkZ8pu0g9PfH1roszf3I/++j/hTXWSSNkkjjZWGCCx5H5VEot2cXZrZkyipKzPMRDrPwyvDNYeZq/hyXDNGDl7cHPT2/T6V6BoPiPTPElit1pNysq4+ZDw6H0I7Vn2jSaJqP8AZt1se0uBi2d2OE6/uycflWHrfw5mXUDq3g+6GkahncyI58qT8McfyrthWp4pfvfdn3/z/wAzhUKmH/hax/l6r0/yPQKK85tfiTf6NOlj440l7GbO0XcYJik9+M/pXaaZrllrEQk0y7tbkYziOXJH1GMioqYepT1ktO/T7zopYilV0i9e2z+40qKjzN/cj/76P+FGZv7kf/fR/wAKwOgkrLu9bsoZtOCyecLy6MEbRYYBwrZyc9sGotf15NE06WWSazjuAuYo5pSN59MAZ/KvHL3U9Ru9SW7ht3sQbjzEtLIlt8u1vm5HyErk46muXFV/q8U2t/60PWyvA08bOUXKzX9a9umux6d4o8ZGzJ0zw5GNQ1Zzt2pylv7ufX2rO8HeArnT5J9R1y5aS/uyTKwPzEHtnsKk+Hml3dpbNdGDT3t503JPDMzMTnoQRx3znnNdvmb+5H/30f8ACtITqVqXLLSL3S6+r7eS073POxOFhQxL1u47bafJXV/vt5Cwwx28QjgRUReiqMU+o8zf3I/++j/hRmb+5H/30f8ACtUklZGV77klFR5m/uR/99H/AAozN/cj/wC+j/hTAWf/AI95P90/ypw+6PpUM5m+zyfJH90/xH0+lOBm2j5I+n94/wCFAEtFR5m/uR/99H/CjM39yP8A76P+FAElFR5m/uR/99H/AAozN/cj/wC+j/hQBJRUeZv7kf8A30f8KrX0mqpGv9m21nM+fmFxcNGAPYhGoAo+Dv8AkT9O/wCuX9TW3WH4L3HwZpnmAB/J+YKcgHJ6GtygAooooAiubdLu0lt5c7JkKNg84IwaZYWcWnafBZ2+7yreNY03HJwBgZqxRQBi+H/+Qh4g/wCwn/7QhrarF8P/APIQ8Qf9hP8A9oQ1tUAFFFFABXnNyP7e+OMEW7dBottvI6gOwz/7MPyr0VmCIWcgKoySewrz34YK2pal4i8QyA/6ZeFI+P4RzjP4iuzD+7CpU7K33/8AAucWJ9+dOn3d/u1/Ox6HUa/8fL/7i/zNSVGv/Hy/+4v8zXGdpJRRRQAUUUUAFFFFAEcn+sh/3/8A2U1JUcn+sh/3/wD2U1JQAUUUUAFFFFABUdx/x7S/7h/lUlR3H/HtL/uH+VAElFFFABRRRQAUUUUAFcR8Kf8AkVb/AP7DN9/6Pau3riPhT/yKt/8A9hm+/wDR7UAdvRRRQAUUUUAFFFFAFO9sodQSa3uBlWRcEdVOTgj0IqtpN7Mkr6ZqR/0uEZV+06dmHv6+9aI/4+X/ANxf5mqeq6ab6NJLdxFdwHfDL6H0Pse9ZTi0+eO/5/10Ja6otXdlbX9s1vfW8VxC4w0cqBlP4GuL1H4S6DcTefpb3GlTdQbaQ4B+h6fga6zS9SXUbYlkMVxGdk0LdUb/AA9DVuaaO3jMkzqiDqWNdFLEypx5oSsjOpQpV/jjc8+/4QPxda/Lp/je62D7onBfA/Emql34U8VM4gvfG13NI3/LGzBVyPfBGB9a7zz7vUuLTNtbd5nX53H+yO31NW7Syhs0IhX5m+87csx9zS/tDEVf4Vkv5uVfhp+O3qT9QoQ+K/pzP8dTkPDXw3sdLc3eqM1/eMcl523EfjW1N4Y09G0xbKJbSOzvDchIl4dirZz+dbtRy/fi/wB/+hrJwUnzT1b6vf8Ary2OyjUlQXLS91dlt/WpHaWFrYLILKBIBK5kcIMbmPU1Yooq7W2IlJyd5O7CiiigQUUUUAMn/wCPeT/dP8qcPuj6U2f/AI95P90/ypw+6PpQAtFFFABRRRQAUUUUAYng7/kT9O/65f1NbdYng7/kT9O/65f1NbdABRRXOWfjSyvb+CJLS7jtbqVobW/dF8m4dc5C4bcPunBIAOOKAOjorK13X4tCW0D2l1ez3k3kw29oqs7EIzk/MyjACnvVrTb59QsluJbG6sWJI8m6Chxjv8rMP1oAoeH/APkIeIP+wn/7QhrarF8P/wDIQ8Qf9hP/ANoQ1tUAFFFFAGB441P+yfBWp3Qba3klE+rcD+dVvhxpv9meANMjIIeaPz3z1y53fyIH4VifFuZ7qz0fQoS2/UrwBgD1RcZ/Vgfwrv7eFbe2jhQYWNAoA9AK7Je5hor+Zt/dp/mcUffxUn/Kkvv1/wAiSo1/4+X/ANxf5mpKjX/j5f8A3F/ma4ztJKKKKACiiigAooooAjk/1kP+/wD+ympKjk/1kP8Av/8AspqSgAooooAKKKKACo7j/j2l/wBw/wAqkqO4/wCPaX/cP8qAJKKKKACiiigAooooAK4j4U/8irf/APYZvv8A0e1dvXEfCn/kVb//ALDN9/6PagDt6KKKACiiigAooooAjH/Hy/8AuL/M1JVS5vILOVnuH2gooAxkscngDvVfZeanzLvs7Y9EU/vHHue1YTrKL5Yq8u3+fYuMG1d6IztYle21MXuioZ7uNSLmJB8rpjuf7w7d6v6dBHqMMWoXEwui4ygxhI/YL6+5rRgt4bWERW8axoOyisaZT4f1BrmJf+Jdct+/Uf8ALFz/ABj2Peud0XGXPV1XbovPz/p6CcuT4NjdopAQygqcg8gilrvJCo5fvxf7/wDQ1JUcv34v9/8AoaAJKKKKACiiigAooooAZP8A8e8n+6f5U4fdH0ps/wDx7yf7p/lTh90fSgBaKKKACiiigAooooAxPB3/ACJ+nf8AXL+prbrE8Hf8ifp3/XL+prboAbKnmQugO0spGfSvM9OWWfQ/C/hxbe4S/wBMv0e7DQsFjWItlt2MENxjB5zXp1FAHGeJJdF1WbR7vVbTUHs0kmVJ4g6CJ8bfnUfNg4IB6fnV7wIt0uhTif7R9m+2S/YftOfM+z5+TOefXGecYrpaKAOX0bR7C58Qa5fTQbrmPUgFfewxiCHtnFdJ5Ef939ayfD//ACEPEH/YT/8AaENbVAEfkR/3f1o8iP8Au/rUlIzBVLN0AyaAPNruJNc+ONtbgBoNItPMYZP3jzn82UfhXo3kR/3f1rz/AOGS/wBpa34l8QPybm78iMnsq5J/A5X8q9Ersxek1T/lSX6s4sH70HU/mbf6L8ER+RH/AHf1qNYI/tL/AC/wL39zVio1/wCPl/8AcX+ZrjO0PIj/ALv60eRH/d/WpKKAI/Ij/u/rR5Ef939akooAj8iP+7+tHkR/3f1qSigCvJBH5kXy/wAfr/smpPIj/u/rRJ/rIf8Af/8AZTUlAEfkR/3f1o8iP+7+tSUUAR+RH/d/WjyI/wC7+tSUUAR+RH/d/Wo7iCP7NL8v8B7+1WKjuP8Aj2l/3D/KgA8iP+7+tHkR/wB39akooAj8iP8Au/rR5Ef939akooAj8iP+7+tHkR/3f1qSigCPyI/7v61xPwqhjbwtfZX/AJjN93/6btXdVxHwp/5FW/8A+wzff+j2oA7PyI/7v60eRH/d/WpKKAI/Ij/u/rR5Ef8Ad/WpKq3d/DaFUOZJn+5Egyzf59aic4wXNJ2Q1FydkTGCIDJXA+tZz3P2pzFpUSyEHDTuTsT/ABNPFncX7B9SOyLtbIeD/vHv9OlaCIkaBI1CqBgADAFYXqVtvdj+L/y/P0NPdh5v8P8Agmfa6VFDcs87G4m2g+Y/bk9B2q95Ef8Ad/Wgf8fL/wC4v8zUlbwpxpq0URKTk7sj8iP+7+tNktIJY2jkjDIwwQe4qairJMGyUaRfLpl3lreUk2krE/8Afs+47VteRH/d/WotQsItSsnt5wcHlWHVGHRh7iqekX8zyPp+o4F9AMk9PNTs4/r71hH92+R7dP8AL/IlaaGj5Ef939ajlgj3xfL/AB+vsasVHL9+L/f/AKGtyg8iP+7+tHkR/wB39akooAj8iP8Au/rR5Ef939akooAj8iP+7+tHkR/3f1qSigCCeCP7PJ8v8J7+1OEEe0fL29adP/x7yf7p/lTh90fSgBnkR/3f1o8iP+7+tSUUAR+RH/d/WjyI/wC7+tSUUAR+RH/d/Wq19o1hqMapeweaqnIG9hg/gau0UAYfgtFj8GaYiDCrDgD0GTW5WJ4O/wCRP07/AK5f1NbdABRRRQAUUUUAYvh//kIeIP8AsJ/+0Ia2qxfD/wDyEPEH/YT/APaENbVABWT4q1AaV4T1O9ZtvlW7lf8AeIwB+ZFa1cH8Xrto/BiWMeS9/dRw4HcA7v5gVvh4e0rRj5nPians6MpdkXPhbYfYPh/Y5GGuN0zE99x4/TFdhVXTLQWGlWtoowIYVTj2GKtVNaftKkp92XRp+zpRh2QVGv8Ax8v/ALi/zNSVGv8Ax8v/ALi/zNZGpJRRRQAUUUUAFFFFAEcn+sh/3/8A2U1JUcn+sh/3/wD2U1JQAUUUUAFFFFABUdx/x7S/7h/lUlR3H/HtL/uH+VAElFFFABRRRQAUUUUAFcR8Kf8AkVb/AP7DN9/6Pau3riPhT/yKt/8A9hm+/wDR7UAdvTZJUhjLysEVRkknGKqXOpLHL5FqhuLn/nmp4X3J7UyPTnnkE2qOJnBysS8Rp+Hc+5rnlWu+Wkrv8F6v9F+BooWV5aDDdXOonbp4MMHe5cfe/wB0f1NWrSwhs9xjBaRvvyOcs341ZAwMDgUU4UUnzzd5fl6Lp+fmDnpaOiCiiitzMjH/AB8v/uL/ADNSVGP+Pl/9xf5mpKACiiigArO1fTWvI0uLRvLvbc7oX9fVT7GtGiplFSVmJq5T0zUV1G137THLG2yaJusbjqKsS/fi/wB/+hrK1O3lsbsatYIWYDbcwr/y1T1H+0K0I7mK7htri3cPFIdysO4waiEnflluvx8wT6Ms0UUVqMKKKKACiiigBk//AB7yf7p/lTh90fSmz/8AHvJ/un+VOH3R9KAFooooAKKKKACiiigDE8Hf8ifp3/XL+prbrE8Hf8ifp3/XL+prboAKKKKAOV8RmTUfFujaG89xBZzw3FzP9nmaJpdm0Ku5SCBlyTg84FTeCbqebTtQtLmeS4OnajPaJLK253RSNuSepwcZ9qv6zoS6tPZ3Md3NZXlmzGG4gCkgMMMpDAgg8duwqXRdHh0PTvssEkkpaRpZJZTl5HY5ZjjuSaAOSi8TajpXiHxBbWfhXVNUj/tAN9otWiCZMEPHzODn8Ktf8JxrX/Qg69/31B/8crZ8P/8AIQ8Qf9hP/wBoQ1tUAcZ/wnGtf9CDr3/fUH/xyuF8XeKtV1zx34esG8I6sn2WQ3LWrNCXkxzxh8Ywvc17bXnOgldY+NWtXw+ePTrcW6HsGOAf5MK68KmnKfZP/L9TjxTTUab+01+Gv6Gn/wAJxrX/AEIOvf8AfUH/AMco/wCE41r/AKEHXv8AvqD/AOOV2dFch2HGf8JxrX/Qg69/31B/8cpg8b6z9oc/8IFrv3V43Qep/wCmldtUa/8AHy/+4v8AM0Ach/wnGtf9CDr3/fUH/wAco/4TjWv+hB17/vqD/wCOV2dFAHGf8JxrX/Qg69/31B/8co/4TjWv+hB17/vqD/45XZ0UAcZ/wnGtf9CDr3/fUH/xyj/hONa/6EHXv++oP/jldnRQBxMnjfWS8X/FBa6MN/eg54P/AE0p/wDwnGtf9CDr3/fUH/xyuvk/1kP+/wD+ympKAOM/4TjWv+hB17/vqD/45R/wnGtf9CDr3/fUH/xyuzooA4z/AITjWv8AoQde/wC+oP8A45R/wnGtf9CDr3/fUH/xyuzooA4z/hONa/6EHXv++oP/AI5TJvG+sm3kB8Ba6MqeS0HHH/XSu2qO4/49pf8AcP8AKgDkP+E41r/oQde/76g/+OUf8JxrX/Qg69/31B/8crs6KAOM/wCE41r/AKEHXv8AvqD/AOOUf8JxrX/Qg69/31B/8crs6KAOM/4TjWv+hB17/vqD/wCOUf8ACca1/wBCDr3/AH1B/wDHK7Os+XUmmkMGmIJpOjSn/Vp9T3+grOpVjTXvf8FlRi5bHMTfEDVLdQ1x4G1uJScAs8A/9qVy3hPWtY0/R57TTtC1HUrWTULqaWewMY2s0zEx5dgcrnBIHWvU7fTVSbz7qQ3Nx/fYcL/ujtXK/Cn/AJFW/wD+wzff+j2rHkqVfj0Xbr83+i+8u8YfDq+4lt4u1O0i8u3+HuuIOp+aDJPqT5nNS/8ACca1/wBCDr3/AH1B/wDHK7OiuiMVFWirIzbbd2cZ/wAJxrX/AEIOvf8AfUH/AMco/wCE41r/AKEHXv8AvqD/AOOV2dFUI4z/AITjWv8AoQde/wC+oP8A45R/wnGtf9CDr3/fUH/xyuzooA4keN9Z+0Mf+EC137o43Qep/wCmlP8A+E41r/oQde/76g/+OV14/wCPl/8AcX+ZqSgDjP8AhONa/wChB17/AL6g/wDjlH/Cca1/0IOvf99Qf/HK7OigDjP+E41r/oQde/76g/8AjlH/AAnGtf8AQg69/wB9Qf8AxyuzooA4z/hONa/6EHXv++oP/jlZcPinVNJuLm6k8Iata6eSJBDK0X+sPGFw5ABznnAr0eoLuGO4jWGZQ8chKsp7jaaznDmV1uhNXOTHjnWSMjwFrpH+9B/8co/4TjWv+hB17/vqD/45Wxp0smk3g0m8YtE3NnM38Q/uE+o/UVt04T5kCdzjP+E41r/oQde/76g/+OUf8JxrX/Qg69/31B/8crs6KsZxn/Cca1/0IOvf99Qf/HKP+E41r/oQde/76g/+OV2dFAHEy+N9ZMLj/hAtdHynndB6f9dKePHGtYH/ABQOu/8AfUH/AMcrsJ/+PeT/AHT/ACpw+6PpQBxv/Cca1/0IOvf99Qf/AByj/hONa/6EHXv++oP/AI5XZ0UAcZ/wnGtf9CDr3/fUH/xyj/hONa/6EHXv++oP/jldnRQBxn/Cca1/0IOvf99Qf/HKP+E41r/oQde/76g/+OV2dFAGD4HkabwPpUjxNEzwBjG+MqSTwcd63qxPB3/In6d/1y/qa26ACiiigAooooAxfD//ACEPEH/YT/8AaENbVYvh/wD5CHiD/sJ/+0Ia2qAGTSrBC8shwkalmPoAM1wHwhiefSNT1iZcSahevISfz/ma3viDqJ0zwHqkyttd4TEv1bj+RNO8A6d/ZfgXSoD95oBK31f5v64rsj7uGk/5ml92v+RxS9/FRX8qb+/T/M6KiiiuM7QqNf8Aj5f/AHF/makqNf8Aj5f/AHF/maAJKKKKACiiigAooooAjk/1kP8Av/8AspqSo5P9ZD/v/wDspqSgAooooAKKKKACo7j/AI9pf9w/yqSo7j/j2l/3D/KgCSiikd1jQvIwVR1JOAKNgFqvd30Nmo8wlnbhI1GWY+wqqb2e/Yppi7Ys4a5ccf8AAR3+vSrFpp8NoxkGZJm+9M/LH/CuX2squlHbv0+Xf8jXlUfj+4r/AGa61Hm+Jgt+1ujct/vH+gq/FFHDGI4UVEHRVGAKfRWlOjGDvu+73/ryJlNy06BXEfCn/kVb/wD7DN9/6Pau3riPhT/yKt//ANhm+/8AR7VsQdvRRRQAUUUUAFFFFAEY/wCPl/8AcX+ZqSox/wAfL/7i/wAzUlABRRRQAUUUUAFRy/fi/wB/+hqSo5fvxf7/APQ0AQ6jYR6jZtDISpzuR16ow6EVW0nUJJvMsr8BL634kA6OvZx7H+dadZmr6dJcCO7sSEvrbJiY9HHdD7Gsppp88f8AhyX3Rp0VT0zUY9TsxNGCjg7ZIm+9Gw6g1crSMlJXRW4UUUUwGT/8e8n+6f5U4fdH0ps//HvJ/un+VOH3R9KAFooooAKKKKACiiigDE8Hf8ifp3/XL+prbrE8Hf8AIn6d/wBcv6mtugArBk8Y6XFqxsWM/wAtwLVrgREwrMcYjL9M8gfXirupPrK3VuNJis3gJ/fm4dgwGf4cD0z1rzu6mjXwvqnhYy/8TyfXGaOD/lo6tdCVZQOu3Zzu6DFAHoWt6/Z6DFbverPI1zN5MMdvEZHdtrN0HspqxpuoR6pZLcxQzwqxI2XERjbj2Ncp4pu/D+oappcmpand2cNpPPH9rt5jBHFLswVeQYKkgnGCM8jNaPgS5urnQ52uLie6t1vJUsri4yXmtwfkYk8nvg9wAaALfh//AJCHiD/sJ/8AtCGtquX0bT55vEGuXKapeQxrqQzbRiLy2/cQ9coW/JhXSeU3/PaT9P8ACgDgPi/I0+j6XpMbYbUL5I//AK/5mvQYo1hhSOMbVRQqgdgK858UI2p/F3w7pnmOy2sbXT9OOTj/ANBH516J5Tf89pP0/wAK7K3u0acPV/e/+AcVD3q9Wfml9y/4JJRUflN/z2k/T/Cjym/57Sfp/hXGdpJUa/8AHy/+4v8AM0eU3/PaT9P8KjWJvtL/AL6T7i+nqfagCxRUflN/z2k/T/Cjym/57Sfp/hQBJRUflN/z2k/T/Cjym/57Sfp/hQBJRUflN/z2k/T/AAo8pv8AntJ+n+FABJ/rIf8Af/8AZTUlV5Im8yL99J9/2/un2qTym/57Sfp/hQBJRUflN/z2k/T/AAo8pv8AntJ+n+FAElFR+U3/AD2k/T/Cjym/57Sfp/hQBJUdx/x7S/7h/lUc7pbQmWe5ZEXqTj/Cs6Vr2/hcwvJbW20ne4G9x7DHH1rGpWjB8q1fZf1p8y4wb16F261GOCQQxKZ7hukSdfx9BUS6fLduJdUcPjlbdPuL9f7xqa206KzQrbs65OWPBLH1JxzU/lN/z2k/T/Co9jKprW+7p/wfy8iudR+D7/62HgBVAUYA4AHalqPym/57Sfp/hR5Tf89pP0/wrpMiSio/Kb/ntJ+n+FHlN/z2k/T/AAoAkriPhT/yKt//ANhm+/8AR7V2flN/z2k/T/CuJ+FUbHwtfYlcf8Tm+6Y/57t7UAd1RUflN/z2k/T/AAo8pv8AntJ+n+FAElFR+U3/AD2k/T/Cjym/57Sfp/hQBJRUflN/z2k/T/Cjym/57Sfp/hQAD/j5f/cX+ZqSq4ib7S/76T7i+nqfapPKb/ntJ+n+FAElFR+U3/PaT9P8KPKb/ntJ+n+FAElFR+U3/PaT9P8ACjym/wCe0n6f4UASVHL9+L/f/oaPKb/ntJ+n+FRyxNvi/fSff9vQ+1AFiio/Kb/ntJ+n+FHlN/z2k/T/AAoAydSt5NMvTq9kpZTgXcCj/WL/AHh/tD9RWtBPHcwJNAweNxuVh3FBiY9Zn/T/AArE2NoF+F8xxpty/BGP3Eh/D7p/Q1g/3bv0f4E7G/RUflsf+Wz/AKf4UeU3/PaT9P8ACtyhZ/8Aj3k/3T/KnD7o+lQzxN9nk/fSfdPp6fSnCJto/fSdPb/CgCWio/Kb/ntJ+n+FHlN/z2k/T/CgCSio/Kb/AJ7Sfp/hR5Tf89pP0/woAkoqPym/57Sfp/hVa+0+e7jVYdUvLMqclrcRZb2O9GoAo+Dv+RP07/rl/U1t1h+C1K+DNMUsXIhwWbGTyeTitygAooooAKKKKAMXw/8A8hDxB/2E/wD2hDW1WL4f/wCQh4g/7Cf/ALQhrYlkWGF5X4VFLH6CgDzzw/8A8TP41a/enlLKFbdDn7pwAR+YavRa88+EkZubTW9YkA331+wB9QvP82r0OuzGaVeX+VJfcjiwWtHn/mbf3sKKKK4ztCo1/wCPl/8AcX+ZqSo1/wCPl/8AcX+ZoAkooooAKKKKACiiigCOT/WQ/wC//wCympKjk/1kP+//AOympKACiioLu9hs4w07YLHCqOWY+gFTKUYLmk7IaTbsieqE2pbpDb6en2iccE5wifU/0qPybvUv+Pkm1tv+eSn53+p7D2FX4YIreIRwIqIOgUVz81Sr8Purv1+S6er+40tGG+rKkGm/vhcX0n2mcfdyMKn0H9at3H/HtL/uH+VSVHcf8e0v+4f5VtTpxpq0URKTk9SSiiitCQooooAKKKKACuI+FP8AyKt//wBhm+/9HtXb1xHwp/5FW/8A+wzff+j2oA7eiiigAooooAKKKKAIx/x8v/uL/M1JUY/4+X/3F/makoAKKKKACiiigAqOX78X+/8A0NSVHL9+L/f/AKGgCSiiigAqO4t4ru3eC4QPHINrKe4qSik0mrMDF0y5k068/si+ctxm0mb/AJaJ/dP+0P1raqnqenR6laGJmMcindFKvWNh0IqHSdRkulktr0Kl9bnEqjow7MPY1lG8HyPbp/kStNC/P/x7yf7p/lTh90fSmz/8e8n+6f5U4fdH0rYoWiiigAooooAKKKKAMTwd/wAifp3/AFy/qa26xPB3/In6d/1y/qa26ACiiigAoqnqk97Dpsr6TbR3d1wI43k2LknGSfQdfXis/wAGajear4SsrzU3R7qQN5rIMKSGI4HpxQA7w/8A8hDxB/2E/wD2hDR4xvv7O8G6pc5wVt2A+pGB/OqVpqDaPq2spc6fqEguL3zo3gtHkVl8mNc5A9VNYnxBv7zX/Ccmm6PpOqNLNKm/fZugCA5JyR7DitsPFSqxT2uYYiTjRk472Zr/AAzsjYfDvS0YYaRDMeOu9iw/QiurrnNO12Cx0u2tV0vVwIYlTH9nydhj0qz/AMJPD/0DNX/8F8n+FTVnz1JT7sqjD2dOMOyRtUVi/wDCTw/9AzV//BfJ/hR/wk8P/QM1f/wXyf4Vmam1Ua/8fL/7i/zNZP8Awk8P/QM1f/wXyf4VRi8STDX7uSTTNX+xNawLD/oEn+sDS7+2ehjoA6iisX/hJ4f+gZq//gvk/wAKP+Enh/6Bmr/+C+T/AAoA2qKxf+Enh/6Bmr/+C+T/AAo/4SeH/oGav/4L5P8ACgDaorF/4SeH/oGav/4L5P8ACj/hJ4f+gZq//gvk/wAKANaT/WQ/7/8A7KaezBVLMQAOpPauZvfEFxNeacbDTNU2R3DNciSzZA0fkyADLDrvMdRDWDevv1PT9WCA/LbR2Eu0f7xxz/KsalRp8sFd/h83/TLjFNXbsjaa/lvGMelpuXOGuWHyL9P71T2unR28hmctNcMPmlk5P0HoPpWcviW3RQqaVqyqBgAadJx+lO/4SeH/AKBmr/8Agvk/wqY0deeo7v8ABei/XcbnpaOiNqisX/hJ4f8AoGav/wCC+T/Cj/hJ4f8AoGav/wCC+T/CugzNqo7j/j2l/wBw/wAqyf8AhJ4f+gZq/wD4L5P8Ko634kml0DUI9L0zV/tr2si2+bCQfvCp29RjrigDqKKxf+Enh/6Bmr/+C+T/AAo/4SeH/oGav/4L5P8ACgDaorF/4SeH/oGav/4L5P8ACj/hJ4f+gZq//gvk/wAKANqisX/hJ4f+gZq//gvk/wAKP+Enh/6Bmr/+C+T/AAoA2q4j4U/8irf/APYZvv8A0e1bv/CTw/8AQM1f/wAF8n+Fct4Avp9D0G7ttS0fVopZNSu51AsZDlHlZlPA7gigD0OisX/hJ4f+gZq//gvk/wAKP+Enh/6Bmr/+C+T/AAoA2qKxf+Enh/6Bmr/+C+T/AAo/4SeH/oGav/4L5P8ACgDaorF/4SeH/oGav/4L5P8ACj/hJ4f+gZq//gvk/wAKANYf8fL/AO4v8zUlcvF4kmHiC5kfTNX+xNawrF/oEn+sDSb+2ehjq9/wk8P/AEDNX/8ABfJ/hQBtUVi/8JPD/wBAzV//AAXyf4Uf8JPD/wBAzV//AAXyf4UAbVFYv/CTw/8AQM1f/wAF8n+FH/CTw/8AQM1f/wAF8n+FAG1Ucv34v9/+hrJ/4SeH/oGav/4L5P8ACqOoeJJnutONnpmr+Wl0Wuf9Ak/1flSD0/vlKAOoorF/4SeH/oGav/4L5P8ACj/hJ4f+gZq//gvk/wAKANqisX/hJ4f+gZq//gvk/wAKP+Enh/6Bmr/+C+T/AAoA2qzNWsZZGjvrDC3tvnb/ANNF7ofY/oag/wCEnh/6Bmr/APgvk/wo/wCEnh/6Bmr/APgvk/wqZRUlZiauXbW/i1LS2nhyPlIdG6owHKn3q4Puj6Vw+s6ndp9ruPDum6oLi6geN4pLJ0UvtIRwSMAg4+tbsfiaMRKH0zV9wAz/AMS+Tr+VTCTekt0C8zcorF/4SeH/AKBmr/8Agvk/wo/4SeH/AKBmr/8Agvk/wrQZtUVi/wDCTw/9AzV//BfJ/hR/wk8P/QM1f/wXyf4UAbVFYv8Awk8P/QM1f/wXyf4Uf8JPD/0DNX/8F8n+FACeDv8AkT9O/wCuX9TW3WR4VgmtfCthDcxNFKsXzI4wV5JwRWvQAU2RFljaOQblYFWB7g06igChpeh6bolvJDpNpHaxyNuZUzycYzUXhvSZND0C30+aRZXi3ZdRwcsT/WtSqOqa3puixxvqt7DaLIcIZWxuNAF6ivPtZsjFrdvFpepXl34gur5LhSs7eXbW28Fg6A7QmzKjIySRXoNABRRRQAUUUUAFFYkurQa9aXdp4b1i3W8iIWSRB5hhGcHj14OPeq/gB5pPBFgbmeS4lw4aWQ5Z8ORk0AdHRXmdyL7T9ev9b8Q2Gpf2f/agWO4i1VlWKLcqI3kKcFSeT35PFemUAFFFFABRRRQAUViS6tBr1pd2nhvWLdbyLCySKPMMIzg8euAQPeq/gB5pPBNibmeS4lG8NLIcs+HIyaAOjooooAKKKKACiqOp61puixJJqt7DaJI21GlbAY+lee3NzPJ4c1LxeLu6+3W2rMkKLOwjEKXAi8vZnaQV5JxnJzQB6hRXN+OrfU7zQoLTR4ZpZJryETCC48hhEG3N8+QVztxxzz0qPwXNEo1HTmtru0vbOZRcQ3N411jcoKsrseVI+nIPFAHUUUUUAFFFFABRXN+OLqeDQ4IbaWSA3l7BbPLG21lR3AbB7HHGfeoNAU6T421PQ7eWd7FbOC7iSaVpDEzM6sAWJODtBxnrmgDq6KKKACiiigAoorzfVjPe2vjDWjeXUN1orsLERzsqx+XEH5UHDbj1yDxQB6RRXNeKH1PUPAh/siKVry7jiwsMvlsAxXdhsjGATzVbwe6WmqX2lXNneWd/HGkzJcag12jxkkBlZunIIIwPxoA66iiigAooooAKKK5DxSmpR+KfDs66i0di2opF9kjXG8mOQks3ccDAoA6+iiigAooooAKKKgvUuZLKVLGVIbhlIjkddwU+pHegCeiuW8A/al0e/ivryW9mh1O5jM0vVsPj8B7VgeI4dSj8Q6xq+o6dqM+kWiRlXtdVaDbGq7ndY1PzEZOc46d6APSKKjtpY57WKWBi0ciBkJ7gjIqSgAooooAKKKoa3ZNqGkTW63sliGwXnjbayoCCwB7ZAIz2zQBforjvBi79a1SbSJLlvD+yOO3NxK0gkmBbzHjLEnZgqPQkHFdjQAUUUUAFNeNJMeYitjpuGadRQBylp4F+wapd31p4i1eN7y4M8y5gIY5+7kx52gcAZ4FdXRRQAUUUUAFFFFADFijTOxFUt1IGM1mWWgR6dpdpYWd5dRRW0nmZDLukGSSrcdOe2K1qKAOal8E201zIJNSvm0+W6+1vpxdTE0m7d127tu4Z27sV0tFFABRRRQAUUUUAMWKNM7EVS3UgYzVTR9Kh0TS4rC1eR4oixDSEFjkk9gPWr1FABRRRQAUUUUANeNJABIisB03DNc5N4JtJdQkk+3Xi2U10LyXT1KeS8wIO77u7BIBIzgmulooAxr/w4NQtykmp3ySpdfaoJ0dd0DYxhflwVwSMMD1qXRdCi0Y3Uv2me8u7yQSXFzcFd8hAwBhQAAAMAAVqUUAFFFFABRRRQBR1nSLfW9MeyumkRWKsskTYZGU5VgfUEZqvo2gJpNxdXUt5cX97dbRLc3G3cVUYVQFAAAyeg6k1rUUAFFFFABRRRQAVzmpeC7bUb27kN/eQW1+VN7aRMojuNoA5JUsMgAHBGRXR0UAZF/4dj1G1ubee+vFSaRJIvLkCm2K4x5fHHIzg5o0jw+ml3lxfT3lxqF9cqqSXNztB2LnCgKAAOSenU1r0UAFFFFABRRRQAVR1HSYdTmsZJ3kU2NyLmPYR8zBWXByOmGNXqKACiiigAooooAKKKKAMmDw/HaWN1bWl5dQfabt7ppUZdwZm3FRxjHbpnHeqOo+DYdQubwnVL+C11DH2y0idfLmwMHkqWXIGDtIzXSUUANjjSKJI41CoihVUdgO1OoooAKKKKACsvxHoUfiTQ5tLnu7m0imK75LVlDkA5x8wIwcc8VqUUAZGiaFLowKNq99fRbAiRXIiCxgf3QiLWvRRQB//2Q==)"
   ]
  },
  {
   "cell_type": "markdown",
   "metadata": {},
   "source": [
    "**Task 5**   \n",
    "Test your function on $f(x) = x^5-x+1$ at $x_0 = 1$?"
   ]
  },
  {
   "cell_type": "code",
   "execution_count": null,
   "metadata": {},
   "outputs": [],
   "source": [
    "## write your code below\n"
   ]
  },
  {
   "cell_type": "markdown",
   "metadata": {},
   "source": [
    "<details>\n",
    "<summary>Click to reveal answer</summary>\n",
    "\n",
    "```python\n",
    "newton_raphson(lambda x: x**5-x+1, lambda x:5*x**4-1, 1)\n",
    "```\n",
    "</details>"
   ]
  },
  {
   "cell_type": "markdown",
   "metadata": {},
   "source": [
    "###Secant Method\n"
   ]
  },
  {
   "cell_type": "markdown",
   "metadata": {},
   "source": [
    "The Secant Method is a numerical technique used to find the roots of a function. It is particularly useful when the derivative of the function is difficult or impossible to compute, as it does not require the calculation of derivatives unlike the Newton-Raphson method\n"
   ]
  },
  {
   "cell_type": "markdown",
   "metadata": {},
   "source": [
    "The Secant Method is a root-finding algorithm that uses a sequence of secant lines (lines connecting two points on the function) to approximate the root of a function 𝑓(𝑥). It is based on the idea of linear interpolation between two points on the function."
   ]
  },
  {
   "cell_type": "markdown",
   "metadata": {},
   "source": [
    "<center>\n",
    "\n",
    "![image.png](attachment:image.png)"
   ]
  },
  {
   "cell_type": "markdown",
   "metadata": {},
   "source": [
    "Given two initial approxmiation $x_0$ and $x_1$, the formula for the next approximation $x_2$ is given by:\n",
    "$$x_{n+1} = x_n-\\frac{f(x_b)(x_n -x_{n-1})}{f(x_n) - f(x_{n-1})}$$\n",
    "\n",
    "This formula is derived from the equation of the secant line that passes through the points $(x_{n-1},f(x_{n-1}))$ and $(x_n,f(x_n))$."
   ]
  },
  {
   "cell_type": "markdown",
   "metadata": {},
   "source": [
    "**Task 6**   \n",
    "write a python function named secant that implement the secant method. The function should have the following parameters:   \n",
    "- **f**: function to find its root.   \n",
    "- **x0**: first initial guess.    \n",
    "- **x1**: second initial guess.   \n",
    "- **miter**: maximum number of iteration.   \n",
    "- **tol**: tolerance level for stopping the iteration.   \n",
    "\n",
    "The function should return the root of the function and the number of iterations used in the calculations."
   ]
  },
  {
   "cell_type": "code",
   "execution_count": null,
   "metadata": {},
   "outputs": [],
   "source": [
    "## write your code below\n"
   ]
  },
  {
   "cell_type": "markdown",
   "metadata": {},
   "source": [
    "<details>\n",
    "<summary>Click to reveal answer</summary>\n",
    "\n",
    "```python\n",
    "def secant(f, x0, x1, tol=1e-6, max_iter=100):\n",
    "    x_prev = x0\n",
    "    x = x1\n",
    "    counter=0\n",
    "    for i in range(max_iter):\n",
    "        counter += 1\n",
    "        x_new = x - (f(x) * (x - x_prev)) / (f(x) - f(x_prev))\n",
    "        if abs(x_new - x) < tol:\n",
    "            return x_new, counter\n",
    "        x_prev = x\n",
    "        x = x_new\n",
    "    print('Exceeded maximum iterations. No solution found.')\n",
    "```\n",
    "</details>"
   ]
  },
  {
   "cell_type": "markdown",
   "metadata": {},
   "source": [
    "**Task 7**   \n",
    "Test your function that you created in task 6 for $f(x)=x**2-4$ using your own guesses?"
   ]
  },
  {
   "cell_type": "code",
   "execution_count": null,
   "metadata": {},
   "outputs": [],
   "source": [
    "## write your code below\n"
   ]
  },
  {
   "cell_type": "markdown",
   "metadata": {},
   "source": [
    "<details>\n",
    "<summary>Click to reveal answer</summary>\n",
    "\n",
    "```python\n",
    "secant(lambda x: x**2-4, 3, 5)\n",
    "```\n",
    "</details>"
   ]
  },
  {
   "cell_type": "markdown",
   "metadata": {},
   "source": [
    "There are some advantages for the secant method over the other methods which include:   \n",
    "- **No Derivative Required**: Unlike the Newton-Raphson method, the Secant Method does not require the computation of derivatives, making it applicable to a wider range of functions.   \n",
    "- **Faster Convergence**: The Secant Method converges faster than the Bisection Method, especially when the initial guesses are close to the actual root.   \n",
    "- **Simplicity**: The method is relatively simple to implement and understand."
   ]
  },
  {
   "cell_type": "markdown",
   "metadata": {},
   "source": [
    "The secant methods has some disadvantages which include:   \n",
    "- **Convergence Issues**: The method may not converge if the initial guesses are not sufficiently close to the root or if the function behaves poorly in the vicinity of the root.   \n",
    "- **No Guaranteed Error Bounds**: Unlike methods that use derivatives, the Secant Method does not provide guaranteed error bounds for the approximations.   \n",
    "- **Possible Oscillation**: The method can oscillate between values if the function has certain characteristics, leading to failure in finding the root"
   ]
  },
  {
   "cell_type": "markdown",
   "metadata": {},
   "source": [
    "`Scipy.optimize` module provide a function named `newton()` that implement both Newton-Raphson methond and secant method in one function. If the user provides function first derivative the Newton-Raphson method is used. If the first derivative is not provided, the secant methods is used."
   ]
  },
  {
   "cell_type": "markdown",
   "metadata": {},
   "source": [
    "**Task 8**   \n",
    "Based on your knowledge of scipy.optimize module, use the method `newton()` to find the root of $f(x)=x^2-4$ with Newton-Raphson method and secant method by choosing the right parameter for each method?"
   ]
  },
  {
   "cell_type": "code",
   "execution_count": null,
   "metadata": {},
   "outputs": [],
   "source": [
    "## write your code below\n"
   ]
  },
  {
   "cell_type": "markdown",
   "metadata": {},
   "source": [
    "<details>\n",
    "<summary>Click to reveal answer</summary>\n",
    "\n",
    "```python\n",
    "from scipy.optimize import newton\n",
    "print(newton(lambda x:x**2-4,1,lambda x: 2*x))\n",
    "print(newton(lambda x:x**2-4,x0=0,x1=1))\n",
    "```\n",
    "</details>"
   ]
  },
  {
   "cell_type": "markdown",
   "metadata": {},
   "source": [
    "###Fixed Point Iteration\n"
   ]
  },
  {
   "cell_type": "markdown",
   "metadata": {},
   "source": [
    "Fixed Point Iteration, also known as circular calculation or successive substitution requires rearranging the equation into a form where you can express 𝑥 in terms of itself. This is done by finding a function\n",
    "𝑔(𝑥) such that:\n",
    "$$x=g(x)$$\n",
    "Where,    \n",
    "𝑔(𝑥) is a function you create from your original equation."
   ]
  },
  {
   "cell_type": "markdown",
   "metadata": {},
   "source": [
    "<center>\n",
    "\n",
    "![image.png](data:image/png;base64,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)"
   ]
  },
  {
   "cell_type": "markdown",
   "metadata": {},
   "source": [
    "The algorithm steps required for finding a root of an equation with fixed point iteration include the following:   \n",
    "    \n",
    "- Rearrange the equation to isolate x on one side, froming $x = g(x)$.\n",
    "   \n",
    "- Pick a starting value $x_0$. This should be close to where you think the root is.\n",
    "- Plug your initial guess into 𝑔(𝑥) to get a new value:\n",
    "$$x_1 = g(x_0)$$\n",
    "- Use this new value to get the next one:\n",
    "$$x_2 = g(x_1)$$\n",
    "- Repeat this process:\n",
    "$$x_{n+1} = g(x_n)$$\n",
    "- Check for convergence using tolerance value.\n",
    "\n"
   ]
  },
  {
   "cell_type": "markdown",
   "metadata": {},
   "source": [
    "**Task 9**.  \n",
    "write python function name fixed_point that implement the fixed point iteration. your function should have the following input parameters:   \n",
    "- **f**: function that satisfy x=g(x) from f(x)=0.   \n",
    "- **x0**: the initial guess.   \n",
    "- **miter**: maximum number of iteration.   \n",
    "- **tol**: tolerance value to stop the iteration calculation.   \n",
    "The function should return the root of the function f and the number of iterations used in the calculations."
   ]
  },
  {
   "cell_type": "code",
   "execution_count": null,
   "metadata": {},
   "outputs": [],
   "source": [
    "## write your code below\n"
   ]
  },
  {
   "cell_type": "markdown",
   "metadata": {},
   "source": [
    "<details>\n",
    "<summary>Click to reveal answer</summary>\n",
    "\n",
    "```python\n",
    "def fixed_point(f, x0, tol=1e-6, max_iter=100):\n",
    "\n",
    "    for i in range(max_iter+1):\n",
    "        x1 = f(x0)\n",
    "        if abs(x1 - x0) < tol:\n",
    "            return x1, i+1\n",
    "        x0 = x1\n",
    "    print('Exceeded maximum iterations. No solution found.')\n",
    "```\n",
    "</details>"
   ]
  },
  {
   "cell_type": "markdown",
   "metadata": {},
   "source": [
    "**Task 10**   \n",
    "Test your function that you created in  task 9 on $f(x)=\\sqrt{2}-x$ using your own initial guess?"
   ]
  },
  {
   "cell_type": "code",
   "execution_count": null,
   "metadata": {},
   "outputs": [],
   "source": [
    "## write your code below\n"
   ]
  },
  {
   "cell_type": "markdown",
   "metadata": {},
   "source": [
    "<details>\n",
    "<summary>Click to reveal answer</summary>\n",
    "\n",
    "```python\n",
    "fixed_point(lambda x:(x+2**0.5)/2, 0, tol=1e-6, max_iter=100)\n",
    "```\n",
    "</details>"
   ]
  },
  {
   "cell_type": "markdown",
   "metadata": {},
   "source": [
    "**Task 11**   \n",
    "A. Rearrange $f(x)=x-e^{-x}$ to be in these two forms:   \n",
    "- $x=e^{-x}$      \n",
    "- $x=-lnx$   \n",
    "\n",
    "B. Use these two forms as input to the fixed_point function that you created in task 9 to find the root of $f(x)$ using an initial guess of $x_0=0$ and $x_0=0.5$, respectively?   \n",
    "C. Does fixed point iteration function depends on the form of the function."
   ]
  },
  {
   "cell_type": "code",
   "execution_count": null,
   "metadata": {},
   "outputs": [],
   "source": [
    "## write your code below for Part A\n"
   ]
  },
  {
   "cell_type": "markdown",
   "metadata": {},
   "source": [
    "<details>\n",
    "<summary>Click to reveal answer</summary>\n",
    "\n",
    "```python\n",
    "from math import exp\n",
    "print(fixed_point(lambda x:exp(-1*x), 0))\n",
    "```\n",
    "</details>"
   ]
  },
  {
   "cell_type": "code",
   "execution_count": null,
   "metadata": {},
   "outputs": [],
   "source": [
    "## write your code below for Part B\n"
   ]
  },
  {
   "cell_type": "markdown",
   "metadata": {},
   "source": [
    "<details>\n",
    "<summary>Click to reveal answer</summary>\n",
    "\n",
    "```python\n",
    "from math import log\n",
    "print(fixed_point(lambda x:-1*log(x), 0))\n",
    "```\n",
    "</details>"
   ]
  },
  {
   "cell_type": "code",
   "execution_count": null,
   "metadata": {},
   "outputs": [],
   "source": [
    "## write your answer below for Part C.\n"
   ]
  },
  {
   "cell_type": "markdown",
   "metadata": {},
   "source": [
    "<details>\n",
    "<summary>Click to reveal answer</summary>\n",
    "\n",
    "```python\n",
    "# yes the form of the function after rearrangement affects the result of the fixed point iteration.\n",
    "```\n",
    "</details>"
   ]
  },
  {
   "cell_type": "markdown",
   "metadata": {},
   "source": [
    "The convergence of Fixed Point Iteration depends on several key factors related to the function 𝑔(𝑥) that you derive from your original equation 𝑓(𝑥)= 0. Here's a breakdown of when the method converges and when it may diverge:   \n",
    "- The function 𝑔(𝑥) should be continuous in the interval of interest. If f(𝑥) is not continuous, the iterations may behave unpredictably.   \n",
    "- For the method to converge, 𝑔(𝑥) should ideally be a contraction mapping in the neighborhood of the fixed point. This means:\n",
    "$$|g'(x)|<1$$\n",
    "for all 𝑥 in the interval around the fixed point. If the derivative of 𝑔(𝑥) is less than 1 in absolute value, the iterations will tend to get closer to the fixed point.   \n",
    "- The choice of the initial guess $x_0$ should be close to the actual fixed point. If $𝑥0$ is too far from the fixed point, the method may not converge."
   ]
  },
  {
   "cell_type": "code",
   "execution_count": null,
   "metadata": {},
   "outputs": [],
   "source": []
  }
 ],
 "metadata": {
  "colab": {
   "provenance": []
  },
  "kernelspec": {
   "display_name": "Python 3",
   "name": "python3"
  },
  "language_info": {
   "name": "python"
  }
 },
 "nbformat": 4,
 "nbformat_minor": 0
}
