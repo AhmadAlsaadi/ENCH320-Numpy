{
  "cells": [
    {
      "cell_type": "markdown",
      "metadata": {
        "colab_type": "text",
        "id": "view-in-github"
      },
      "source": [
        "<a href=\"https://colab.research.google.com/github/AhmadAlsaadi/ENCH320-Numpy/blob/main/Numpy_Part_2_.ipynb\" target=\"_parent\"><img src=\"https://colab.research.google.com/assets/colab-badge.svg\" alt=\"Open In Colab\"/></a>"
      ]
    },
    {
      "cell_type": "markdown",
      "metadata": {
        "id": "H-eGU44JtJAu"
      },
      "source": [
        "# Introduction to NumPy Part 2\n",
        "\n",
        "\n",
        "\n"
      ]
    },
    {
      "cell_type": "markdown",
      "metadata": {
        "id": "zMrJiupLCgov"
      },
      "source": [
        "NumPy, short for \"Numerical Python,\" is a fundamental library in the Python scientific computing ecosystem and forms the foundation for many other high-level libraries. Its efficient array operations and mathematical functions make it an essential tool for working with numerical data in Python."
      ]
    },
    {
      "cell_type": "markdown",
      "metadata": {
        "id": "S_iLmsyuhmU-"
      },
      "source": [
        "## Array Manipulation   \n"
      ]
    },
    {
      "cell_type": "markdown",
      "metadata": {
        "id": "yTkAYC579sy5"
      },
      "source": [
        "Array manipulation is a fundamental aspect of NumPy and involves various operations to modify, reshape, combine, and extract data from arrays."
      ]
    },
    {
      "cell_type": "markdown",
      "metadata": {
        "id": "s67F42WqiEQC"
      },
      "source": [
        "### Reshaping Arrays\n",
        "NumPy allows us to change the shape of an array without modifying its data.\n",
        "We can reshape arrays using the `np.reshape()` function, which allows us to specify the desired dimensions of the new array as a tuple. The total number of elements in the reshaped array must be equal to the total number of elements in the original array. Reshaping can be useful for tasks like converting a one-dimensional array into a two-dimensional matrix or vice versa.For example:"
      ]
    },
    {
      "cell_type": "code",
      "execution_count": null,
      "metadata": {
        "colab": {
          "base_uri": "https://localhost:8080/"
        },
        "id": "SbQn_q3qiSSO",
        "outputId": "d99cab69-a11b-4690-e04d-84ad1301065f"
      },
      "outputs": [
        {
          "name": "stdout",
          "output_type": "stream",
          "text": [
            "original array:\n",
            " [1 2 3 4 5 6 7 8 9]\n",
            "\n",
            "reshaped array:\n",
            " [[1 2 3]\n",
            " [4 5 6]\n",
            " [7 8 9]]\n"
          ]
        }
      ],
      "source": [
        "import numpy as np\n",
        "arr = np.arange(1, 10)\n",
        "reshaped_arr = np.reshape(arr,(3, 3))\n",
        "print(\"original array:\\n\",arr)\n",
        "print()\n",
        "print(\"reshaped array:\\n\",reshaped_arr)"
      ]
    },
    {
      "cell_type": "markdown",
      "metadata": {
        "id": "F3Z-ri5yCPxm"
      },
      "source": [
        "**task 1**   \n",
        "Using the given array, reshape the array into a 2D array with 3 rows and 2 columns?"
      ]
    },
    {
      "cell_type": "code",
      "execution_count": null,
      "metadata": {
        "id": "slYVv_L3CnR5"
      },
      "outputs": [],
      "source": [
        "# Task 1 solution\n",
        "import numpy as np\n",
        "array = np.array([10, 20, 30, 40, 50, 60])\n",
        "\n",
        "#Expected result:\n",
        "###################################\n",
        "#array([[10, 20],\n",
        "#       [30, 40],\n",
        "#       [50, 60]])\n",
        "###################################\n",
        "#write your code here\n"
      ]
    },
    {
      "cell_type": "markdown",
      "metadata": {
        "id": "IMp9bohzibt7"
      },
      "source": [
        "We can also use -1 as one of the dimensions in the `np.reshape()` function, which allows NumPy to automatically determine the size of that dimension based on the other dimensions as it is shown in the example below:"
      ]
    },
    {
      "cell_type": "code",
      "execution_count": null,
      "metadata": {
        "colab": {
          "base_uri": "https://localhost:8080/"
        },
        "id": "Jk_AG7eZi-4v",
        "outputId": "5edbf32a-a09f-40de-d27f-8c7e1f04fd3c"
      },
      "outputs": [
        {
          "name": "stdout",
          "output_type": "stream",
          "text": [
            "[[ 0  1  2  3]\n",
            " [ 4  5  6  7]\n",
            " [ 8  9 10 11]]\n"
          ]
        }
      ],
      "source": [
        "import numpy as np\n",
        "arr = np.arange(12)\n",
        "reshaped_arr = np.reshape(arr,(3, -1))\n",
        "print(reshaped_arr)"
      ]
    },
    {
      "cell_type": "markdown",
      "metadata": {
        "id": "TjFav7C5jN03"
      },
      "source": [
        "In the above example, we used `-1` to ask numpy to determine the number of columns. Since the number of elements is `12` and we already specified the number of rows to be `3`. Numpy then will be able determine the dimension that hold the value `-1`."
      ]
    },
    {
      "cell_type": "markdown",
      "metadata": {
        "id": "BkGbg_FTDNP4"
      },
      "source": [
        "**Task 2**   \n",
        "Using the given array, reshape the array into an array with an automatically calculated shape where the number of rows is 3."
      ]
    },
    {
      "cell_type": "code",
      "execution_count": null,
      "metadata": {
        "id": "7LFmM15lEMLA"
      },
      "outputs": [],
      "source": [
        "# Task x solution\n",
        "import numpy as np\n",
        "array = np.array([1, 2, 3, 4, 5, 6])\n",
        "\n",
        "# Expected result\n",
        "##########################################\n",
        "#array([[1, 2],\n",
        "#       [3, 4],\n",
        "#       [5, 6]])\n",
        "##########################################\n",
        "# write your code here\n"
      ]
    },
    {
      "cell_type": "markdown",
      "metadata": {
        "id": "t6TyurxvsaGa"
      },
      "source": [
        "### Resizing Arrays   \n",
        "The `np.resize()` function in NumPy allows us to change the shape of an array. It takes the desired shape as input and returns a new array with the specified shape. If the new shape is larger, the function will repeat or replicate elements to fill the additional space. If the new shape is smaller, the function will discard elements from the original array.   \n",
        "**Example**:"
      ]
    },
    {
      "cell_type": "code",
      "execution_count": null,
      "metadata": {
        "colab": {
          "base_uri": "https://localhost:8080/"
        },
        "id": "AHgI4MfCvFu3",
        "outputId": "ef628831-80a7-4908-9849-5274b0374455"
      },
      "outputs": [
        {
          "name": "stdout",
          "output_type": "stream",
          "text": [
            "[1 2 3 4 5 1 2 3]\n"
          ]
        }
      ],
      "source": [
        "import numpy as np\n",
        "\n",
        "# Create a 1D array\n",
        "arr = np.array([1, 2, 3, 4, 5])\n",
        "\n",
        "# Resize the array to have a length of 8\n",
        "resized_arr = np.resize(arr, 8)\n",
        "\n",
        "print(resized_arr)"
      ]
    },
    {
      "cell_type": "markdown",
      "metadata": {
        "id": "Jd5XK3EjvO8D"
      },
      "source": [
        "In the example above, we resized the original array arr to have a length of 8. Since the original array had only 5 elements, the resize function repeated the elements to fill the additional space.\n",
        "\n",
        "**Task 3**.  \n",
        "Modify the example above to resize the array to have a length of 3. Observe the output and understand how the resize function handles shrinking the array size."
      ]
    },
    {
      "cell_type": "code",
      "execution_count": null,
      "metadata": {
        "colab": {
          "base_uri": "https://localhost:8080/"
        },
        "id": "wYHgaaquvmex",
        "outputId": "52616950-1d17-4ab4-9404-a91dbf0c1c1f"
      },
      "outputs": [
        {
          "data": {
            "text/plain": [
              "array([1, 2, 3])"
            ]
          },
          "execution_count": 17,
          "metadata": {},
          "output_type": "execute_result"
        }
      ],
      "source": [
        "# Task 3 solution\n",
        "import numpy as np\n",
        "# Create a 1D array\n",
        "arr = np.array([1, 2, 3, 4, 5])\n",
        "# Expect result\n",
        "########################################\n",
        "#\n",
        "# array([1, 2, 3])\n",
        "#\n",
        "########################################\n",
        "# write your code here\n"
      ]
    },
    {
      "cell_type": "markdown",
      "metadata": {
        "id": "BKBs9YqIv1gz"
      },
      "source": [
        "While resizing and reshaping may seem similar, they have distinct differences. Resizing changes the shape and size of an array by either adding or removing elements, whereas reshaping only changes the shape of the array without modifying the total number of elements."
      ]
    },
    {
      "cell_type": "markdown",
      "metadata": {
        "id": "ox2lWGT_j3Bu"
      },
      "source": [
        "### Flattening Arrays   \n",
        "To flatten a multi-dimensional array into a 1D array, you can use the `ndarray.flatten()` or `ndarray.ravel()` function. For example:"
      ]
    },
    {
      "cell_type": "code",
      "execution_count": null,
      "metadata": {
        "colab": {
          "base_uri": "https://localhost:8080/"
        },
        "id": "5aX1RhrgkCYT",
        "outputId": "f5c46e89-22c6-4c15-cb85-eaeb4e763060"
      },
      "outputs": [
        {
          "name": "stdout",
          "output_type": "stream",
          "text": [
            "[1 2 3 4 5 6]\n"
          ]
        }
      ],
      "source": [
        "import numpy as np\n",
        "arr = np.array([[1, 2, 3], [4, 5, 6]])\n",
        "flattened_arr = arr.flatten()\n",
        "print(flattened_arr)"
      ]
    },
    {
      "cell_type": "markdown",
      "metadata": {
        "id": "EsuG4uuHbRQZ"
      },
      "source": [
        "In the example above, the 2D array has been converted to 1D array"
      ]
    },
    {
      "cell_type": "markdown",
      "metadata": {
        "id": "lFm8Y3O5Ew7X"
      },
      "source": [
        "**Task 4**   \n",
        "A. Flatten the array in the example above using `np.ravel()`?   \n",
        "B. Faltten the array in the example above using `np.reshape()`?"
      ]
    },
    {
      "cell_type": "code",
      "execution_count": null,
      "metadata": {
        "colab": {
          "base_uri": "https://localhost:8080/"
        },
        "id": "4X8lvgi7FPkv",
        "outputId": "e1e40c50-1d14-4dc8-ecc9-acddb14a488b"
      },
      "outputs": [
        {
          "data": {
            "text/plain": [
              "array([1, 2, 3, 4, 5, 6])"
            ]
          },
          "execution_count": 18,
          "metadata": {},
          "output_type": "execute_result"
        }
      ],
      "source": [
        "# Task 4 solution part A\n",
        "# Expect result\n",
        "#######################################\n",
        "#\n",
        "# array([1, 2, 3, 4, 5, 6])\n",
        "#\n",
        "#######################################\n",
        "# write your code here"
      ]
    },
    {
      "cell_type": "code",
      "execution_count": null,
      "metadata": {
        "id": "37RueLTEFYTj"
      },
      "outputs": [],
      "source": [
        "# Task 4 solution part B\n",
        "# Expect result\n",
        "#######################################\n",
        "#\n",
        "# array([1, 2, 3, 4, 5, 6])\n",
        "#\n",
        "#######################################\n",
        "# write your code here"
      ]
    },
    {
      "cell_type": "markdown",
      "metadata": {
        "id": "IWq7zkvMftKr"
      },
      "source": [
        "### Reversing Array   \n",
        "NumPy’s `np.flip()` function allows you to flip, or reverse, the contents of an array along an axis. When using `np.flip()`, specify the array you would like to reverse and the axis. If you don’t specify the axis, NumPy will reverse the contents along all of the axes of your input array.\n",
        "\n",
        "**Reversing a 1D array**   \n",
        "1D numpy array can be reversed as it is shown in the following example:"
      ]
    },
    {
      "cell_type": "code",
      "execution_count": null,
      "metadata": {
        "colab": {
          "base_uri": "https://localhost:8080/"
        },
        "id": "Ay1I7iENggis",
        "outputId": "60043e08-fca2-455a-a715-78cf4c232400"
      },
      "outputs": [
        {
          "data": {
            "text/plain": [
              "array([8, 7, 6, 5, 4, 3, 2, 1])"
            ]
          },
          "execution_count": 1,
          "metadata": {},
          "output_type": "execute_result"
        }
      ],
      "source": [
        "import numpy as np\n",
        "arr = np.array([1, 2, 3, 4, 5, 6, 7, 8])\n",
        "np.flip(arr)"
      ]
    },
    {
      "cell_type": "markdown",
      "metadata": {
        "id": "LDI8FT6PhrXc"
      },
      "source": [
        "**Reversing a 2D array**   \n",
        "A 2D array works much the same way. See the example below:"
      ]
    },
    {
      "cell_type": "code",
      "execution_count": null,
      "metadata": {
        "colab": {
          "base_uri": "https://localhost:8080/"
        },
        "id": "PJ6esdXNhmnQ",
        "outputId": "113a665d-4626-4d30-e119-d33690e3a8a6"
      },
      "outputs": [
        {
          "data": {
            "text/plain": [
              "array([[12, 11, 10,  9],\n",
              "       [ 8,  7,  6,  5],\n",
              "       [ 4,  3,  2,  1]])"
            ]
          },
          "execution_count": 2,
          "metadata": {},
          "output_type": "execute_result"
        }
      ],
      "source": [
        "import numpy as np\n",
        "arr_2d = np.array([[1, 2, 3, 4], [5, 6, 7, 8], [9, 10, 11, 12]])\n",
        "np.flip(arr_2d)"
      ]
    },
    {
      "cell_type": "markdown",
      "metadata": {
        "id": "srhCYKJQgdVG"
      },
      "source": [
        "In the example above, the rows has been reversed and the columns has been reversed as well.   \n",
        "\n",
        "We can easily reverse only the rows by setting the optional parameter axis=0 as it is shown the example below:\n"
      ]
    },
    {
      "cell_type": "code",
      "execution_count": null,
      "metadata": {
        "colab": {
          "base_uri": "https://localhost:8080/"
        },
        "id": "txMDwpeXibqe",
        "outputId": "0829019f-5a14-4962-9e95-b3016e64bcac"
      },
      "outputs": [
        {
          "data": {
            "text/plain": [
              "array([[ 9, 10, 11, 12],\n",
              "       [ 5,  6,  7,  8],\n",
              "       [ 1,  2,  3,  4]])"
            ]
          },
          "execution_count": 3,
          "metadata": {},
          "output_type": "execute_result"
        }
      ],
      "source": [
        "import numpy as np\n",
        "arr_2d = np.array([[1, 2, 3, 4], [5, 6, 7, 8], [9, 10, 11, 12]])\n",
        "np.flip(arr_2d, axis=0)"
      ]
    },
    {
      "cell_type": "markdown",
      "metadata": {
        "id": "bXZYv1_PiTvO"
      },
      "source": [
        "Or reverse only the columns with axis=1 as shown below:\n"
      ]
    },
    {
      "cell_type": "code",
      "execution_count": null,
      "metadata": {
        "colab": {
          "base_uri": "https://localhost:8080/"
        },
        "id": "bzHvMNZzixTr",
        "outputId": "b52409ee-c7e9-4b5f-c381-da08f98067cb"
      },
      "outputs": [
        {
          "data": {
            "text/plain": [
              "array([[ 4,  3,  2,  1],\n",
              "       [ 8,  7,  6,  5],\n",
              "       [12, 11, 10,  9]])"
            ]
          },
          "execution_count": 4,
          "metadata": {},
          "output_type": "execute_result"
        }
      ],
      "source": [
        "import numpy as np\n",
        "arr_2d = np.array([[1, 2, 3, 4], [5, 6, 7, 8], [9, 10, 11, 12]])\n",
        "np.flip(arr_2d,axis=1)"
      ]
    },
    {
      "cell_type": "markdown",
      "metadata": {
        "id": "N8CAtuJRdSBM"
      },
      "source": [
        "**Task 5**   \n",
        "reverse the given array row-wise?"
      ]
    },
    {
      "cell_type": "code",
      "execution_count": null,
      "metadata": {
        "id": "iiZ8jImHdfCz"
      },
      "outputs": [],
      "source": [
        "# Task 5 solution\n",
        "import numpy as np\n",
        "arr=np.array([[2,2,2],\n",
        "              [3,3,3],\n",
        "              [4,4,4]])\n",
        "# Expected result\n",
        "####################################\n",
        "#array([[4, 4, 4],\n",
        "#       [3, 3, 3],\n",
        "#      [2, 2, 2]])\n",
        "####################################\n",
        "# write your code here\n"
      ]
    },
    {
      "cell_type": "markdown",
      "metadata": {
        "id": "p7WzkFuhiul5"
      },
      "source": [
        "We can also reverse the contents of only one column or row. For example, we can reverse the contents of the row at index position 1 (the second row) as it is shown below:\n"
      ]
    },
    {
      "cell_type": "code",
      "execution_count": null,
      "metadata": {
        "colab": {
          "base_uri": "https://localhost:8080/"
        },
        "id": "CBJCpEcWjXLh",
        "outputId": "15b0a22e-2e09-41da-dd0f-4ec45b5fdf6a"
      },
      "outputs": [
        {
          "data": {
            "text/plain": [
              "array([8, 7, 6, 5])"
            ]
          },
          "execution_count": 5,
          "metadata": {},
          "output_type": "execute_result"
        }
      ],
      "source": [
        "import numpy as np\n",
        "arr_2d = np.array([[1, 2, 3, 4], [5, 6, 7, 8], [9, 10, 11, 12]])\n",
        "np.flip(arr_2d[1])"
      ]
    },
    {
      "cell_type": "markdown",
      "metadata": {
        "id": "pOOvbS98jV2_"
      },
      "source": [
        "We can also reverse the column at index position 1 (the second column) as it is shown below:\n"
      ]
    },
    {
      "cell_type": "code",
      "execution_count": null,
      "metadata": {
        "colab": {
          "base_uri": "https://localhost:8080/"
        },
        "id": "CJKFuyESkFEW",
        "outputId": "0f34b721-ccc4-42e4-9a32-f1204af8d548"
      },
      "outputs": [
        {
          "data": {
            "text/plain": [
              "array([10,  6,  2])"
            ]
          },
          "execution_count": 22,
          "metadata": {},
          "output_type": "execute_result"
        }
      ],
      "source": [
        "import numpy as np\n",
        "arr_2d = np.array([[1, 2, 3, 4], [5, 6, 7, 8], [9, 10, 11, 12]])\n",
        "np.flip(arr_2d[:,1])"
      ]
    },
    {
      "cell_type": "markdown",
      "metadata": {
        "id": "U_l4Hs45kCl6"
      },
      "source": [
        "**Task 6**   \n",
        "Flip the given array vertically and horizontally at the same time?"
      ]
    },
    {
      "cell_type": "code",
      "execution_count": null,
      "metadata": {
        "id": "04_YGmKpfntH"
      },
      "outputs": [],
      "source": [
        "# Task 6 solution\n",
        "import numpy as np\n",
        "# Define the input array\n",
        "arr = np.array([[1, 2, 3],\n",
        "                [4, 5, 6],\n",
        "                [7, 8, 9]])\n",
        "# Expected result\n",
        "#######################\n",
        "#array([[9, 8, 7],\n",
        "#       [6, 5, 4],\n",
        "#       [3, 2, 1]])\n",
        "#######################\n",
        "# write your code here"
      ]
    },
    {
      "cell_type": "markdown",
      "metadata": {
        "id": "lVh4Tx5ckSxV"
      },
      "source": [
        "### Array Concatenation   \n",
        "We can concatenate multiple arrays along different axes using the `np.concatenate()`.It takes a sequence of arrays as the first argument and the axis along which to concatenate as the second argument.\n",
        "\n",
        "\n",
        "**Function Syntax**:"
      ]
    },
    {
      "cell_type": "code",
      "execution_count": null,
      "metadata": {
        "id": "OBtE2AQxts9k"
      },
      "outputs": [],
      "source": [
        "import numpy as np\n",
        "np.concatenate((array1, array2, ...), axis=0)"
      ]
    },
    {
      "cell_type": "markdown",
      "metadata": {
        "id": "uHkBiSAht0mf"
      },
      "source": [
        "Parameters:   \n",
        "* **_(array1, array2, ...)_**: Sequence of arrays to concatenate.\n",
        "* **_axis_**: The axis along which to concatenate the arrays. **_Default_** is **0** (concatenate along rows).   \n",
        "\n",
        "Returns:   \n",
        "The concatenated array."
      ]
    },
    {
      "cell_type": "code",
      "execution_count": null,
      "metadata": {
        "colab": {
          "base_uri": "https://localhost:8080/"
        },
        "id": "m3_bTil9koHG",
        "outputId": "a96c2501-73b9-4d35-f4c8-5bea12198604"
      },
      "outputs": [
        {
          "name": "stdout",
          "output_type": "stream",
          "text": [
            "[1 2 3 4 5 6]\n"
          ]
        }
      ],
      "source": [
        "import numpy as np\n",
        "arr1 = np.array([1, 2, 3])\n",
        "arr2 = np.array([4, 5, 6])\n",
        "concatenated_arr = np.concatenate((arr1, arr2))\n",
        "print(concatenated_arr)"
      ]
    },
    {
      "cell_type": "markdown",
      "metadata": {
        "id": "SemWqIQ0I_aX"
      },
      "source": [
        "**Task 7**   \n",
        "Concatenate the following two arrays vertically (along the rows):"
      ]
    },
    {
      "cell_type": "code",
      "execution_count": null,
      "metadata": {
        "id": "6V6JICAyJD4Z"
      },
      "outputs": [],
      "source": [
        "# Task x solution\n",
        "import numpy as np\n",
        "array1 = np.array([[1, 2, 3],\n",
        "                   [4, 5, 6]])\n",
        "array2 = np.array([[7, 8, 9],\n",
        "                   [10, 11, 12]])\n",
        "# Expected result\n",
        "#################################\n",
        "#array([[ 1,  2,  3],\n",
        "#       [ 4,  5,  6],\n",
        "#       [ 7,  8,  9],\n",
        "#       [10, 11, 12]])\n",
        "#################################\n",
        "# write your code here"
      ]
    },
    {
      "cell_type": "markdown",
      "metadata": {
        "id": "OYELIeUUuSYZ"
      },
      "source": [
        "We can also concatenating along columns by specify the `axis` value as 1:"
      ]
    },
    {
      "cell_type": "code",
      "execution_count": null,
      "metadata": {
        "colab": {
          "base_uri": "https://localhost:8080/"
        },
        "id": "rg6yveeeulNd",
        "outputId": "7a49ceee-e84b-4454-8348-afe8192f68a9"
      },
      "outputs": [
        {
          "name": "stdout",
          "output_type": "stream",
          "text": [
            "[[1 2 5]\n",
            " [3 4 6]]\n"
          ]
        }
      ],
      "source": [
        "import numpy as np\n",
        "arr1 = np.array([[1, 2], [3, 4]])\n",
        "arr2 = np.array([[5],\n",
        "                 [6]])\n",
        "result = np.concatenate((arr1, arr2), axis=1)\n",
        "print(result)"
      ]
    },
    {
      "cell_type": "markdown",
      "metadata": {
        "id": "V7Dprd48Hyjg"
      },
      "source": [
        "**Task 8**   \n",
        "Concatenate the following two arrays horizontally (along the columns):"
      ]
    },
    {
      "cell_type": "code",
      "execution_count": null,
      "metadata": {
        "id": "HYdDasVjIfmW"
      },
      "outputs": [],
      "source": [
        "# Task x solution\n",
        "import numpy as np\n",
        "array1 = np.array([[1, 2, 3],\n",
        "                   [4, 5, 6]])\n",
        "array2 = np.array([[7, 8, 9],\n",
        "                   [10, 11, 12]])\n",
        "# Expected result\n",
        "#################################\n",
        "# array([[ 1,  2,  3,  7,  8,  9],\n",
        "#        [ 4,  5,  6, 10, 11, 12]])\n",
        "#################################\n",
        "# write your code here\n"
      ]
    },
    {
      "cell_type": "markdown",
      "metadata": {
        "id": "0suMdVzjmdfK"
      },
      "source": [
        "### Array Stacking   \n",
        "Array stacking allows us combine multiple arrays into a single array along a specified axis. It provides flexibility for combining arrays of different shapes and dimensions. NumPy provides several functions for array stacking, including:\n",
        "* **`np.stack()`**: enable stacking based on the axis parameter   \n",
        "* **`np.vstack()`**:enable vertical stacking\n",
        "* **`np.hstack()`**:enable horizontal stacking\n",
        "* **`np.dstack()`**:enable depth-wise stacking   \n"
      ]
    },
    {
      "cell_type": "markdown",
      "metadata": {
        "id": "tnNhYRrUoOAH"
      },
      "source": [
        "**Stacking with `np.stack()`**   \n",
        " `np.stack()` in NumPy is used to stack arrays along a new axis. It takes a sequence of arrays as input and returns a new array with the additional dimension created.   \n",
        " **Syntax:**"
      ]
    },
    {
      "cell_type": "code",
      "execution_count": null,
      "metadata": {
        "id": "5Yos_8mftLEG"
      },
      "outputs": [],
      "source": [
        "import numpy as np\n",
        "np.stack(arrays, axis=0)"
      ]
    },
    {
      "cell_type": "markdown",
      "metadata": {
        "id": "igL3aDtktREz"
      },
      "source": [
        "Parameters:   \n",
        "* **_arrays_**: A sequence of arrays to be stacked together. These arrays must have the same shape.\n",
        "* **_axis_**: The new axis along which the arrays will be stacked. It is an optional parameter, and the **default** value is **0**.   \n",
        "\n",
        "Return Value:   \n",
        "The function returns a new array with the stacked arrays. The shape of the output array will depend on the shape of the input arrays and the axis parameter.   \n",
        "**Example**: 1D-array stacking"
      ]
    },
    {
      "cell_type": "code",
      "execution_count": null,
      "metadata": {
        "colab": {
          "base_uri": "https://localhost:8080/"
        },
        "id": "0owCcM9Mt0bA",
        "outputId": "1236ff9b-da76-4e3c-a9c8-9f6e2345305e"
      },
      "outputs": [
        {
          "name": "stdout",
          "output_type": "stream",
          "text": [
            "[[1 2 3]\n",
            " [4 5 6]]\n"
          ]
        }
      ],
      "source": [
        "import numpy as np\n",
        "a = np.array([1, 2, 3])\n",
        "b = np.array([4, 5, 6])\n",
        "result = np.stack((a, b))\n",
        "print(result)"
      ]
    },
    {
      "cell_type": "markdown",
      "metadata": {
        "id": "R2gINiMovZI3"
      },
      "source": [
        "In the above example, we have two 1-D arrays a and b. The np.stack() function is used to stack them along a new axis (default axis=0), resulting in a new 2-D array. The output array has a shape of (2, 3), where 2 represents the number of input arrays, and 3 represents the length of each array."
      ]
    },
    {
      "cell_type": "markdown",
      "metadata": {
        "id": "WVNTKXkIuMQi"
      },
      "source": [
        "**Task 9**   \n",
        "use `np.concatenate()` with array a and b above and discover the difference between the two functions. **Hint**: look at the output array dimension"
      ]
    },
    {
      "cell_type": "code",
      "execution_count": null,
      "metadata": {
        "id": "2EZUG6Q5uoLN"
      },
      "outputs": [],
      "source": [
        "# Task 9 solution\n",
        "import numpy as np\n",
        "a = np.array([1, 2, 3])\n",
        "b = np.array([4, 5, 6])\n",
        "# Expected result\n",
        "#############################\n",
        "# array([1, 2, 3, 4, 5, 6])\n",
        "#############################\n",
        "# write your code here"
      ]
    },
    {
      "cell_type": "markdown",
      "metadata": {
        "id": "3071TiJDvIva"
      },
      "source": [
        "**Example**: 2D-array stacking"
      ]
    },
    {
      "cell_type": "code",
      "execution_count": null,
      "metadata": {
        "colab": {
          "base_uri": "https://localhost:8080/"
        },
        "id": "WHZrXgYOvskj",
        "outputId": "9e31d3ac-871c-4780-e1d1-e6e775600c2f"
      },
      "outputs": [
        {
          "name": "stdout",
          "output_type": "stream",
          "text": [
            "[[[1 2]\n",
            "  [5 6]]\n",
            "\n",
            " [[3 4]\n",
            "  [7 8]]]\n"
          ]
        }
      ],
      "source": [
        "import numpy as np\n",
        "a = np.array([[1, 2], [3, 4]])\n",
        "b = np.array([[5, 6], [7, 8]])\n",
        "result = np.stack((a, b), axis=1)\n",
        "print(result)"
      ]
    },
    {
      "cell_type": "markdown",
      "metadata": {
        "id": "3BaJJxcUv37X"
      },
      "source": [
        "In the example above, we have two 2-D arrays a and b. The `np.stack()` function is used to stack them along a new axis axis=1. As a result, a new 3-D array is created, with shape (2, 2, 2). The first dimension represents the number of input arrays, the second dimension represents the rows, and the third dimension represents the columns."
      ]
    },
    {
      "cell_type": "markdown",
      "metadata": {
        "id": "7Y5ByQF-wRZ9"
      },
      "source": [
        "**Task 10**   \n",
        "use `np.concatenate()` to concatenate arrays a and b along the columns and discover the difference between the two functions."
      ]
    },
    {
      "cell_type": "code",
      "execution_count": null,
      "metadata": {
        "id": "BZR3WKz1w4zb"
      },
      "outputs": [],
      "source": [
        "# Task 10 solution\n",
        "import numpy as np\n",
        "a = np.array([[1, 2], [3, 4]])\n",
        "b = np.array([[5, 6], [7, 8]])\n",
        "# Expected result\n",
        "##########################\n",
        "#[[1 2 5 6]\n",
        "#[3 4 7 8]]\n",
        "##########################\n",
        "#write your code here"
      ]
    },
    {
      "cell_type": "markdown",
      "metadata": {
        "id": "lM36emqroMQn"
      },
      "source": [
        "\n",
        "**Vertical Stacking with `np.vstack()`**    \n",
        "The `np.vstack()` function is used to vertically stack arrays, meaning it combines arrays along the rows. It takes a sequence of input arrays and returns a new array with the input arrays stacked vertically. The arrays must have the same number of columns or dimensions along the stacking axis.\n"
      ]
    },
    {
      "cell_type": "markdown",
      "metadata": {
        "id": "F54_wsLUoF9d"
      },
      "source": [
        "![image.png](data:image/png;base64,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)"
      ]
    },
    {
      "cell_type": "markdown",
      "metadata": {
        "id": "MWv5xr7_oNwX"
      },
      "source": [
        "\n",
        ">**Syntax**:"
      ]
    },
    {
      "cell_type": "code",
      "execution_count": null,
      "metadata": {
        "id": "v7yOVpOfldou"
      },
      "outputs": [],
      "source": [
        "import numpy as np\n",
        "np.vstack(tup)"
      ]
    },
    {
      "cell_type": "markdown",
      "metadata": {
        "id": "pfT8Y56dltSP"
      },
      "source": [
        "parameters:   \n",
        "* **_tup_**: a sequence of arrays as a tuple to be vertically stacked."
      ]
    },
    {
      "cell_type": "code",
      "execution_count": null,
      "metadata": {
        "id": "YWrJSaK4oO83"
      },
      "outputs": [],
      "source": []
    },
    {
      "cell_type": "markdown",
      "metadata": {
        "id": "qiXSNA6nmYZn"
      },
      "source": [
        "**Example**:   \n",
        "Let's consider two arrays, a and b, with the same number of columns. We can vertically stack them using np.vstack() as follows:"
      ]
    },
    {
      "cell_type": "code",
      "execution_count": null,
      "metadata": {
        "colab": {
          "base_uri": "https://localhost:8080/"
        },
        "id": "fTZeNDZIgjUp",
        "outputId": "2389b604-930e-4833-c562-e08280d0b92e"
      },
      "outputs": [
        {
          "name": "stdout",
          "output_type": "stream",
          "text": [
            "[[ 1  2  3  4]\n",
            " [ 5  6  7  8]\n",
            " [ 9 10 11 12]\n",
            " [ 1  2  3  4]\n",
            " [ 5  6  7  8]]\n"
          ]
        }
      ],
      "source": [
        "import numpy as np\n",
        "a = np.array([[1, 2, 3,4],\n",
        "                   [5, 6, 7, 8],\n",
        "                   [9,10,11,12]])\n",
        "b = np.array([[1, 2, 3, 4],\n",
        "                   [5, 6, 7, 8]])\n",
        "result = np.vstack((a, b))\n",
        "print(result)"
      ]
    },
    {
      "cell_type": "markdown",
      "metadata": {
        "id": "AVMgD4aAwWLN"
      },
      "source": [
        "**Task 11**   \n",
        "use `np.concatenate()` along rows with arrays a and b above and compare the output result with `np.vstack()` above."
      ]
    },
    {
      "cell_type": "code",
      "execution_count": null,
      "metadata": {
        "id": "VffihXWXw0_D"
      },
      "outputs": [],
      "source": [
        "# Task 11 solution\n",
        "import numpy as np\n",
        "a = np.array([[1, 2, 3,4],\n",
        "                   [5, 6, 7, 8],\n",
        "                   [9,10,11,12]])\n",
        "b = np.array([[1, 2, 3, 4],\n",
        "                   [5, 6, 7, 8]])\n",
        "# Expected result\n",
        "##############################\n",
        "#[[ 1  2  3  4]\n",
        "#[ 5  6  7  8]\n",
        "#[ 9 10 11 12]\n",
        "#[ 1  2  3  4]\n",
        "#[ 5  6  7  8]]\n",
        "###############################\n",
        "# write your code here"
      ]
    },
    {
      "cell_type": "markdown",
      "metadata": {
        "id": "q_w81T4vhG9Z"
      },
      "source": [
        "**Horizontal Stacking with np.hstack()**   \n",
        "The `np.hstack()` function is used to horizontally stack arrays, meaning it combines arrays along the columns. It takes a sequence of input arrays and returns a new array with the input arrays stacked horizontally. The arrays must have the same number of rows or dimensions along the stacking axis."
      ]
    },
    {
      "cell_type": "markdown",
      "metadata": {
        "id": "vASZo6xCqVzq"
      },
      "source": [
        "![image.png](data:image/png;base64,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)"
      ]
    },
    {
      "cell_type": "markdown",
      "metadata": {
        "id": "KtTwqv7cq-lw"
      },
      "source": [
        "**Syntax**:"
      ]
    },
    {
      "cell_type": "code",
      "execution_count": null,
      "metadata": {
        "id": "FoywhQBuqyvG"
      },
      "outputs": [],
      "source": [
        "import numpy as np\n",
        "np.hstack(tup)"
      ]
    },
    {
      "cell_type": "markdown",
      "metadata": {
        "id": "kmDPh3lJrCx8"
      },
      "source": [
        "**Example**:"
      ]
    },
    {
      "cell_type": "code",
      "execution_count": null,
      "metadata": {
        "colab": {
          "base_uri": "https://localhost:8080/"
        },
        "id": "lpCoISbAhSJI",
        "outputId": "1955025e-f939-413f-e587-4380eec93e4b"
      },
      "outputs": [
        {
          "name": "stdout",
          "output_type": "stream",
          "text": [
            "[[ 1  2  3  4  1  2]\n",
            " [ 5  6  7  8  3  4]\n",
            " [ 9 10 11 12  5  6]]\n"
          ]
        }
      ],
      "source": [
        "import numpy as np\n",
        "a = np.array([[1, 2, 3,4],\n",
        "              [5, 6, 7, 8],\n",
        "              [9,10,11,12]])\n",
        "c = np.array([[1, 2],\n",
        "              [3, 4],\n",
        "              [5,6]])\n",
        "result = np.hstack((a, c))\n",
        "print(result)"
      ]
    },
    {
      "cell_type": "markdown",
      "metadata": {
        "id": "lJnzLft6x12k"
      },
      "source": [
        "**Task 12**   \n",
        "use np.concatenate() along columns with arrays a and b above and compare the output result with np.hstack() above."
      ]
    },
    {
      "cell_type": "code",
      "execution_count": null,
      "metadata": {
        "id": "KT3PDfGCyFkX"
      },
      "outputs": [],
      "source": [
        "# Task 12 solution\n",
        "import numpy as np\n",
        "a = np.array([[1, 2, 3,4],\n",
        "                   [5, 6, 7, 8],\n",
        "                   [9,10,11,12]])\n",
        "b = np.array([[1, 2],\n",
        "              [3, 4],\n",
        "              [5, 6]])\n",
        "# Expected result\n",
        "##############################\n",
        "#[[ 1,  2,  3,  4,  1,  2],\n",
        "#[ 5,  6,  7,  8,  3,  4],\n",
        "#[ 9, 10, 11, 12,  5,  6]]\n",
        "###############################\n",
        "# write your code here"
      ]
    },
    {
      "cell_type": "markdown",
      "metadata": {
        "id": "f4qZ-1z_sIGE"
      },
      "source": [
        "**Depth-Wise Stacking with np.dstack()**   \n",
        "The `np.dstack()` function is used to stack arrays depth-wise, meaning it combines arrays along the third axis. It takes a sequence of input arrays and returns a new array with the input arrays stacked along the third axis. The stacked arrays must have the same shape."
      ]
    },
    {
      "cell_type": "markdown",
      "metadata": {
        "id": "IyMiBSmeJ3ii"
      },
      "source": [
        "**Example**:"
      ]
    },
    {
      "cell_type": "code",
      "execution_count": null,
      "metadata": {
        "colab": {
          "base_uri": "https://localhost:8080/"
        },
        "id": "c1UcsMpimmoC",
        "outputId": "67004a62-5788-405c-ab02-8554f87a42e9"
      },
      "outputs": [
        {
          "data": {
            "text/plain": [
              "array([[[1, 4],\n",
              "        [2, 4],\n",
              "        [3, 4]],\n",
              "\n",
              "       [[4, 5],\n",
              "        [5, 5],\n",
              "        [6, 5]]])"
            ]
          },
          "execution_count": 10,
          "metadata": {},
          "output_type": "execute_result"
        }
      ],
      "source": [
        "import numpy as np\n",
        "a=np.array([[1,2,3],[4,5,6]])\n",
        "b=np.array([[4,4,4],\n",
        "            [5,5,5]])\n",
        "np.dstack((a,b))"
      ]
    },
    {
      "cell_type": "markdown",
      "metadata": {
        "id": "kzwijRxZkznL"
      },
      "source": [
        "### Array Splitting:\n",
        "Array splitting is a common operation in data manipulation and analysis.The `np.split()` function splits an array into multiple subarrays along a specified axis. It takes three arguments:\n",
        "1. the array to be split\n",
        "2. the number of equally-sized subarrays to create\n",
        "3. the axis along which to split the array.   \n",
        "\n",
        "<br>\n",
        "**function Syntax**:"
      ]
    },
    {
      "cell_type": "code",
      "execution_count": null,
      "metadata": {
        "id": "q5HYsRBwqaPC"
      },
      "outputs": [],
      "source": [
        "import numpy as np\n",
        "np.split(array, indices_or_sections, axis=0)"
      ]
    },
    {
      "cell_type": "markdown",
      "metadata": {
        "id": "ytxTSS6GqiI1"
      },
      "source": [
        "Parameters:      \n",
        "* **_array_**: The array to be split.\n",
        "* **_indices_or_sections_**: It can take either an integer or a sequence of indices that indicate where the splits should occur.\n",
        "* **_axis_** (optional): The axis along which to split the array. The **_default_** is **0** (split along rows).   \n",
        "\n",
        "Returns:   \n",
        "A list of subarrays resulting from the split operation.\n",
        "\n",
        "<br> **Example:**"
      ]
    },
    {
      "cell_type": "code",
      "execution_count": null,
      "metadata": {
        "colab": {
          "base_uri": "https://localhost:8080/"
        },
        "id": "Z_JHUDiClBx0",
        "outputId": "8254a693-97fc-4111-f0f4-b75951a027a8"
      },
      "outputs": [
        {
          "name": "stdout",
          "output_type": "stream",
          "text": [
            "[array([1, 2]), array([3, 4]), array([5, 6])]\n"
          ]
        }
      ],
      "source": [
        "import numpy as np\n",
        "arr = np.array([1, 2, 3, 4, 5, 6])\n",
        "subarrays = np.split(arr, 3)\n",
        "print(subarrays)"
      ]
    },
    {
      "cell_type": "markdown",
      "metadata": {
        "id": "rvqJAfmhlPi0"
      },
      "source": [
        "In the example above, `np.split()` took two parameters. The first parameter is the array that we want to split and the other parameter is the number of pieces that we want to split the array into."
      ]
    },
    {
      "cell_type": "markdown",
      "metadata": {
        "id": "wRF-GeVB0GAi"
      },
      "source": [
        "**Task 13**   \n",
        "Splits the given array arr into four equal-sized subarrays."
      ]
    },
    {
      "cell_type": "code",
      "execution_count": null,
      "metadata": {
        "id": "Xvfu-S5X1GOg"
      },
      "outputs": [],
      "source": [
        "# task 13 solution\n",
        "import numpy as np\n",
        "arr = np.array([1, 2, 3, 4, 5, 6, 7, 8])\n",
        "# Expected result\n",
        "##############################################################\n",
        "# [array([1, 2]), array([3, 4]), array([5, 6]), array([7, 8])]\n",
        "##############################################################\n",
        "#write your code here"
      ]
    },
    {
      "cell_type": "markdown",
      "metadata": {
        "id": "uaBC5oOmrW4e"
      },
      "source": [
        "We can also specify the indices where you want the splits to occur using a sequence of indices. The array will be split at the specified indices along the specified axis."
      ]
    },
    {
      "cell_type": "code",
      "execution_count": null,
      "metadata": {
        "colab": {
          "base_uri": "https://localhost:8080/"
        },
        "id": "4M6O6AWVrbm7",
        "outputId": "9b42b46f-c3ed-4503-e51f-31861d645879"
      },
      "outputs": [
        {
          "name": "stdout",
          "output_type": "stream",
          "text": [
            "[array([1, 2, 3]), array([4, 5, 6]), array([7, 8]), array([ 9, 10])]\n"
          ]
        }
      ],
      "source": [
        "import numpy as np\n",
        "arr = np.arange(1, 11)\n",
        "indices = [3, 6, 8]\n",
        "subarrays = np.split(arr, indices)\n",
        "print(subarrays)"
      ]
    },
    {
      "cell_type": "markdown",
      "metadata": {
        "id": "-pq8uxYjrh-C"
      },
      "source": [
        "By specifying the axis parameter as 1, you can split the array along columns instead of rows."
      ]
    },
    {
      "cell_type": "code",
      "execution_count": null,
      "metadata": {
        "colab": {
          "base_uri": "https://localhost:8080/"
        },
        "id": "XiwF8krVrrMe",
        "outputId": "3de47ec8-2498-4996-beda-e4354ab44013"
      },
      "outputs": [
        {
          "name": "stdout",
          "output_type": "stream",
          "text": [
            "[array([[1, 2],\n",
            "       [5, 6]]), array([[3, 4],\n",
            "       [7, 8]])]\n"
          ]
        }
      ],
      "source": [
        "import numpy as np\n",
        "\n",
        "arr = np.array([[1, 2, 3, 4], [5, 6, 7, 8]])\n",
        "subarrays = np.split(arr, 2, axis=1)\n",
        "print(subarrays)"
      ]
    },
    {
      "cell_type": "markdown",
      "metadata": {
        "id": "65_QJHVv14-m"
      },
      "source": [
        "**Task 14**   \n",
        "Splits the given 2D array arr into two subarrays vertically?"
      ]
    },
    {
      "cell_type": "code",
      "execution_count": null,
      "metadata": {
        "id": "U1FyyGix2J4G"
      },
      "outputs": [],
      "source": [
        "# Task 14 solution\n",
        "import numpy as np\n",
        "arr = np.array([[1, 2, 3, 10],\n",
        "                [4, 5, 6, 11],\n",
        "                [7, 8, 9, 12]])\n",
        "# Expected result\n",
        "#############################\n",
        "#[array([[1, 2],\n",
        "#        [4, 5],\n",
        "#        [7, 8]]),\n",
        "# array([[ 3, 10],\n",
        "#        [ 6, 11],\n",
        "#        [ 9, 12]])]\n",
        "#############################"
      ]
    },
    {
      "cell_type": "markdown",
      "metadata": {
        "id": "ygfEjh6S3ITx"
      },
      "source": [
        "**Task 15**   \n",
        "Splits the given 2D array arr into three subarrays horizontally?"
      ]
    },
    {
      "cell_type": "code",
      "execution_count": null,
      "metadata": {
        "colab": {
          "base_uri": "https://localhost:8080/"
        },
        "id": "ArOQg4us3R9y",
        "outputId": "55fc2841-00f5-4fc5-f8fb-f9f773c9605e"
      },
      "outputs": [
        {
          "data": {
            "text/plain": [
              "[array([[ 1,  2,  3, 10]]),\n",
              " array([[ 4,  5,  6, 11]]),\n",
              " array([[ 7,  8,  9, 12]])]"
            ]
          },
          "execution_count": 20,
          "metadata": {},
          "output_type": "execute_result"
        }
      ],
      "source": [
        "# Task 15 solution\n",
        "import numpy as np\n",
        "arr = np.array([[1, 2, 3, 10],\n",
        "                [4, 5, 6, 11],\n",
        "                [7, 8, 9, 12]])\n",
        "# Expected result\n",
        "#############################\n",
        "#[array([[ 1,  2,  3, 10]]),\n",
        "#array([[ 4,  5,  6, 11]]),\n",
        "#array([[ 7,  8,  9, 12]])]\n",
        "#############################"
      ]
    },
    {
      "cell_type": "markdown",
      "metadata": {
        "id": "78IyRNa6sHO2"
      },
      "source": [
        "Apart from np.split(), NumPy provides other functions for more specific splitting requirements:   \n",
        "* **_`np.hsplit()`_**: Splits an array into multiple subarrays horizontally (along columns).\n",
        "* **_`np.vsplit()`_**: Splits an array into multiple subarrays vertically (along rows).\n",
        "* **_`np.array_split()`_**: Allows splitting an array into multiple subarrays along a specified axis, even if they are not equally sized.\n",
        "These functions work similarly to np.split() but have specific axis orientations."
      ]
    },
    {
      "cell_type": "markdown",
      "metadata": {
        "id": "I9zLGTECnBdv"
      },
      "source": [
        "### Array Transposing:\n",
        "Array transposing is the process of rearranging the elements of an array to change the shape or the order of the axes. In NumPy, you can transpose an array using the `np.transpose()` function or the `ndarray.T` attribute of an array.   \n",
        "**Example 1**: `np.transpose()` function"
      ]
    },
    {
      "cell_type": "code",
      "execution_count": null,
      "metadata": {
        "colab": {
          "base_uri": "https://localhost:8080/"
        },
        "id": "p3Gl4q6ynSDX",
        "outputId": "e9c693bc-9ad8-4df4-e714-b12bbdc17aaa"
      },
      "outputs": [
        {
          "name": "stdout",
          "output_type": "stream",
          "text": [
            "[[1 4]\n",
            " [2 5]\n",
            " [3 6]]\n"
          ]
        }
      ],
      "source": [
        "import numpy as np\n",
        "arr = np.array([[1, 2, 3], [4, 5, 6]])\n",
        "transposed_arr = np.transpose(arr)\n",
        "print(transposed_arr)"
      ]
    },
    {
      "cell_type": "markdown",
      "metadata": {
        "id": "AUPrBnRe127e"
      },
      "source": [
        "**Example 2**: `ndarray.T` attribute"
      ]
    },
    {
      "cell_type": "code",
      "execution_count": null,
      "metadata": {
        "colab": {
          "base_uri": "https://localhost:8080/"
        },
        "id": "YSna01g-2hpk",
        "outputId": "b57f517a-8350-458f-f83f-ed7f2ef5581f"
      },
      "outputs": [
        {
          "name": "stdout",
          "output_type": "stream",
          "text": [
            "[[1 4]\n",
            " [2 5]\n",
            " [3 6]]\n"
          ]
        }
      ],
      "source": [
        "import numpy as np\n",
        "arr = np.array([[1, 2, 3], [4, 5, 6]])\n",
        "transposed_arr = arr.T\n",
        "print(transposed_arr)"
      ]
    },
    {
      "cell_type": "markdown",
      "metadata": {
        "id": "KhBA-v9WrV_q"
      },
      "source": [
        "**Task 16**   \n",
        "A. transpose the give array? and see what happen?   \n",
        "B. Increase the dimension of the given array and make it 2D and transpose the array?"
      ]
    },
    {
      "cell_type": "code",
      "execution_count": null,
      "metadata": {
        "id": "71ZQumtfr9hW"
      },
      "outputs": [],
      "source": [
        "# Task 16 solution Part A\n",
        "import numpy as np\n",
        "arr1=np.array([1,2,3,4,5])\n",
        "# Expected result\n",
        "##################################\n",
        "# [1, 2, 3, 4, 5]\n",
        "##################################\n",
        "# write your code here"
      ]
    },
    {
      "cell_type": "markdown",
      "metadata": {
        "id": "OlxsVWhQSnni"
      },
      "source": [
        "## Mathematical Operations on Arrays"
      ]
    },
    {
      "cell_type": "markdown",
      "metadata": {
        "id": "UsHh8BFVkZKo"
      },
      "source": [
        "NumPy provides a wide range of mathematical operations that can be applied to arrays. Let's explore some of the commonly used operations."
      ]
    },
    {
      "cell_type": "markdown",
      "metadata": {
        "id": "7Eb9FuJAkhl_"
      },
      "source": [
        "### Basic Mathematic Operations.  \n",
        "Numpy library allows element-wise mathematical operations on arrays data without the need to use a loop. For example, If two arrays have the same size then all arthematic operations are applied on the elements that have the same index of both arrays as it is shown below:"
      ]
    },
    {
      "cell_type": "code",
      "execution_count": null,
      "metadata": {
        "colab": {
          "base_uri": "https://localhost:8080/"
        },
        "id": "pzE_qoiXncdb",
        "outputId": "d3844f76-b52d-463f-ce8f-babdb170be8d"
      },
      "outputs": [
        {
          "name": "stdout",
          "output_type": "stream",
          "text": [
            "[[ 1  5  9]\n",
            " [13 17 21]]\n"
          ]
        }
      ],
      "source": [
        "import numpy as np\n",
        "arr1=np.array([[1,3,5],[7,9,11]])\n",
        "arr2=np.array([[0,2,4],[6,8,10]])\n",
        "print(arr1+arr2)"
      ]
    },
    {
      "cell_type": "markdown",
      "metadata": {
        "id": "svrikKgRDy3J"
      },
      "source": [
        "In the above example, `arr1` and `arr2` have the same size and dimension. Therefore, the element of `row 1` and `column1` in `arr1` is added to the element of `row 1` and `column 1` of `arr2`. this way of addition operation will continue for all elements on this manner. this type of opeation is referred to as **element-wise operation**."
      ]
    },
    {
      "cell_type": "markdown",
      "metadata": {
        "id": "-1yCL6Rwnh1d"
      },
      "source": [
        "**Task 17**   \n",
        "use arr1 and arr2 to do the rest of basic math operations on them `(-,*,/,//,%)`?"
      ]
    },
    {
      "cell_type": "code",
      "execution_count": null,
      "metadata": {
        "id": "siB-DKVmpsd3"
      },
      "outputs": [],
      "source": [
        "# Task 17 solution for substraction\n",
        "#Expected result\n",
        "##########################\n",
        "#[[1, 1, 1],\n",
        "#[1, 1, 1]]\n",
        "##########################\n",
        "# write your code here"
      ]
    },
    {
      "cell_type": "code",
      "execution_count": null,
      "metadata": {
        "id": "mHsKG-yd9yJR"
      },
      "outputs": [],
      "source": [
        "# Task x solution for multiplication\n",
        "# write your code here"
      ]
    },
    {
      "cell_type": "code",
      "execution_count": null,
      "metadata": {
        "id": "SZ70DBoP92oF"
      },
      "outputs": [],
      "source": [
        "# Task x solution for division\n",
        "# Expected result\n",
        "##############################\n",
        "#[[  0,   6,  20],\n",
        "# [ 42,  72, 110]]\n",
        "##############################\n",
        "# write your code here"
      ]
    },
    {
      "cell_type": "code",
      "execution_count": null,
      "metadata": {
        "id": "r0gDxDxj-Avs"
      },
      "outputs": [],
      "source": [
        "# Task x solution for integer division\n",
        "# Expected result\n",
        "########################################\n",
        "# <ipython-input-12-dff00d42fe0b>:5: RuntimeWarning: divide by zero encountered in remainder arr1/arr2\n",
        "#[[       inf, 1.5       , 1.25      ],\n",
        "# [1.16666667, 1.125     , 1.1       ]]\n",
        "########################################\n",
        "# write your code here"
      ]
    },
    {
      "cell_type": "code",
      "execution_count": null,
      "metadata": {
        "id": "e2rETr3v-GOc"
      },
      "outputs": [],
      "source": [
        "# Task x solution for modulus\n",
        "# Expected result\n",
        "##############################\n",
        "# <ipython-input-12-dff00d42fe0b>:5: RuntimeWarning: divide by zero encountered in remainder arr1%arr2\n",
        "# [[0, 1, 1],\n",
        "#  [1, 1, 1]]\n",
        "##############################\n",
        "# write your code here"
      ]
    },
    {
      "cell_type": "markdown",
      "metadata": {
        "id": "bt5KnHnpqD5q"
      },
      "source": [
        "### Arrays Broadcasting\n",
        "If the dimensions of the two arrays that we try to do arthematic operation on them differ then numpy will try to do what is called **broadcasting**.The term **broadcasting** describes how NumPy treats arrays with different shapes during arithmetic operations. Broadcasting in NumPy follows three strict rules to determine the interaction between the two arrays:\n",
        "\n",
        ">**Rule 1**: If the two arrays differ in their number of dimensions, the shape of the one with fewer dimensions is padded with ones on its leading (`left`) side.   \n",
        ">**Rule 2**: If the shape of the two arrays does not match in any dimension, the array with shape equal to `1` in that dimension is stretched to match the other shape.   \n",
        ">**Rule 3**: If in any dimension the sizes disagree and neither is equal to `1`, an `error is raised`.\n"
      ]
    },
    {
      "cell_type": "markdown",
      "metadata": {
        "id": "IAFqm_J-AkaV"
      },
      "source": [
        "Understanding the three rules above might be overwhelming upon your first reading to them. We had the same experience when we met them for the first time. But do not worry, we will explain them step by step and make you familiar with them.   \n",
        "Let us start by the first rule:   \n",
        ">**Rule 1**: If the two arrays differ in their number of dimensions, the shape of the one with fewer dimensions is padded with ones on its leading (left) side.   \n",
        "\n",
        "if two arrays differ in number of dimensions then one array will have higher dimension than the other. Therefore, rule 1 says Numpy will try to raise the lower dimension array to the same dimension of the higher one. This is what is meant by **`the shape of the one with fewer dimensions is padded with ones on its leading (left) side`** To clarify this more we have to show you how numpy can raise one array at lower dimension to an array of higher dimension.   \n",
        "Let us assume we have a single number 3 for example. this number in numpy world has 0 dimension as it is shown in the following example:"
      ]
    },
    {
      "cell_type": "code",
      "execution_count": null,
      "metadata": {
        "colab": {
          "base_uri": "https://localhost:8080/"
        },
        "id": "-hD0s2RgCgNF",
        "outputId": "56639199-6989-40d6-af44-dc3a995942ca"
      },
      "outputs": [
        {
          "data": {
            "text/plain": [
              "0"
            ]
          },
          "execution_count": 11,
          "metadata": {},
          "output_type": "execute_result"
        }
      ],
      "source": [
        "import numpy as np\n",
        "arr0=np.array(3)\n",
        "arr0.ndim"
      ]
    },
    {
      "cell_type": "markdown",
      "metadata": {
        "id": "-I5_OLoEDJGw"
      },
      "source": [
        "The <u>shape tuple</u> of that `0D-array` is represented as an empty tuple as it shown in the example below:"
      ]
    },
    {
      "cell_type": "code",
      "execution_count": null,
      "metadata": {
        "colab": {
          "base_uri": "https://localhost:8080/"
        },
        "id": "6452mOnqDSWV",
        "outputId": "91970b79-0338-4fe0-bab7-b6ae01b9aefd"
      },
      "outputs": [
        {
          "data": {
            "text/plain": [
              "()"
            ]
          },
          "execution_count": 12,
          "metadata": {},
          "output_type": "execute_result"
        }
      ],
      "source": [
        "import numpy as np\n",
        "arr0=np.array(3)\n",
        "arr0.shape"
      ]
    },
    {
      "cell_type": "markdown",
      "metadata": {
        "id": "reH9Lt27CyeW"
      },
      "source": [
        "In order to raise this `0D-array` to `1D-array` in Numpy we have two options. The first option is to inclose `3` inside squared brackets. in other words, we make it a list. Numpy then will raise the `0D-array` to `1D-array` as shown below:"
      ]
    },
    {
      "cell_type": "code",
      "execution_count": null,
      "metadata": {
        "colab": {
          "base_uri": "https://localhost:8080/"
        },
        "id": "Q2D_DohxDkNg",
        "outputId": "cb986b4e-5124-441c-ddb5-8fa7c72e19bc"
      },
      "outputs": [
        {
          "data": {
            "text/plain": [
              "1"
            ]
          },
          "execution_count": 18,
          "metadata": {},
          "output_type": "execute_result"
        }
      ],
      "source": [
        "import numpy as np\n",
        "arr1=np.array([3]) # adding square brackets increase the array dimension by one.\n",
        "arr1.ndim"
      ]
    },
    {
      "cell_type": "markdown",
      "metadata": {
        "id": "4r1yUxlsDyUA"
      },
      "source": [
        "The <u>shape tuple</u> of the new 1D array above is now represented as tuple of single element instead of empty tuple as shown below:"
      ]
    },
    {
      "cell_type": "code",
      "execution_count": null,
      "metadata": {
        "colab": {
          "base_uri": "https://localhost:8080/"
        },
        "id": "EPnPHli3D9mE",
        "outputId": "6f6cca8f-0dd7-44bd-927c-737c79a0dcf1"
      },
      "outputs": [
        {
          "data": {
            "text/plain": [
              "(1,)"
            ]
          },
          "execution_count": 15,
          "metadata": {},
          "output_type": "execute_result"
        }
      ],
      "source": [
        "import numpy as np\n",
        "arr1=np.array([3])\n",
        "arr1.shape"
      ]
    },
    {
      "cell_type": "markdown",
      "metadata": {
        "id": "sVrR1l4zESid"
      },
      "source": [
        "The <u>value</u> of the element in the shape tuple represent the number of data in that dimension. Increasing the value of that elements increases the number of data in the dimension and does not change the array dimension (the count of numbers inside the shape tuple) as it is shown in the example below:"
      ]
    },
    {
      "cell_type": "code",
      "execution_count": null,
      "metadata": {
        "colab": {
          "base_uri": "https://localhost:8080/"
        },
        "id": "dXEtGw-pEwqg",
        "outputId": "d4374ed4-cfc4-4da4-cbd5-7e6c6fdf62a7"
      },
      "outputs": [
        {
          "name": "stdout",
          "output_type": "stream",
          "text": [
            "arr1 dimension: 1\n",
            "arr1 shape: (4,)\n"
          ]
        }
      ],
      "source": [
        "import numpy as np\n",
        "arr1=np.array([3,4,5,6])\n",
        "print(\"arr1 dimension:\",arr1.ndim)\n",
        "print(\"arr1 shape:\",arr1.shape)"
      ]
    },
    {
      "cell_type": "markdown",
      "metadata": {
        "id": "ZQBNIj8IPy7z"
      },
      "source": [
        "The other option which is the one mentioned in Rule 1 is to raise an array at lower dimension to higher dimension one by altering the shape of the lower dimension array and make it similar to the higher one as it shown in the example below:"
      ]
    },
    {
      "cell_type": "code",
      "execution_count": null,
      "metadata": {
        "colab": {
          "base_uri": "https://localhost:8080/"
        },
        "id": "_nS6q75TQ2Wn",
        "outputId": "91e1e3d0-18e8-4bca-bc42-badb687c4ae8"
      },
      "outputs": [
        {
          "name": "stdout",
          "output_type": "stream",
          "text": [
            "arr0 dimension: 1\n"
          ]
        },
        {
          "data": {
            "text/plain": [
              "array([3])"
            ]
          },
          "execution_count": 22,
          "metadata": {},
          "output_type": "execute_result"
        }
      ],
      "source": [
        "import numpy as np\n",
        "arr0=np.array(3)\n",
        "arr0.shape=(1,) # changing 0D array shape from empty tuple to tuple with one element will change the array to 1D array and number of data in that direction will 1 as well.\n",
        "print(\"arr0 dimension:\",arr0.ndim)\n",
        "arr0"
      ]
    },
    {
      "cell_type": "markdown",
      "metadata": {
        "id": "PpsdoPbwSpGg"
      },
      "source": [
        "in the example above we changed the shape of the `0D-array` by adding `1,` inside the `0D-array` shape tuple. This is exactly what is ment by **`the shape of the one with fewer dimensions is padded with ones on its leading (left) side`**. If we want raise the lower dimension array to one dimension more we also add one to left as it is shown in the example below:"
      ]
    },
    {
      "cell_type": "code",
      "execution_count": null,
      "metadata": {
        "colab": {
          "base_uri": "https://localhost:8080/"
        },
        "id": "Y-O7giSTF_i7",
        "outputId": "eb6a8da6-71bd-41c2-d82f-26e6238d9ac8"
      },
      "outputs": [
        {
          "name": "stdout",
          "output_type": "stream",
          "text": [
            "arr0 dimension: 2\n"
          ]
        },
        {
          "data": {
            "text/plain": [
              "array([[3]])"
            ]
          },
          "execution_count": 1,
          "metadata": {},
          "output_type": "execute_result"
        }
      ],
      "source": [
        "import numpy as np\n",
        "arr0=np.array(3)\n",
        "arr0.shape=(1,1,) # changing 0D array shape from empty tuple to tuple with one element will change the array to 1D array and number of data in that direction will 1 as well.\n",
        "print(\"arr0 dimension:\",arr0.ndim)\n",
        "arr0"
      ]
    },
    {
      "cell_type": "markdown",
      "metadata": {
        "id": "wbFqSG0ZS7tg"
      },
      "source": [
        "**Task 18**   \n",
        "It is your task now to convert `4` as `0D-array` to `1D-array` and 3D-array using the two options that we have shown you above?"
      ]
    },
    {
      "cell_type": "code",
      "execution_count": null,
      "metadata": {
        "id": "TJw50DyQTUSG"
      },
      "outputs": [],
      "source": [
        "# Task 18 solution using the addition of square brackets\n",
        "# Expected result\n",
        "#############\n",
        "# [4]\n",
        "#############\n",
        "# write your code here"
      ]
    },
    {
      "cell_type": "code",
      "execution_count": null,
      "metadata": {
        "id": "kRmkylu6Teu3"
      },
      "outputs": [],
      "source": [
        "# Task 18 solution using the method of altering the shape of the array\n",
        "# Expected result\n",
        "################\n",
        "# [[[4]]]\n",
        "# ##############\n",
        "# write your code here"
      ]
    },
    {
      "cell_type": "markdown",
      "metadata": {
        "id": "znf3yTPvFRhk"
      },
      "source": [
        "**Task 19**   \n",
        "Try raising the 1D-array `np.array([1,2,3,4]) to `2D-array` using the shape altering method above?   "
      ]
    },
    {
      "cell_type": "code",
      "execution_count": null,
      "metadata": {
        "id": "-hkphLZ5wQuH"
      },
      "outputs": [],
      "source": []
    },
    {
      "cell_type": "code",
      "execution_count": null,
      "metadata": {
        "id": "NhWBQG5tU4Ck"
      },
      "outputs": [],
      "source": [
        "# Task 19 solution\n",
        "# Expect result\n",
        "#################\n",
        "#[[1.2.3.4]]\n",
        "#################\n",
        "# write your code here"
      ]
    },
    {
      "cell_type": "markdown",
      "metadata": {
        "id": "Jx6qEtBXX3G6"
      },
      "source": [
        "**Challenge I**   \n",
        "write a function that takes two parameters (A as numpy array, d as integer) where it return the input array after raising it to the d dimension? Test your function on the array, np.array([[1,2],[3,4]]), and d=4"
      ]
    },
    {
      "cell_type": "code",
      "execution_count": null,
      "metadata": {
        "colab": {
          "base_uri": "https://localhost:8080/"
        },
        "id": "BIbXtvGYYlxB",
        "outputId": "3bd50f43-73fb-4037-cac1-45c463f8717c"
      },
      "outputs": [
        {
          "data": {
            "text/plain": [
              "array([[[[1, 2],\n",
              "         [3, 4]]]])"
            ]
          },
          "execution_count": 17,
          "metadata": {},
          "output_type": "execute_result"
        }
      ],
      "source": [
        "# Challenge I solution\n",
        "# Expected result\n",
        "#########################\n",
        "#array([[[[1, 2],\n",
        "#      [3, 4]]]])\n",
        "#########################\n",
        "# write your code here"
      ]
    },
    {
      "cell_type": "markdown",
      "metadata": {
        "id": "k4IU2cFwGKEb"
      },
      "source": [
        "To illustrate Rule 2 let us try to add `0D-array` such `5` for example to `1D-array` such as `np.array([0,1,3])`. Rule 1 will manage rasing the dimension of 0D-array to the same dimension of 1D-array (make the number of elements in their shape tuple the same but not necessarly the same values). Unfortuently, this condition is not enough to allow the addition to proceed because the addition will only proceed if the shape of the tuple of both arrays have the same number of elements (number of dimension ) and the same values (number of data in each dimension) to be the same as well. Therefore Numpy use Rule 2 to manage making the values (number of data in each dimension) in the shape tuple of both arrays the same. Rule 2 says:   \n",
        ">**Rule 2**: If the shape of the two arrays does not match in any dimension, the array with shape equal to 1 in that dimension is stretched to match the other shape.   \n",
        "\n"
      ]
    },
    {
      "cell_type": "markdown",
      "metadata": {
        "id": "b_fqDaG2G_ma"
      },
      "source": [
        "In other words, Rule 2 says, After managing the two arrays with Rule 1 and making them have the same dimension (same number of elements in their shape tuple) if the **values** of the corresponding element in each tuple are not the same then the element that has a value 1 will be stretched (the data in that dimension is repeated) to match the number of data of the corresponding element in the other array."
      ]
    },
    {
      "cell_type": "markdown",
      "metadata": {
        "id": "yhFL47nJcvpZ"
      },
      "source": [
        "For our example example Rule 2 can be illustratied graphically as follows:"
      ]
    },
    {
      "cell_type": "markdown",
      "metadata": {
        "id": "fmUbYOMddbFA"
      },
      "source": [
        "![image.png](data:image/png;base64,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)"
      ]
    },
    {
      "cell_type": "markdown",
      "metadata": {
        "id": "rUrwI0H2M1Qd"
      },
      "source": [
        "According to rule 1 and rule 2 and without any interferance from our side, numpy will do the addition of 5 with the numpy array `np.array([0,1,2]) to obtain the result shown in the picture above as follows:"
      ]
    },
    {
      "cell_type": "code",
      "execution_count": null,
      "metadata": {
        "colab": {
          "base_uri": "https://localhost:8080/"
        },
        "id": "pi4OLSAONKEn",
        "outputId": "492e1128-013e-432a-d9fa-fe908e9fc71e"
      },
      "outputs": [
        {
          "data": {
            "text/plain": [
              "array([5, 6, 7])"
            ]
          },
          "execution_count": 18,
          "metadata": {},
          "output_type": "execute_result"
        }
      ],
      "source": [
        "import numpy as np\n",
        "arr1=np.array([0,1,2])\n",
        "arr1+5"
      ]
    },
    {
      "cell_type": "markdown",
      "metadata": {
        "id": "5sNk13PWmZY9"
      },
      "source": [
        "**Task 20**.  \n",
        "substract 1 from arr1 above and print the result?"
      ]
    },
    {
      "cell_type": "code",
      "execution_count": null,
      "metadata": {
        "id": "16OXd98ZmyN9"
      },
      "outputs": [],
      "source": [
        "# Task 20 solution\n",
        "# Expected result\n",
        "#########################\n",
        "# array([-1,  0,  1])\n",
        "#########################\n",
        "# write your code here"
      ]
    },
    {
      "cell_type": "markdown",
      "metadata": {
        "id": "p7g30WAIm5Ed"
      },
      "source": [
        "The same thing can be said for the multiplication and divsion as it is shown in the example below:"
      ]
    },
    {
      "cell_type": "code",
      "execution_count": null,
      "metadata": {
        "colab": {
          "base_uri": "https://localhost:8080/"
        },
        "id": "v1Q03Vm6nGfx",
        "outputId": "0f1766f6-a68e-4a22-a539-b48d4c119952"
      },
      "outputs": [
        {
          "data": {
            "text/plain": [
              "array([ 5, 15, 25])"
            ]
          },
          "execution_count": 21,
          "metadata": {},
          "output_type": "execute_result"
        }
      ],
      "source": [
        "import numpy as np\n",
        "arr1=np.array([1,3,5])\n",
        "arr1*5\n"
      ]
    },
    {
      "cell_type": "markdown",
      "metadata": {
        "id": "HcRyeiMTnM5J"
      },
      "source": [
        "**Task 21**   \n",
        "divide arr1 above by 8 and observe the result?"
      ]
    },
    {
      "cell_type": "code",
      "execution_count": null,
      "metadata": {
        "id": "0SrS-huuoNoC"
      },
      "outputs": [],
      "source": [
        "# Task 21 solution\n",
        "# Expected result\n",
        "##################################\n",
        "# array([0.125, 0.375, 0.625])\n",
        "##################################\n",
        "# write your code here"
      ]
    },
    {
      "cell_type": "markdown",
      "metadata": {
        "id": "BZTqz0z_fKhI"
      },
      "source": [
        "**Task 22**   \n",
        "Try to use the other arthematic operations (`%,//,**`) that you have learned in python on arr1 of the example above?"
      ]
    },
    {
      "cell_type": "code",
      "execution_count": null,
      "metadata": {
        "id": "3ny14KZNfn-k"
      },
      "outputs": [],
      "source": [
        "# Task 22 solution\n",
        "# write your code here"
      ]
    },
    {
      "cell_type": "code",
      "execution_count": null,
      "metadata": {
        "id": "BBmiBBplztdq"
      },
      "outputs": [],
      "source": [
        "# Task 22 solution\n",
        "# write your code here"
      ]
    },
    {
      "cell_type": "code",
      "execution_count": null,
      "metadata": {
        "id": "_EogyP08zvjj"
      },
      "outputs": [],
      "source": [
        "# Task 22 solution\n",
        "# write your code here"
      ]
    },
    {
      "cell_type": "markdown",
      "metadata": {
        "id": "sIcXeI_lMzEp"
      },
      "source": [
        "For the addition of 1D-array `np.array([1,2])` to 2D-array `np.array([[1,2],[3,4]]), Rule 1 and Rule 2 will manage the addition as it is shown shown in the picture below:"
      ]
    },
    {
      "cell_type": "markdown",
      "metadata": {
        "id": "nj9K9dzPkAUI"
      },
      "source": [
        "![image.png](data:image/png;base64,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)"
      ]
    },
    {
      "cell_type": "code",
      "execution_count": null,
      "metadata": {
        "colab": {
          "base_uri": "https://localhost:8080/"
        },
        "id": "iE8UZSJukyps",
        "outputId": "24a0fd98-60aa-4d29-cac3-29dc87953f7a"
      },
      "outputs": [
        {
          "data": {
            "text/plain": [
              "array([[2, 4],\n",
              "       [4, 6]])"
            ]
          },
          "execution_count": 9,
          "metadata": {},
          "output_type": "execute_result"
        }
      ],
      "source": [
        "import numpy as np\n",
        "arr1=np.array([1,2])\n",
        "arr2=np.array([[1,2],\n",
        "              [3,4]])\n",
        "arr1+arr2"
      ]
    },
    {
      "cell_type": "markdown",
      "metadata": {
        "id": "Cobos1MOleXh"
      },
      "source": [
        "In the example above:   \n",
        "* Rule 1 raised the shape tuple of `arr1` from `(2,) to (1,2)\n",
        "* Rule 2 observed that there is miss match between the new arr1 shape tuple (1,2) and the shape tuple of arr2 (2,2). Therefore, Rule 2 stretch dimension of first element of arr1 shape tuple which represent the number of rows to match the number of row in arr2. Since now the shape and size of both arrays are the same, the addition can done."
      ]
    },
    {
      "cell_type": "markdown",
      "metadata": {
        "id": "x_9_XqEmORSv"
      },
      "source": [
        "But what is going to happen if after applying rule 1 and Rule 2 still there is difference in the shape and size of the two arrays that we want to conduct arthemtatic operation on them. This is what bring us to Rule 3 which says:      \n",
        ">**Rule 3**: If in any dimension the sizes disagree and neither is equal to `1`, an `error is raised`.\n",
        "\n",
        "The rule simply says if Rule 1 and Rule 2 could not manage to have the shape tuple of both arrays the same then print an error message."
      ]
    },
    {
      "cell_type": "code",
      "execution_count": null,
      "metadata": {
        "colab": {
          "base_uri": "https://localhost:8080/",
          "height": 219
        },
        "id": "rwx6uuqUl3pp",
        "outputId": "ecf92b40-2eee-48d9-88ca-6ab32e9fd84e"
      },
      "outputs": [
        {
          "ename": "ValueError",
          "evalue": "ignored",
          "output_type": "error",
          "traceback": [
            "\u001b[0;31m---------------------------------------------------------------------------\u001b[0m",
            "\u001b[0;31mValueError\u001b[0m                                Traceback (most recent call last)",
            "\u001b[0;32m<ipython-input-10-0ac84d6a5411>\u001b[0m in \u001b[0;36m<cell line: 5>\u001b[0;34m()\u001b[0m\n\u001b[1;32m      3\u001b[0m arr2=np.array([[1,2],\n\u001b[1;32m      4\u001b[0m                [3,4]])\n\u001b[0;32m----> 5\u001b[0;31m \u001b[0marr1\u001b[0m\u001b[0;34m+\u001b[0m\u001b[0marr2\u001b[0m\u001b[0;34m\u001b[0m\u001b[0;34m\u001b[0m\u001b[0m\n\u001b[0m",
            "\u001b[0;31mValueError\u001b[0m: operands could not be broadcast together with shapes (3,) (2,2) "
          ]
        }
      ],
      "source": [
        "import numpy as np\n",
        "\n",
        "arr1=np.array([0,1,2,3])\n",
        "\n",
        "arr2=np.array([[0 ,0 ,0 ],\n",
        "               [10,10,10],\n",
        "               [20,20,20],\n",
        "               [30,30,30]])\n",
        "arr1+arr2"
      ]
    },
    {
      "cell_type": "markdown",
      "metadata": {
        "id": "2I7Jgi15_KTt"
      },
      "source": [
        "In the example above:\n",
        " * Rule 1 managed to make the two array have the same number of dimensions by padding arr1 shape tuple with 1 to the left to become equal to (1,4) and arr2 already have shape tuple of (4,3).\n",
        " * Rule 2 even it managed to stretch the first dimension in arr1 shape tuple and make it equal 2 as arr2, it failed to stretching the element in the shape tuple of arr1 to make it have the same value as of that of arr2 since the value of that element does not equal 1 as per the requirement of rule 2. Therefore, Rule 3 raised an error message to signify that the operation cannot be completed. see the picture below that represents such case."
      ]
    },
    {
      "cell_type": "markdown",
      "metadata": {
        "id": "uO5Zjpdek_pa"
      },
      "source": [
        "![image.png](data:image/png;base64,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)"
      ]
    },
    {
      "cell_type": "markdown",
      "metadata": {
        "id": "YAYrooNaofup"
      },
      "source": [
        "**Task 23**   \n",
        "A. Without writing any code deside whether the following arrays will do the arthematic operation without error?   \n",
        "B. Predict the shpe of the resulting array if the operation is successful?   \n",
        "C. Check your answer by writing python code for the arthematic operation?"
      ]
    },
    {
      "cell_type": "code",
      "execution_count": null,
      "metadata": {
        "id": "NZJwY0nCp-Xh"
      },
      "outputs": [],
      "source": [
        "# task 23 solution\n",
        "import numpy as np\n",
        "arr1=np.array([[1,2],\n",
        "               [3,4]])\n",
        "arr2=np.array([1,2,3,4])\n",
        "\n",
        " # The operation of arr1*arr1 will ....... write your answer to part A here\n",
        " # The shape of the resulting array will be .........write your answer to part B here\n",
        "\n",
        " # check your answer by write arthematic operation below"
      ]
    },
    {
      "cell_type": "code",
      "execution_count": null,
      "metadata": {
        "id": "IWcuZ5NxrLEH"
      },
      "outputs": [],
      "source": [
        "# task 23 solution\n",
        "import numpy as np\n",
        "arr1=np.array([[1,3,5],[7,9,11]])\n",
        "arr2=np.array([3])\n",
        "\n",
        " # The operation of arr1 / arr1 will ....... write your answer to part A here\n",
        " # The shape of the resulting array will be .........write your answer to part B here\n",
        "\n",
        " # check your answer by write arthematic operation below"
      ]
    },
    {
      "cell_type": "code",
      "execution_count": null,
      "metadata": {
        "id": "pdTUnobYBD8G"
      },
      "outputs": [],
      "source": [
        "# task 23 solution\n",
        "import numpy as np\n",
        "arr1=np.array([[1,3,5],[7,9,11]])\n",
        "arr2=np.array([[3],\n",
        "               [4],\n",
        "               [5],\n",
        "               [6]])\n",
        "\n",
        " # The operation of arr1 - arr1 will ....... write your answer to part A here\n",
        " # The shape of the resulting array will be .........write your answer to part B here\n",
        "\n",
        " # check your answer by write arthematic operation below"
      ]
    },
    {
      "cell_type": "code",
      "execution_count": null,
      "metadata": {
        "id": "ytl1riV8BUr8"
      },
      "outputs": [],
      "source": [
        "# task 23 solution\n",
        "import numpy as np\n",
        "arr1=np.array([[1,3,5],[7,9,11]])\n",
        "arr2=np.array([[[3]]])  # increasing the number of inner list increase the array dimension\n",
        "\n",
        " # The operation of arr1*arr1 will ....... write your answer to part A here\n",
        " # The shape of the resulting array will be .........write your answer to part B here\n",
        "\n",
        " # check your answer by write arthematic operation below"
      ]
    },
    {
      "cell_type": "code",
      "execution_count": null,
      "metadata": {
        "id": "EXTj-OX5K3kw"
      },
      "outputs": [],
      "source": [
        "# task 23 solution\n",
        "import numpy as np\n",
        "arr1=np.array([1,2,3])\n",
        "arr2=np.array([10,11,12,13])\n",
        "\n",
        " # The operation of arr1+arr1 will ....... write your answer to part A here\n",
        " # The shape of the resulting array will be .........write your answer to part B here\n",
        "\n",
        " # check your answer by write arthematic operation below"
      ]
    },
    {
      "cell_type": "code",
      "execution_count": null,
      "metadata": {
        "id": "gNs6McprqgvD"
      },
      "outputs": [],
      "source": [
        "# task 23 solution\n",
        "import numpy as np\n",
        "arr1=np.array([1,3,5])\n",
        "arr2=np.array([[0,2,4],[6,8,10]])\n",
        "\n",
        " # The operation of arr1*arr1 will ....... write your answer to part A here\n",
        " # The shape of the resulting array will be .........write your answer to part B here\n",
        "\n",
        " # check your answer by write arthematic operation below"
      ]
    },
    {
      "cell_type": "markdown",
      "metadata": {
        "id": "YM1WodEoB0hU"
      },
      "source": [
        "**Challenge II**   \n",
        "write a function that takes two numpy arrays as parameters and return True and the shape of the resulting array if the arthematic operation proceed without error otherwise it return false. Test your function on the following arrays:\n",
        "np.array([1,2,3,4])\n",
        "np.array([[1],[2],[3]})"
      ]
    },
    {
      "cell_type": "code",
      "execution_count": null,
      "metadata": {
        "id": "z-RZbzWiJRsz"
      },
      "outputs": [],
      "source": [
        "# Challenge II solution\n",
        "# write your code here."
      ]
    },
    {
      "cell_type": "markdown",
      "metadata": {
        "id": "BvAtBsditJA5"
      },
      "source": [
        "### Numpy Universal Functions\n",
        "A NumPy universal function, often referred to as a ufunc, is a function that operates element-wise on arrays, enabling fast and efficient computations. Ufuncs are a fundamental component of NumPy and play a crucial role in performing mathematical, logical, and bitwise operations on arrays.\n",
        "\n",
        "The main advantage of ufuncs is their ability to process arrays in a vectorized manner, meaning the operations are applied to each element of the array simultaneously, without the need for explicit loops. This allows for efficient computation and is one of the key reasons why NumPy is widely used in scientific computing and data analysis.\n",
        "\n",
        "Ufuncs provide a wide range of mathematical functions, such as addition, subtraction, multiplication, division, exponentiation, trigonometric functions, logarithmic functions, and more. They can operate on arrays of any dimension and shape, including multi-dimensional arrays.\n",
        "\n",
        "\n",
        "1. **`np.sum()`**    \n",
        "The `np.sum() adds up all elements in an array as it is shown in the following example:"
      ]
    },
    {
      "cell_type": "code",
      "execution_count": null,
      "metadata": {
        "colab": {
          "base_uri": "https://localhost:8080/"
        },
        "id": "dENqhcgwtJA5",
        "outputId": "c977a8f6-4cc8-4c97-d7fc-ce5a22fb1a8b"
      },
      "outputs": [
        {
          "data": {
            "text/plain": [
              "46"
            ]
          },
          "execution_count": 2,
          "metadata": {},
          "output_type": "execute_result"
        }
      ],
      "source": [
        "import numpy as np\n",
        "my_array=np.array([[1,2,4],\n",
        "                   [4,5,6],\n",
        "                  [7,8,9]])\n",
        "np.sum(my_array)"
      ]
    },
    {
      "cell_type": "markdown",
      "metadata": {
        "id": "R0ObGLo8tJA6"
      },
      "source": [
        ">We can also specify the value of the optional parameter `axis` to control the summation operation to be along the columns or along the rows. if we want to do the summation on the column we set the `axis` value to 0. But if we want to do the summation for the rows we set the value of `axis` to 1 as it is shown in the example below:"
      ]
    },
    {
      "cell_type": "code",
      "execution_count": null,
      "metadata": {
        "colab": {
          "base_uri": "https://localhost:8080/"
        },
        "id": "FVDamKlKtoVa",
        "outputId": "5991e66b-572f-480e-cb5e-97f84d1e004a"
      },
      "outputs": [
        {
          "name": "stdout",
          "output_type": "stream",
          "text": [
            "summation along columns: [12 15 19]\n",
            "summation along rows: [ 7 15 24]\n"
          ]
        }
      ],
      "source": [
        "import numpy as np\n",
        "my_array=np.array([[1,2,4],\n",
        "                   [4,5,6],\n",
        "                  [7,8,9]])\n",
        "print(\"summation along columns:\",np.sum(my_array,axis=0))\n",
        "print(\"summation along rows:\",np.sum(my_array,axis=1))"
      ]
    },
    {
      "cell_type": "markdown",
      "metadata": {
        "id": "7meSzA1gxS_L"
      },
      "source": [
        "2. **`np.mean()`**   \n",
        "numpy has also a function for calculating the mean value of all array data as it is shwon in the example below:"
      ]
    },
    {
      "cell_type": "code",
      "execution_count": null,
      "metadata": {
        "colab": {
          "base_uri": "https://localhost:8080/"
        },
        "id": "rJ_IF7wtxkD6",
        "outputId": "f674fbac-cede-44e8-fe6a-7fdd40fdd795"
      },
      "outputs": [
        {
          "data": {
            "text/plain": [
              "5.111111111111111"
            ]
          },
          "execution_count": 5,
          "metadata": {},
          "output_type": "execute_result"
        }
      ],
      "source": [
        "import numpy as np\n",
        "my_array=np.array([[1,2,4],\n",
        "                   [4,5,6],\n",
        "                  [7,8,9]])\n",
        "np.mean(my_array)"
      ]
    },
    {
      "cell_type": "markdown",
      "metadata": {
        "id": "0YUeQGenxuxB"
      },
      "source": [
        "> Similar to the sum function the mean function has an optional parameter called `axis` to specify the direction of calculation as it is shown in the example below:"
      ]
    },
    {
      "cell_type": "code",
      "execution_count": null,
      "metadata": {
        "colab": {
          "base_uri": "https://localhost:8080/"
        },
        "id": "qP7yT_GbyEd-",
        "outputId": "67a5d76b-264f-4cd5-fdc0-f4cf5269a85d"
      },
      "outputs": [
        {
          "name": "stdout",
          "output_type": "stream",
          "text": [
            "mean along columns: [4. 5. 6.]\n",
            "mean along rows: [2. 5. 8.]\n"
          ]
        }
      ],
      "source": [
        "import numpy as np\n",
        "my_array=np.array([[1,2,3],\n",
        "                   [4,5,6],\n",
        "                  [7,8,9]])\n",
        "print(\"mean along columns:\",np.mean(my_array,axis=0))\n",
        "print(\"mean along rows:\",np.mean(my_array,axis=1))"
      ]
    },
    {
      "cell_type": "markdown",
      "metadata": {
        "id": "S9RzVkWhXIxH"
      },
      "source": [
        "**Task 24**   \n",
        "Find the maximum value in my_array above and calculate the maximium value for every row and column as well?"
      ]
    },
    {
      "cell_type": "code",
      "execution_count": null,
      "metadata": {
        "id": "vWytnSY5nWHm"
      },
      "outputs": [],
      "source": [
        "# Task 24 solution\n",
        "# Expected result\n",
        "###########################\n",
        "# maximum=9\n",
        "# max along rows =[7,8,9]\n",
        "# max along columns=[3,6,9]\n",
        "###########################\n",
        "# write your code here\n"
      ]
    },
    {
      "cell_type": "markdown",
      "metadata": {
        "id": "gOMXVlCmnfFp"
      },
      "source": [
        "**Task 25**   \n",
        "Find the minimum value in my_array above and calculate the minimum value for every row and column as well?"
      ]
    },
    {
      "cell_type": "code",
      "execution_count": null,
      "metadata": {
        "id": "LrJwSB29nfFy"
      },
      "outputs": [],
      "source": [
        "# Task 25 solution\n",
        "# Expected result\n",
        "###########################\n",
        "# minimum=1\n",
        "# max along rows =[1,2,3]\n",
        "# max along columns=[1,4,7]\n",
        "###########################\n",
        "# write your code here"
      ]
    },
    {
      "cell_type": "markdown",
      "metadata": {
        "id": "oT2F7AVhr6JY"
      },
      "source": [
        "3. **other universal functions**:   \n",
        "Numpy has so many functions that you can search for them and know how to use them such as:   \n",
        "* **_np.exp()_**: Computes the element-wise exponential of an array.\n",
        "* **_np.log()_**: Computes the natural logarithm (base e) of an array.\n",
        "* **_np.sin()_**, **_np.cos()_**, **_np.tan()_**: Compute the sine, cosine, and tangent of an array, respectively.\n",
        "* **_np.sqrt()_**: Computes the non-negative square root of an array.\n",
        "* **_np.arcsin()_**, **_np.arccos()_**, **_np.arctan()_**: Compute the inverse sine, inverse cosine, and inverse tangent of an array, respectively.\n",
        "* **_np.abs()_**: Computes the absolute value element-wise.\n",
        "* **_np.round()_**: Rounds the elements of an array to the nearest integer.\n",
        "* **_np.floor()_**, **_np.ceil()_**: Computes the floor and ceiling values of each element in an array, respectively.\n",
        "* **_np.unique()_**: Returns the sorted unique values in an array.\n",
        "* **_np.sort()_**: Sorts the elements of an array along a specified axis.\n",
        "* **_np.argmax()_**, **_np.argmin()_**: Returns the indices of the maximum and minimum values along a specified axis.   \n",
        "\n",
        "To get more help on any of these functions we can use numpy built-in help function as follows:\n"
      ]
    },
    {
      "cell_type": "code",
      "execution_count": null,
      "metadata": {
        "colab": {
          "base_uri": "https://localhost:8080/"
        },
        "id": "dQeMo0ADl11C",
        "outputId": "e76b323f-68f0-4b7a-c5ca-34ff3ee61d30"
      },
      "outputs": [
        {
          "name": "stdout",
          "output_type": "stream",
          "text": [
            "Help on ufunc:\n",
            "\n",
            "exp = <ufunc 'exp'>\n",
            "    exp(x, /, out=None, *, where=True, casting='same_kind', order='K', dtype=None, subok=True[, signature, extobj])\n",
            "    \n",
            "    Calculate the exponential of all elements in the input array.\n",
            "    \n",
            "    Parameters\n",
            "    ----------\n",
            "    x : array_like\n",
            "        Input values.\n",
            "    out : ndarray, None, or tuple of ndarray and None, optional\n",
            "        A location into which the result is stored. If provided, it must have\n",
            "        a shape that the inputs broadcast to. If not provided or None,\n",
            "        a freshly-allocated array is returned. A tuple (possible only as a\n",
            "        keyword argument) must have length equal to the number of outputs.\n",
            "    where : array_like, optional\n",
            "        This condition is broadcast over the input. At locations where the\n",
            "        condition is True, the `out` array will be set to the ufunc result.\n",
            "        Elsewhere, the `out` array will retain its original value.\n",
            "        Note that if an uninitialized `out` array is created via the default\n",
            "        ``out=None``, locations within it where the condition is False will\n",
            "        remain uninitialized.\n",
            "    **kwargs\n",
            "        For other keyword-only arguments, see the\n",
            "        :ref:`ufunc docs <ufuncs.kwargs>`.\n",
            "    \n",
            "    Returns\n",
            "    -------\n",
            "    out : ndarray or scalar\n",
            "        Output array, element-wise exponential of `x`.\n",
            "        This is a scalar if `x` is a scalar.\n",
            "    \n",
            "    See Also\n",
            "    --------\n",
            "    expm1 : Calculate ``exp(x) - 1`` for all elements in the array.\n",
            "    exp2  : Calculate ``2**x`` for all elements in the array.\n",
            "    \n",
            "    Notes\n",
            "    -----\n",
            "    The irrational number ``e`` is also known as Euler's number.  It is\n",
            "    approximately 2.718281, and is the base of the natural logarithm,\n",
            "    ``ln`` (this means that, if :math:`x = \\ln y = \\log_e y`,\n",
            "    then :math:`e^x = y`. For real input, ``exp(x)`` is always positive.\n",
            "    \n",
            "    For complex arguments, ``x = a + ib``, we can write\n",
            "    :math:`e^x = e^a e^{ib}`.  The first term, :math:`e^a`, is already\n",
            "    known (it is the real argument, described above).  The second term,\n",
            "    :math:`e^{ib}`, is :math:`\\cos b + i \\sin b`, a function with\n",
            "    magnitude 1 and a periodic phase.\n",
            "    \n",
            "    References\n",
            "    ----------\n",
            "    .. [1] Wikipedia, \"Exponential function\",\n",
            "           https://en.wikipedia.org/wiki/Exponential_function\n",
            "    .. [2] M. Abramovitz and I. A. Stegun, \"Handbook of Mathematical Functions\n",
            "           with Formulas, Graphs, and Mathematical Tables,\" Dover, 1964, p. 69,\n",
            "           https://personal.math.ubc.ca/~cbm/aands/page_69.htm\n",
            "    \n",
            "    Examples\n",
            "    --------\n",
            "    Plot the magnitude and phase of ``exp(x)`` in the complex plane:\n",
            "    \n",
            "    >>> import matplotlib.pyplot as plt\n",
            "    \n",
            "    >>> x = np.linspace(-2*np.pi, 2*np.pi, 100)\n",
            "    >>> xx = x + 1j * x[:, np.newaxis] # a + ib over complex plane\n",
            "    >>> out = np.exp(xx)\n",
            "    \n",
            "    >>> plt.subplot(121)\n",
            "    >>> plt.imshow(np.abs(out),\n",
            "    ...            extent=[-2*np.pi, 2*np.pi, -2*np.pi, 2*np.pi], cmap='gray')\n",
            "    >>> plt.title('Magnitude of exp(x)')\n",
            "    \n",
            "    >>> plt.subplot(122)\n",
            "    >>> plt.imshow(np.angle(out),\n",
            "    ...            extent=[-2*np.pi, 2*np.pi, -2*np.pi, 2*np.pi], cmap='hsv')\n",
            "    >>> plt.title('Phase (angle) of exp(x)')\n",
            "    >>> plt.show()\n",
            "\n"
          ]
        }
      ],
      "source": [
        "import numpy as np\n",
        "help(np.exp)"
      ]
    },
    {
      "cell_type": "markdown",
      "metadata": {
        "id": "GjXpduDUmcx9"
      },
      "source": [
        "or simply use ? or ?? after the name of the object that we want to have some help about it. Google colab will show us the help at a seperte windown to the right. check this by running the code below:"
      ]
    },
    {
      "cell_type": "code",
      "execution_count": null,
      "metadata": {
        "id": "MvXa3Ozgmurt"
      },
      "outputs": [],
      "source": [
        "import numpy as np\n",
        "np.exp?"
      ]
    },
    {
      "cell_type": "markdown",
      "metadata": {
        "id": "68YotJLdnXGn"
      },
      "source": [
        "The help is not limited to functions but also can by about arrays as well. run the code below to get some information about the created array."
      ]
    },
    {
      "cell_type": "code",
      "execution_count": null,
      "metadata": {
        "id": "5W_tqEL-n17l"
      },
      "outputs": [],
      "source": [
        "import numpy as np\n",
        "arr=np.array([1,2,3,4])\n",
        "arr??"
      ]
    },
    {
      "cell_type": "markdown",
      "metadata": {
        "id": "0SqhpiixqaWz"
      },
      "source": [
        "**Task 26**   \n",
        "Try to get some help on the following unvirsal functions (`np.sin`,`np.sqrt`,`np.abs`) using the three method that you learned?"
      ]
    },
    {
      "cell_type": "code",
      "execution_count": null,
      "metadata": {
        "id": "EIuovlZ9qzxB"
      },
      "outputs": [],
      "source": [
        "# Task 26 solution for np.sin\n",
        "# write your code here"
      ]
    },
    {
      "cell_type": "code",
      "execution_count": null,
      "metadata": {
        "id": "M7aRp6eurGOj"
      },
      "outputs": [],
      "source": [
        "# Task 26 solution for np.sqrt\n",
        "# write your code here"
      ]
    },
    {
      "cell_type": "code",
      "execution_count": null,
      "metadata": {
        "id": "iE40ZR57rHUW"
      },
      "outputs": [],
      "source": [
        "# Task 26 solution for np.abs\n",
        "# write your code here"
      ]
    },
    {
      "cell_type": "markdown",
      "metadata": {
        "id": "J4v135q_tI28"
      },
      "source": [
        "### Working with mathematical formulas   \n",
        "Working with mathematical formulas using NumPy is a common practice in scientific computing and data analysis. Numpy makes these compuation very easy since it deals with multiple data (vectors) as if they are single variable without the need to loop overall data. For example, we can convert several tempeature data available in numpy array from celsius to Fahreneit in one single line as it is shown belwo:"
      ]
    },
    {
      "cell_type": "code",
      "execution_count": null,
      "metadata": {
        "colab": {
          "base_uri": "https://localhost:8080/"
        },
        "id": "oRQKRRcWt9_U",
        "outputId": "7d9f3199-9059-4751-ba8e-0521276be5bc"
      },
      "outputs": [
        {
          "name": "stdout",
          "output_type": "stream",
          "text": [
            "[ 32.   50.   77.   99.5 212. ]\n"
          ]
        }
      ],
      "source": [
        "import numpy as np\n",
        "\n",
        "celsius = np.array([0, 10, 25, 37.5, 100])\n",
        "\n",
        "fahrenheit = celsius * 9/5 + 32\n",
        "\n",
        "print(fahrenheit)"
      ]
    },
    {
      "cell_type": "markdown",
      "metadata": {
        "id": "B8HBsmievHSE"
      },
      "source": [
        "**Task 27**   \n",
        "it is your tern now to convert the Fahrenheit above to Kelvin."
      ]
    },
    {
      "cell_type": "code",
      "execution_count": null,
      "metadata": {
        "colab": {
          "base_uri": "https://localhost:8080/"
        },
        "id": "KkLxycL-vUDe",
        "outputId": "164dd987-c829-4e32-adc5-ade6992f6453"
      },
      "outputs": [
        {
          "data": {
            "text/plain": [
              "array([  0. ,  10. ,  25. ,  37.5, 100. ])"
            ]
          },
          "execution_count": 7,
          "metadata": {},
          "output_type": "execute_result"
        }
      ],
      "source": [
        "# Task x solution\n",
        "# Expected result\n",
        "########################################\n",
        "# [  0. ,  10. ,  25. ,  37.5, 100. ]\n",
        "########################################\n",
        "# write your code here."
      ]
    },
    {
      "cell_type": "markdown",
      "metadata": {
        "id": "mQwPx4pgv_nZ"
      },
      "source": [
        "**Task 28**   \n",
        "convert the following pressure measures from kPa to psi? **Hint**: 1 psi=6.89476 kPa"
      ]
    },
    {
      "cell_type": "code",
      "execution_count": null,
      "metadata": {
        "id": "ye9cnwAkwJjh"
      },
      "outputs": [],
      "source": [
        "# task x solution\n",
        "import numpy as np\n",
        "kpa = np.array([100, 200, 300, 400, 500])\n",
        "# Expected result\n",
        "###################################################################\n",
        "# [14.50376808, 29.00753616, 43.51130424, 58.01507232, 72.51884039]\n",
        "###################################################################\n",
        "# write your code here\n"
      ]
    },
    {
      "cell_type": "markdown",
      "metadata": {
        "id": "Ffxxkk3DlWdl"
      },
      "source": [
        "The Antoine equation is commonly used in chemical engineering to estimate the vapor pressure of a pure component as a function of temperature. The equation is expressed as:\n",
        "\n",
        "$$log_{10}(P) = A - (B / (T + C))$$\n",
        "\n",
        "Where P is the vapor pressure in a specific unit (e.g., mmHg), T is the temperature in a specific unit (e.g., Celsius), and A, B, and C are component-specific parameters.\n",
        "\n",
        "Let's say we have the Antoine equation parameters for a component and we want to calculate the vapor pressure at different temperatures using NumPy."
      ]
    },
    {
      "cell_type": "code",
      "execution_count": null,
      "metadata": {
        "colab": {
          "base_uri": "https://localhost:8080/"
        },
        "id": "twRrqPF1lqNj",
        "outputId": "c7ccbc55-45f4-493c-9b06-0cb58c825ae8"
      },
      "outputs": [
        {
          "name": "stdout",
          "output_type": "stream",
          "text": [
            "[ 215.08124253  348.89242473  547.35062677  833.25665044 1234.51715517]\n"
          ]
        }
      ],
      "source": [
        "import numpy as np\n",
        "\n",
        "# Antoine equation parameters for the component\n",
        "A = 8.20417\n",
        "B = 1582.27\n",
        "C = 219.48\n",
        "\n",
        "# Temperatures in Celsius\n",
        "temperatures = np.array([50, 60, 70, 80, 90])\n",
        "\n",
        "# Calculate the vapor pressure using the Antoine equation\n",
        "vapor_pressure = 10**(A - (B / (temperatures + C)))\n",
        "\n",
        "print(vapor_pressure)"
      ]
    },
    {
      "cell_type": "markdown",
      "metadata": {
        "id": "XxPgoWTdl0RL"
      },
      "source": [
        "**Task 29**   \n",
        "Estimate water vapor pressure at different temperatures in Celsius using Antoine equation."
      ]
    },
    {
      "cell_type": "code",
      "execution_count": null,
      "metadata": {
        "id": "baQmhXAgmSgy"
      },
      "outputs": [],
      "source": [
        "import numpy as np\n",
        "\n",
        "# Antoine equation parameters for water\n",
        "A = 8.07131\n",
        "B = 1730.63\n",
        "C =  233.426\n",
        "\n",
        "# Temperatures in Celsius\n",
        "temperatures = np.array([10,20,30, 40, 50, 60, 70, 80, 90, 100])\n",
        "# Expected result\n",
        "###############################################################\n",
        "# [  9.15881655,  17.47325208,  31.74016727,  55.19282956,\n",
        "#        92.29988808, 149.03841921, 233.1732906 , 354.53226547,\n",
        "#       525.26643282, 760.08636916]\n",
        "##############################################################"
      ]
    },
    {
      "cell_type": "markdown",
      "metadata": {
        "id": "d5-UC16ZporD"
      },
      "source": [
        "In chemical engineering, it is common to encounter systems of linear equations when modeling and analyzing various processes. NumPy provides efficient tools for solving such systems. Let's consider an example where we have a system of three linear equations:\n",
        "\n",
        "$$2x + y - z = 1$$\n",
        "$$x - 3y + 2z = -4$$\n",
        "$$3x + 2y - 5z = 3$$\n",
        "\n",
        "We can represent this system using matrix notation as Ax = b, where A is the coefficient matrix, x is the vector of unknowns, and b is the vector of constants."
      ]
    },
    {
      "cell_type": "code",
      "execution_count": null,
      "metadata": {
        "colab": {
          "base_uri": "https://localhost:8080/"
        },
        "id": "eceeUEy6p2KR",
        "outputId": "1f14035f-68ac-4ff5-94ef-8344461391ef"
      },
      "outputs": [
        {
          "name": "stdout",
          "output_type": "stream",
          "text": [
            "[-0.18181818  1.09090909 -0.27272727]\n"
          ]
        }
      ],
      "source": [
        "import numpy as np\n",
        "\n",
        "# Coefficient matrix A\n",
        "A = np.array([[2, 1, -1],\n",
        "              [1, -3, 2],\n",
        "              [3, 2, -5]])\n",
        "\n",
        "# Constants vector b\n",
        "b = np.array([1, -4, 3])\n",
        "\n",
        "# Solve the system of equations\n",
        "x = np.linalg.solve(A, b)\n",
        "\n",
        "print(x)"
      ]
    },
    {
      "cell_type": "markdown",
      "metadata": {
        "id": "I_n5iNEyWXD-"
      },
      "source": [
        "In the example above, we use a module bundled with numpy called `linalg` which contains the function `solve()` that solve system of linear equations."
      ]
    },
    {
      "cell_type": "markdown",
      "metadata": {
        "id": "39aJK900qiG4"
      },
      "source": [
        "**Task 30**   \n",
        "Consider the following system of linear equations:\n",
        "\n",
        "$$3x + 2y - z = 5$$\n",
        "$$2x - 4y + 3z = -7$$\n",
        "$$x + y + 2z = 4$$\n",
        "\n",
        "Solve this system of equations and find the values of x, y, and z."
      ]
    },
    {
      "cell_type": "code",
      "execution_count": null,
      "metadata": {
        "id": "Uk478zMjrGI5"
      },
      "outputs": [],
      "source": [
        "# Task x solution\n",
        "# write your code here"
      ]
    },
    {
      "cell_type": "markdown",
      "metadata": {
        "id": "kqCTRmwwyY6E"
      },
      "source": [
        "## File Input and Output in NumPy   \n",
        "NumPy offers input/output (I/O) functions for loading and saving data to and from files. Input/output functions support a variety of file formats, including binary and text formats.\n",
        "\n",
        "* The binary format is designed for efficient storage and retrieval of large\n",
        "arrays.\n",
        "* The text format is more human-readable and can be easily edited in a text editor.\n",
        "\n"
      ]
    },
    {
      "cell_type": "markdown",
      "metadata": {
        "id": "qRrE0K5MrCNw"
      },
      "source": [
        "### Saving NumPy Arrays to Files:   \n",
        "NumPy provides functions to save arrays to different file formats, such as `np.save()`, `np.savez()`, and `np.savetxt()`.\n",
        "\n",
        "1. `np.save()` function:   \n",
        "The `np.save()` function is used to save a single array to a binary file in NumPy's `.npy` format. Here is the syntax for the save() function:"
      ]
    },
    {
      "cell_type": "code",
      "execution_count": null,
      "metadata": {
        "id": "iBRCDe_HsDOD"
      },
      "outputs": [],
      "source": [
        "import numpy as np\n",
        "np.save(file, arr)"
      ]
    },
    {
      "cell_type": "markdown",
      "metadata": {
        "id": "gSLc_B_TsNlB"
      },
      "source": [
        "* **_file_**: The file name or file object to which the data is saved.\n",
        "* **_arr_**: The array tosave.\n",
        "\n",
        "\n",
        "<br><br>\n",
        "**Example**:"
      ]
    },
    {
      "cell_type": "code",
      "execution_count": null,
      "metadata": {
        "id": "uJImImP-swQ1"
      },
      "outputs": [],
      "source": [
        "import numpy as np\n",
        "\n",
        "data = np.array([1, 2, 3, 4, 5])\n",
        "\n",
        "np.save('data.npy', data)"
      ]
    },
    {
      "cell_type": "markdown",
      "metadata": {
        "id": "y16zXC0-uHj4"
      },
      "source": [
        "In the above example, the `np.save()` function is used to save the NumPy array to a file named `data.npy`. The array is saved in binary format."
      ]
    },
    {
      "cell_type": "markdown",
      "metadata": {
        "id": "Xn9tmS8tuc7-"
      },
      "source": [
        "> 2. **`np.savez()` function**:   \n",
        "The `np.savez()` function is used to save multiple arrays into a single file in NumPy's `.npz` format. Here is the syntax for the `np.savez()` function:"
      ]
    },
    {
      "cell_type": "code",
      "execution_count": null,
      "metadata": {
        "id": "-s4XUFIvu3D-"
      },
      "outputs": [],
      "source": [
        "import numpy as np\n",
        "np.savez(file, *args, **kwds)"
      ]
    },
    {
      "cell_type": "markdown",
      "metadata": {
        "id": "iVn-hupivA4C"
      },
      "source": [
        "* **_file_**: The file name or file object to which the data is saved.\n",
        "* __*args__: Arrays to be saved. The arrays can be passed as separate arguments or as a sequence.\n",
        "* __**kwds__: Arrays can also be passed using keyword arguments.\n",
        "\n",
        "<br><br>\n",
        "**Example**:"
      ]
    },
    {
      "cell_type": "code",
      "execution_count": null,
      "metadata": {
        "id": "yeN7iFo_wpDF"
      },
      "outputs": [],
      "source": [
        "import numpy as np\n",
        "\n",
        "data1 = np.array([1, 2, 3])\n",
        "data2 = np.array([4, 5, 6])\n",
        "\n",
        "np.savez('data.npz', arr1=data1, arr2=data2)"
      ]
    },
    {
      "cell_type": "markdown",
      "metadata": {
        "id": "c05j8piqwx8_"
      },
      "source": [
        "In the example above, the `np.savez()` function is used to save the data1 and data2 NumPy arrays to a file named `data.npz`. The arrays are saved in a compressed `.npz` format."
      ]
    },
    {
      "cell_type": "markdown",
      "metadata": {
        "id": "PUygsyuOxGcp"
      },
      "source": [
        "> 3. **`np.savetxt()` function**:   \n",
        "The `np.savetxt()` function is used to save a single array to a text file. Here is the syntax for the `np.savetxt()` function:"
      ]
    },
    {
      "cell_type": "code",
      "execution_count": null,
      "metadata": {
        "id": "9eifhXIcxV2a"
      },
      "outputs": [],
      "source": [
        "import numpy as np\n",
        "np.savetxt(fname, X)"
      ]
    },
    {
      "cell_type": "markdown",
      "metadata": {
        "id": "z1hcXEhUxz5L"
      },
      "source": [
        "* **_fname_**: The file name or file object to which the data is saved.\n",
        "* **_X_**: The array to save.\n",
        "\n",
        "<br><br>\n",
        "**Example**:"
      ]
    },
    {
      "cell_type": "code",
      "execution_count": null,
      "metadata": {
        "id": "RPe-qGjDyhMb"
      },
      "outputs": [],
      "source": [
        "import numpy as np\n",
        "\n",
        "data = np.array([[1, 2, 3], [4, 5, 6]])\n",
        "\n",
        "np.savetxt('data.txt', data, fmt='%d', delimiter=',', header='Column 1, Column 2, Column 3')"
      ]
    },
    {
      "cell_type": "markdown",
      "metadata": {
        "id": "mGDE9OnfyrUZ"
      },
      "source": [
        "In thie above example, the `np.savetxt()` function is used to save the data NumPy array to a text file named data.txt. The array is saved as integer values, separated by commas, and includes a header line."
      ]
    },
    {
      "cell_type": "markdown",
      "metadata": {
        "id": "_RVYdsWfZsgV"
      },
      "source": [
        "\n",
        "### Loading Data from Files:\n",
        "\n",
        "NumPy provides different functions to load data from various file formats. The most commonly used functions are `np.loadtxt()` and `np.load()`.\n",
        "\n",
        "1. **`np.loadtxt()` function**:   \n",
        "The `np.loadtxt()` function is used to load data from a text file into a NumPy array. Here is the syntax for the loadtxt() function:  "
      ]
    },
    {
      "cell_type": "code",
      "execution_count": null,
      "metadata": {
        "id": "LA-Jr1hGYgiw"
      },
      "outputs": [],
      "source": [
        "import numpy as np\n",
        "np.loadtxt(fname, dtype=<class 'float'>, comments='#',\n",
        "           delimiter=None, converters=None, skiprows=0,\n",
        "           usecols=None, unpack=False, ndmin=0, encoding='bytes', max_rows=None)"
      ]
    },
    {
      "cell_type": "markdown",
      "metadata": {
        "id": "sKlxm4PnYxki"
      },
      "source": [
        "* **_fname_**: The name of the file or a file-like object from which to load the data.\n",
        "* **_dtype_**: The desired data type of the resulting array. (Default: float)\n",
        "* **_comments_**: The character used to indicate the start of a comment line. (Default: #)\n",
        "* **_delimiter_**: The string used to separate values. (Default: whitespace)\n",
        "* **_converters_**: A dictionary mapping column numbers to functions that convert the column values.\n",
        "* **_skiprows_**: The number of rows to skip at the beginning of the file.\n",
        "* **_usecols_**: A sequence of column indices or names to extract from the file.\n",
        "* **_unpack_**: If True, the returned array is transposed, so that separate arrays are created for each column.\n",
        "* **_ndmin_**: The minimum number of dimensions of the resulting array.\n",
        "* **_encoding_**: The encoding of the input file. (Default: bytes)\n",
        "* **_max_rows_**: The maximum number of rows to read from the file."
      ]
    },
    {
      "cell_type": "markdown",
      "metadata": {
        "id": "WC2KEQlHajV9"
      },
      "source": [
        "**Example**:"
      ]
    },
    {
      "cell_type": "code",
      "execution_count": null,
      "metadata": {
        "colab": {
          "base_uri": "https://localhost:8080/"
        },
        "id": "HCRqUSheayOK",
        "outputId": "0ac6e7fc-6ca8-4b34-8b59-fcaa044a5774"
      },
      "outputs": [
        {
          "name": "stdout",
          "output_type": "stream",
          "text": [
            "[[1. 2. 3.]\n",
            " [4. 5. 6.]]\n"
          ]
        }
      ],
      "source": [
        "import numpy as np\n",
        "\n",
        "data = np.loadtxt('data.txt', delimiter=',')\n",
        "\n",
        "print(data)"
      ]
    },
    {
      "cell_type": "markdown",
      "metadata": {
        "id": "tzECfFWXjwn7"
      },
      "source": [
        "In the above example, the `np.loadtxt()` function is used to load data from the file data.txt. The data is assumed to be comma-separated, and the first row (header) is skipped using `skiprows=1`. The resulting data is stored in the data NumPy array."
      ]
    },
    {
      "cell_type": "markdown",
      "metadata": {
        "id": "HnLtgxNKkqbj"
      },
      "source": [
        "> 2. **`np.load()` function**:   \n",
        "The `np.load()` function is similar to loadtxt(), except that it deals with the binary file .npy. Here is the syntax for the `np.load() function:"
      ]
    },
    {
      "cell_type": "code",
      "execution_count": null,
      "metadata": {
        "id": "GLtzt6wkn_Aa"
      },
      "outputs": [],
      "source": [
        "import numpy as np\n",
        "np.load(fname)"
      ]
    },
    {
      "cell_type": "markdown",
      "metadata": {
        "id": "LBIpC-ZnogWF"
      },
      "source": [
        "> * **_fname_**: binary file to be loaded.\n",
        "\n",
        "<br><br>\n",
        "**Example**"
      ]
    },
    {
      "cell_type": "code",
      "execution_count": null,
      "metadata": {
        "colab": {
          "base_uri": "https://localhost:8080/"
        },
        "id": "OqDXdAXmpyCr",
        "outputId": "44ca77af-14d9-4d0b-cb38-4e2fa92378b9"
      },
      "outputs": [
        {
          "name": "stdout",
          "output_type": "stream",
          "text": [
            "[1 2 3 4 5]\n"
          ]
        }
      ],
      "source": [
        "import numpy as np\n",
        "\n",
        "data = np.load('data.npy')\n",
        "\n",
        "print(data)"
      ]
    },
    {
      "cell_type": "markdown",
      "metadata": {
        "id": "FzyPwz9uqvQ0"
      },
      "source": [
        "In this example, the `np.load()` function is used to load data from the file data.npy. The resulting data is stored in the data NumPy structured array."
      ]
    },
    {
      "cell_type": "markdown",
      "metadata": {
        "id": "YdQsHqrAX_rY"
      },
      "source": [
        "**Task 31**   \n",
        "Save the data of the fahreneit above into temp.npy? click the folder/files icon on the left side menu to see if the file has been created."
      ]
    },
    {
      "cell_type": "code",
      "execution_count": null,
      "metadata": {
        "id": "HK52XVbDX_Lp"
      },
      "outputs": [],
      "source": [
        "# Task 31 solution\n",
        "# write your code here"
      ]
    },
    {
      "cell_type": "markdown",
      "metadata": {
        "id": "qS5zpFEWY05X"
      },
      "source": [
        "**Task 32**   \n",
        "Save the data of the pressures in psi above into psi.txt? check your google drive that the file has been created"
      ]
    },
    {
      "cell_type": "code",
      "execution_count": null,
      "metadata": {
        "id": "g-EI5uRyhUXF"
      },
      "outputs": [],
      "source": [
        "# Task 32 solution\n",
        "# write your code here"
      ]
    },
    {
      "cell_type": "markdown",
      "metadata": {
        "id": "PuQ8C_6bZLfp"
      },
      "source": [
        "**Task 33**   \n",
        "Load the temperature data that you saved in Task 31?"
      ]
    },
    {
      "cell_type": "code",
      "execution_count": null,
      "metadata": {
        "id": "zulbKUi8Zc3h"
      },
      "outputs": [],
      "source": [
        "# Task 33 solution\n",
        "# write your code here"
      ]
    },
    {
      "cell_type": "markdown",
      "metadata": {
        "id": "yCOVI1_TZghf"
      },
      "source": [
        "**Task 34**   \n",
        "Load the pressure data that you saved in Task 32 above?"
      ]
    },
    {
      "cell_type": "code",
      "execution_count": null,
      "metadata": {
        "id": "G11cYYquZprq"
      },
      "outputs": [],
      "source": [
        "# Task 34 solution\n",
        "# write your code here"
      ]
    },
    {
      "cell_type": "markdown",
      "metadata": {
        "id": "5DqH7cI0tJA6"
      },
      "source": [
        "\n",
        "## Conclusion\n",
        "\n",
        "NumPy is a powerful tool for scientific computing in Python. It allows us to manipulate large, multi-dimensional arrays with ease, and provides a wide range of mathematical functions to operate on these arrays. NumPy is also very efficient, and can be used to perform complex calculations on large datasets quickly and easily.\n",
        "\n",
        "Learning NumPy is essential for anyone who wants to do serious scientific computing in Python. There are many resources available online to help you learn NumPy, including tutorials, exercises, and documentation."
      ]
    }
  ],
  "metadata": {
    "colab": {
      "collapsed_sections": [
        "vZzYul6E9OUv",
        "iUsKdnd58kmC",
        "R04sRTuGjJqB",
        "khE2tC4_wBxv",
        "hkOasZN8v92j",
        "M1ZPxKCT0Wpr",
        "0LoHmwjMMIUc",
        "YyW8_JhIu2-i",
        "jfaspLijgiXw",
        "3F0SQQALrMru",
        "jlYqr6Q79boC",
        "1ydiJ8VLKZR1",
        "0uxUOCTy1d68",
        "0suMdVzjmdfK"
      ],
      "include_colab_link": true,
      "provenance": [],
      "toc_visible": true
    },
    "kernelspec": {
      "display_name": "Python 3",
      "name": "python3"
    }
  },
  "nbformat": 4,
  "nbformat_minor": 0
}
